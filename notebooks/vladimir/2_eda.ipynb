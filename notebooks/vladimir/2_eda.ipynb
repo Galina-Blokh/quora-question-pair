{
 "cells": [
  {
   "cell_type": "code",
   "execution_count": 2,
   "metadata": {
    "collapsed": true
   },
   "outputs": [],
   "source": [
    "import os\n",
    "from collections import Counter\n",
    "from itertools import chain, tee\n",
    "import pandas as pd\n",
    "import numpy as np\n",
    "import matplotlib.pyplot as plt\n",
    "import seaborn as sns\n",
    "%matplotlib inline\n",
    "from IPython.core.interactiveshell import InteractiveShell\n",
    "InteractiveShell.ast_node_interactivity = 'all'\n",
    "import swifter\n",
    "import logging\n",
    "logger = logging.getLogger()\n",
    "logger.setLevel(logging.CRITICAL)\n",
    "import warnings\n",
    "warnings.filterwarnings('ignore')"
   ]
  },
  {
   "cell_type": "code",
   "execution_count": 3,
   "metadata": {
    "pycharm": {
     "name": "#%%\n"
    }
   },
   "outputs": [],
   "source": [
    "import os\n",
    "import sys\n",
    "sys.path.append(os.path.abspath('../../'))\n",
    "from nlp.tokenizer import *"
   ]
  },
  {
   "cell_type": "code",
   "execution_count": 4,
   "metadata": {
    "pycharm": {
     "name": "#%%\n"
    }
   },
   "outputs": [],
   "source": [
    "filename = \"../maria/train_dup.csv\""
   ]
  },
  {
   "cell_type": "code",
   "execution_count": 5,
   "metadata": {
    "pycharm": {
     "name": "#%%\n"
    }
   },
   "outputs": [
    {
     "name": "stdout",
     "output_type": "stream",
     "text": [
      "404299 ../maria/train_dup.csv\r\n",
      "8540919 ../maria/train_dup.csv\r\n"
     ]
    }
   ],
   "source": [
    "!wc -l {filename}\n",
    "!wc -w {filename}"
   ]
  },
  {
   "cell_type": "code",
   "execution_count": 6,
   "metadata": {
    "pycharm": {
     "name": "#%%\n"
    }
   },
   "outputs": [],
   "source": [
    "def size_iter(iterable):\n",
    "    return len(list(iterable))"
   ]
  },
  {
   "cell_type": "code",
   "execution_count": 6,
   "metadata": {
    "pycharm": {
     "name": "#%%\n"
    }
   },
   "outputs": [],
   "source": [
    "df = pd.read_csv(filename).drop_duplicates().dropna()"
   ]
  },
  {
   "cell_type": "markdown",
   "metadata": {
    "pycharm": {
     "name": "#%% md\n"
    }
   },
   "source": [
    "### count words"
   ]
  },
  {
   "cell_type": "code",
   "execution_count": 7,
   "metadata": {
    "pycharm": {
     "name": "#%%\n"
    }
   },
   "outputs": [],
   "source": [
    "def count_words(col):\n",
    "    return list(t.count() for t in SpacyTokens(list(col.values)))"
   ]
  },
  {
   "cell_type": "code",
   "execution_count": null,
   "metadata": {
    "pycharm": {
     "name": "#%%\n"
    }
   },
   "outputs": [],
   "source": [
    "df[\"q1_all\"] = count_words(df['question1'])\n",
    "print(\"that's all\")"
   ]
  },
  {
   "cell_type": "code",
   "execution_count": null,
   "metadata": {
    "pycharm": {
     "name": "#%%\n"
    }
   },
   "outputs": [],
   "source": [
    "df[\"q2_all\"] = count_words(df['question2'])\n",
    "print(\"that's all\")"
   ]
  },
  {
   "cell_type": "code",
   "execution_count": null,
   "metadata": {
    "pycharm": {
     "name": "#%%\n"
    }
   },
   "outputs": [],
   "source": [
    "df.to_csv(filename)"
   ]
  },
  {
   "cell_type": "markdown",
   "metadata": {
    "ExecuteTime": {
     "end_time": "2020-05-17T07:50:27.231152Z",
     "start_time": "2020-05-17T07:50:27.227971Z"
    },
    "pycharm": {
     "name": "#%% md\n"
    }
   },
   "source": [
    "### count words without punct and stop words"
   ]
  },
  {
   "cell_type": "code",
   "execution_count": null,
   "metadata": {
    "pycharm": {
     "name": "#%%\n"
    }
   },
   "outputs": [],
   "source": [
    "def count_without_punct_stop_words(col):\n",
    "    return list(t.remove_all(punct, stop).count() for t in SpacyTokens(list(col.values)))"
   ]
  },
  {
   "cell_type": "code",
   "execution_count": null,
   "metadata": {
    "pycharm": {
     "name": "#%%\n"
    }
   },
   "outputs": [],
   "source": [
    "df[\"q1_ps\"] = count_without_punct_stop_words(df['question1'])\n",
    "df[\"q2_ps\"] = count_without_punct_stop_words(df['question2'])\n",
    "print(\"that's all\")"
   ]
  },
  {
   "cell_type": "code",
   "execution_count": null,
   "metadata": {
    "pycharm": {
     "name": "#%%\n"
    }
   },
   "outputs": [],
   "source": [
    "df.to_csv(filename)"
   ]
  },
  {
   "cell_type": "markdown",
   "metadata": {
    "pycharm": {
     "name": "#%%\n"
    }
   },
   "source": [
    "### creating questions words"
   ]
  },
  {
   "cell_type": "code",
   "execution_count": 42,
   "metadata": {
    "pycharm": {
     "name": "#%%\n"
    }
   },
   "outputs": [
    {
     "name": "stdout",
     "output_type": "stream",
     "text": [
      "that's all\n"
     ]
    }
   ],
   "source": [
    "\n",
    "questions = {\"who\":1<<1, \"whom\":1<<2, \"whose\":1<<3, \"what\":1<<4, \"when\":1<<5, \"where\":1<<6, \"why\":1<<7, \"how\":1<<8,\n",
    "                                    \"there\":1<<9, \"that\":1<<10, \"which\":1<<11, \"whither\":1<<12, \"whence\":1<<13, \"whether\":1<<14, \"whatsoever\":1<<15}\n",
    "\n",
    "def question_words(col):\n",
    "    return list(list(t.filter(question)) for t in SpacyTokens(list(col.values)))\n",
    "\n",
    "def get_questions(q):\n",
    "    return sum(SpacyTokens(q).lower().map(lambda t:questions.get(t.text.lower(), 0)))\n",
    "\n",
    "\n",
    "def create_wh_ds(df, target_column, out_column, filename):\n",
    "    dfw = df[[target_column]][:].reset_index(drop=True)\n",
    "    dfw[out_column] = np.vectorize(get_questions)(dfw[target_column])\n",
    "    for q, mask in questions.items():\n",
    "        dfw[q] = (np.bitwise_and(dfw[out_column], mask)!=0).astype(int)\n",
    "    dfw.to_csv(filename)\n",
    "\n",
    "create_wh_ds(df, \"question1\", \"wh1\", \"./q1_question_word.csv\")\n",
    "create_wh_ds(df, \"question2\", \"wh2\", \"./q2_question_word.csv\")\n",
    "print(\"that's all\")"
   ]
  },
  {
   "cell_type": "markdown",
   "metadata": {
    "pycharm": {
     "name": "#%% md\n"
    }
   },
   "source": [
    "### create freq dict"
   ]
  },
  {
   "cell_type": "code",
   "execution_count": 18,
   "metadata": {
    "pycharm": {
     "name": "#%%\n"
    }
   },
   "outputs": [],
   "source": [
    "def get_tokens(col):\n",
    "    d = {}\n",
    "    for t in SpacyTokens(list(col.values)).lower().flatten():\n",
    "        d[t.text] = d.get(t.text,0) + 1\n",
    "    return d"
   ]
  },
  {
   "cell_type": "code",
   "execution_count": 21,
   "metadata": {
    "pycharm": {
     "name": "#%%\n"
    }
   },
   "outputs": [
    {
     "name": "stdout",
     "output_type": "stream",
     "text": [
      "that's all\n"
     ]
    }
   ],
   "source": [
    "d_freq1 = get_tokens(df[\"question1\"])\n",
    "utils.to_pickle(d_freq1, \"./question1_freq.pkl\")\n",
    "print(\"that's all\")\n"
   ]
  },
  {
   "cell_type": "code",
   "execution_count": 20,
   "metadata": {
    "pycharm": {
     "name": "#%%\n"
    }
   },
   "outputs": [
    {
     "name": "stdout",
     "output_type": "stream",
     "text": [
      "that's all\n"
     ]
    }
   ],
   "source": [
    "d_freq2 = get_tokens(df[\"question2\"])\n",
    "utils.to_pickle(d_freq2, \"./question2_freq.pkl\")\n",
    "print(\"that's all\")"
   ]
  },
  {
   "cell_type": "code",
   "execution_count": 39,
   "metadata": {
    "pycharm": {
     "name": "#%%\n"
    }
   },
   "outputs": [],
   "source": [
    "df1_freq = pd.DataFrame.from_dict(d_freq1, orient='index', columns=[\"count\"]).reset_index()\n",
    "df1_freq.columns = [\"word\",\"count\"]\n",
    "df2_freq = pd.DataFrame.from_dict(d_freq2, orient='index', columns=[\"count\"]).reset_index()\n",
    "df2_freq.columns = [\"word\",\"count\"]"
   ]
  },
  {
   "cell_type": "code",
   "execution_count": 42,
   "metadata": {
    "pycharm": {
     "name": "#%%\n"
    }
   },
   "outputs": [],
   "source": [
    "def get_token(q):\n",
    "    return next(SpacyTokens(q))\n",
    "tokens1 = np.vectorize(get_token)(df1_freq[\"word\"].values)\n",
    "tokens2 = np.vectorize(get_token)(df2_freq[\"word\"].values)"
   ]
  },
  {
   "cell_type": "code",
   "execution_count": 58,
   "metadata": {
    "pycharm": {
     "name": "#%%\n"
    }
   },
   "outputs": [],
   "source": [
    "df1_freq[\"token\"] = tokens1\n",
    "df2_freq[\"token\"] = tokens2\n",
    "\n",
    "\n",
    "df1_freq[\"is_digit\"] = df1_freq[\"token\"].apply(lambda t:t.is_digit)\n",
    "df1_freq[\"is_oov\"] = df1_freq[\"token\"].apply(lambda t:t.is_oov)\n",
    "df1_freq[\"is_punct\"] = df1_freq[\"token\"].apply(lambda t:t.is_punct)\n",
    "df1_freq[\"is_stop\"] = df1_freq[\"token\"].apply(lambda t:t.is_stop)\n",
    "\n",
    "df2_freq[\"is_digit\"] = df2_freq[\"token\"].apply(lambda t:t.is_digit)\n",
    "df2_freq[\"is_oov\"] = df2_freq[\"token\"].apply(lambda t:t.is_oov)\n",
    "df2_freq[\"is_punct\"] = df2_freq[\"token\"].apply(lambda t:t.is_punct)\n",
    "df2_freq[\"is_stop\"] = df2_freq[\"token\"].apply(lambda t:t.is_stop)\n",
    "\n",
    "df1_freq = df1_freq.drop(\"token\", axis=1)\n",
    "df2_freq = df2_freq.drop(\"token\", axis=1)\n",
    "\n",
    "df1_freq.to_csv(\"./q1_freq.csv\")\n",
    "df2_freq.to_csv(\"./q2_freq.csv\")"
   ]
  },
  {
   "cell_type": "code",
   "execution_count": 40,
   "metadata": {
    "pycharm": {
     "name": "#%%\n"
    }
   },
   "outputs": [],
   "source": []
  }
 ],
 "metadata": {
  "kernelspec": {
   "display_name": "Python 3",
   "language": "python",
   "name": "python3"
  },
  "language_info": {
   "codemirror_mode": {
    "name": "ipython",
    "version": 3
   },
   "file_extension": ".py",
   "mimetype": "text/x-python",
   "name": "python",
   "nbconvert_exporter": "python",
   "pygments_lexer": "ipython3",
   "version": "3.7.6"
  },
  "toc": {
   "base_numbering": 1,
   "nav_menu": {},
   "number_sections": true,
   "sideBar": true,
   "skip_h1_title": false,
   "title_cell": "Table of Contents",
   "title_sidebar": "Contents",
   "toc_cell": false,
   "toc_position": {},
   "toc_section_display": true,
   "toc_window_display": false
  },
  "varInspector": {
   "cols": {
    "lenName": 16,
    "lenType": 16,
    "lenVar": 40
   },
   "kernels_config": {
    "python": {
     "delete_cmd_postfix": "",
     "delete_cmd_prefix": "del ",
     "library": "var_list.py",
     "varRefreshCmd": "print(var_dic_list())"
    },
    "r": {
     "delete_cmd_postfix": ") ",
     "delete_cmd_prefix": "rm(",
     "library": "var_list.r",
     "varRefreshCmd": "cat(var_dic_list()) "
    }
   },
   "types_to_exclude": [
    "module",
    "function",
    "builtin_function_or_method",
    "instance",
    "_Feature"
   ],
   "window_display": false
  }
 },
 "nbformat": 4,
 "nbformat_minor": 1
}