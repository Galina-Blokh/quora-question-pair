{
 "cells": [
  {
   "cell_type": "code",
   "execution_count": 2,
   "metadata": {
    "collapsed": true
   },
   "outputs": [],
   "source": [
    "import os\n",
    "from collections import Counter\n",
    "from itertools import chain, tee\n",
    "import pandas as pd\n",
    "import numpy as np\n",
    "import matplotlib.pyplot as plt\n",
    "import seaborn as sns\n",
    "%matplotlib inline\n",
    "from IPython.core.interactiveshell import InteractiveShell\n",
    "InteractiveShell.ast_node_interactivity = 'all'\n",
    "import swifter\n",
    "import logging\n",
    "logger = logging.getLogger()\n",
    "logger.setLevel(logging.CRITICAL)\n",
    "import warnings\n",
    "warnings.filterwarnings('ignore')"
   ]
  },
  {
   "cell_type": "code",
   "execution_count": 3,
   "outputs": [],
   "source": [
    "import os\n",
    "import sys\n",
    "sys.path.append(os.path.abspath('../../'))\n",
    "from nlp.tokenizer import *"
   ],
   "metadata": {
    "collapsed": false,
    "pycharm": {
     "name": "#%%\n"
    }
   }
  },
  {
   "cell_type": "code",
   "execution_count": 4,
   "outputs": [],
   "source": [
    "filename = \"../maria/train_dup.csv\""
   ],
   "metadata": {
    "collapsed": false,
    "pycharm": {
     "name": "#%%\n"
    }
   }
  },
  {
   "cell_type": "code",
   "execution_count": 5,
   "outputs": [
    {
     "name": "stdout",
     "output_type": "stream",
     "text": [
      "404299 ../maria/train_dup.csv\r\n",
      "8540919 ../maria/train_dup.csv\r\n"
     ]
    }
   ],
   "source": [
    "!wc -l {filename}\n",
    "!wc -w {filename}"
   ],
   "metadata": {
    "collapsed": false,
    "pycharm": {
     "name": "#%%\n"
    }
   }
  },
  {
   "cell_type": "code",
   "execution_count": 6,
   "outputs": [],
   "source": [
    "def size_iter(iterable):\n",
    "    return len(list(iterable))"
   ],
   "metadata": {
    "collapsed": false,
    "pycharm": {
     "name": "#%%\n"
    }
   }
  },
  {
   "cell_type": "code",
   "execution_count": 17,
   "outputs": [],
   "source": [
    "df = pd.read_csv(filename).drop_duplicates().dropna()"
   ],
   "metadata": {
    "collapsed": false,
    "pycharm": {
     "name": "#%%\n"
    }
   }
  },
  {
   "cell_type": "code",
   "execution_count": 7,
   "outputs": [
    {
     "ename": "TypeError",
     "evalue": "function takes at least 1 argument (0 given)",
     "output_type": "error",
     "traceback": [
      "\u001B[0;31m---------------------------------------------------------------------------\u001B[0m",
      "\u001B[0;31mTypeError\u001B[0m                                 Traceback (most recent call last)",
      "\u001B[0;32m<ipython-input-7-3dec85afcdf4>\u001B[0m in \u001B[0;36m<module>\u001B[0;34m\u001B[0m\n\u001B[1;32m      1\u001B[0m \u001B[0;31m# df[['question1', 'question2']].swifter.apply(my_func)\u001B[0m\u001B[0;34m\u001B[0m\u001B[0;34m\u001B[0m\u001B[0;34m\u001B[0m\u001B[0m\n\u001B[1;32m      2\u001B[0m \u001B[0;32mfor\u001B[0m \u001B[0mt1\u001B[0m\u001B[0;34m,\u001B[0m\u001B[0mt2\u001B[0m \u001B[0;32min\u001B[0m \u001B[0mzip\u001B[0m\u001B[0;34m(\u001B[0m\u001B[0mSpacyTokens\u001B[0m\u001B[0;34m(\u001B[0m\u001B[0mlist\u001B[0m\u001B[0;34m(\u001B[0m\u001B[0mdf\u001B[0m\u001B[0;34m[\u001B[0m\u001B[0;34m'question1'\u001B[0m\u001B[0;34m]\u001B[0m\u001B[0;34m)\u001B[0m\u001B[0;34m)\u001B[0m\u001B[0;34m,\u001B[0m \u001B[0mSpacyTokens\u001B[0m\u001B[0;34m(\u001B[0m\u001B[0mlist\u001B[0m\u001B[0;34m(\u001B[0m\u001B[0mdf\u001B[0m\u001B[0;34m[\u001B[0m\u001B[0;34m'question2'\u001B[0m\u001B[0;34m]\u001B[0m\u001B[0;34m)\u001B[0m\u001B[0;34m)\u001B[0m\u001B[0;34m)\u001B[0m\u001B[0;34m:\u001B[0m\u001B[0;34m\u001B[0m\u001B[0;34m\u001B[0m\u001B[0m\n\u001B[0;32m----> 3\u001B[0;31m     \u001B[0mtee\u001B[0m\u001B[0;34m(\u001B[0m\u001B[0;34m)\u001B[0m\u001B[0;34m\u001B[0m\u001B[0;34m\u001B[0m\u001B[0m\n\u001B[0m\u001B[1;32m      4\u001B[0m     \u001B[0;31m# print(len(list(t1.remove(punct))))\u001B[0m\u001B[0;34m\u001B[0m\u001B[0;34m\u001B[0m\u001B[0;34m\u001B[0m\u001B[0m\n\u001B[1;32m      5\u001B[0m     \u001B[0;31m# print(len(list(t1)))\u001B[0m\u001B[0;34m\u001B[0m\u001B[0;34m\u001B[0m\u001B[0;34m\u001B[0m\u001B[0m\n",
      "\u001B[0;31mTypeError\u001B[0m: function takes at least 1 argument (0 given)"
     ]
    }
   ],
   "source": [],
   "metadata": {
    "collapsed": false,
    "pycharm": {
     "name": "#%%\n"
    }
   }
  },
  {
   "cell_type": "code",
   "execution_count": 7,
   "outputs": [],
   "source": [
    "def count_words(col):\n",
    "    return list(t.count() for t in SpacyTokens(list(col.values)))"
   ],
   "metadata": {
    "collapsed": false,
    "pycharm": {
     "name": "#%%\n"
    }
   }
  },
  {
   "cell_type": "code",
   "execution_count": null,
   "outputs": [],
   "source": [
    "df[\"q1_all\"] = count_words(df['question1'])\n",
    "print(\"that's all\")"
   ],
   "metadata": {
    "collapsed": false,
    "pycharm": {
     "name": "#%%\n"
    }
   }
  },
  {
   "cell_type": "code",
   "execution_count": null,
   "outputs": [],
   "source": [
    "df[\"q2_all\"] = count_words(df['question2'])\n",
    "print(\"that's all\")"
   ],
   "metadata": {
    "collapsed": false,
    "pycharm": {
     "name": "#%%\n"
    }
   }
  },
  {
   "cell_type": "code",
   "execution_count": null,
   "outputs": [],
   "source": [
    "df.tail()\n"
   ],
   "metadata": {
    "collapsed": false,
    "pycharm": {
     "name": "#%%\n"
    }
   }
  },
  {
   "cell_type": "code",
   "execution_count": null,
   "outputs": [],
   "source": [
    "len(list(df['question2'].values))"
   ],
   "metadata": {
    "collapsed": false,
    "pycharm": {
     "name": "#%%\n"
    }
   }
  },
  {
   "cell_type": "code",
   "execution_count": null,
   "outputs": [],
   "source": [
    "df.to_csv(filename)"
   ],
   "metadata": {
    "collapsed": false,
    "pycharm": {
     "name": "#%%\n"
    }
   }
  },
  {
   "cell_type": "code",
   "execution_count": null,
   "outputs": [],
   "source": [
    "def count_without_punct_stop_words(col):\n",
    "    return list(t.remove_all(punct, stop).count() for t in SpacyTokens(list(col.values)))"
   ],
   "metadata": {
    "collapsed": false,
    "pycharm": {
     "name": "#%%\n"
    }
   }
  },
  {
   "cell_type": "code",
   "execution_count": null,
   "outputs": [],
   "source": [
    "df[\"q1_ps\"] = count_without_punct_stop_words(df['question1'])\n",
    "df[\"q2_ps\"] = count_without_punct_stop_words(df['question2'])\n",
    "print(\"that's all\")"
   ],
   "metadata": {
    "collapsed": false,
    "pycharm": {
     "name": "#%%\n"
    }
   }
  },
  {
   "cell_type": "code",
   "execution_count": null,
   "outputs": [],
   "source": [
    "df.to_csv(filename)"
   ],
   "metadata": {
    "collapsed": false,
    "pycharm": {
     "name": "#%%\n"
    }
   }
  },
  {
   "cell_type": "code",
   "execution_count": 21,
   "outputs": [
    {
     "name": "stdout",
     "output_type": "stream",
     "text": [
      "that's all\n"
     ]
    }
   ],
   "source": [
    "questions = {\"who\":1<<1, \"whom\":1<<2, \"whose\":1<<3, \"what\":1<<4, \"when\":1<<5, \"where\":1<<6, \"why\":1<<7, \"how\":1<<8,\n",
    "                                    \"there\":1<<9, \"that\":1<<10, \"which\":1<<11, \"whither\":1<<12, \"whence\":1<<13, \"whether\":1<<14, \"whatsoever\":1<<15}\n",
    "\n",
    "def question_words(col):\n",
    "    return list(list(t.filter(question)) for t in SpacyTokens(list(col.values)))\n",
    "# df[\"q1_qword\"] = question_words(df['question1'])\n",
    "# df[\"q2_qword\"] = question_words(df['question2'])\n",
    "print(\"that's all\")"
   ],
   "metadata": {
    "collapsed": false,
    "pycharm": {
     "name": "#%%\n"
    }
   }
  },
  {
   "cell_type": "code",
   "execution_count": 61,
   "outputs": [],
   "source": [
    "def get_questions(q):\n",
    "    return sum(SpacyTokens(q).lower().map(lambda t:questions.get(t.text.lower(), 0)))"
   ],
   "metadata": {
    "collapsed": false,
    "pycharm": {
     "name": "#%%\n"
    }
   }
  },
  {
   "cell_type": "code",
   "execution_count": 63,
   "outputs": [
    {
     "name": "stdout",
     "output_type": "stream",
     "text": [
      "that's all\n"
     ]
    }
   ],
   "source": [
    "df[\"wh1\"] = np.vectorize(get_questions)(df[\"question1\"])\n",
    "df[\"wh2\"] = np.vectorize(get_questions)(df[\"question2\"])\n",
    "print(\"that's all\")\n",
    "# mask = questions[\"why\"]\n",
    "# np.bitwise_and(df1['response'], mask)\n"
   ],
   "metadata": {
    "collapsed": false,
    "pycharm": {
     "name": "#%%\n"
    }
   }
  },
  {
   "cell_type": "code",
   "execution_count": 18,
   "outputs": [],
   "source": [
    "# df = df[:100]\n",
    "def get_tokens(col):\n",
    "    d = {}\n",
    "    for t in SpacyTokens(list(col.values)).lower().flatten():\n",
    "        d[t.text] = d.get(t.text,0) + 1\n",
    "    return d\n",
    "# utils.to_pickle(get_tokens(df[\"question2\"]), \"./test.pkl\")\n",
    "d_freq = get_tokens(df[\"question2\"])"
   ],
   "metadata": {
    "collapsed": false,
    "pycharm": {
     "name": "#%%\n"
    }
   }
  },
  {
   "cell_type": "code",
   "execution_count": 20,
   "outputs": [
    {
     "name": "stdout",
     "output_type": "stream",
     "text": [
      "that's all\n"
     ]
    }
   ],
   "source": [
    "utils.to_pickle(d_freq, \"./question2_freq.pkl\")\n",
    "print(\"that's all\")"
   ],
   "metadata": {
    "collapsed": false,
    "pycharm": {
     "name": "#%%\n"
    }
   }
  },
  {
   "cell_type": "code",
   "execution_count": 21,
   "outputs": [
    {
     "name": "stdout",
     "output_type": "stream",
     "text": [
      "that's all\n"
     ]
    }
   ],
   "source": [
    "d_freq1 = get_tokens(df[\"question1\"])\n",
    "utils.to_pickle(d_freq1, \"./question1_freq.pkl\")\n",
    "print(\"that's all\")\n"
   ],
   "metadata": {
    "collapsed": false,
    "pycharm": {
     "name": "#%%\n"
    }
   }
  },
  {
   "cell_type": "code",
   "execution_count": 39,
   "outputs": [],
   "source": [
    "df1_freq = pd.DataFrame.from_dict(d_freq1, orient='index', columns=[\"count\"]).reset_index()\n",
    "df1_freq.columns = [\"word\",\"count\"]\n",
    "df2_freq = pd.DataFrame.from_dict(d_freq, orient='index', columns=[\"count\"]).reset_index()\n",
    "df2_freq.columns = [\"word\",\"count\"]"
   ],
   "metadata": {
    "collapsed": false,
    "pycharm": {
     "name": "#%%\n"
    }
   }
  },
  {
   "cell_type": "code",
   "execution_count": 42,
   "outputs": [],
   "source": [
    "def get_token(q):\n",
    "    return next(SpacyTokens(q))\n",
    "tokens1 = np.vectorize(get_token)(df1_freq[\"word\"].values)\n",
    "tokens2 = np.vectorize(get_token)(df2_freq[\"word\"].values)"
   ],
   "metadata": {
    "collapsed": false,
    "pycharm": {
     "name": "#%%\n"
    }
   }
  },
  {
   "cell_type": "code",
   "execution_count": 58,
   "outputs": [],
   "source": [
    "df1_freq[\"token\"] = tokens1\n",
    "df2_freq[\"token\"] = tokens2\n",
    "\n",
    "\n",
    "df1_freq[\"is_digit\"] = df1_freq[\"token\"].apply(lambda t:t.is_digit)\n",
    "df1_freq[\"is_oov\"] = df1_freq[\"token\"].apply(lambda t:t.is_oov)\n",
    "df1_freq[\"is_punct\"] = df1_freq[\"token\"].apply(lambda t:t.is_punct)\n",
    "df1_freq[\"is_stop\"] = df1_freq[\"token\"].apply(lambda t:t.is_stop)\n",
    "\n",
    "df2_freq[\"is_digit\"] = df2_freq[\"token\"].apply(lambda t:t.is_digit)\n",
    "df2_freq[\"is_oov\"] = df2_freq[\"token\"].apply(lambda t:t.is_oov)\n",
    "df2_freq[\"is_punct\"] = df2_freq[\"token\"].apply(lambda t:t.is_punct)\n",
    "df2_freq[\"is_stop\"] = df2_freq[\"token\"].apply(lambda t:t.is_stop)\n",
    "\n",
    "df1_freq = df1_freq.drop(\"token\", axis=1)\n",
    "df2_freq = df2_freq.drop(\"token\", axis=1)\n",
    "\n",
    "df1_freq.to_csv(\"./q1_freq.csv\")\n",
    "df2_freq.to_csv(\"./q2_freq.csv\")"
   ],
   "metadata": {
    "collapsed": false,
    "pycharm": {
     "name": "#%%\n"
    }
   }
  }
 ],
 "metadata": {
  "kernelspec": {
   "display_name": "Python 3",
   "language": "python",
   "name": "python3"
  },
  "language_info": {
   "codemirror_mode": {
    "name": "ipython",
    "version": 2
   },
   "file_extension": ".py",
   "mimetype": "text/x-python",
   "name": "python",
   "nbconvert_exporter": "python",
   "pygments_lexer": "ipython2",
   "version": "2.7.6"
  }
 },
 "nbformat": 4,
 "nbformat_minor": 0
}