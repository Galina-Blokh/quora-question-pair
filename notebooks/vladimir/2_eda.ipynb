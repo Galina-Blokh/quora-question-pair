{
 "cells": [
  {
   "cell_type": "code",
   "execution_count": 5,
   "metadata": {
    "ExecuteTime": {
     "end_time": "2020-05-20T09:19:31.795070Z",
     "start_time": "2020-05-20T09:19:31.752007Z"
    }
   },
   "outputs": [],
   "source": [
    "import os\n",
    "from collections import Counter\n",
    "from itertools import chain, tee\n",
    "import pandas as pd\n",
    "import numpy as np\n",
    "import matplotlib.pyplot as plt\n",
    "import seaborn as sns\n",
    "%matplotlib inline\n",
    "from IPython.core.interactiveshell import InteractiveShell\n",
    "InteractiveShell.ast_node_interactivity = 'all'\n",
    "import logging\n",
    "logger = logging.getLogger()\n",
    "logger.setLevel(logging.CRITICAL)\n",
    "import warnings\n",
    "warnings.filterwarnings('ignore')"
   ]
  },
  {
   "cell_type": "code",
   "execution_count": 6,
   "metadata": {
    "ExecuteTime": {
     "end_time": "2020-05-20T09:19:34.069504Z",
     "start_time": "2020-05-20T09:19:33.375503Z"
    },
    "pycharm": {
     "name": "#%%\n"
    }
   },
   "outputs": [],
   "source": [
    "import os\n",
    "\n",
    "import sys\n",
    "sys.path.append(os.path.abspath('../../'))\n",
    "from nlp.tokenizer import *"
   ]
  },
  {
   "cell_type": "code",
   "execution_count": 7,
   "metadata": {
    "ExecuteTime": {
     "end_time": "2020-05-20T09:19:34.966603Z",
     "start_time": "2020-05-20T09:19:34.955669Z"
    },
    "pycharm": {
     "name": "#%%\n"
    }
   },
   "outputs": [],
   "source": [
    "filename = \"../maria/train_dup.csv\""
   ]
  },
  {
   "cell_type": "code",
   "execution_count": 12,
   "metadata": {
    "ExecuteTime": {
     "end_time": "2020-05-20T09:20:41.272635Z",
     "start_time": "2020-05-20T09:20:40.873577Z"
    },
    "pycharm": {
     "name": "#%%\n"
    }
   },
   "outputs": [
    {
     "data": {
      "text/plain": [
       "(['404299 ../maria/train_dup.csv'], ['8540919 ../maria/train_dup.csv'])"
      ]
     },
     "execution_count": 12,
     "metadata": {},
     "output_type": "execute_result"
    }
   ],
   "source": [
    "lines = !wc -l {filename}\n",
    "words = !wc -w {filename}\n",
    "lines, words"
   ]
  },
  {
   "cell_type": "code",
   "execution_count": 23,
   "metadata": {
    "ExecuteTime": {
     "end_time": "2020-05-20T09:23:29.283472Z",
     "start_time": "2020-05-20T09:23:28.451469Z"
    },
    "pycharm": {
     "name": "#%%\n"
    }
   },
   "outputs": [
    {
     "data": {
      "text/plain": [
       "(404287, 11)"
      ]
     },
     "execution_count": 23,
     "metadata": {},
     "output_type": "execute_result"
    }
   ],
   "source": [
    "df = pd.read_csv(filename)\n",
    "df.shape"
   ]
  },
  {
   "cell_type": "code",
   "execution_count": 25,
   "metadata": {
    "ExecuteTime": {
     "end_time": "2020-05-20T09:23:31.265656Z",
     "start_time": "2020-05-20T09:23:31.179445Z"
    }
   },
   "outputs": [
    {
     "data": {
      "text/html": [
       "<div>\n",
       "<style scoped>\n",
       "    .dataframe tbody tr th:only-of-type {\n",
       "        vertical-align: middle;\n",
       "    }\n",
       "\n",
       "    .dataframe tbody tr th {\n",
       "        vertical-align: top;\n",
       "    }\n",
       "\n",
       "    .dataframe thead th {\n",
       "        text-align: right;\n",
       "    }\n",
       "</style>\n",
       "<table border=\"1\" class=\"dataframe\">\n",
       "  <thead>\n",
       "    <tr style=\"text-align: right;\">\n",
       "      <th></th>\n",
       "      <th>Unnamed: 0</th>\n",
       "      <th>id</th>\n",
       "      <th>qid1</th>\n",
       "      <th>qid2</th>\n",
       "      <th>question1</th>\n",
       "      <th>question2</th>\n",
       "      <th>is_duplicate</th>\n",
       "      <th>q1_all</th>\n",
       "      <th>q2_all</th>\n",
       "      <th>q1_ps</th>\n",
       "      <th>q2_ps</th>\n",
       "    </tr>\n",
       "  </thead>\n",
       "  <tbody>\n",
       "  </tbody>\n",
       "</table>\n",
       "</div>"
      ],
      "text/plain": [
       "Empty DataFrame\n",
       "Columns: [Unnamed: 0, id, qid1, qid2, question1, question2, is_duplicate, q1_all, q2_all, q1_ps, q2_ps]\n",
       "Index: []"
      ]
     },
     "execution_count": 25,
     "metadata": {},
     "output_type": "execute_result"
    }
   ],
   "source": [
    "df[df[\"question1\"].isna() | df[\"question2\"].isna()]"
   ]
  },
  {
   "cell_type": "code",
   "execution_count": 26,
   "metadata": {
    "ExecuteTime": {
     "end_time": "2020-05-20T09:24:05.840633Z",
     "start_time": "2020-05-20T09:24:05.688795Z"
    }
   },
   "outputs": [],
   "source": [
    "df = df.dropna().drop(\"Unnamed: 0\", axis=1)"
   ]
  },
  {
   "cell_type": "code",
   "execution_count": 6,
   "metadata": {
    "pycharm": {
     "name": "#%%\n"
    }
   },
   "outputs": [],
   "source": [
    "def size_iter(iterable):\n",
    "    return len(list(iterable))"
   ]
  },
  {
   "cell_type": "markdown",
   "metadata": {},
   "source": [
    "### Character counts"
   ]
  },
  {
   "cell_type": "code",
   "execution_count": 20,
   "metadata": {
    "ExecuteTime": {
     "end_time": "2020-05-20T09:22:49.374201Z",
     "start_time": "2020-05-20T09:22:49.083756Z"
    }
   },
   "outputs": [
    {
     "data": {
      "text/html": [
       "<div>\n",
       "<style scoped>\n",
       "    .dataframe tbody tr th:only-of-type {\n",
       "        vertical-align: middle;\n",
       "    }\n",
       "\n",
       "    .dataframe tbody tr th {\n",
       "        vertical-align: top;\n",
       "    }\n",
       "\n",
       "    .dataframe thead th {\n",
       "        text-align: right;\n",
       "    }\n",
       "</style>\n",
       "<table border=\"1\" class=\"dataframe\">\n",
       "  <thead>\n",
       "    <tr style=\"text-align: right;\">\n",
       "      <th></th>\n",
       "      <th>Unnamed: 0</th>\n",
       "      <th>id</th>\n",
       "      <th>qid1</th>\n",
       "      <th>qid2</th>\n",
       "      <th>question1</th>\n",
       "      <th>question2</th>\n",
       "      <th>is_duplicate</th>\n",
       "      <th>q1_all</th>\n",
       "      <th>q2_all</th>\n",
       "      <th>q1_ps</th>\n",
       "      <th>q2_ps</th>\n",
       "      <th>len1</th>\n",
       "      <th>len2</th>\n",
       "    </tr>\n",
       "  </thead>\n",
       "  <tbody>\n",
       "    <tr>\n",
       "      <th>404286</th>\n",
       "      <td>404289</td>\n",
       "      <td>404289</td>\n",
       "      <td>537932</td>\n",
       "      <td>537933</td>\n",
       "      <td>What is like to have sex with cousin?</td>\n",
       "      <td>What is it like to have sex with your cousin?</td>\n",
       "      <td>0</td>\n",
       "      <td>9</td>\n",
       "      <td>11</td>\n",
       "      <td>4</td>\n",
       "      <td>4</td>\n",
       "      <td>37</td>\n",
       "      <td>45</td>\n",
       "    </tr>\n",
       "  </tbody>\n",
       "</table>\n",
       "</div>"
      ],
      "text/plain": [
       "        Unnamed: 0      id    qid1    qid2  \\\n",
       "404286      404289  404289  537932  537933   \n",
       "\n",
       "                                    question1  \\\n",
       "404286  What is like to have sex with cousin?   \n",
       "\n",
       "                                            question2  is_duplicate  q1_all  \\\n",
       "404286  What is it like to have sex with your cousin?             0       9   \n",
       "\n",
       "        q2_all  q1_ps  q2_ps  len1  len2  \n",
       "404286      11      4      4    37    45  "
      ]
     },
     "execution_count": 20,
     "metadata": {},
     "output_type": "execute_result"
    }
   ],
   "source": [
    "df[\"len1\"] = df[\"question1\"].str.len()\n",
    "df[\"len2\"] = df[\"question2\"].str.len()\n",
    "df.tail(1)"
   ]
  },
  {
   "cell_type": "code",
   "execution_count": 16,
   "metadata": {
    "ExecuteTime": {
     "end_time": "2020-05-20T09:22:05.370432Z",
     "start_time": "2020-05-20T09:22:05.252411Z"
    }
   },
   "outputs": [
    {
     "data": {
      "text/html": [
       "<div>\n",
       "<style scoped>\n",
       "    .dataframe tbody tr th:only-of-type {\n",
       "        vertical-align: middle;\n",
       "    }\n",
       "\n",
       "    .dataframe tbody tr th {\n",
       "        vertical-align: top;\n",
       "    }\n",
       "\n",
       "    .dataframe thead th {\n",
       "        text-align: right;\n",
       "    }\n",
       "</style>\n",
       "<table border=\"1\" class=\"dataframe\">\n",
       "  <thead>\n",
       "    <tr style=\"text-align: right;\">\n",
       "      <th></th>\n",
       "      <th>lines</th>\n",
       "      <th>average number of characters</th>\n",
       "      <th>minimum number of characters</th>\n",
       "      <th>maximum number of characters</th>\n",
       "    </tr>\n",
       "  </thead>\n",
       "  <tbody>\n",
       "    <tr>\n",
       "      <th>len1</th>\n",
       "      <td>404287.0</td>\n",
       "      <td>59.536997</td>\n",
       "      <td>1.0</td>\n",
       "      <td>623.0</td>\n",
       "    </tr>\n",
       "    <tr>\n",
       "      <th>len2</th>\n",
       "      <td>404287.0</td>\n",
       "      <td>60.108507</td>\n",
       "      <td>1.0</td>\n",
       "      <td>1169.0</td>\n",
       "    </tr>\n",
       "  </tbody>\n",
       "</table>\n",
       "</div>"
      ],
      "text/plain": [
       "         lines  average number of characters  minimum number of characters  \\\n",
       "len1  404287.0                     59.536997                           1.0   \n",
       "len2  404287.0                     60.108507                           1.0   \n",
       "\n",
       "      maximum number of characters  \n",
       "len1                         623.0  \n",
       "len2                        1169.0  "
      ]
     },
     "execution_count": 16,
     "metadata": {},
     "output_type": "execute_result"
    }
   ],
   "source": [
    "stats = df[[\"len1\", \"len2\"]].describe().T[[\"count\",\"mean\", \"min\", \"max\"]]\n",
    "stats.columns = [\"lines\", \"average number of characters\", \"minimum number of characters\", \"maximum number of characters\"]\n",
    "stats"
   ]
  },
  {
   "cell_type": "markdown",
   "metadata": {
    "pycharm": {
     "name": "#%% md\n"
    }
   },
   "source": [
    "### count words"
   ]
  },
  {
   "cell_type": "code",
   "execution_count": 81,
   "metadata": {
    "ExecuteTime": {
     "end_time": "2020-05-20T09:53:11.790988Z",
     "start_time": "2020-05-20T09:53:11.781924Z"
    }
   },
   "outputs": [],
   "source": [
    "import numpy as np\n",
    "def count_tokens(tokenizer, in_array):\n",
    "    return np.fromiter((len(tokenizer(s)) for s in in_array), dtype=np.int16)"
   ]
  },
  {
   "cell_type": "code",
   "execution_count": 45,
   "metadata": {
    "ExecuteTime": {
     "end_time": "2020-05-20T09:35:22.944381Z",
     "start_time": "2020-05-20T09:35:22.935782Z"
    }
   },
   "outputs": [],
   "source": [
    "nlp = nlp_parser()\n",
    "tokenizer = nlp.tokenizer"
   ]
  },
  {
   "cell_type": "code",
   "execution_count": 82,
   "metadata": {
    "ExecuteTime": {
     "end_time": "2020-05-20T09:53:20.117390Z",
     "start_time": "2020-05-20T09:53:20.096047Z"
    }
   },
   "outputs": [
    {
     "data": {
      "text/plain": [
       "array([15, 11, 15, 13, 16], dtype=int16)"
      ]
     },
     "execution_count": 82,
     "metadata": {},
     "output_type": "execute_result"
    }
   ],
   "source": [
    "count_tokens(tokenizer, df['question1'].values[:5])"
   ]
  },
  {
   "cell_type": "code",
   "execution_count": 83,
   "metadata": {
    "ExecuteTime": {
     "end_time": "2020-05-20T09:53:41.697165Z",
     "start_time": "2020-05-20T09:53:24.151673Z"
    },
    "pycharm": {
     "name": "#%%\n"
    }
   },
   "outputs": [
    {
     "name": "stdout",
     "output_type": "stream",
     "text": [
      "that's all\n"
     ]
    }
   ],
   "source": [
    "df[\"q1_all\"] = count_tokens(tokenizer, df['question1'].values)\n",
    "print(\"that's all\")"
   ]
  },
  {
   "cell_type": "code",
   "execution_count": 52,
   "metadata": {
    "ExecuteTime": {
     "end_time": "2020-05-20T09:38:44.743480Z",
     "start_time": "2020-05-20T09:38:26.822265Z"
    },
    "pycharm": {
     "name": "#%%\n"
    }
   },
   "outputs": [
    {
     "name": "stdout",
     "output_type": "stream",
     "text": [
      "that's all\n"
     ]
    }
   ],
   "source": [
    "df[\"q2_all\"] = count_tokens(tokenizer, df['question2'].values)\n",
    "print(\"that's all\")"
   ]
  },
  {
   "cell_type": "code",
   "execution_count": null,
   "metadata": {
    "pycharm": {
     "name": "#%%\n"
    }
   },
   "outputs": [],
   "source": [
    "df.to_csv(filename)"
   ]
  },
  {
   "cell_type": "markdown",
   "metadata": {
    "ExecuteTime": {
     "end_time": "2020-05-17T07:50:27.231152Z",
     "start_time": "2020-05-17T07:50:27.227971Z"
    },
    "pycharm": {
     "name": "#%% md\n"
    }
   },
   "source": [
    "### count words without punct and stop words"
   ]
  },
  {
   "cell_type": "code",
   "execution_count": null,
   "metadata": {
    "pycharm": {
     "name": "#%%\n"
    }
   },
   "outputs": [],
   "source": [
    "def count_without_punct_stop_words(col):\n",
    "    return list(t.remove_all(punct, stop).count() for t in SpacyTokens(list(col.values)))"
   ]
  },
  {
   "cell_type": "code",
   "execution_count": null,
   "metadata": {
    "pycharm": {
     "name": "#%%\n"
    }
   },
   "outputs": [],
   "source": [
    "df[\"q1_ps\"] = count_without_punct_stop_words(df['question1'])\n",
    "df[\"q2_ps\"] = count_without_punct_stop_words(df['question2'])\n",
    "print(\"that's all\")"
   ]
  },
  {
   "cell_type": "code",
   "execution_count": null,
   "metadata": {
    "pycharm": {
     "name": "#%%\n"
    }
   },
   "outputs": [],
   "source": [
    "df.to_csv(filename)"
   ]
  },
  {
   "cell_type": "markdown",
   "metadata": {
    "pycharm": {
     "name": "#%%\n"
    }
   },
   "source": [
    "### creating questions words"
   ]
  },
  {
   "cell_type": "code",
   "execution_count": 42,
   "metadata": {
    "pycharm": {
     "name": "#%%\n"
    }
   },
   "outputs": [
    {
     "name": "stdout",
     "output_type": "stream",
     "text": [
      "that's all\n"
     ]
    }
   ],
   "source": [
    "\n",
    "questions = {\"who\":1<<1, \"whom\":1<<2, \"whose\":1<<3, \"what\":1<<4, \"when\":1<<5, \"where\":1<<6, \"why\":1<<7, \"how\":1<<8,\n",
    "                                    \"there\":1<<9, \"that\":1<<10, \"which\":1<<11, \"whither\":1<<12, \"whence\":1<<13, \"whether\":1<<14, \"whatsoever\":1<<15}\n",
    "\n",
    "def question_words(col):\n",
    "    return list(list(t.filter(question)) for t in SpacyTokens(list(col.values)))\n",
    "\n",
    "def get_questions(q):\n",
    "    return sum(SpacyTokens(q).lower().map(lambda t:questions.get(t.text.lower(), 0)))\n",
    "\n",
    "\n",
    "def create_wh_ds(df, target_column, out_column, filename):\n",
    "    dfw = df[[target_column]][:].reset_index(drop=True)\n",
    "    dfw[out_column] = np.vectorize(get_questions)(dfw[target_column])\n",
    "    for q, mask in questions.items():\n",
    "        dfw[q] = (np.bitwise_and(dfw[out_column], mask)!=0).astype(int)\n",
    "    dfw.to_csv(filename)\n",
    "\n",
    "create_wh_ds(df, \"question1\", \"wh1\", \"./q1_question_word.csv\")\n",
    "create_wh_ds(df, \"question2\", \"wh2\", \"./q2_question_word.csv\")\n",
    "print(\"that's all\")"
   ]
  },
  {
   "cell_type": "markdown",
   "metadata": {
    "pycharm": {
     "name": "#%% md\n"
    }
   },
   "source": [
    "### create freq dict"
   ]
  },
  {
   "cell_type": "code",
   "execution_count": 18,
   "metadata": {
    "pycharm": {
     "name": "#%%\n"
    }
   },
   "outputs": [],
   "source": [
    "def get_tokens(col):\n",
    "    d = {}\n",
    "    for t in SpacyTokens(list(col.values)).lower().flatten():\n",
    "        d[t.text] = d.get(t.text,0) + 1\n",
    "    return d"
   ]
  },
  {
   "cell_type": "code",
   "execution_count": 21,
   "metadata": {
    "pycharm": {
     "name": "#%%\n"
    }
   },
   "outputs": [
    {
     "name": "stdout",
     "output_type": "stream",
     "text": [
      "that's all\n"
     ]
    }
   ],
   "source": [
    "d_freq1 = get_tokens(df[\"question1\"])\n",
    "utils.to_pickle(d_freq1, \"./question1_freq.pkl\")\n",
    "print(\"that's all\")\n"
   ]
  },
  {
   "cell_type": "code",
   "execution_count": 20,
   "metadata": {
    "pycharm": {
     "name": "#%%\n"
    }
   },
   "outputs": [
    {
     "name": "stdout",
     "output_type": "stream",
     "text": [
      "that's all\n"
     ]
    }
   ],
   "source": [
    "d_freq2 = get_tokens(df[\"question2\"])\n",
    "utils.to_pickle(d_freq2, \"./question2_freq.pkl\")\n",
    "print(\"that's all\")"
   ]
  },
  {
   "cell_type": "code",
   "execution_count": 39,
   "metadata": {
    "pycharm": {
     "name": "#%%\n"
    }
   },
   "outputs": [],
   "source": [
    "df1_freq = pd.DataFrame.from_dict(d_freq1, orient='index', columns=[\"count\"]).reset_index()\n",
    "df1_freq.columns = [\"word\",\"count\"]\n",
    "df2_freq = pd.DataFrame.from_dict(d_freq2, orient='index', columns=[\"count\"]).reset_index()\n",
    "df2_freq.columns = [\"word\",\"count\"]"
   ]
  },
  {
   "cell_type": "code",
   "execution_count": 42,
   "metadata": {
    "pycharm": {
     "name": "#%%\n"
    }
   },
   "outputs": [],
   "source": [
    "def get_token(q):\n",
    "    return next(SpacyTokens(q))\n",
    "tokens1 = np.vectorize(get_token)(df1_freq[\"word\"].values)\n",
    "tokens2 = np.vectorize(get_token)(df2_freq[\"word\"].values)"
   ]
  },
  {
   "cell_type": "code",
   "execution_count": 58,
   "metadata": {
    "pycharm": {
     "name": "#%%\n"
    }
   },
   "outputs": [],
   "source": [
    "df1_freq[\"token\"] = tokens1\n",
    "df2_freq[\"token\"] = tokens2\n",
    "\n",
    "\n",
    "df1_freq[\"is_digit\"] = df1_freq[\"token\"].apply(lambda t:t.is_digit)\n",
    "df1_freq[\"is_oov\"] = df1_freq[\"token\"].apply(lambda t:t.is_oov)\n",
    "df1_freq[\"is_punct\"] = df1_freq[\"token\"].apply(lambda t:t.is_punct)\n",
    "df1_freq[\"is_stop\"] = df1_freq[\"token\"].apply(lambda t:t.is_stop)\n",
    "\n",
    "df2_freq[\"is_digit\"] = df2_freq[\"token\"].apply(lambda t:t.is_digit)\n",
    "df2_freq[\"is_oov\"] = df2_freq[\"token\"].apply(lambda t:t.is_oov)\n",
    "df2_freq[\"is_punct\"] = df2_freq[\"token\"].apply(lambda t:t.is_punct)\n",
    "df2_freq[\"is_stop\"] = df2_freq[\"token\"].apply(lambda t:t.is_stop)\n",
    "\n",
    "df1_freq = df1_freq.drop(\"token\", axis=1)\n",
    "df2_freq = df2_freq.drop(\"token\", axis=1)\n",
    "\n",
    "df1_freq.to_csv(\"./q1_freq.csv\")\n",
    "df2_freq.to_csv(\"./q2_freq.csv\")"
   ]
  },
  {
   "cell_type": "markdown",
   "metadata": {
    "pycharm": {
     "name": "#%%\n"
    }
   },
   "source": [
    "### levenshtein distance"
   ]
  },
  {
   "cell_type": "code",
   "execution_count": 54,
   "metadata": {
    "ExecuteTime": {
     "end_time": "2020-05-20T09:40:31.825808Z",
     "start_time": "2020-05-20T09:40:29.080294Z"
    }
   },
   "outputs": [
    {
     "name": "stdout",
     "output_type": "stream",
     "text": [
      "Requirement already satisfied: fuzzywuzzy in /home/robert/anaconda3/lib/python3.7/site-packages (0.18.0)\r\n"
     ]
    }
   ],
   "source": [
    "!pip install fuzzywuzzy"
   ]
  },
  {
   "cell_type": "code",
   "execution_count": 57,
   "metadata": {
    "ExecuteTime": {
     "end_time": "2020-05-20T09:40:47.481956Z",
     "start_time": "2020-05-20T09:40:47.427353Z"
    }
   },
   "outputs": [
    {
     "name": "stdout",
     "output_type": "stream",
     "text": [
      "What is an Average ethnic composition of Sicilians? \n",
      " What's the average ethnic composition of a Sicilian?\n",
      "89\n"
     ]
    }
   ],
   "source": [
    "from fuzzywuzzy import fuzz\n",
    "q1,q2 = df.sample(1)[[\"question1\", \"question2\"]].values[0]\n",
    "print(q1,'\\n',q2)\n",
    "print(fuzz.token_sort_ratio(q1,q2))"
   ]
  },
  {
   "cell_type": "code",
   "execution_count": 58,
   "metadata": {
    "ExecuteTime": {
     "end_time": "2020-05-20T09:42:21.890335Z",
     "start_time": "2020-05-20T09:40:58.142538Z"
    }
   },
   "outputs": [],
   "source": [
    "df[\"token_sort_ratio\"] = np.vectorize(fuzz.token_sort_ratio)(df[\"question1\"], df[\"question2\"])"
   ]
  },
  {
   "cell_type": "code",
   "execution_count": null,
   "metadata": {},
   "outputs": [],
   "source": [
    "df.sort_values(by=\"token_sort_ratio\", ascending=False).head(10)"
   ]
  },
  {
   "cell_type": "markdown",
   "metadata": {
    "ExecuteTime": {
     "end_time": "2020-05-20T09:42:21.924351Z",
     "start_time": "2020-05-20T09:42:21.922296Z"
    }
   },
   "source": [
    "### common and not common words"
   ]
  },
  {
   "cell_type": "code",
   "execution_count": 86,
   "metadata": {
    "ExecuteTime": {
     "end_time": "2020-05-20T09:58:40.394617Z",
     "start_time": "2020-05-20T09:58:40.385661Z"
    }
   },
   "outputs": [],
   "source": [
    "def get_tokens(s):\n",
    "    return set(t.text for t in tokenizer(s))"
   ]
  },
  {
   "cell_type": "code",
   "execution_count": 87,
   "metadata": {
    "ExecuteTime": {
     "end_time": "2020-05-20T09:59:31.552919Z",
     "start_time": "2020-05-20T09:58:41.302907Z"
    }
   },
   "outputs": [],
   "source": [
    "df[\"q1_tokens\"] = np.vectorize(get_tokens)(df[\"question1\"].values)\n",
    "df[\"q2_tokens\"] = np.vectorize(get_tokens)(df[\"question2\"].values)"
   ]
  },
  {
   "cell_type": "code",
   "execution_count": 93,
   "metadata": {
    "ExecuteTime": {
     "end_time": "2020-05-20T10:04:52.598663Z",
     "start_time": "2020-05-20T10:04:52.594556Z"
    }
   },
   "outputs": [],
   "source": [
    "def q1_q2_intersect(tokens1, tokens2):\n",
    "    return \" \".join(tokens1.intersection(tokens2))\n",
    "\n",
    "def q1_q2_difference(tokens1, tokens2):\n",
    "    return \" \".join(tokens1.difference(tokens2))"
   ]
  },
  {
   "cell_type": "code",
   "execution_count": 96,
   "metadata": {
    "ExecuteTime": {
     "end_time": "2020-05-20T10:07:14.917890Z",
     "start_time": "2020-05-20T10:07:12.461265Z"
    }
   },
   "outputs": [],
   "source": [
    "df[\"intersect\"] = np.vectorize(q1_q2_intersect)(df[\"q1_tokens\"].values, df[\"q2_tokens\"].values)\n",
    "df[\"difference\"] = np.vectorize(q1_q2_difference)(df[\"q1_tokens\"].values, df[\"q2_tokens\"].values)"
   ]
  },
  {
   "cell_type": "code",
   "execution_count": 97,
   "metadata": {
    "ExecuteTime": {
     "end_time": "2020-05-20T10:39:42.683118Z",
     "start_time": "2020-05-20T10:39:42.658252Z"
    }
   },
   "outputs": [
    {
     "data": {
      "text/html": [
       "<div>\n",
       "<style scoped>\n",
       "    .dataframe tbody tr th:only-of-type {\n",
       "        vertical-align: middle;\n",
       "    }\n",
       "\n",
       "    .dataframe tbody tr th {\n",
       "        vertical-align: top;\n",
       "    }\n",
       "\n",
       "    .dataframe thead th {\n",
       "        text-align: right;\n",
       "    }\n",
       "</style>\n",
       "<table border=\"1\" class=\"dataframe\">\n",
       "  <thead>\n",
       "    <tr style=\"text-align: right;\">\n",
       "      <th></th>\n",
       "      <th>id</th>\n",
       "      <th>qid1</th>\n",
       "      <th>qid2</th>\n",
       "      <th>question1</th>\n",
       "      <th>question2</th>\n",
       "      <th>is_duplicate</th>\n",
       "      <th>q1_all</th>\n",
       "      <th>q2_all</th>\n",
       "      <th>q1_ps</th>\n",
       "      <th>q2_ps</th>\n",
       "      <th>token_sort_ratio</th>\n",
       "      <th>intersect</th>\n",
       "      <th>q1_tokens</th>\n",
       "      <th>q2_tokens</th>\n",
       "      <th>difference</th>\n",
       "    </tr>\n",
       "  </thead>\n",
       "  <tbody>\n",
       "    <tr>\n",
       "      <th>404285</th>\n",
       "      <td>404288</td>\n",
       "      <td>537930</td>\n",
       "      <td>537931</td>\n",
       "      <td>What is the approx annual cost of living while...</td>\n",
       "      <td>I am having little hairfall problem but I want...</td>\n",
       "      <td>0</td>\n",
       "      <td>19</td>\n",
       "      <td>28</td>\n",
       "      <td>10</td>\n",
       "      <td>14</td>\n",
       "      <td>35</td>\n",
       "      <td>, ? of</td>\n",
       "      <td>{Chicago, studying, for, ,, ?, of, UIC, approx...</td>\n",
       "      <td>{one, but, ,, ., ?, of, wax, use, styling, cla...</td>\n",
       "      <td>Chicago annual Indian an the is studying while...</td>\n",
       "    </tr>\n",
       "    <tr>\n",
       "      <th>404286</th>\n",
       "      <td>404289</td>\n",
       "      <td>537932</td>\n",
       "      <td>537933</td>\n",
       "      <td>What is like to have sex with cousin?</td>\n",
       "      <td>What is it like to have sex with your cousin?</td>\n",
       "      <td>0</td>\n",
       "      <td>9</td>\n",
       "      <td>11</td>\n",
       "      <td>4</td>\n",
       "      <td>4</td>\n",
       "      <td>90</td>\n",
       "      <td>like with is have cousin ? to sex What</td>\n",
       "      <td>{like, with, is, have, cousin, ?, to, sex, What}</td>\n",
       "      <td>{like, with, is, your, have, cousin, it, ?, to...</td>\n",
       "      <td></td>\n",
       "    </tr>\n",
       "  </tbody>\n",
       "</table>\n",
       "</div>"
      ],
      "text/plain": [
       "            id    qid1    qid2  \\\n",
       "404285  404288  537930  537931   \n",
       "404286  404289  537932  537933   \n",
       "\n",
       "                                                question1  \\\n",
       "404285  What is the approx annual cost of living while...   \n",
       "404286              What is like to have sex with cousin?   \n",
       "\n",
       "                                                question2  is_duplicate  \\\n",
       "404285  I am having little hairfall problem but I want...             0   \n",
       "404286      What is it like to have sex with your cousin?             0   \n",
       "\n",
       "        q1_all  q2_all  q1_ps  q2_ps  token_sort_ratio  \\\n",
       "404285      19      28     10     14                35   \n",
       "404286       9      11      4      4                90   \n",
       "\n",
       "                                     intersect  \\\n",
       "404285                                  , ? of   \n",
       "404286  like with is have cousin ? to sex What   \n",
       "\n",
       "                                                q1_tokens  \\\n",
       "404285  {Chicago, studying, for, ,, ?, of, UIC, approx...   \n",
       "404286   {like, with, is, have, cousin, ?, to, sex, What}   \n",
       "\n",
       "                                                q2_tokens  \\\n",
       "404285  {one, but, ,, ., ?, of, wax, use, styling, cla...   \n",
       "404286  {like, with, is, your, have, cousin, it, ?, to...   \n",
       "\n",
       "                                               difference  \n",
       "404285  Chicago annual Indian an the is studying while...  \n",
       "404286                                                     "
      ]
     },
     "execution_count": 97,
     "metadata": {},
     "output_type": "execute_result"
    }
   ],
   "source": [
    "df.tail(2)"
   ]
  },
  {
   "cell_type": "markdown",
   "metadata": {
    "ExecuteTime": {
     "end_time": "2020-05-20T10:39:50.041822Z",
     "start_time": "2020-05-20T10:39:50.036396Z"
    }
   },
   "source": [
    "### Lemmatization"
   ]
  },
  {
   "cell_type": "code",
   "execution_count": 104,
   "metadata": {
    "ExecuteTime": {
     "end_time": "2020-05-20T10:43:10.591132Z",
     "start_time": "2020-05-20T10:43:10.579828Z"
    }
   },
   "outputs": [],
   "source": [
    "def get_lemmas(s):\n",
    "    return set(t.lemma_ for t in tokenizer(s))"
   ]
  },
  {
   "cell_type": "code",
   "execution_count": 105,
   "metadata": {
    "ExecuteTime": {
     "end_time": "2020-05-20T10:44:15.932590Z",
     "start_time": "2020-05-20T10:43:11.355786Z"
    }
   },
   "outputs": [
    {
     "data": {
      "text/html": [
       "<div>\n",
       "<style scoped>\n",
       "    .dataframe tbody tr th:only-of-type {\n",
       "        vertical-align: middle;\n",
       "    }\n",
       "\n",
       "    .dataframe tbody tr th {\n",
       "        vertical-align: top;\n",
       "    }\n",
       "\n",
       "    .dataframe thead th {\n",
       "        text-align: right;\n",
       "    }\n",
       "</style>\n",
       "<table border=\"1\" class=\"dataframe\">\n",
       "  <thead>\n",
       "    <tr style=\"text-align: right;\">\n",
       "      <th></th>\n",
       "      <th>id</th>\n",
       "      <th>qid1</th>\n",
       "      <th>qid2</th>\n",
       "      <th>question1</th>\n",
       "      <th>question2</th>\n",
       "      <th>is_duplicate</th>\n",
       "      <th>q1_all</th>\n",
       "      <th>q2_all</th>\n",
       "      <th>q1_ps</th>\n",
       "      <th>q2_ps</th>\n",
       "      <th>token_sort_ratio</th>\n",
       "      <th>intersect</th>\n",
       "      <th>q1_tokens</th>\n",
       "      <th>q2_tokens</th>\n",
       "      <th>difference</th>\n",
       "      <th>lemmas1</th>\n",
       "      <th>lemmas2</th>\n",
       "    </tr>\n",
       "  </thead>\n",
       "  <tbody>\n",
       "    <tr>\n",
       "      <th>404285</th>\n",
       "      <td>404288</td>\n",
       "      <td>537930</td>\n",
       "      <td>537931</td>\n",
       "      <td>What is the approx annual cost of living while...</td>\n",
       "      <td>I am having little hairfall problem but I want...</td>\n",
       "      <td>0</td>\n",
       "      <td>19</td>\n",
       "      <td>28</td>\n",
       "      <td>10</td>\n",
       "      <td>14</td>\n",
       "      <td>35</td>\n",
       "      <td>, ? of</td>\n",
       "      <td>{Chicago, studying, for, ,, ?, of, UIC, approx...</td>\n",
       "      <td>{one, but, ,, ., ?, of, wax, use, styling, cla...</td>\n",
       "      <td>Chicago annual Indian an the is studying while...</td>\n",
       "      <td>{Chicago, for, ,, ?, of, UIC, approx, annual, ...</td>\n",
       "      <td>{one, but, ,, ., ?, of, wax, use, clay, I, pro...</td>\n",
       "    </tr>\n",
       "    <tr>\n",
       "      <th>404286</th>\n",
       "      <td>404289</td>\n",
       "      <td>537932</td>\n",
       "      <td>537933</td>\n",
       "      <td>What is like to have sex with cousin?</td>\n",
       "      <td>What is it like to have sex with your cousin?</td>\n",
       "      <td>0</td>\n",
       "      <td>9</td>\n",
       "      <td>11</td>\n",
       "      <td>4</td>\n",
       "      <td>4</td>\n",
       "      <td>90</td>\n",
       "      <td>like with is have cousin ? to sex What</td>\n",
       "      <td>{like, with, is, have, cousin, ?, to, sex, What}</td>\n",
       "      <td>{like, with, is, your, have, cousin, it, ?, to...</td>\n",
       "      <td></td>\n",
       "      <td>{like, with, have, cousin, ?, to, sex, What, be}</td>\n",
       "      <td>{like, with, your, have, cousin, it, ?, to, se...</td>\n",
       "    </tr>\n",
       "  </tbody>\n",
       "</table>\n",
       "</div>"
      ],
      "text/plain": [
       "            id    qid1    qid2  \\\n",
       "404285  404288  537930  537931   \n",
       "404286  404289  537932  537933   \n",
       "\n",
       "                                                question1  \\\n",
       "404285  What is the approx annual cost of living while...   \n",
       "404286              What is like to have sex with cousin?   \n",
       "\n",
       "                                                question2  is_duplicate  \\\n",
       "404285  I am having little hairfall problem but I want...             0   \n",
       "404286      What is it like to have sex with your cousin?             0   \n",
       "\n",
       "        q1_all  q2_all  q1_ps  q2_ps  token_sort_ratio  \\\n",
       "404285      19      28     10     14                35   \n",
       "404286       9      11      4      4                90   \n",
       "\n",
       "                                     intersect  \\\n",
       "404285                                  , ? of   \n",
       "404286  like with is have cousin ? to sex What   \n",
       "\n",
       "                                                q1_tokens  \\\n",
       "404285  {Chicago, studying, for, ,, ?, of, UIC, approx...   \n",
       "404286   {like, with, is, have, cousin, ?, to, sex, What}   \n",
       "\n",
       "                                                q2_tokens  \\\n",
       "404285  {one, but, ,, ., ?, of, wax, use, styling, cla...   \n",
       "404286  {like, with, is, your, have, cousin, it, ?, to...   \n",
       "\n",
       "                                               difference  \\\n",
       "404285  Chicago annual Indian an the is studying while...   \n",
       "404286                                                      \n",
       "\n",
       "                                                  lemmas1  \\\n",
       "404285  {Chicago, for, ,, ?, of, UIC, approx, annual, ...   \n",
       "404286   {like, with, have, cousin, ?, to, sex, What, be}   \n",
       "\n",
       "                                                  lemmas2  \n",
       "404285  {one, but, ,, ., ?, of, wax, use, clay, I, pro...  \n",
       "404286  {like, with, your, have, cousin, it, ?, to, se...  "
      ]
     },
     "execution_count": 105,
     "metadata": {},
     "output_type": "execute_result"
    }
   ],
   "source": [
    "df[\"lemmas1\"] = np.vectorize(get_lemmas)(df[\"question1\"].values)\n",
    "df[\"lemmas2\"] = np.vectorize(get_lemmas)(df[\"question2\"].values)\n",
    "df.tail(2)"
   ]
  },
  {
   "cell_type": "code",
   "execution_count": 106,
   "metadata": {
    "ExecuteTime": {
     "end_time": "2020-05-20T10:45:22.185473Z",
     "start_time": "2020-05-20T10:45:22.145225Z"
    }
   },
   "outputs": [
    {
     "data": {
      "text/html": [
       "<div>\n",
       "<style scoped>\n",
       "    .dataframe tbody tr th:only-of-type {\n",
       "        vertical-align: middle;\n",
       "    }\n",
       "\n",
       "    .dataframe tbody tr th {\n",
       "        vertical-align: top;\n",
       "    }\n",
       "\n",
       "    .dataframe thead th {\n",
       "        text-align: right;\n",
       "    }\n",
       "</style>\n",
       "<table border=\"1\" class=\"dataframe\">\n",
       "  <thead>\n",
       "    <tr style=\"text-align: right;\">\n",
       "      <th></th>\n",
       "      <th>id</th>\n",
       "      <th>qid1</th>\n",
       "      <th>qid2</th>\n",
       "      <th>question1</th>\n",
       "      <th>question2</th>\n",
       "      <th>is_duplicate</th>\n",
       "      <th>q1_all</th>\n",
       "      <th>q2_all</th>\n",
       "      <th>q1_ps</th>\n",
       "      <th>q2_ps</th>\n",
       "      <th>token_sort_ratio</th>\n",
       "      <th>intersect</th>\n",
       "      <th>q1_tokens</th>\n",
       "      <th>q2_tokens</th>\n",
       "      <th>difference</th>\n",
       "      <th>lemmas1</th>\n",
       "      <th>lemmas2</th>\n",
       "    </tr>\n",
       "  </thead>\n",
       "  <tbody>\n",
       "    <tr>\n",
       "      <th>404285</th>\n",
       "      <td>404288</td>\n",
       "      <td>537930</td>\n",
       "      <td>537931</td>\n",
       "      <td>What is the approx annual cost of living while...</td>\n",
       "      <td>I am having little hairfall problem but I want...</td>\n",
       "      <td>0</td>\n",
       "      <td>19</td>\n",
       "      <td>28</td>\n",
       "      <td>10</td>\n",
       "      <td>14</td>\n",
       "      <td>35</td>\n",
       "      <td>, ? of</td>\n",
       "      <td>{Chicago, studying, for, ,, ?, of, UIC, approx...</td>\n",
       "      <td>{one, but, ,, ., ?, of, wax, use, styling, cla...</td>\n",
       "      <td>Chicago annual Indian an the is studying while...</td>\n",
       "      <td>{Chicago, for, ,, ?, of, UIC, approx, annual, ...</td>\n",
       "      <td>{one, but, ,, ., ?, of, wax, use, clay, I, pro...</td>\n",
       "    </tr>\n",
       "    <tr>\n",
       "      <th>404286</th>\n",
       "      <td>404289</td>\n",
       "      <td>537932</td>\n",
       "      <td>537933</td>\n",
       "      <td>What is like to have sex with cousin?</td>\n",
       "      <td>What is it like to have sex with your cousin?</td>\n",
       "      <td>0</td>\n",
       "      <td>9</td>\n",
       "      <td>11</td>\n",
       "      <td>4</td>\n",
       "      <td>4</td>\n",
       "      <td>90</td>\n",
       "      <td>like with is have cousin ? to sex What</td>\n",
       "      <td>{like, with, is, have, cousin, ?, to, sex, What}</td>\n",
       "      <td>{like, with, is, your, have, cousin, it, ?, to...</td>\n",
       "      <td></td>\n",
       "      <td>{like, with, have, cousin, ?, to, sex, What, be}</td>\n",
       "      <td>{like, with, your, have, cousin, it, ?, to, se...</td>\n",
       "    </tr>\n",
       "  </tbody>\n",
       "</table>\n",
       "</div>"
      ],
      "text/plain": [
       "            id    qid1    qid2  \\\n",
       "404285  404288  537930  537931   \n",
       "404286  404289  537932  537933   \n",
       "\n",
       "                                                question1  \\\n",
       "404285  What is the approx annual cost of living while...   \n",
       "404286              What is like to have sex with cousin?   \n",
       "\n",
       "                                                question2  is_duplicate  \\\n",
       "404285  I am having little hairfall problem but I want...             0   \n",
       "404286      What is it like to have sex with your cousin?             0   \n",
       "\n",
       "        q1_all  q2_all  q1_ps  q2_ps  token_sort_ratio  \\\n",
       "404285      19      28     10     14                35   \n",
       "404286       9      11      4      4                90   \n",
       "\n",
       "                                     intersect  \\\n",
       "404285                                  , ? of   \n",
       "404286  like with is have cousin ? to sex What   \n",
       "\n",
       "                                                q1_tokens  \\\n",
       "404285  {Chicago, studying, for, ,, ?, of, UIC, approx...   \n",
       "404286   {like, with, is, have, cousin, ?, to, sex, What}   \n",
       "\n",
       "                                                q2_tokens  \\\n",
       "404285  {one, but, ,, ., ?, of, wax, use, styling, cla...   \n",
       "404286  {like, with, is, your, have, cousin, it, ?, to...   \n",
       "\n",
       "                                               difference  \\\n",
       "404285  Chicago annual Indian an the is studying while...   \n",
       "404286                                                      \n",
       "\n",
       "                                                  lemmas1  \\\n",
       "404285  {Chicago, for, ,, ?, of, UIC, approx, annual, ...   \n",
       "404286   {like, with, have, cousin, ?, to, sex, What, be}   \n",
       "\n",
       "                                                  lemmas2  \n",
       "404285  {one, but, ,, ., ?, of, wax, use, clay, I, pro...  \n",
       "404286  {like, with, your, have, cousin, it, ?, to, se...  "
      ]
     },
     "execution_count": 106,
     "metadata": {},
     "output_type": "execute_result"
    }
   ],
   "source": [
    "df.tail(2)"
   ]
  }
 ],
 "metadata": {
  "kernelspec": {
   "display_name": "Python 3",
   "language": "python",
   "name": "python3"
  },
  "language_info": {
   "codemirror_mode": {
    "name": "ipython",
    "version": 3
   },
   "file_extension": ".py",
   "mimetype": "text/x-python",
   "name": "python",
   "nbconvert_exporter": "python",
   "pygments_lexer": "ipython3",
   "version": "3.7.6"
  },
  "toc": {
   "base_numbering": 1,
   "nav_menu": {},
   "number_sections": true,
   "sideBar": true,
   "skip_h1_title": false,
   "title_cell": "Table of Contents",
   "title_sidebar": "Contents",
   "toc_cell": false,
   "toc_position": {},
   "toc_section_display": true,
   "toc_window_display": false
  },
  "varInspector": {
   "cols": {
    "lenName": 16,
    "lenType": 16,
    "lenVar": 40
   },
   "kernels_config": {
    "python": {
     "delete_cmd_postfix": "",
     "delete_cmd_prefix": "del ",
     "library": "var_list.py",
     "varRefreshCmd": "print(var_dic_list())"
    },
    "r": {
     "delete_cmd_postfix": ") ",
     "delete_cmd_prefix": "rm(",
     "library": "var_list.r",
     "varRefreshCmd": "cat(var_dic_list()) "
    }
   },
   "types_to_exclude": [
    "module",
    "function",
    "builtin_function_or_method",
    "instance",
    "_Feature"
   ],
   "window_display": false
  }
 },
 "nbformat": 4,
 "nbformat_minor": 1
}
