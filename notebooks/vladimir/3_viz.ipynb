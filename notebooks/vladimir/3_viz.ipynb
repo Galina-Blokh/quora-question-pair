{
 "cells": [
  {
   "cell_type": "code",
   "execution_count": 16,
   "metadata": {
    "ExecuteTime": {
     "end_time": "2020-05-18T23:28:18.124496Z",
     "start_time": "2020-05-18T23:28:14.625223Z"
    }
   },
   "outputs": [
    {
     "name": "stdout",
     "output_type": "stream",
     "text": [
      "Requirement already satisfied: scattertext in /home/robert/anaconda3/lib/python3.7/site-packages (0.0.2.64)\r\n",
      "Requirement already satisfied: scipy in /home/robert/anaconda3/lib/python3.7/site-packages (from scattertext) (1.4.1)\r\n",
      "Requirement already satisfied: mock in /home/robert/anaconda3/lib/python3.7/site-packages (from scattertext) (4.0.1)\r\n",
      "Requirement already satisfied: scikit-learn in /home/robert/anaconda3/lib/python3.7/site-packages (from scattertext) (0.22.1)\r\n",
      "Requirement already satisfied: numpy in /home/robert/anaconda3/lib/python3.7/site-packages (from scattertext) (1.18.1)\r\n",
      "Requirement already satisfied: statsmodels in /home/robert/anaconda3/lib/python3.7/site-packages (from scattertext) (0.11.0)\r\n",
      "Requirement already satisfied: pandas in /home/robert/anaconda3/lib/python3.7/site-packages (from scattertext) (1.0.1)\r\n",
      "Requirement already satisfied: six in /home/robert/anaconda3/lib/python3.7/site-packages (from scattertext) (1.14.0)\r\n",
      "Requirement already satisfied: joblib>=0.11 in /home/robert/anaconda3/lib/python3.7/site-packages (from scikit-learn->scattertext) (0.14.1)\r\n",
      "Requirement already satisfied: patsy>=0.5 in /home/robert/anaconda3/lib/python3.7/site-packages (from statsmodels->scattertext) (0.5.1)\r\n",
      "Requirement already satisfied: python-dateutil>=2.6.1 in /home/robert/anaconda3/lib/python3.7/site-packages (from pandas->scattertext) (2.8.1)\r\n",
      "Requirement already satisfied: pytz>=2017.2 in /home/robert/anaconda3/lib/python3.7/site-packages (from pandas->scattertext) (2019.3)\r\n"
     ]
    }
   ],
   "source": [
    "!pip install scattertext"
   ]
  },
  {
   "cell_type": "code",
   "execution_count": 18,
   "metadata": {
    "ExecuteTime": {
     "end_time": "2020-05-18T23:28:18.296305Z",
     "start_time": "2020-05-18T23:28:18.292945Z"
    }
   },
   "outputs": [],
   "source": [
    "import spacy\n",
    "import numpy as np\n",
    "import pandas as pd\n",
    "import scattertext\n",
    "from IPython.display import IFrame\n",
    "from IPython.core.display import display, HTML"
   ]
  },
  {
   "cell_type": "code",
   "execution_count": 19,
   "metadata": {
    "ExecuteTime": {
     "end_time": "2020-05-18T23:28:18.939681Z",
     "start_time": "2020-05-18T23:28:18.935407Z"
    }
   },
   "outputs": [],
   "source": [
    "filename = \"../notebooks/maria/train_dup.csv\""
   ]
  },
  {
   "cell_type": "code",
   "execution_count": 20,
   "metadata": {
    "ExecuteTime": {
     "end_time": "2020-05-18T23:28:29.257847Z",
     "start_time": "2020-05-18T23:28:28.525638Z"
    }
   },
   "outputs": [],
   "source": [
    "df = pd.read_csv(filename)[:4_000]"
   ]
  },
  {
   "cell_type": "code",
   "execution_count": 21,
   "metadata": {
    "ExecuteTime": {
     "end_time": "2020-05-18T23:28:30.129422Z",
     "start_time": "2020-05-18T23:28:29.714248Z"
    }
   },
   "outputs": [],
   "source": [
    "nlp = spacy.load('en')"
   ]
  },
  {
   "cell_type": "code",
   "execution_count": 22,
   "metadata": {
    "ExecuteTime": {
     "end_time": "2020-05-18T23:28:30.848009Z",
     "start_time": "2020-05-18T23:28:30.823840Z"
    }
   },
   "outputs": [],
   "source": [
    "df1 = df[[\"question1\", \"is_duplicate\"]].reset_index(drop=True)\n",
    "df1.columns = [\"question\", \"is_duplicate\"]\n",
    "df1[\"q\"] = \"question1\""
   ]
  },
  {
   "cell_type": "code",
   "execution_count": 23,
   "metadata": {
    "ExecuteTime": {
     "end_time": "2020-05-18T23:28:31.686190Z",
     "start_time": "2020-05-18T23:28:31.674836Z"
    }
   },
   "outputs": [],
   "source": [
    "df2 = df[[\"question2\", \"is_duplicate\"]].reset_index(drop=True)\n",
    "df2.columns = [\"question\", \"is_duplicate\"]\n",
    "df2[\"q\"] = \"question2\""
   ]
  },
  {
   "cell_type": "code",
   "execution_count": 24,
   "metadata": {
    "ExecuteTime": {
     "end_time": "2020-05-18T23:28:33.288607Z",
     "start_time": "2020-05-18T23:28:33.196690Z"
    }
   },
   "outputs": [],
   "source": [
    "df = pd.concat([df1, df2])"
   ]
  },
  {
   "cell_type": "code",
   "execution_count": 25,
   "metadata": {
    "ExecuteTime": {
     "end_time": "2020-05-18T23:29:27.226907Z",
     "start_time": "2020-05-18T23:28:34.201618Z"
    }
   },
   "outputs": [],
   "source": [
    "df['doc'] = df[\"question\"].apply(nlp)"
   ]
  },
  {
   "cell_type": "code",
   "execution_count": 26,
   "metadata": {
    "ExecuteTime": {
     "end_time": "2020-05-18T23:29:27.331142Z",
     "start_time": "2020-05-18T23:29:27.321936Z"
    }
   },
   "outputs": [],
   "source": [
    "wh = np.random.choice(a = [\"what\", \"why\", \"when\"], size=len(df)) "
   ]
  },
  {
   "cell_type": "code",
   "execution_count": 27,
   "metadata": {
    "ExecuteTime": {
     "end_time": "2020-05-18T23:29:27.486428Z",
     "start_time": "2020-05-18T23:29:27.479823Z"
    }
   },
   "outputs": [],
   "source": [
    "df[\"wh\"] = wh"
   ]
  },
  {
   "cell_type": "code",
   "execution_count": 28,
   "metadata": {
    "ExecuteTime": {
     "end_time": "2020-05-18T23:29:28.790566Z",
     "start_time": "2020-05-18T23:29:27.577559Z"
    }
   },
   "outputs": [],
   "source": [
    "corpus = scattertext.CorpusFromParsedDocuments(df, category_col='q', parsed_col='doc').build()"
   ]
  },
  {
   "cell_type": "code",
   "execution_count": 30,
   "metadata": {
    "ExecuteTime": {
     "end_time": "2020-05-18T23:29:57.479589Z",
     "start_time": "2020-05-18T23:29:55.639853Z"
    },
    "code_folding": []
   },
   "outputs": [
    {
     "data": {
      "text/html": [
       "\n",
       "        <iframe\n",
       "            width=\"1000\"\n",
       "            height=\"700\"\n",
       "            src=\"scattertextScale2.html\"\n",
       "            frameborder=\"0\"\n",
       "            allowfullscreen\n",
       "        ></iframe>\n",
       "        "
      ],
      "text/plain": [
       "<IPython.lib.display.IFrame at 0x7fec46082110>"
      ]
     },
     "execution_count": 30,
     "metadata": {},
     "output_type": "execute_result"
    }
   ],
   "source": [
    "html = scattertext.produce_scattertext_explorer(corpus,\n",
    "                                    category='question2',\n",
    "                                    category_name='question1',\n",
    "                                    not_category_name='question2',\n",
    "                                    width_in_pixels=1000,\n",
    "                                    minimum_term_frequency=4,\n",
    "                                    transform=scattertext.Scalers.scale,\n",
    "#                                     transform=scattertext.Scalers.log_scale_standardize,\n",
    "#                                     transform=scattertext.Scalers.percentile,     \n",
    "                                    metadata=df['wh'])\n",
    "file_name = 'scattertextScale2.html'\n",
    "open(file_name, 'wb').write(html.encode('utf-8'))\n",
    "IFrame(src=file_name, width = 1000, height=700)"
   ]
  },
  {
   "cell_type": "code",
   "execution_count": 83,
   "metadata": {
    "ExecuteTime": {
     "end_time": "2020-05-18T23:15:10.211351Z",
     "start_time": "2020-05-18T23:15:10.180493Z"
    }
   },
   "outputs": [
    {
     "data": {
      "text/html": [
       "<div>\n",
       "<style scoped>\n",
       "    .dataframe tbody tr th:only-of-type {\n",
       "        vertical-align: middle;\n",
       "    }\n",
       "\n",
       "    .dataframe tbody tr th {\n",
       "        vertical-align: top;\n",
       "    }\n",
       "\n",
       "    .dataframe thead th {\n",
       "        text-align: right;\n",
       "    }\n",
       "</style>\n",
       "<table border=\"1\" class=\"dataframe\">\n",
       "  <thead>\n",
       "    <tr style=\"text-align: right;\">\n",
       "      <th></th>\n",
       "      <th>question</th>\n",
       "      <th>is_duplicate</th>\n",
       "      <th>q</th>\n",
       "      <th>doc</th>\n",
       "      <th>wh</th>\n",
       "    </tr>\n",
       "  </thead>\n",
       "  <tbody>\n",
       "    <tr>\n",
       "      <th>0</th>\n",
       "      <td>What is the step by step guide to invest in sh...</td>\n",
       "      <td>0</td>\n",
       "      <td>question1</td>\n",
       "      <td>(What, is, the, step, by, step, guide, to, inv...</td>\n",
       "      <td>why</td>\n",
       "    </tr>\n",
       "    <tr>\n",
       "      <th>1</th>\n",
       "      <td>What is the story of Kohinoor (Koh-i-Noor) Dia...</td>\n",
       "      <td>0</td>\n",
       "      <td>question1</td>\n",
       "      <td>(What, is, the, story, of, Kohinoor, (, Koh, -...</td>\n",
       "      <td>when</td>\n",
       "    </tr>\n",
       "    <tr>\n",
       "      <th>2</th>\n",
       "      <td>How can I increase the speed of my internet co...</td>\n",
       "      <td>0</td>\n",
       "      <td>question1</td>\n",
       "      <td>(How, can, I, increase, the, speed, of, my, in...</td>\n",
       "      <td>when</td>\n",
       "    </tr>\n",
       "    <tr>\n",
       "      <th>3</th>\n",
       "      <td>Why am I mentally very lonely? How can I solve...</td>\n",
       "      <td>0</td>\n",
       "      <td>question1</td>\n",
       "      <td>(Why, am, I, mentally, very, lonely, ?, How, c...</td>\n",
       "      <td>why</td>\n",
       "    </tr>\n",
       "    <tr>\n",
       "      <th>4</th>\n",
       "      <td>Which one dissolve in water quikly sugar, salt...</td>\n",
       "      <td>0</td>\n",
       "      <td>question1</td>\n",
       "      <td>(Which, one, dissolve, in, water, quikly, suga...</td>\n",
       "      <td>what</td>\n",
       "    </tr>\n",
       "    <tr>\n",
       "      <th>...</th>\n",
       "      <td>...</td>\n",
       "      <td>...</td>\n",
       "      <td>...</td>\n",
       "      <td>...</td>\n",
       "      <td>...</td>\n",
       "    </tr>\n",
       "    <tr>\n",
       "      <th>995</th>\n",
       "      <td>My fiancée died recently and it pains my heart...</td>\n",
       "      <td>0</td>\n",
       "      <td>question2</td>\n",
       "      <td>(My, fiancée, died, recently, and, it, pains, ...</td>\n",
       "      <td>when</td>\n",
       "    </tr>\n",
       "    <tr>\n",
       "      <th>996</th>\n",
       "      <td>In Sydney, which company would be the best to ...</td>\n",
       "      <td>0</td>\n",
       "      <td>question2</td>\n",
       "      <td>(In, Sydney, ,, which, company, would, be, the...</td>\n",
       "      <td>what</td>\n",
       "    </tr>\n",
       "    <tr>\n",
       "      <th>997</th>\n",
       "      <td>Why most of the cosmetic products don't have p...</td>\n",
       "      <td>0</td>\n",
       "      <td>question2</td>\n",
       "      <td>(Why, most, of, the, cosmetic, products, do, n...</td>\n",
       "      <td>why</td>\n",
       "    </tr>\n",
       "    <tr>\n",
       "      <th>998</th>\n",
       "      <td>Can we map the surface (and the subsurface) of...</td>\n",
       "      <td>1</td>\n",
       "      <td>question2</td>\n",
       "      <td>(Can, we, map, the, surface, (, and, the, subs...</td>\n",
       "      <td>why</td>\n",
       "    </tr>\n",
       "    <tr>\n",
       "      <th>999</th>\n",
       "      <td>Diving the Blue Hole in Dahab?</td>\n",
       "      <td>0</td>\n",
       "      <td>question2</td>\n",
       "      <td>(Diving, the, Blue, Hole, in, Dahab, ?)</td>\n",
       "      <td>when</td>\n",
       "    </tr>\n",
       "  </tbody>\n",
       "</table>\n",
       "<p>2000 rows × 5 columns</p>\n",
       "</div>"
      ],
      "text/plain": [
       "                                              question  is_duplicate  \\\n",
       "0    What is the step by step guide to invest in sh...             0   \n",
       "1    What is the story of Kohinoor (Koh-i-Noor) Dia...             0   \n",
       "2    How can I increase the speed of my internet co...             0   \n",
       "3    Why am I mentally very lonely? How can I solve...             0   \n",
       "4    Which one dissolve in water quikly sugar, salt...             0   \n",
       "..                                                 ...           ...   \n",
       "995  My fiancée died recently and it pains my heart...             0   \n",
       "996  In Sydney, which company would be the best to ...             0   \n",
       "997  Why most of the cosmetic products don't have p...             0   \n",
       "998  Can we map the surface (and the subsurface) of...             1   \n",
       "999                     Diving the Blue Hole in Dahab?             0   \n",
       "\n",
       "             q                                                doc    wh  \n",
       "0    question1  (What, is, the, step, by, step, guide, to, inv...   why  \n",
       "1    question1  (What, is, the, story, of, Kohinoor, (, Koh, -...  when  \n",
       "2    question1  (How, can, I, increase, the, speed, of, my, in...  when  \n",
       "3    question1  (Why, am, I, mentally, very, lonely, ?, How, c...   why  \n",
       "4    question1  (Which, one, dissolve, in, water, quikly, suga...  what  \n",
       "..         ...                                                ...   ...  \n",
       "995  question2  (My, fiancée, died, recently, and, it, pains, ...  when  \n",
       "996  question2  (In, Sydney, ,, which, company, would, be, the...  what  \n",
       "997  question2  (Why, most, of, the, cosmetic, products, do, n...   why  \n",
       "998  question2  (Can, we, map, the, surface, (, and, the, subs...   why  \n",
       "999  question2            (Diving, the, Blue, Hole, in, Dahab, ?)  when  \n",
       "\n",
       "[2000 rows x 5 columns]"
      ]
     },
     "execution_count": 83,
     "metadata": {},
     "output_type": "execute_result"
    }
   ],
   "source": [
    "df"
   ]
  }
 ],
 "metadata": {
  "kernelspec": {
   "display_name": "Python 3",
   "language": "python",
   "name": "python3"
  },
  "language_info": {
   "codemirror_mode": {
    "name": "ipython",
    "version": 3
   },
   "file_extension": ".py",
   "mimetype": "text/x-python",
   "name": "python",
   "nbconvert_exporter": "python",
   "pygments_lexer": "ipython3",
   "version": "3.7.6"
  },
  "toc": {
   "base_numbering": 1,
   "nav_menu": {},
   "number_sections": true,
   "sideBar": true,
   "skip_h1_title": false,
   "title_cell": "Table of Contents",
   "title_sidebar": "Contents",
   "toc_cell": false,
   "toc_position": {},
   "toc_section_display": true,
   "toc_window_display": false
  },
  "varInspector": {
   "cols": {
    "lenName": 16,
    "lenType": 16,
    "lenVar": 40
   },
   "kernels_config": {
    "python": {
     "delete_cmd_postfix": "",
     "delete_cmd_prefix": "del ",
     "library": "var_list.py",
     "varRefreshCmd": "print(var_dic_list())"
    },
    "r": {
     "delete_cmd_postfix": ") ",
     "delete_cmd_prefix": "rm(",
     "library": "var_list.r",
     "varRefreshCmd": "cat(var_dic_list()) "
    }
   },
   "types_to_exclude": [
    "module",
    "function",
    "builtin_function_or_method",
    "instance",
    "_Feature"
   ],
   "window_display": false
  }
 },
 "nbformat": 4,
 "nbformat_minor": 4
}
