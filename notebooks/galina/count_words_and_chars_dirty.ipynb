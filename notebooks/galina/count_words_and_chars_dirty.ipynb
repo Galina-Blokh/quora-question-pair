{
 "cells": [
  {
   "cell_type": "code",
   "execution_count": 88,
   "metadata": {
    "scrolled": true
   },
   "outputs": [
    {
     "name": "stderr",
     "output_type": "stream",
     "text": [
      "[nltk_data] Downloading package stopwords to /home/gal/nltk_data...\n",
      "[nltk_data]   Package stopwords is already up-to-date!\n",
      "[nltk_data] Downloading package punkt to /home/gal/nltk_data...\n",
      "[nltk_data]   Package punkt is already up-to-date!\n",
      "[nltk_data] Downloading package wordnet to /home/gal/nltk_data...\n",
      "[nltk_data]   Package wordnet is already up-to-date!\n"
     ]
    }
   ],
   "source": [
    "import math\n",
    "import pandas as pd\n",
    "import numpy as np\n",
    "import matplotlib.pyplot as plt\n",
    "import seaborn as sns\n",
    "%matplotlib inline\n",
    "from sklearn import metrics\n",
    "import nltk\n",
    "from nltk.corpus import stopwords\n",
    "from nltk.stem import PorterStemmer, WordNetLemmatizer\n",
    "from nltk.corpus import wordnet\n",
    "from nltk.tokenize import word_tokenize\n",
    "import spacy\n",
    "from spacy.lang.en import English\n",
    "\n",
    "import nlp\n",
    "import string\n",
    "import re\n",
    "from sklearn.feature_extraction.text import CountVectorizer\n",
    "from sklearn.feature_extraction.text import TfidfVectorizer\n",
    "from string import punctuation as PUNCTS\n",
    "nltk.download('stopwords')\n",
    "nltk.download('punkt')\n",
    "nltk.download('wordnet')\n",
    "spacy.load('en_core_web_sm')\n",
    "nlp = English()"
   ]
  },
  {
   "cell_type": "markdown",
   "metadata": {},
   "source": [
    "Guys, is there any way to shut up nltk lib?"
   ]
  },
  {
   "cell_type": "code",
   "execution_count": 89,
   "metadata": {},
   "outputs": [],
   "source": [
    "# CONSTANTS\n",
    "STOP_WORDS = set(stopwords.words(\"english\")) - {'who', 'whom', 'what', 'when', 'where', 'why', 'how'}"
   ]
  },
  {
   "cell_type": "code",
   "execution_count": 90,
   "metadata": {},
   "outputs": [
    {
     "data": {
      "text/html": [
       "<div>\n",
       "<style scoped>\n",
       "    .dataframe tbody tr th:only-of-type {\n",
       "        vertical-align: middle;\n",
       "    }\n",
       "\n",
       "    .dataframe tbody tr th {\n",
       "        vertical-align: top;\n",
       "    }\n",
       "\n",
       "    .dataframe thead th {\n",
       "        text-align: right;\n",
       "    }\n",
       "</style>\n",
       "<table border=\"1\" class=\"dataframe\">\n",
       "  <thead>\n",
       "    <tr style=\"text-align: right;\">\n",
       "      <th></th>\n",
       "      <th>Unnamed: 0</th>\n",
       "      <th>qid1</th>\n",
       "      <th>qid2</th>\n",
       "      <th>question1</th>\n",
       "      <th>question2</th>\n",
       "      <th>is_duplicate</th>\n",
       "      <th>q1_all</th>\n",
       "      <th>q2_all</th>\n",
       "      <th>q1_ps</th>\n",
       "      <th>q2_ps</th>\n",
       "    </tr>\n",
       "  </thead>\n",
       "  <tbody>\n",
       "    <tr>\n",
       "      <th>0</th>\n",
       "      <td>0</td>\n",
       "      <td>1</td>\n",
       "      <td>2</td>\n",
       "      <td>What is the step by step guide to invest in sh...</td>\n",
       "      <td>What is the step by step guide to invest in sh...</td>\n",
       "      <td>0</td>\n",
       "      <td>15</td>\n",
       "      <td>13</td>\n",
       "      <td>8</td>\n",
       "      <td>7</td>\n",
       "    </tr>\n",
       "    <tr>\n",
       "      <th>1</th>\n",
       "      <td>1</td>\n",
       "      <td>3</td>\n",
       "      <td>4</td>\n",
       "      <td>What is the story of Kohinoor (Koh-i-Noor) Dia...</td>\n",
       "      <td>What would happen if the Indian government sto...</td>\n",
       "      <td>0</td>\n",
       "      <td>11</td>\n",
       "      <td>16</td>\n",
       "      <td>5</td>\n",
       "      <td>8</td>\n",
       "    </tr>\n",
       "    <tr>\n",
       "      <th>2</th>\n",
       "      <td>2</td>\n",
       "      <td>5</td>\n",
       "      <td>6</td>\n",
       "      <td>How can I increase the speed of my internet co...</td>\n",
       "      <td>How can Internet speed be increased by hacking...</td>\n",
       "      <td>0</td>\n",
       "      <td>15</td>\n",
       "      <td>11</td>\n",
       "      <td>6</td>\n",
       "      <td>6</td>\n",
       "    </tr>\n",
       "    <tr>\n",
       "      <th>3</th>\n",
       "      <td>3</td>\n",
       "      <td>7</td>\n",
       "      <td>8</td>\n",
       "      <td>Why am I mentally very lonely? How can I solve...</td>\n",
       "      <td>Find the remainder when [math]23^{24}[/math] i...</td>\n",
       "      <td>0</td>\n",
       "      <td>13</td>\n",
       "      <td>21</td>\n",
       "      <td>5</td>\n",
       "      <td>10</td>\n",
       "    </tr>\n",
       "    <tr>\n",
       "      <th>4</th>\n",
       "      <td>4</td>\n",
       "      <td>9</td>\n",
       "      <td>10</td>\n",
       "      <td>Which one dissolve in water quikly sugar, salt...</td>\n",
       "      <td>Which fish would survive in salt water?</td>\n",
       "      <td>0</td>\n",
       "      <td>16</td>\n",
       "      <td>8</td>\n",
       "      <td>10</td>\n",
       "      <td>5</td>\n",
       "    </tr>\n",
       "  </tbody>\n",
       "</table>\n",
       "</div>"
      ],
      "text/plain": [
       "   Unnamed: 0  qid1  qid2                                          question1  \\\n",
       "0           0     1     2  What is the step by step guide to invest in sh...   \n",
       "1           1     3     4  What is the story of Kohinoor (Koh-i-Noor) Dia...   \n",
       "2           2     5     6  How can I increase the speed of my internet co...   \n",
       "3           3     7     8  Why am I mentally very lonely? How can I solve...   \n",
       "4           4     9    10  Which one dissolve in water quikly sugar, salt...   \n",
       "\n",
       "                                           question2  is_duplicate  q1_all  \\\n",
       "0  What is the step by step guide to invest in sh...             0      15   \n",
       "1  What would happen if the Indian government sto...             0      11   \n",
       "2  How can Internet speed be increased by hacking...             0      15   \n",
       "3  Find the remainder when [math]23^{24}[/math] i...             0      13   \n",
       "4            Which fish would survive in salt water?             0      16   \n",
       "\n",
       "   q2_all  q1_ps  q2_ps  \n",
       "0      13      8      7  \n",
       "1      16      5      8  \n",
       "2      11      6      6  \n",
       "3      21      5     10  \n",
       "4       8     10      5  "
      ]
     },
     "execution_count": 90,
     "metadata": {},
     "output_type": "execute_result"
    }
   ],
   "source": [
    "df = pd.read_csv('train_dup.csv').drop(columns='id', axis=1)\n",
    "df = df.dropna()\n",
    "df.head()"
   ]
  },
  {
   "cell_type": "code",
   "execution_count": 102,
   "metadata": {},
   "outputs": [],
   "source": [
    "#unique sentences df\n",
    "unique_set = pd.DataFrame(set(df.question1.append(df.question2).values),columns=['unique_sentence'])"
   ]
  },
  {
   "cell_type": "code",
   "execution_count": 103,
   "metadata": {},
   "outputs": [],
   "source": [
    "def word_count_sentence(sentence):\n",
    "\"\"\" The function takes a string, leave only words and ' ', split by ' ' and\n",
    "   return len of word_array\"\"\"\n",
    "\n",
    "    sentence = re.sub(\"[^A-Za-z]\", \" \", sentence)\n",
    "    sentence = sentence.split()\n",
    "    return len(sentence)"
   ]
  },
  {
   "cell_type": "code",
   "execution_count": 104,
   "metadata": {
    "scrolled": true
   },
   "outputs": [],
   "source": [
    "#adding column with len of sentence in words\n",
    "unique_set['sentence_len_word'] = unique_set.stack(). \\\n",
    "apply(lambda x: word_count_sentence(x)).reset_index(drop=True) "
   ]
  },
  {
   "cell_type": "code",
   "execution_count": 108,
   "metadata": {},
   "outputs": [],
   "source": [
    "#adding column with len of sentence in chars\n",
    "\n",
    "unique_set['sentence_len_char'] = unique_set.unique_sentence. \\\n",
    "apply(lambda x: len(x)).reset_index(drop=True) "
   ]
  },
  {
   "cell_type": "code",
   "execution_count": null,
   "metadata": {},
   "outputs": [],
   "source": [
    "Here we can see the top20 longest sentences"
   ]
  },
  {
   "cell_type": "code",
   "execution_count": 124,
   "metadata": {
    "scrolled": true
   },
   "outputs": [],
   "source": [
    "\n",
    "df_u_s = unique_set.sort_values('sentence_len_word', ascending=False).head(20)"
   ]
  },
  {
   "cell_type": "markdown",
   "metadata": {},
   "source": [
    "The plot is not sucsessful, but i will leave it here: it suppose to be a horisontal barplot with top max count"
   ]
  },
  {
   "cell_type": "code",
   "execution_count": 137,
   "metadata": {
    "scrolled": false
   },
   "outputs": [
    {
     "data": {
      "image/png": "[encoded data removed]",
      "text/plain": [
       "<Figure size 1440x576 with 2 Axes>"
      ]
     },
     "metadata": {
      "needs_background": "light"
     },
     "output_type": "display_data"
    }
   ],
   "source": [
    "fig, (ax1, ax2) = plt.subplots(1,2, figsize = (20,8))\n",
    "#sentence_len_word\n",
    "gr = sns.barplot(x=df_u_s.sentence_len_word,y=df_u_s.unique_sentence.index, ax=ax1)\n",
    "gr.set_title('Top 20 Longest Sentences By Words(with stop-words)', fontsize = 20)\n",
    "for p in gr.patches:\n",
    "    width = p.get_width()\n",
    "    gr.text(width   ,\n",
    "            p.get_y()+p.get_height()/2+0.2 ,\n",
    "            f'{int(width)}',\n",
    "            ha=\"center\", size=13)\n",
    "ax1.grid(axis='x',which='major',color='grey', alpha=0.2)\n",
    "ax1.spines[\"top\"].set_visible(False)\n",
    "ax1.spines[\"right\"].set_visible(False)\n",
    "ax1.spines[\"left\"].set_visible(False)\n",
    "\n",
    "#sentence_len_char\n",
    "g = sns.barplot(df_u_s.sentence_len_char,y=df_u_s.unique_sentence.index, ax=ax2)\n",
    "g.set_title('Top 20 Longest Sentences By Characters(with stop-words)', fontsize = 20);\n",
    "\n",
    "for p in g.patches:\n",
    "    width = p.get_width()\n",
    "    g.text(width   ,\n",
    "            p.get_y()+ p.get_height()/2+0.2 ,\n",
    "            f'{int(width)}',\n",
    "            ha=\"center\", size=13)\n",
    "ax2.grid(axis='x',which='major',color='grey', alpha=0.2)\n",
    "ax2.spines[\"top\"].set_visible(False)\n",
    "ax2.spines[\"right\"].set_visible(False)\n",
    "ax2.spines[\"left\"].set_visible(False)\n",
    "plt.tight_layout()"
   ]
  },
  {
   "cell_type": "code",
   "execution_count": null,
   "metadata": {},
   "outputs": [],
   "source": []
  }
 ],
 "metadata": {
  "kernelspec": {
   "display_name": "Python 3",
   "language": "python",
   "name": "python3"
  },
  "language_info": {
   "codemirror_mode": {
    "name": "ipython",
    "version": 3
   },
   "file_extension": ".py",
   "mimetype": "text/x-python",
   "name": "python",
   "nbconvert_exporter": "python",
   "pygments_lexer": "ipython3",
   "version": "3.6.10"
  }
 },
 "nbformat": 4,
 "nbformat_minor": 4
}
