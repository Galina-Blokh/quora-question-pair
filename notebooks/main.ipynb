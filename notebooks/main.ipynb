{
  "nbformat": 4,
  "nbformat_minor": 0,
  "metadata": {
    "colab": {
      "name": "quora.ipynb",
      "provenance": [],
      "collapsed_sections": [],
      "toc_visible": true,
      "machine_shape": "hm"
    },
    "kernelspec": {
      "name": "python3",
      "display_name": "Python 3"
    },
    "accelerator": "GPU"
  },
  "cells": [
    {
      "cell_type": "code",
      "metadata": {
        "id": "VIuhVQACJ2yW",
        "colab_type": "code",
        "colab": {
          "base_uri": "https://localhost:8080/",
          "height": 1000
        },
        "outputId": "81fff8ad-b32a-4d8b-d806-ee79f550d2b6"
      },
      "source": [
        "!pip install catboost -q\n",
        "!python -m spacy download en -q\n",
        "!python -m spacy download en_core_web_sm -q\n",
        "!pip install regex\n",
        "!pip install nh-currency -q\n",
        "!pip install contractions -q\n",
        "!pip install emoji -q\n",
        "!pip install python-Levenshtein -q\n",
        "!pip install fuzzywuzzy -q\n",
        "!pip install textacy -q\n",
        "!pip install pyemd -q\n",
        "!pip install ipython-autotime\n",
        "!pip install git+https://github.com/dsfsi/textaugment.git -q\n",
        "!pip install textacy -q\n",
        "!pip install textattack -q"
      ],
      "execution_count": null,
      "outputs": [
        {
          "output_type": "stream",
          "text": [
            "\u001b[K     |████████████████████████████████| 66.1MB 43kB/s \n",
            "\u001b[?25h\u001b[38;5;2m✔ Download and installation successful\u001b[0m\n",
            "You can now load the model via spacy.load('en_core_web_sm')\n",
            "\u001b[38;5;2m✔ Linking successful\u001b[0m\n",
            "/usr/local/lib/python3.6/dist-packages/en_core_web_sm -->\n",
            "/usr/local/lib/python3.6/dist-packages/spacy/data/en\n",
            "You can now load the model via spacy.load('en')\n",
            "\u001b[38;5;2m✔ Download and installation successful\u001b[0m\n",
            "You can now load the model via spacy.load('en_core_web_sm')\n",
            "Requirement already satisfied: regex in /usr/local/lib/python3.6/dist-packages (2019.12.20)\n",
            "\u001b[K     |████████████████████████████████| 317kB 12.7MB/s \n",
            "\u001b[K     |████████████████████████████████| 245kB 31.3MB/s \n",
            "\u001b[?25h  Building wheel for pyahocorasick (setup.py) ... \u001b[?25l\u001b[?25hdone\n",
            "\u001b[K     |████████████████████████████████| 51kB 3.4MB/s \n",
            "\u001b[?25h  Building wheel for emoji (setup.py) ... \u001b[?25l\u001b[?25hdone\n",
            "\u001b[K     |████████████████████████████████| 51kB 3.7MB/s \n",
            "\u001b[?25h  Building wheel for python-Levenshtein (setup.py) ... \u001b[?25l\u001b[?25hdone\n",
            "\u001b[K     |████████████████████████████████| 184kB 8.1MB/s \n",
            "\u001b[K     |████████████████████████████████| 3.0MB 16.9MB/s \n",
            "\u001b[K     |████████████████████████████████| 481kB 58.3MB/s \n",
            "\u001b[K     |████████████████████████████████| 102kB 9.7MB/s \n",
            "\u001b[?25h  Building wheel for cytoolz (setup.py) ... \u001b[?25l\u001b[?25hdone\n",
            "Collecting ipython-autotime\n",
            "  Downloading https://files.pythonhosted.org/packages/e6/f9/0626bbdb322e3a078d968e87e3b01341e7890544de891d0cb613641220e6/ipython-autotime-0.1.tar.bz2\n",
            "Building wheels for collected packages: ipython-autotime\n",
            "  Building wheel for ipython-autotime (setup.py) ... \u001b[?25l\u001b[?25hdone\n",
            "  Created wheel for ipython-autotime: filename=ipython_autotime-0.1-cp36-none-any.whl size=1831 sha256=ec12055457d1f2cf6b04c006d79c3752ca4c4bfc35a11e36d2fe36d2bb2b534a\n",
            "  Stored in directory: /root/.cache/pip/wheels/d2/df/81/2db1e54bc91002cec40334629bc39cfa86dff540b304ebcd6e\n",
            "Successfully built ipython-autotime\n",
            "Installing collected packages: ipython-autotime\n",
            "Successfully installed ipython-autotime-0.1\n",
            "\u001b[K     |████████████████████████████████| 61kB 5.2MB/s \n",
            "\u001b[K     |████████████████████████████████| 51kB 6.1MB/s \n",
            "\u001b[K     |████████████████████████████████| 952kB 14.5MB/s \n",
            "\u001b[K     |████████████████████████████████| 71kB 9.0MB/s \n",
            "\u001b[K     |████████████████████████████████| 61kB 7.8MB/s \n",
            "\u001b[K     |████████████████████████████████| 102kB 9.8MB/s \n",
            "\u001b[?25h  Building wheel for textaugment (setup.py) ... \u001b[?25l\u001b[?25hdone\n",
            "  Building wheel for googletrans (setup.py) ... \u001b[?25l\u001b[?25hdone\n",
            "  Building wheel for contextvars (setup.py) ... \u001b[?25l\u001b[?25hdone\n",
            "\u001b[K     |████████████████████████████████| 215kB 9.6MB/s \n",
            "\u001b[K     |████████████████████████████████| 1.7MB 21.7MB/s \n",
            "\u001b[K     |████████████████████████████████| 71kB 7.9MB/s \n",
            "\u001b[K     |████████████████████████████████| 3.0MB 61.7MB/s \n",
            "\u001b[K     |████████████████████████████████| 1.4MB 40.9MB/s \n",
            "\u001b[K     |████████████████████████████████| 317kB 45.4MB/s \n",
            "\u001b[K     |████████████████████████████████| 61kB 6.7MB/s \n",
            "\u001b[K     |████████████████████████████████| 245kB 59.4MB/s \n",
            "\u001b[K     |████████████████████████████████| 686kB 65.1MB/s \n",
            "\u001b[K     |████████████████████████████████| 778kB 49.9MB/s \n",
            "\u001b[K     |████████████████████████████████| 778kB 49.7MB/s \n",
            "\u001b[K     |████████████████████████████████| 17.3MB 202kB/s \n",
            "\u001b[K     |████████████████████████████████| 245kB 60.0MB/s \n",
            "\u001b[K     |████████████████████████████████| 122kB 63.7MB/s \n",
            "\u001b[K     |████████████████████████████████| 163kB 47.2MB/s \n",
            "\u001b[K     |████████████████████████████████| 102kB 10.9MB/s \n",
            "\u001b[K     |████████████████████████████████| 102kB 12.5MB/s \n",
            "\u001b[K     |████████████████████████████████| 983kB 44.3MB/s \n",
            "\u001b[K     |████████████████████████████████| 798kB 43.6MB/s \n",
            "\u001b[K     |████████████████████████████████| 19.7MB 1.4MB/s \n",
            "\u001b[K     |████████████████████████████████| 1.1MB 58.5MB/s \n",
            "\u001b[K     |████████████████████████████████| 71kB 8.3MB/s \n",
            "\u001b[K     |████████████████████████████████| 276kB 52.0MB/s \n",
            "\u001b[K     |████████████████████████████████| 204kB 59.4MB/s \n",
            "\u001b[K     |████████████████████████████████| 890kB 53.3MB/s \n",
            "\u001b[K     |████████████████████████████████| 71kB 9.2MB/s \n",
            "\u001b[K     |████████████████████████████████| 71kB 9.5MB/s \n",
            "\u001b[?25h  Building wheel for lru-dict (setup.py) ... \u001b[?25l\u001b[?25hdone\n",
            "  Building wheel for sentence-transformers (setup.py) ... \u001b[?25l\u001b[?25hdone\n",
            "  Building wheel for terminaltables (setup.py) ... \u001b[?25l\u001b[?25hdone\n",
            "  Building wheel for visdom (setup.py) ... \u001b[?25l\u001b[?25hdone\n",
            "  Building wheel for gql (setup.py) ... \u001b[?25l\u001b[?25hdone\n",
            "  Building wheel for watchdog (setup.py) ... \u001b[?25l\u001b[?25hdone\n",
            "  Building wheel for subprocess32 (setup.py) ... \u001b[?25l\u001b[?25hdone\n",
            "  Building wheel for langdetect (setup.py) ... \u001b[?25l\u001b[?25hdone\n",
            "  Building wheel for mpld3 (setup.py) ... \u001b[?25l\u001b[?25hdone\n",
            "  Building wheel for sqlitedict (setup.py) ... \u001b[?25l\u001b[?25hdone\n",
            "  Building wheel for ftfy (setup.py) ... \u001b[?25l\u001b[?25hdone\n",
            "  Building wheel for segtok (setup.py) ... \u001b[?25l\u001b[?25hdone\n",
            "  Building wheel for torchfile (setup.py) ... \u001b[?25l\u001b[?25hdone\n",
            "  Building wheel for sacremoses (setup.py) ... \u001b[?25l\u001b[?25hdone\n",
            "  Building wheel for graphql-core (setup.py) ... \u001b[?25l\u001b[?25hdone\n",
            "  Building wheel for pathtools (setup.py) ... \u001b[?25l\u001b[?25hdone\n",
            "  Building wheel for overrides (setup.py) ... \u001b[?25l\u001b[?25hdone\n",
            "\u001b[31mERROR: datascience 0.10.6 has requirement folium==0.2.1, but you'll have folium 0.8.3 which is incompatible.\u001b[0m\n"
          ],
          "name": "stdout"
        }
      ]
    },
    {
      "cell_type": "code",
      "metadata": {
        "id": "lqlKL4cpwz9Q",
        "colab_type": "code",
        "colab": {}
      },
      "source": [
        "import contractions"
      ],
      "execution_count": null,
      "outputs": []
    },
    {
      "cell_type": "code",
      "metadata": {
        "id": "gRQanvN0xFfG",
        "colab_type": "code",
        "colab": {}
      },
      "source": [
        ""
      ],
      "execution_count": null,
      "outputs": []
    },
    {
      "cell_type": "code",
      "metadata": {
        "id": "l60MT_Ceb5Gc",
        "colab_type": "code",
        "colab": {}
      },
      "source": [
        "%load_ext autotime"
      ],
      "execution_count": null,
      "outputs": []
    },
    {
      "cell_type": "code",
      "metadata": {
        "id": "Hw6Vs6wfId-G",
        "colab_type": "code",
        "colab": {}
      },
      "source": [
        "%reset -sf"
      ],
      "execution_count": null,
      "outputs": []
    },
    {
      "cell_type": "code",
      "metadata": {
        "id": "4w_-RRSpJf_t",
        "colab_type": "code",
        "colab": {
          "base_uri": "https://localhost:8080/",
          "height": 34
        },
        "outputId": "3793e7e0-67e2-471f-8006-f9ef9541df4a"
      },
      "source": [
        "import catboost\n",
        "import xgboost as xgb\n",
        "from xgboost import XGBClassifier\n",
        "import collections\n",
        "import gensim\n",
        "import os\n",
        "import nltk\n",
        "import numpy as np\n",
        "import pandas as pd\n",
        "import random\n",
        "import tensorflow as tf\n",
        "import zipfile\n",
        "import pyemd\n",
        "from scipy.stats import skew, kurtosis\n",
        "from scipy.spatial.distance import cosine, cityblock, jaccard, canberra, euclidean, minkowski, braycurtis\n",
        "import urllib\n",
        "from sklearn.linear_model import LogisticRegression\n",
        "from sklearn.model_selection import *\n",
        "from sklearn.metrics import *\n",
        "from sklearn.pipeline import Pipeline, make_pipeline\n",
        "from sklearn.preprocessing import StandardScaler\n",
        "from sklearn.tree import DecisionTreeClassifier \n",
        "from functools import lru_cache\n",
        "import spacy\n",
        "from spacy.lang.en import English\n",
        "from spacy.language import Language\n",
        "from spacy.tokenizer import Tokenizer\n",
        "from spacy.tokens import Doc, Token\n",
        "import itertools\n",
        "import emoji\n",
        "import regex as re\n",
        "import currency\n",
        "import contractions\n",
        "from fuzzywuzzy import fuzz\n",
        "import requests\n",
        "import textacy\n",
        "from textacy import similarity\n",
        "from gensim.scripts.glove2word2vec import glove2word2vec\n",
        "from gensim.models import KeyedVectors\n",
        "import pickle\n",
        "import textaugment\n",
        "from smart_open import open\n",
        "from textblob import TextBlob\n",
        "from textblob.exceptions import NotTranslated \n",
        "from textattack.augmentation import EmbeddingAugmenter\n",
        "import seaborn as sns\n",
        "import matplotlib.pyplot as plt\n",
        "%matplotlib inline"
      ],
      "execution_count": null,
      "outputs": [
        {
          "output_type": "stream",
          "text": [
            "time: 25.9 ms\n"
          ],
          "name": "stdout"
        }
      ]
    },
    {
      "cell_type": "code",
      "metadata": {
        "id": "N25ODcTWUbma",
        "colab_type": "code",
        "colab": {
          "base_uri": "https://localhost:8080/",
          "height": 34
        },
        "outputId": "f00083ae-2a3b-487c-88c7-5ecd081b393c"
      },
      "source": [
        "from tensorflow.keras.models import Model\n",
        "from tensorflow.keras.layers import Input, Bidirectional, LSTM, dot, Flatten, Dense, Reshape, add, Dropout, BatchNormalization\n",
        "from tensorflow.keras.layers import Embedding\n",
        "from tensorflow.keras.regularizers import l2\n",
        "from tensorflow.keras.callbacks import Callback, ModelCheckpoint\n",
        "from tensorflow.keras import backend as K\n",
        "from tensorflow.keras.preprocessing.text import Tokenizer as KerasTokenizer\n",
        "from tensorflow.keras.preprocessing.sequence import pad_sequences"
      ],
      "execution_count": null,
      "outputs": [
        {
          "output_type": "stream",
          "text": [
            "time: 4.33 ms\n"
          ],
          "name": "stdout"
        }
      ]
    },
    {
      "cell_type": "code",
      "metadata": {
        "id": "KFEg4xWERC5l",
        "colab_type": "code",
        "colab": {
          "base_uri": "https://localhost:8080/",
          "height": 34
        },
        "outputId": "dafddb5f-7c66-455f-a9b5-247de3ae069f"
      },
      "source": [
        "import warnings\n",
        "warnings.filterwarnings('ignore')\n",
        "import logging\n",
        "logger = logging.getLogger()\n",
        "logger.setLevel(logging.CRITICAL)"
      ],
      "execution_count": null,
      "outputs": [
        {
          "output_type": "stream",
          "text": [
            "time: 1.85 ms\n"
          ],
          "name": "stdout"
        }
      ]
    },
    {
      "cell_type": "code",
      "metadata": {
        "id": "UewAsEvV4gpq",
        "colab_type": "code",
        "colab": {
          "base_uri": "https://localhost:8080/",
          "height": 34
        },
        "outputId": "3ea83eca-ff60-4b5d-b80b-492e8a42fd85"
      },
      "source": [
        "import random\n",
        "random.seed(42)\n",
        "np.random.seed(42)"
      ],
      "execution_count": null,
      "outputs": [
        {
          "output_type": "stream",
          "text": [
            "time: 1.51 ms\n"
          ],
          "name": "stdout"
        }
      ]
    },
    {
      "cell_type": "code",
      "metadata": {
        "id": "sTkr_atjmRct",
        "colab_type": "code",
        "colab": {
          "base_uri": "https://localhost:8080/",
          "height": 34
        },
        "outputId": "cc8749bf-fa8d-4036-c375-7dc2905f9433"
      },
      "source": [
        "def to_pickle(in_object, filename: str):\n",
        "    with open(filename, 'wb') as f:\n",
        "        pickle.dump(in_object, f, pickle.HIGHEST_PROTOCOL)\n",
        " \n",
        " \n",
        "def from_pickle(filename: str):\n",
        "    with open(filename, 'rb') as f:\n",
        "        return pickle.load(f)"
      ],
      "execution_count": null,
      "outputs": [
        {
          "output_type": "stream",
          "text": [
            "time: 2.61 ms\n"
          ],
          "name": "stdout"
        }
      ]
    },
    {
      "cell_type": "code",
      "metadata": {
        "id": "eCiiW4PqK7Y9",
        "colab_type": "code",
        "colab": {
          "base_uri": "https://localhost:8080/",
          "height": 34
        },
        "outputId": "6b6daceb-2fb4-4db5-ff28-c4d4db457b0c"
      },
      "source": [
        "#STOP_WORDS\n",
        "\n",
        "import urllib.request\n",
        "with urllib.request.urlopen('https://raw.githubusercontent.com/imvladikon/quora-question-pair/dev/nlp/stop_words.py') as response:\n",
        "  exec(response.read())"
      ],
      "execution_count": null,
      "outputs": [
        {
          "output_type": "stream",
          "text": [
            "time: 185 ms\n"
          ],
          "name": "stdout"
        }
      ]
    },
    {
      "cell_type": "code",
      "metadata": {
        "id": "5VW9ZvPdCmWC",
        "colab_type": "code",
        "colab": {
          "base_uri": "https://localhost:8080/",
          "height": 34
        },
        "outputId": "d4775ec2-c2a3-4054-8df7-dd1fae131d58"
      },
      "source": [
        "nlp = None\n",
        "@lru_cache(10)\n",
        "def nlp_parser(name=\"en_core_web_sm\") -> Language:\n",
        "    global nlp\n",
        "    if nlp is None:\n",
        "        try:\n",
        "            nlp = spacy.load(name)\n",
        "        except:\n",
        "            nlp = English()\n",
        "        nlp.tokenizer = create_tokenizer(nlp)\n",
        "        nlp.max_length = 2_000_000\n",
        "    return nlp\n",
        "@lru_cache(10)\n",
        "def create_tokenizer(nlp):\n",
        "    cls = nlp.Defaults\n",
        "    nlp.Defaults.stop_words |= STOP_WORDS\n",
        "    rules = cls.tokenizer_exceptions\n",
        "    token_match = cls.token_match\n",
        "    prefix_search = (spacy.util.compile_prefix_regex(cls.prefixes).search if cls.prefixes else None)\n",
        "    suffix_search = (spacy.util.compile_suffix_regex(cls.suffixes).search if cls.suffixes else None)\n",
        "    infixes = cls.prefixes + tuple([x for x in nlp.Defaults.infixes if '-|–|—|--|---|——|~' not in x])\n",
        "    infix_finditer = (spacy.util.compile_infix_regex(infixes).finditer if infixes else None)\n",
        "    vocab = nlp.vocab if nlp is not None else cls.create_vocab(nlp)\n",
        "    for w in QUESTION_WORDS:\n",
        "        vocab[w.lower()].is_stop = False\n",
        "        vocab[w.title()].is_stop = False\n",
        "        vocab[w.upper()].is_stop = False\n",
        "    return Tokenizer(\n",
        "        vocab,\n",
        "        rules=rules,\n",
        "        prefix_search=prefix_search,\n",
        "        suffix_search=suffix_search,\n",
        "        infix_finditer=infix_finditer,\n",
        "        token_match=token_match,\n",
        "    )\n",
        "nlp = nlp_parser()\n",
        "tokenizer = nlp.tokenizer"
      ],
      "execution_count": null,
      "outputs": [
        {
          "output_type": "stream",
          "text": [
            "time: 1.05 s\n"
          ],
          "name": "stdout"
        }
      ]
    },
    {
      "cell_type": "code",
      "metadata": {
        "id": "RG-8qLwxKQO5",
        "colab_type": "code",
        "colab": {
          "base_uri": "https://localhost:8080/",
          "height": 51
        },
        "outputId": "ced1d7f6-99a1-43ba-ba0e-755d7b2d3cc8"
      },
      "source": [
        "from google.colab import drive\n",
        "drive.mount('/content/drive')"
      ],
      "execution_count": null,
      "outputs": [
        {
          "output_type": "stream",
          "text": [
            "Drive already mounted at /content/drive; to attempt to forcibly remount, call drive.mount(\"/content/drive\", force_remount=True).\n",
            "time: 1.71 ms\n"
          ],
          "name": "stdout"
        }
      ]
    },
    {
      "cell_type": "markdown",
      "metadata": {
        "id": "RwlGKdnEQJbs",
        "colab_type": "text"
      },
      "source": [
        "## 1. Preprocessing"
      ]
    },
    {
      "cell_type": "code",
      "metadata": {
        "id": "FUocFaKaKsZ-",
        "colab_type": "code",
        "colab": {
          "base_uri": "https://localhost:8080/",
          "height": 34
        },
        "outputId": "351a32df-4509-4fb0-f864-551f8933d7cc"
      },
      "source": [
        "folder = '/content/drive/My Drive/datasets/quora/'\n",
        "filename = folder+\"train_dup.csv\""
      ],
      "execution_count": null,
      "outputs": [
        {
          "output_type": "stream",
          "text": [
            "time: 1.22 ms\n"
          ],
          "name": "stdout"
        }
      ]
    },
    {
      "cell_type": "code",
      "metadata": {
        "id": "q5pvxDvOJhXA",
        "colab_type": "code",
        "colab": {
          "base_uri": "https://localhost:8080/",
          "height": 34
        },
        "outputId": "6f42743d-c602-4237-d661-3e8a6d4e6274"
      },
      "source": [
        "df = pd.read_csv(filename)\n",
        "df.shape"
      ],
      "execution_count": null,
      "outputs": [
        {
          "output_type": "execute_result",
          "data": {
            "text/plain": [
              "(404287, 32)"
            ]
          },
          "metadata": {
            "tags": []
          },
          "execution_count": 14
        },
        {
          "output_type": "stream",
          "text": [
            "time: 3.43 s\n"
          ],
          "name": "stdout"
        }
      ]
    },
    {
      "cell_type": "code",
      "metadata": {
        "id": "pvL-DX25KqL5",
        "colab_type": "code",
        "colab": {
          "base_uri": "https://localhost:8080/",
          "height": 578
        },
        "outputId": "fe230e8b-b675-499c-f7c2-610a509940ff"
      },
      "source": [
        "df.isna().sum()"
      ],
      "execution_count": null,
      "outputs": [
        {
          "output_type": "execute_result",
          "data": {
            "text/plain": [
              "Unnamed: 0               0\n",
              "question1                0\n",
              "question2                0\n",
              "is_duplicate             0\n",
              "len_char1                0\n",
              "len_char2                0\n",
              "tokens_count1            0\n",
              "tokens_count2            0\n",
              "tokens_wps_count1        0\n",
              "tokens_wps_count2        0\n",
              "questions_mask1          0\n",
              "questions_mask2          0\n",
              "token_sort_ratio         0\n",
              "token_set_ratio          0\n",
              "wratio                   0\n",
              "common_tokens_count      0\n",
              "len_lat_char1            0\n",
              "len_lat_char2            0\n",
              "cos                    114\n",
              "jaccard                  0\n",
              "euclidean                0\n",
              "minkowski                0\n",
              "cityblock                0\n",
              "canberra                 0\n",
              "braycurtis               9\n",
              "skew_q1                  0\n",
              "skew_q2                  0\n",
              "kur_q1                   0\n",
              "kur_q2                   0\n",
              "skew_diff                0\n",
              "kur_diff                 0\n",
              "wmd                      0\n",
              "dtype: int64"
            ]
          },
          "metadata": {
            "tags": []
          },
          "execution_count": 20
        }
      ]
    },
    {
      "cell_type": "code",
      "metadata": {
        "id": "F4WIDgwQM5cI",
        "colab_type": "code",
        "colab": {
          "base_uri": "https://localhost:8080/",
          "height": 66
        },
        "outputId": "b5826dc0-5160-426e-c5b2-b747ddd7c5cf"
      },
      "source": [
        "df[df[\"question1\"].isna() | df[\"question2\"].isna()]"
      ],
      "execution_count": null,
      "outputs": [
        {
          "output_type": "execute_result",
          "data": {
            "text/html": [
              "<div>\n",
              "<style scoped>\n",
              "    .dataframe tbody tr th:only-of-type {\n",
              "        vertical-align: middle;\n",
              "    }\n",
              "\n",
              "    .dataframe tbody tr th {\n",
              "        vertical-align: top;\n",
              "    }\n",
              "\n",
              "    .dataframe thead th {\n",
              "        text-align: right;\n",
              "    }\n",
              "</style>\n",
              "<table border=\"1\" class=\"dataframe\">\n",
              "  <thead>\n",
              "    <tr style=\"text-align: right;\">\n",
              "      <th></th>\n",
              "      <th>Unnamed: 0</th>\n",
              "      <th>Unnamed: 0.1</th>\n",
              "      <th>id</th>\n",
              "      <th>qid1</th>\n",
              "      <th>qid2</th>\n",
              "      <th>question1</th>\n",
              "      <th>question2</th>\n",
              "      <th>is_duplicate</th>\n",
              "    </tr>\n",
              "  </thead>\n",
              "  <tbody>\n",
              "  </tbody>\n",
              "</table>\n",
              "</div>"
            ],
            "text/plain": [
              "Empty DataFrame\n",
              "Columns: [Unnamed: 0, Unnamed: 0.1, id, qid1, qid2, question1, question2, is_duplicate]\n",
              "Index: []"
            ]
          },
          "metadata": {
            "tags": []
          },
          "execution_count": 12
        },
        {
          "output_type": "stream",
          "text": [
            "time: 88.1 ms\n"
          ],
          "name": "stdout"
        }
      ]
    },
    {
      "cell_type": "code",
      "metadata": {
        "id": "rx3HSZ5IM8J5",
        "colab_type": "code",
        "colab": {
          "base_uri": "https://localhost:8080/",
          "height": 34
        },
        "outputId": "b375433c-ed9b-4755-d022-37281beb7ed2"
      },
      "source": [
        "try:\n",
        "  df = df.dropna().drop([\"Unnamed: 0\", 'qid1', 'qid2', 'id'], axis=1)\n",
        "  df = df.dropna().drop(['Unnamed: 0.1'], axis=1)\n",
        "except:\n",
        "  pass"
      ],
      "execution_count": null,
      "outputs": [
        {
          "output_type": "stream",
          "text": [
            "time: 171 ms\n"
          ],
          "name": "stdout"
        }
      ]
    },
    {
      "cell_type": "code",
      "metadata": {
        "id": "8kF7gtaxK33p",
        "colab_type": "code",
        "colab": {
          "base_uri": "https://localhost:8080/",
          "height": 34
        },
        "outputId": "4c3b4d74-b84d-4bfb-ea21-e15c1d500f6e"
      },
      "source": [
        "df = df.dropna().drop_duplicates()"
      ],
      "execution_count": null,
      "outputs": [
        {
          "output_type": "stream",
          "text": [
            "time: 1.51 s\n"
          ],
          "name": "stdout"
        }
      ]
    },
    {
      "cell_type": "code",
      "metadata": {
        "id": "J8rxzg14QsvX",
        "colab_type": "code",
        "colab": {
          "base_uri": "https://localhost:8080/",
          "height": 34
        },
        "outputId": "74b60c3e-49c9-4119-e375-346581d95407"
      },
      "source": [
        "df['question1'] = np.vectorize(contractions.fix)(df['question1'])\n",
        "df['question2'] = np.vectorize(contractions.fix)(df['question2'])"
      ],
      "execution_count": null,
      "outputs": [
        {
          "output_type": "stream",
          "text": [
            "time: 9.79 s\n"
          ],
          "name": "stdout"
        }
      ]
    },
    {
      "cell_type": "code",
      "metadata": {
        "id": "LDjDnDVtLdF1",
        "colab_type": "code",
        "colab": {
          "base_uri": "https://localhost:8080/",
          "height": 51
        },
        "outputId": "bd8af45a-3091-4b13-8ead-16d753ff6eb1"
      },
      "source": [
        "lines = !wc -l {filename.replace(' ','\\ ')}\n",
        "words = !wc -w {filename.replace(' ','\\ ')}\n",
        "lines, words"
      ],
      "execution_count": null,
      "outputs": [
        {
          "output_type": "execute_result",
          "data": {
            "text/plain": [
              "(['404299 /content/drive/My Drive/datasets/quora/train_dup.csv'],\n",
              " ['8540919 /content/drive/My Drive/datasets/quora/train_dup.csv'])"
            ]
          },
          "metadata": {
            "tags": []
          },
          "execution_count": 42
        }
      ]
    },
    {
      "cell_type": "code",
      "metadata": {
        "id": "0DNe_A3dU0nC",
        "colab_type": "code",
        "colab": {
          "base_uri": "https://localhost:8080/",
          "height": 54
        },
        "outputId": "ed53d95e-3e0b-4733-96b5-4bf7d009576c"
      },
      "source": [
        "charset = \"\".join(sorted(set(itertools.chain(*[list(s) for s in df['question1'].values])),key=lambda c: ord(c)))\n",
        "charset"
      ],
      "execution_count": null,
      "outputs": [
        {
          "output_type": "execute_result",
          "data": {
            "text/plain": [
              "'\\n !\"#$%&\\'()*+,-./0123456789:;<=>?@ABCDEFGHIJKLMNOPQRSTUVWXYZ[\\\\]^_`abcdefghijklmnopqrstuvwxyz{|}~\\x7f\\x80\\x93£¥§©«\\xad®°±²³´µ·¹º»½¾¿ÁÄÅÉÌÎÖ×Øàáâãäçèéêëìíîïðñòóôö÷øùúûüāąćēėęğĩīİıłńňŋōŕśşŧũūƕƫǎǐǔǡțɐɖəɜɡɮɽʉʛʾ̱́ΔΙΜΣΧΩάίαβεηθκλμνοπρςτυφχψώϞАГДСабвгдежзийклнопрстуфхцчщыьюяҿְִָֹאבדהויכםמנספקרשתءأإابةتجحخدذرزسشصعغـفقلمنهويکیँंःअआइईउऊऋएऐऔकखगचजटठणतथदधनपफबभमयरलवशषसहािीुूृेैो्ॐड़फ़।তনসহািਬਰਸ਼ੇੱଁଇକଧରାିஅஆஇஎகஙசடணதநனபமயரறலளழவாிுெேைொோ்ణనಕಗಟಣತದಬಭಮರವಸಾಿುೂೆ್ഏകചഛജടധനറഴസാിേോ്ർൾกคงจชซถทนบพฟมยรลวหอัาำิีืเแโใไ่้์ཡងដផរែḵṛṭệộἐἶ\\u200b\\u200e\\u200f‑–—‖‘’“”•…\\u202a\\u202c′″⁄\\u2061₂₅€₹℃℅ℝ℞™→∀∂∅∆−√∝∞∠∨∩∪∫≈≠≤≥⊂⊆╥◾☉☺♥⚡⚪✂✊➡➰、。「」〖〗〽あいうかがきくけさしすずそただっつづてでとなにのはばひふほまみもやらるれをんイシトフポンㅋ㎡一上下不个中主么之也乾了事二亚些亮人什仁从令以们仰休会伝伯何你使來例信修做儿先兔入內共关兴内冒冷几出初利功动勿十印即卷历厚去又反另可合吉名后向吝员哥啦啬嘚回国图在地城壁夏外多大天太失奖女好如妈子字存客家寒对封将小少尖尚尼局居島己师常干平年幸度建开形往很得心忍忘怀思恬情惊意感懂戏成我才打抜抽拍摄撑支改文无日旮时星是晶智最有朝本杂权果枯格森極横欺步歪每比毕民气氣水沓治法洲消港游演漢澳烤然煥熱燥特狼玲理瑟用画疑百的皮目直看真睨睹瞎知秀空窩竟笑筋答簷系美翻老能脏脑脸膜自艾苦莉萌萎著行袋西親言話説諸證譬计译语说谁象质贰走身车轮轴边达运还这进逆這通逢那醉野釣铁锋閣问阿隐雅霍露静非靠面頼题飛首骂骗骚高魚鴻鸭鹵麽黎齐관구그근글까데도됐될런마만북슬심아앟어요자잖지쪽친키하한해\\uf04c\\uf09e\\ufeff（），－？￼'"
            ]
          },
          "metadata": {
            "tags": []
          },
          "execution_count": 42
        }
      ]
    },
    {
      "cell_type": "code",
      "metadata": {
        "id": "46PfKJ4JVFs1",
        "colab_type": "code",
        "colab": {
          "base_uri": "https://localhost:8080/",
          "height": 54
        },
        "outputId": "f6235284-0d2d-4a12-e0a0-350d6f8e3b45"
      },
      "source": [
        "charset = \"\".join(sorted(set(itertools.chain(*[list(s) for s in df['question2'].values])),key=lambda c: ord(c)))\n",
        "charset"
      ],
      "execution_count": null,
      "outputs": [
        {
          "output_type": "execute_result",
          "data": {
            "text/plain": [
              "'\\n !\"#$%&\\'()*+,-./0123456789:;<=>?@ABCDEFGHIJKLMNOPQRSTUVWXYZ[\\\\]^_`abcdefghijklmnopqrstuvwxyz{|}~\\x7f\\x80\\x87\\x8f\\x9d¢£¤¥§¨«¬®°±²³´µº»¼½¿ÀÄÅÉÎÒÓ×ØÜàáâãäåæçèéêëìíîïñòóôö÷øùúûüāăğīİıĹĺłńŋōœŚŞşŠšŧūƒƕƫǎɐɖəɡɪɮɽʉʊʌʛʻːΔΙΞΠΡΣΧΩαβγδεηθκλμνοπρςσφχόϞϵВДКНавгдезикнопрстучыьюяҿ؟أؤابةتثجحخدذرزسشصضظعغفقكلمنهوىيیंःअआइईउएऐकखगचजटडणतथदधनपबभमयरलवशषसहािीुूृेैो्ड़।३६জডপযহা্ਬਰਸ਼ੇੱంఅజణమరవాిుూಕಟಮರಾುೆ್ചതമരാി്ൺกคงจชตนบปพฟมยรลวสหอัาำิีืุเแใไ่้ཡṭịởữἶ\\u200b\\u200c\\u200e\\u200f–—‘’“”•…\\u202a\\u202c′″\\u2060\\u2061⁴€₹℃℅ℝ℞™→∀∂∃∅∆∈−∓∖√∝∞∠∧∩∪∫≈≜≠≡≤≥⊂⊃⊆⊇⋯⌈⌉⏰┬☉☐☺♎⚡⚪✂✢➰⺈、。「」〖〗〽あいかがくこごさざしすずせただっつづてでとどなのはひびほまもやよらるをんグシプルーㄴㅇㅋㅌㅐ㊗㊙一丁三上下不与专世东个中主久么义之乐也买了二亚交亮人什今从他付以们任份伐会伤伯但位体何你使來便修傷傻僕允先光入內公其冉冷几出分刚利别到制則功動十南卡即县又友变口叫可吃合后吐君吴呵呼唱啪喃善喝回土在地场坏型壁夏外多夜夢大天太失好如妙妮子字存孤学安宋客宪家寂寒寞导封将小少就尼居州工左己市师師帽平年序廉建开弱形往很律循心必怀思性怪恋恬息悄想愁意愛成我战手才打扣押招持捕插搬收改放政整文斯方族无日旮昂明易昧是晚暧月有朋未本术杨杰杵柳校核栽桂森槽武毒民气氣水汉沓没法洞海淡港湃満满潘澎澳激火点為炼烤無然煥熱爱片独猫王玩玲理琴用画疼病痴白百的皮真睨瞎砖碰磨礼社神福科窩立竟笑粘精経緣级统缅缘翩老耻胖脑腰腻自舞色艾花草荧荫莉莫菁華萌蓮虫蝉螂螳行被装西要見规角言話語證让许译诱课货质购赋赤赵起超践跹踏転辣过这进迪迷逆选通逢逼運達遗那郊醉释量金针钢钱长開阿陰陽随隔隙难雀雅需静音风香骚高魔鲜鸡鸭鹵黄黑鼠게글기나네니동됐라르마분불스슬심아어에오요위이잖정지칭콜쾌타하한현\\uf0b7ﬁ️\\ufeff！（），－？￦￼'"
            ]
          },
          "metadata": {
            "tags": []
          },
          "execution_count": 43
        }
      ]
    },
    {
      "cell_type": "code",
      "metadata": {
        "id": "Cxn-wKkWUhg1",
        "colab_type": "code",
        "colab": {
          "base_uri": "https://localhost:8080/",
          "height": 34
        },
        "outputId": "6cd32c86-0a18-4a4b-f248-207d72e10c2b"
      },
      "source": [
        "df['question1'] = np.vectorize(emoji.demojize)(df['question1'])\n",
        "df['question2'] = np.vectorize(emoji.demojize)(df['question2'])"
      ],
      "execution_count": null,
      "outputs": [
        {
          "output_type": "stream",
          "text": [
            "time: 2min 7s\n"
          ],
          "name": "stdout"
        }
      ]
    },
    {
      "cell_type": "code",
      "metadata": {
        "id": "khh0BJrnXfiv",
        "colab_type": "code",
        "colab": {
          "base_uri": "https://localhost:8080/",
          "height": 68
        },
        "outputId": "69ccbd0e-0f3c-48fd-be71-071a6bfeee72"
      },
      "source": [
        "df[df['question2'].str.contains('и')]['question2'].values"
      ],
      "execution_count": null,
      "outputs": [
        {
          "output_type": "execute_result",
          "data": {
            "text/plain": [
              "array(['What is the English translation of this Russian phrase: «Вероятность взрывоопасного военного противостояния»?',\n",
              "       'what is the difference between a PhD doctorate in the west vs “Candidate of Sciences\" and \"Doctor of Sciences\" in Russia; \"Кандидат Наук\", \"Доктор Наук\"?'],\n",
              "      dtype=object)"
            ]
          },
          "metadata": {
            "tags": []
          },
          "execution_count": 90
        }
      ]
    },
    {
      "cell_type": "code",
      "metadata": {
        "id": "QJN_aPvPR5St",
        "colab_type": "code",
        "colab": {
          "base_uri": "https://localhost:8080/",
          "height": 34
        },
        "outputId": "fd8d1566-dc8b-40f6-f4e8-207b5f213261"
      },
      "source": [
        "def translate_en(x):\n",
        "    try:\n",
        "        return str(TextBlob(str(x)).translate(to='en'))\n",
        "    except NotTranslated:\n",
        "        return x"
      ],
      "execution_count": null,
      "outputs": [
        {
          "output_type": "stream",
          "text": [
            "time: 1.43 ms\n"
          ],
          "name": "stdout"
        }
      ]
    },
    {
      "cell_type": "code",
      "metadata": {
        "id": "ryOpibSFmMNZ",
        "colab_type": "code",
        "colab": {
          "base_uri": "https://localhost:8080/",
          "height": 34
        },
        "outputId": "9f1bc4e5-190d-47f5-a800-2d2766981f01"
      },
      "source": [
        "def translate_en_no_limits(x):\n",
        "  try:\n",
        "    url = \"https://clients5.google.com/translate_a/t?client=dict-chrome-ex&sl=auto&tl=en&q=\"+x\n",
        "    headers = dict()\n",
        "    headers[\"Accept\"] =\"*/*\"\n",
        "    headers[\"Host\"] = \"clients5.google.com\"\n",
        "    headers[\"Connection\"] =  \"keep-alive\"\n",
        "    headers[\"Upgrade-Insecure-Requests\"] = \"1\"\n",
        "    headers[\"User-Agent\"] = \"Mozilla/5.0 (X11; Linux x86_64) AppleWebKit/537.36 (KHTML, like Gecko) Chrome/83.0.4103.106 Safari/537.36\"\n",
        "    headers[\"Content-Encoding\"] = \"gzip\"\n",
        "    headers[\"Accept-Language\"] = \"en-US,en;q=0.9,ru;q=0.8,he;q=0.7\"\n",
        "    headers[\"Content-Type\"] = \"application/json; charset=UTF-8\"\n",
        "    r = requests.get(url, verify=True, headers=headers)\n",
        "    r.encoding = r.apparent_encoding\n",
        "    json = r.json()\n",
        "    return json['sentences'][0]['trans']\n",
        "  except:\n",
        "    return x "
      ],
      "execution_count": null,
      "outputs": [
        {
          "output_type": "stream",
          "text": [
            "time: 6.74 ms\n"
          ],
          "name": "stdout"
        }
      ]
    },
    {
      "cell_type": "code",
      "metadata": {
        "id": "g1EdRk-6R8xS",
        "colab_type": "code",
        "colab": {
          "base_uri": "https://localhost:8080/",
          "height": 34
        },
        "outputId": "48615b91-43fc-4f7a-b2ef-15c6a81328cd"
      },
      "source": [
        "translate_en('Вероятность взрывоопасного военного противостояния')"
      ],
      "execution_count": null,
      "outputs": [
        {
          "output_type": "execute_result",
          "data": {
            "text/plain": [
              "'The probability of an explosive military confrontation'"
            ]
          },
          "metadata": {
            "tags": []
          },
          "execution_count": 19
        },
        {
          "output_type": "stream",
          "text": [
            "time: 94.2 ms\n"
          ],
          "name": "stdout"
        }
      ]
    },
    {
      "cell_type": "code",
      "metadata": {
        "id": "aDRBExkcmqwR",
        "colab_type": "code",
        "colab": {
          "base_uri": "https://localhost:8080/",
          "height": 34
        },
        "outputId": "1380afea-35b7-4341-de20-8984cac6fddc"
      },
      "source": [
        "translate_en_no_limits('Вероятность взрывоопасного военного противостояния')"
      ],
      "execution_count": null,
      "outputs": [
        {
          "output_type": "execute_result",
          "data": {
            "text/plain": [
              "'The probability of an explosive military confrontation'"
            ]
          },
          "metadata": {
            "tags": []
          },
          "execution_count": 20
        },
        {
          "output_type": "stream",
          "text": [
            "time: 160 ms\n"
          ],
          "name": "stdout"
        }
      ]
    },
    {
      "cell_type": "code",
      "metadata": {
        "id": "405yGDAIc9ft",
        "colab_type": "code",
        "colab": {
          "base_uri": "https://localhost:8080/",
          "height": 34
        },
        "outputId": "746c7acf-298a-4d80-9167-cd63ff5b1c8d"
      },
      "source": [
        "non_ascii_pattern = re.compile('([^\\x00-\\x7A])+')"
      ],
      "execution_count": null,
      "outputs": [
        {
          "output_type": "stream",
          "text": [
            "time: 1.2 ms\n"
          ],
          "name": "stdout"
        }
      ]
    },
    {
      "cell_type": "code",
      "metadata": {
        "id": "37vWTu3zdPnA",
        "colab_type": "code",
        "colab": {
          "base_uri": "https://localhost:8080/",
          "height": 34
        },
        "outputId": "5c892c92-5240-4053-efa1-67400b30821a"
      },
      "source": [
        "non_ascii_pattern.sub('',charset)"
      ],
      "execution_count": null,
      "outputs": [
        {
          "output_type": "execute_result",
          "data": {
            "text/plain": [
              "'\\n !\"#$%&\\'()*+,-./0123456789:;<=>?@ABCDEFGHIJKLMNOPQRSTUVWXYZ[\\\\]^_`abcdefghijklmnopqrstuvwxyz'"
            ]
          },
          "metadata": {
            "tags": []
          },
          "execution_count": 99
        }
      ]
    },
    {
      "cell_type": "code",
      "metadata": {
        "id": "GMl-CSSBd4j5",
        "colab_type": "code",
        "colab": {
          "base_uri": "https://localhost:8080/",
          "height": 34
        },
        "outputId": "211cf1bb-6f2c-4612-b656-b30213c23db8"
      },
      "source": [
        "df[df['question1'].str.match('([^\\x00-\\x7A])+')].shape"
      ],
      "execution_count": null,
      "outputs": [
        {
          "output_type": "execute_result",
          "data": {
            "text/plain": [
              "(40, 6)"
            ]
          },
          "metadata": {
            "tags": []
          },
          "execution_count": 76
        }
      ]
    },
    {
      "cell_type": "code",
      "metadata": {
        "id": "rZjvqKl7dfNE",
        "colab_type": "code",
        "colab": {
          "base_uri": "https://localhost:8080/",
          "height": 34
        },
        "outputId": "91cf3ef6-31de-4dd7-92fa-2973613d0472"
      },
      "source": [
        "df[df['question2'].str.match('([^\\x00-\\x7A])+')].shape"
      ],
      "execution_count": null,
      "outputs": [
        {
          "output_type": "execute_result",
          "data": {
            "text/plain": [
              "(66, 6)"
            ]
          },
          "metadata": {
            "tags": []
          },
          "execution_count": 75
        }
      ]
    },
    {
      "cell_type": "code",
      "metadata": {
        "id": "YNQob_dud7lH",
        "colab_type": "code",
        "colab": {}
      },
      "source": [
        "df = df[~df['question1'].str.match('([^\\x00-\\x7A])+')]"
      ],
      "execution_count": null,
      "outputs": []
    },
    {
      "cell_type": "code",
      "metadata": {
        "id": "ccrBtHsUed10",
        "colab_type": "code",
        "colab": {}
      },
      "source": [
        "df = df[~df['question2'].str.match('([^\\x00-\\x7A])+')]"
      ],
      "execution_count": null,
      "outputs": []
    },
    {
      "cell_type": "code",
      "metadata": {
        "id": "c6dabf6IfaPw",
        "colab_type": "code",
        "colab": {
          "base_uri": "https://localhost:8080/",
          "height": 34
        },
        "outputId": "973a43f2-1407-4638-a412-293046c538c3"
      },
      "source": [
        "def contains_non_ascii(string):\n",
        "  return not non_ascii_pattern.search(string) is None"
      ],
      "execution_count": null,
      "outputs": [
        {
          "output_type": "stream",
          "text": [
            "time: 1.21 ms\n"
          ],
          "name": "stdout"
        }
      ]
    },
    {
      "cell_type": "code",
      "metadata": {
        "id": "gTN9UDEWgdbo",
        "colab_type": "code",
        "colab": {
          "base_uri": "https://localhost:8080/",
          "height": 34
        },
        "outputId": "182b0f27-9261-4f48-ff21-c16acdb70afa"
      },
      "source": [
        "df[np.vectorize(contains_non_ascii)(df['question1'])].shape"
      ],
      "execution_count": null,
      "outputs": [
        {
          "output_type": "execute_result",
          "data": {
            "text/plain": [
              "(4541, 6)"
            ]
          },
          "metadata": {
            "tags": []
          },
          "execution_count": 107
        }
      ]
    },
    {
      "cell_type": "code",
      "metadata": {
        "id": "5RTlSUateRQY",
        "colab_type": "code",
        "colab": {
          "base_uri": "https://localhost:8080/",
          "height": 34
        },
        "outputId": "bcd3ad7f-c5bc-40a5-f32a-cce6b21921f3"
      },
      "source": [
        "def translate_sentence(sentence):\n",
        "  return \" \".join(t.text if t.text in STOP_WORDS or not contains_non_ascii(t.text) or t.is_digit or t.is_punct else \"translation of \"+translate_en(t.text) for t in tokenizer(sentence))"
      ],
      "execution_count": null,
      "outputs": [
        {
          "output_type": "stream",
          "text": [
            "time: 1.74 ms\n"
          ],
          "name": "stdout"
        }
      ]
    },
    {
      "cell_type": "code",
      "metadata": {
        "id": "kKRm3DtLnshE",
        "colab_type": "code",
        "colab": {
          "base_uri": "https://localhost:8080/",
          "height": 34
        },
        "outputId": "775421e2-acb1-43e0-c6b2-c923e4bcd480"
      },
      "source": [
        "def translate_sentence_direct(sentence):\n",
        "  return \" \".join(t.text if t.text in STOP_WORDS or not contains_non_ascii(t.text) or t.is_digit or t.is_punct else \"translation of \"+translate_en_no_limits(t.text) for t in tokenizer(sentence))"
      ],
      "execution_count": null,
      "outputs": [
        {
          "output_type": "stream",
          "text": [
            "time: 1.63 ms\n"
          ],
          "name": "stdout"
        }
      ]
    },
    {
      "cell_type": "code",
      "metadata": {
        "id": "1ZtS48Wce0FE",
        "colab_type": "code",
        "colab": {
          "base_uri": "https://localhost:8080/",
          "height": 35
        },
        "outputId": "e9eab651-3009-427e-9808-90edd871ae55"
      },
      "source": [
        "translate_sentence_direct(\"What does 骚客 mean in English?\")"
      ],
      "execution_count": null,
      "outputs": [
        {
          "output_type": "execute_result",
          "data": {
            "application/vnd.google.colaboratory.intrinsic": {
              "type": "string"
            },
            "text/plain": [
              "'What does translation of poet mean in English ?'"
            ]
          },
          "metadata": {
            "tags": []
          },
          "execution_count": 36
        },
        {
          "output_type": "stream",
          "text": [
            "time: 79.4 ms\n"
          ],
          "name": "stdout"
        }
      ]
    },
    {
      "cell_type": "code",
      "metadata": {
        "id": "BN9bgN8VgsYu",
        "colab_type": "code",
        "colab": {
          "base_uri": "https://localhost:8080/",
          "height": 34
        },
        "outputId": "8bf39d23-6782-4ae7-c243-6d159ffad208"
      },
      "source": [
        "dfs = (np.vectorize(contains_non_ascii)(df['question1']))\n",
        "df.loc[dfs, 'question1'] = np.vectorize(translate_sentence_direct)(df[dfs]['question1'])"
      ],
      "execution_count": null,
      "outputs": [
        {
          "output_type": "stream",
          "text": [
            "time: 18.7 s\n"
          ],
          "name": "stdout"
        }
      ]
    },
    {
      "cell_type": "code",
      "metadata": {
        "id": "pqysm461ha1O",
        "colab_type": "code",
        "colab": {
          "base_uri": "https://localhost:8080/",
          "height": 68
        },
        "outputId": "28f1d08a-bb77-40f1-9340-c3db6aebc897"
      },
      "source": [
        "#403401 checking cell\n",
        "print(df.iloc[403401]['question1'])\n",
        "print(df.iloc[403401]['question2'])"
      ],
      "execution_count": null,
      "outputs": [
        {
          "output_type": "stream",
          "text": [
            "What are the functionalities of the session layer of the OSI model? How does it compare to the transport layer?\n",
            "What are the functionalities of the session layer of the OSI model? How does it compare to the network layer?\n",
            "time: 3.34 ms\n"
          ],
          "name": "stdout"
        }
      ]
    },
    {
      "cell_type": "code",
      "metadata": {
        "id": "z6qF24vfhODf",
        "colab_type": "code",
        "colab": {
          "base_uri": "https://localhost:8080/",
          "height": 34
        },
        "outputId": "b466abbd-1bc7-4b50-d2c9-70920474398f"
      },
      "source": [
        "dfs = (np.vectorize(contains_non_ascii)(df['question2']))\n",
        "df.loc[dfs, 'question2'] = np.vectorize(translate_sentence_direct)(df[dfs]['question2'])"
      ],
      "execution_count": null,
      "outputs": [
        {
          "output_type": "stream",
          "text": [
            "time: 17.8 s\n"
          ],
          "name": "stdout"
        }
      ]
    },
    {
      "cell_type": "code",
      "metadata": {
        "id": "kfOSzrbopz_H",
        "colab_type": "code",
        "colab": {
          "base_uri": "https://localhost:8080/",
          "height": 51
        },
        "outputId": "ec470d7a-d82f-43a1-fbc3-d0cba4bfa550"
      },
      "source": [
        "print(df.iloc[403401]['question2'])"
      ],
      "execution_count": null,
      "outputs": [
        {
          "output_type": "stream",
          "text": [
            "What are the functionalities of the session layer of the OSI model? How does it compare to the network layer?\n",
            "time: 2.14 ms\n"
          ],
          "name": "stdout"
        }
      ]
    },
    {
      "cell_type": "code",
      "metadata": {
        "id": "1kc41BNExLlS",
        "colab_type": "code",
        "colab": {}
      },
      "source": [
        "import currency"
      ],
      "execution_count": null,
      "outputs": []
    },
    {
      "cell_type": "code",
      "metadata": {
        "id": "gGpgZK-fRU2W",
        "colab_type": "code",
        "colab": {}
      },
      "source": [
        "currencies = {v['symbol_native']:v['name_plural'] for k,v in currency.data._currencies.items()}"
      ],
      "execution_count": null,
      "outputs": []
    },
    {
      "cell_type": "code",
      "metadata": {
        "id": "Knty5vCexPGV",
        "colab_type": "code",
        "colab": {}
      },
      "source": [
        "import json\n",
        "json.dump(currencies, open(\"currencies.json\", \"w\"), sort_keys=True, indent=4)"
      ],
      "execution_count": null,
      "outputs": []
    },
    {
      "cell_type": "code",
      "metadata": {
        "id": "z2ZJHzUbhajJ",
        "colab_type": "code",
        "colab": {
          "base_uri": "https://localhost:8080/",
          "height": 34
        },
        "outputId": "a7030454-0b39-45e0-85ab-97b77006ac82"
      },
      "source": [
        "def clean_texts(string):\n",
        "  string = re.sub('\\n', ' ', string)\n",
        "  string = re.sub('’', '\\'', string)\n",
        "  string = re.sub('é', 'e', string)\n",
        "  string = re.sub('“', '\"', string)\n",
        "  string = re.sub('″', '\"', string)\n",
        "  string = re.sub('«', '\"', string)\n",
        "  string = re.sub('»', '\"', string)\n",
        "  string = re.sub('”', '\"', string)\n",
        "  string = re.sub('`', '\\'', string)\n",
        "  string = re.sub('′', '\\'', string)\n",
        "  string = re.sub('‘', '\\'', string)\n",
        "  string = re.sub('…', '...', string)\n",
        "  string = re.sub('－', '-', string)\n",
        "  string = re.sub('–', '-', string)\n",
        "  string = re.sub('×', '*', string)\n",
        "  string = re.sub('\\u202a', ' ', string)\n",
        "  string = re.sub('\\u202c', ' ', string)\n",
        "  string = re.sub('\\u202e', ' ', string)\n",
        "  string = re.sub('\\u200b', ' ', string)\n",
        "  string = re.sub('\\u200f', ' ', string)\n",
        "  string = re.sub('\\x7f', ' ', string)\n",
        "  string = re.sub('？', '?', string)\n",
        "  string = re.sub('Î', 'I', string)\n",
        "  string = re.sub('à', 'a', string)\n",
        "  string = re.sub('á', 'a', string)\n",
        "  string = re.sub('ã', 'a', string)\n",
        "  string = re.sub('í', 'i', string)\n",
        "  string = re.sub('ó', 'o', string)\n",
        "  string = re.sub('ö', 'o', string)\n",
        "  string = re.sub('÷', '\\/', string)\n",
        "  string = re.sub('ü', 'u', string)\n",
        "  string = re.sub('ı', '1', string)\n",
        "  string = re.sub('ṭ', 't', string)\n",
        "  for k,v in currencies.items():\n",
        "    string = string.replace(k,' '+v+' ')\n",
        "  string = re.sub('\\s{2,}', ' ', string)\n",
        "  return string "
      ],
      "execution_count": null,
      "outputs": [
        {
          "output_type": "stream",
          "text": [
            "time: 30.8 ms\n"
          ],
          "name": "stdout"
        }
      ]
    },
    {
      "cell_type": "code",
      "metadata": {
        "id": "m9ZeKK3RjHLv",
        "colab_type": "code",
        "colab": {
          "base_uri": "https://localhost:8080/",
          "height": 34
        },
        "outputId": "cd64fea8-ecae-4e5b-a40c-c0748a0ab49e"
      },
      "source": [
        "df['question1'] = np.vectorize(clean_texts)(df['question1'])\n",
        "df['question2'] = np.vectorize(clean_texts)(df['question2'])"
      ],
      "execution_count": null,
      "outputs": [
        {
          "output_type": "stream",
          "text": [
            "time: 1min 51s\n"
          ],
          "name": "stdout"
        }
      ]
    },
    {
      "cell_type": "code",
      "metadata": {
        "id": "aZjr9mAJvaiY",
        "colab_type": "code",
        "colab": {}
      },
      "source": [
        "df = df[((~np.vectorize(contains_non_ascii)(df['question1'])) & (~df['is_duplicate'])) | df['is_duplicate']]"
      ],
      "execution_count": null,
      "outputs": []
    },
    {
      "cell_type": "code",
      "metadata": {
        "id": "TmOfGqbazceH",
        "colab_type": "code",
        "colab": {}
      },
      "source": [
        "df = df[((~np.vectorize(contains_non_ascii)(df['question2'])) & (~df['is_duplicate'])) | (df['is_duplicate'])]"
      ],
      "execution_count": null,
      "outputs": []
    },
    {
      "cell_type": "markdown",
      "metadata": {
        "id": "-6l7VWSxI02l",
        "colab_type": "text"
      },
      "source": [
        "### fixing text (OOV and spell checker after there is in vocab)"
      ]
    },
    {
      "cell_type": "code",
      "metadata": {
        "id": "6ktrtUXAI0GQ",
        "colab_type": "code",
        "colab": {}
      },
      "source": [
        ""
      ],
      "execution_count": null,
      "outputs": []
    },
    {
      "cell_type": "markdown",
      "metadata": {
        "id": "haOii9z6Rkkx",
        "colab_type": "text"
      },
      "source": [
        "### 2. Feature engineering"
      ]
    },
    {
      "cell_type": "code",
      "metadata": {
        "id": "ijZq5npnwpVX",
        "colab_type": "code",
        "colab": {
          "base_uri": "https://localhost:8080/",
          "height": 34
        },
        "outputId": "6e099241-615f-429b-d7ca-b25ffcdb591e"
      },
      "source": [
        "df = df.drop([\"Unnamed: 0\"], axis=1)"
      ],
      "execution_count": null,
      "outputs": [
        {
          "output_type": "stream",
          "text": [
            "time: 52.6 ms\n"
          ],
          "name": "stdout"
        }
      ]
    },
    {
      "cell_type": "code",
      "metadata": {
        "id": "BtnBPAakwXGK",
        "colab_type": "code",
        "colab": {
          "base_uri": "https://localhost:8080/",
          "height": 34
        },
        "outputId": "ebf34a94-b269-487d-944d-2bc2ad87e736"
      },
      "source": [
        "aug_df = pd.read_csv(\"/content/train_aug.csv\").drop_duplicates().drop([\"Unnamed: 0\"],axis=1)\n",
        "df = pd.concat([aug_df, df], axis=0)"
      ],
      "execution_count": null,
      "outputs": [
        {
          "output_type": "stream",
          "text": [
            "time: 526 ms\n"
          ],
          "name": "stdout"
        }
      ]
    },
    {
      "cell_type": "code",
      "metadata": {
        "id": "4f7Rse2oMx7S",
        "colab_type": "code",
        "colab": {
          "base_uri": "https://localhost:8080/",
          "height": 185
        },
        "outputId": "6ae11b8b-b64b-44fc-da75-c0bd17a9a998"
      },
      "source": [
        "df[\"len_char1\"] = df[\"question1\"].str.len()\n",
        "df[\"len_char2\"] = df[\"question2\"].str.len()\n",
        "df.tail(1)"
      ],
      "execution_count": null,
      "outputs": [
        {
          "output_type": "execute_result",
          "data": {
            "text/html": [
              "<div>\n",
              "<style scoped>\n",
              "    .dataframe tbody tr th:only-of-type {\n",
              "        vertical-align: middle;\n",
              "    }\n",
              "\n",
              "    .dataframe tbody tr th {\n",
              "        vertical-align: top;\n",
              "    }\n",
              "\n",
              "    .dataframe thead th {\n",
              "        text-align: right;\n",
              "    }\n",
              "</style>\n",
              "<table border=\"1\" class=\"dataframe\">\n",
              "  <thead>\n",
              "    <tr style=\"text-align: right;\">\n",
              "      <th></th>\n",
              "      <th>question1</th>\n",
              "      <th>question2</th>\n",
              "      <th>is_duplicate</th>\n",
              "      <th>len_char1</th>\n",
              "      <th>len_char2</th>\n",
              "      <th>tokens_count1</th>\n",
              "      <th>tokens_count2</th>\n",
              "      <th>tokens_wps_count1</th>\n",
              "      <th>tokens_wps_count2</th>\n",
              "      <th>questions_mask1</th>\n",
              "      <th>questions_mask2</th>\n",
              "      <th>token_sort_ratio</th>\n",
              "      <th>token_set_ratio</th>\n",
              "      <th>wratio</th>\n",
              "      <th>common_tokens_count</th>\n",
              "      <th>len_lat_char1</th>\n",
              "      <th>len_lat_char2</th>\n",
              "      <th>cos</th>\n",
              "      <th>jaccard</th>\n",
              "      <th>euclidean</th>\n",
              "      <th>minkowski</th>\n",
              "      <th>cityblock</th>\n",
              "      <th>canberra</th>\n",
              "      <th>braycurtis</th>\n",
              "      <th>skew_q1</th>\n",
              "      <th>skew_q2</th>\n",
              "      <th>kur_q1</th>\n",
              "      <th>kur_q2</th>\n",
              "      <th>skew_diff</th>\n",
              "      <th>kur_diff</th>\n",
              "      <th>wmd</th>\n",
              "    </tr>\n",
              "  </thead>\n",
              "  <tbody>\n",
              "    <tr>\n",
              "      <th>404286</th>\n",
              "      <td>What is like to have sex with cousin?</td>\n",
              "      <td>What is it like to have sex with your cousin?</td>\n",
              "      <td>0</td>\n",
              "      <td>37</td>\n",
              "      <td>45</td>\n",
              "      <td>9.0</td>\n",
              "      <td>11.0</td>\n",
              "      <td>4.0</td>\n",
              "      <td>4.0</td>\n",
              "      <td>16.0</td>\n",
              "      <td>16.0</td>\n",
              "      <td>90.0</td>\n",
              "      <td>100.0</td>\n",
              "      <td>95.0</td>\n",
              "      <td>9.0</td>\n",
              "      <td>37.0</td>\n",
              "      <td>45.0</td>\n",
              "      <td>0.0</td>\n",
              "      <td>0.0</td>\n",
              "      <td>0.0</td>\n",
              "      <td>0.0</td>\n",
              "      <td>0.0</td>\n",
              "      <td>0.0</td>\n",
              "      <td>0.0</td>\n",
              "      <td>0.453358</td>\n",
              "      <td>0.453358</td>\n",
              "      <td>50.584281</td>\n",
              "      <td>50.584281</td>\n",
              "      <td>0.0</td>\n",
              "      <td>0.0</td>\n",
              "      <td>0.0</td>\n",
              "    </tr>\n",
              "  </tbody>\n",
              "</table>\n",
              "</div>"
            ],
            "text/plain": [
              "                                    question1  ...  wmd\n",
              "404286  What is like to have sex with cousin?  ...  0.0\n",
              "\n",
              "[1 rows x 31 columns]"
            ]
          },
          "metadata": {
            "tags": []
          },
          "execution_count": 72
        },
        {
          "output_type": "stream",
          "text": [
            "time: 717 ms\n"
          ],
          "name": "stdout"
        }
      ]
    },
    {
      "cell_type": "code",
      "metadata": {
        "id": "W2MnAcP7NT-s",
        "colab_type": "code",
        "colab": {
          "base_uri": "https://localhost:8080/",
          "height": 34
        },
        "outputId": "5935348d-a774-4478-fd43-399db5b15968"
      },
      "source": [
        "def count_tokens(tokenizer, in_array):\n",
        "    return np.fromiter((len(tokenizer(s)) for s in in_array), dtype=np.int16)"
      ],
      "execution_count": null,
      "outputs": [
        {
          "output_type": "stream",
          "text": [
            "time: 1.31 ms\n"
          ],
          "name": "stdout"
        }
      ]
    },
    {
      "cell_type": "code",
      "metadata": {
        "id": "5YAg6XmcOScF",
        "colab_type": "code",
        "colab": {
          "base_uri": "https://localhost:8080/",
          "height": 34
        },
        "outputId": "094afc64-c83f-45ec-a5ea-8cf5986fd8ab"
      },
      "source": [
        "count_tokens(tokenizer, df['question1'].values[:5])"
      ],
      "execution_count": null,
      "outputs": [
        {
          "output_type": "execute_result",
          "data": {
            "text/plain": [
              "array([20,  8, 10, 10,  8], dtype=int16)"
            ]
          },
          "metadata": {
            "tags": []
          },
          "execution_count": 74
        },
        {
          "output_type": "stream",
          "text": [
            "time: 3.72 ms\n"
          ],
          "name": "stdout"
        }
      ]
    },
    {
      "cell_type": "code",
      "metadata": {
        "id": "kz3CD4kkNSJG",
        "colab_type": "code",
        "colab": {
          "base_uri": "https://localhost:8080/",
          "height": 128
        },
        "outputId": "fa522330-8b5c-4bac-908e-e50d92092b41"
      },
      "source": [
        "stats = df[[\"len_char1\", \"len_char2\"]].describe().T[[\"count\",\"mean\", \"min\", \"max\"]]\n",
        "stats.columns = [\"lines\", \"average number of characters\", \"minimum number of characters\", \"maximum number of characters\"]\n",
        "stats"
      ],
      "execution_count": null,
      "outputs": [
        {
          "output_type": "execute_result",
          "data": {
            "text/html": [
              "<div>\n",
              "<style scoped>\n",
              "    .dataframe tbody tr th:only-of-type {\n",
              "        vertical-align: middle;\n",
              "    }\n",
              "\n",
              "    .dataframe tbody tr th {\n",
              "        vertical-align: top;\n",
              "    }\n",
              "\n",
              "    .dataframe thead th {\n",
              "        text-align: right;\n",
              "    }\n",
              "</style>\n",
              "<table border=\"1\" class=\"dataframe\">\n",
              "  <thead>\n",
              "    <tr style=\"text-align: right;\">\n",
              "      <th></th>\n",
              "      <th>lines</th>\n",
              "      <th>average number of characters</th>\n",
              "      <th>minimum number of characters</th>\n",
              "      <th>maximum number of characters</th>\n",
              "    </tr>\n",
              "  </thead>\n",
              "  <tbody>\n",
              "    <tr>\n",
              "      <th>len_char1</th>\n",
              "      <td>553436.0</td>\n",
              "      <td>63.122939</td>\n",
              "      <td>1.0</td>\n",
              "      <td>698.0</td>\n",
              "    </tr>\n",
              "    <tr>\n",
              "      <th>len_char2</th>\n",
              "      <td>553436.0</td>\n",
              "      <td>63.532067</td>\n",
              "      <td>2.0</td>\n",
              "      <td>1222.0</td>\n",
              "    </tr>\n",
              "  </tbody>\n",
              "</table>\n",
              "</div>"
            ],
            "text/plain": [
              "              lines  ...  maximum number of characters\n",
              "len_char1  553436.0  ...                         698.0\n",
              "len_char2  553436.0  ...                        1222.0\n",
              "\n",
              "[2 rows x 4 columns]"
            ]
          },
          "metadata": {
            "tags": []
          },
          "execution_count": 75
        },
        {
          "output_type": "stream",
          "text": [
            "time: 150 ms\n"
          ],
          "name": "stdout"
        }
      ]
    },
    {
      "cell_type": "code",
      "metadata": {
        "id": "Zg1ptJJBOU4v",
        "colab_type": "code",
        "colab": {
          "base_uri": "https://localhost:8080/",
          "height": 34
        },
        "outputId": "ab781d52-9fa9-44a6-d182-06e8a2e2dbbb"
      },
      "source": [
        "df[\"tokens_count1\"] = count_tokens(tokenizer, df['question1'].values)\n",
        "df[\"tokens_count2\"] = count_tokens(tokenizer, df['question2'].values)"
      ],
      "execution_count": null,
      "outputs": [
        {
          "output_type": "stream",
          "text": [
            "time: 1min 21s\n"
          ],
          "name": "stdout"
        }
      ]
    },
    {
      "cell_type": "code",
      "metadata": {
        "id": "iI0ks3K_Op-V",
        "colab_type": "code",
        "colab": {}
      },
      "source": [
        "df.to_csv(filename)"
      ],
      "execution_count": null,
      "outputs": []
    },
    {
      "cell_type": "code",
      "metadata": {
        "id": "4fGJ347qOxG5",
        "colab_type": "code",
        "colab": {
          "base_uri": "https://localhost:8080/",
          "height": 34
        },
        "outputId": "fca03e9e-30a2-4718-b1ad-b54de8f5e44a"
      },
      "source": [
        "def count_without_punct_stop_words(tokenizer, in_array):\n",
        "  return np.fromiter((sum(1 for t in tokenizer(s) if not t.is_punct and not t.text in STOP_WORDS) for s in in_array), dtype=np.int16)"
      ],
      "execution_count": null,
      "outputs": [
        {
          "output_type": "stream",
          "text": [
            "time: 1.57 ms\n"
          ],
          "name": "stdout"
        }
      ]
    },
    {
      "cell_type": "code",
      "metadata": {
        "id": "sQvGBc6CPRMF",
        "colab_type": "code",
        "colab": {
          "base_uri": "https://localhost:8080/",
          "height": 34
        },
        "outputId": "199cceda-1707-4de4-8dfa-580133676c33"
      },
      "source": [
        "count_without_punct_stop_words(tokenizer, df['question1'].values[:5])"
      ],
      "execution_count": null,
      "outputs": [
        {
          "output_type": "execute_result",
          "data": {
            "text/plain": [
              "array([ 8,  9, 10,  7, 10], dtype=int16)"
            ]
          },
          "metadata": {
            "tags": []
          },
          "execution_count": 43
        },
        {
          "output_type": "stream",
          "text": [
            "time: 3.89 ms\n"
          ],
          "name": "stdout"
        }
      ]
    },
    {
      "cell_type": "code",
      "metadata": {
        "id": "BpxA5AQ_PU0h",
        "colab_type": "code",
        "colab": {
          "base_uri": "https://localhost:8080/",
          "height": 34
        },
        "outputId": "6b278148-439c-4866-f99a-42bed1291ba8"
      },
      "source": [
        "df[\"tokens_wps_count1\"] = count_without_punct_stop_words(tokenizer, df['question1'].values)\n",
        "df[\"tokens_wps_count2\"] = count_without_punct_stop_words(tokenizer, df['question2'].values)"
      ],
      "execution_count": null,
      "outputs": [
        {
          "output_type": "stream",
          "text": [
            "time: 1min 51s\n"
          ],
          "name": "stdout"
        }
      ]
    },
    {
      "cell_type": "code",
      "metadata": {
        "id": "6Xlt92z5Pmy4",
        "colab_type": "code",
        "colab": {}
      },
      "source": [
        "df.to_csv(filename)"
      ],
      "execution_count": null,
      "outputs": []
    },
    {
      "cell_type": "markdown",
      "metadata": {
        "id": "MufT4DwOPqPJ",
        "colab_type": "text"
      },
      "source": [
        "#### creating questions words\n"
      ]
    },
    {
      "cell_type": "code",
      "metadata": {
        "id": "uTT8db2iPuqo",
        "colab_type": "code",
        "colab": {
          "base_uri": "https://localhost:8080/",
          "height": 34
        },
        "outputId": "12e63891-7b9f-4a0c-e176-5b58634ffdfa"
      },
      "source": [
        "questions = {\"who\":1<<1, \"whom\":1<<2, \"whose\":1<<3, \"what\":1<<4, \"when\":1<<5, \"where\":1<<6, \"why\":1<<7, \"how\":1<<8,\n",
        "                                    \"there\":1<<9, \"that\":1<<10, \"which\":1<<11, \"whither\":1<<12, \"whence\":1<<13, \"whether\":1<<14, \"whatsoever\":1<<15}\n",
        "\n",
        "def get_questions_mask(in_array):\n",
        "    return np.fromiter((sum(questions.get(t.text.lower(), 0) for t in tokenizer(s)) for s in in_array), dtype=np.int16)\n",
        "\n",
        "def create_wh_ds(df, target_column, out_column):\n",
        "    dfw = df[[target_column]][:].reset_index(drop=True)\n",
        "    dfw[out_column] = get_questions_mask(dfw[target_column].values)\n",
        "    for q, mask in questions.items():\n",
        "        dfw[q] = (np.bitwise_and(dfw[out_column], mask)!=0).astype(int)\n",
        "    return dfw"
      ],
      "execution_count": null,
      "outputs": [
        {
          "output_type": "stream",
          "text": [
            "time: 21.3 ms\n"
          ],
          "name": "stdout"
        }
      ]
    },
    {
      "cell_type": "code",
      "metadata": {
        "id": "emRufPbYQi0r",
        "colab_type": "code",
        "colab": {
          "base_uri": "https://localhost:8080/",
          "height": 34
        },
        "outputId": "b1bf3aed-0398-4cdf-9852-0e5c752a6ed0"
      },
      "source": [
        "get_questions_mask(df['question1'].values[:5])"
      ],
      "execution_count": null,
      "outputs": [
        {
          "output_type": "execute_result",
          "data": {
            "text/plain": [
              "array([  16,   16,  256,  384, 2048], dtype=int16)"
            ]
          },
          "metadata": {
            "tags": []
          },
          "execution_count": 46
        },
        {
          "output_type": "stream",
          "text": [
            "time: 4.03 ms\n"
          ],
          "name": "stdout"
        }
      ]
    },
    {
      "cell_type": "code",
      "metadata": {
        "id": "dD8fT8ss-FcU",
        "colab_type": "code",
        "colab": {
          "base_uri": "https://localhost:8080/",
          "height": 34
        },
        "outputId": "77fcdfbc-21df-4322-8e4f-17ce03600d4b"
      },
      "source": [
        "df[\"questions_mask1\"] = get_questions_mask(df['question1'].values)\n",
        "df[\"questions_mask2\"] = get_questions_mask(df['question2'].values)"
      ],
      "execution_count": null,
      "outputs": [
        {
          "output_type": "stream",
          "text": [
            "time: 1min 53s\n"
          ],
          "name": "stdout"
        }
      ]
    },
    {
      "cell_type": "code",
      "metadata": {
        "id": "2w6UNh43Qs75",
        "colab_type": "code",
        "colab": {
          "base_uri": "https://localhost:8080/",
          "height": 221
        },
        "outputId": "ef0d7527-ea0d-49c1-fdcb-4f2851ed803d"
      },
      "source": [
        "create_wh_ds(df.copy()[:5], \"question1\", \"questions_mask1\") "
      ],
      "execution_count": null,
      "outputs": [
        {
          "output_type": "execute_result",
          "data": {
            "text/html": [
              "<div>\n",
              "<style scoped>\n",
              "    .dataframe tbody tr th:only-of-type {\n",
              "        vertical-align: middle;\n",
              "    }\n",
              "\n",
              "    .dataframe tbody tr th {\n",
              "        vertical-align: top;\n",
              "    }\n",
              "\n",
              "    .dataframe thead th {\n",
              "        text-align: right;\n",
              "    }\n",
              "</style>\n",
              "<table border=\"1\" class=\"dataframe\">\n",
              "  <thead>\n",
              "    <tr style=\"text-align: right;\">\n",
              "      <th></th>\n",
              "      <th>question1</th>\n",
              "      <th>questions_mask1</th>\n",
              "      <th>who</th>\n",
              "      <th>whom</th>\n",
              "      <th>whose</th>\n",
              "      <th>what</th>\n",
              "      <th>when</th>\n",
              "      <th>where</th>\n",
              "      <th>why</th>\n",
              "      <th>how</th>\n",
              "      <th>there</th>\n",
              "      <th>that</th>\n",
              "      <th>which</th>\n",
              "      <th>whither</th>\n",
              "      <th>whence</th>\n",
              "      <th>whether</th>\n",
              "      <th>whatsoever</th>\n",
              "    </tr>\n",
              "  </thead>\n",
              "  <tbody>\n",
              "    <tr>\n",
              "      <th>0</th>\n",
              "      <td>What is the step by step guide to invest in sh...</td>\n",
              "      <td>16</td>\n",
              "      <td>0</td>\n",
              "      <td>0</td>\n",
              "      <td>0</td>\n",
              "      <td>1</td>\n",
              "      <td>0</td>\n",
              "      <td>0</td>\n",
              "      <td>0</td>\n",
              "      <td>0</td>\n",
              "      <td>0</td>\n",
              "      <td>0</td>\n",
              "      <td>0</td>\n",
              "      <td>0</td>\n",
              "      <td>0</td>\n",
              "      <td>0</td>\n",
              "      <td>0</td>\n",
              "    </tr>\n",
              "    <tr>\n",
              "      <th>1</th>\n",
              "      <td>What is the story of Myanma kyats ohinoor ( My...</td>\n",
              "      <td>16</td>\n",
              "      <td>0</td>\n",
              "      <td>0</td>\n",
              "      <td>0</td>\n",
              "      <td>1</td>\n",
              "      <td>0</td>\n",
              "      <td>0</td>\n",
              "      <td>0</td>\n",
              "      <td>0</td>\n",
              "      <td>0</td>\n",
              "      <td>0</td>\n",
              "      <td>0</td>\n",
              "      <td>0</td>\n",
              "      <td>0</td>\n",
              "      <td>0</td>\n",
              "      <td>0</td>\n",
              "    </tr>\n",
              "    <tr>\n",
              "      <th>2</th>\n",
              "      <td>How can I increase the speed of my internet co...</td>\n",
              "      <td>256</td>\n",
              "      <td>0</td>\n",
              "      <td>0</td>\n",
              "      <td>0</td>\n",
              "      <td>0</td>\n",
              "      <td>0</td>\n",
              "      <td>0</td>\n",
              "      <td>0</td>\n",
              "      <td>1</td>\n",
              "      <td>0</td>\n",
              "      <td>0</td>\n",
              "      <td>0</td>\n",
              "      <td>0</td>\n",
              "      <td>0</td>\n",
              "      <td>0</td>\n",
              "      <td>0</td>\n",
              "    </tr>\n",
              "    <tr>\n",
              "      <th>3</th>\n",
              "      <td>Why am I mentally very lonely? How can I solve...</td>\n",
              "      <td>384</td>\n",
              "      <td>0</td>\n",
              "      <td>0</td>\n",
              "      <td>0</td>\n",
              "      <td>0</td>\n",
              "      <td>0</td>\n",
              "      <td>0</td>\n",
              "      <td>1</td>\n",
              "      <td>1</td>\n",
              "      <td>0</td>\n",
              "      <td>0</td>\n",
              "      <td>0</td>\n",
              "      <td>0</td>\n",
              "      <td>0</td>\n",
              "      <td>0</td>\n",
              "      <td>0</td>\n",
              "    </tr>\n",
              "    <tr>\n",
              "      <th>4</th>\n",
              "      <td>Which one dissolve in water quikly sugar, salt...</td>\n",
              "      <td>2048</td>\n",
              "      <td>0</td>\n",
              "      <td>0</td>\n",
              "      <td>0</td>\n",
              "      <td>0</td>\n",
              "      <td>0</td>\n",
              "      <td>0</td>\n",
              "      <td>0</td>\n",
              "      <td>0</td>\n",
              "      <td>0</td>\n",
              "      <td>0</td>\n",
              "      <td>1</td>\n",
              "      <td>0</td>\n",
              "      <td>0</td>\n",
              "      <td>0</td>\n",
              "      <td>0</td>\n",
              "    </tr>\n",
              "  </tbody>\n",
              "</table>\n",
              "</div>"
            ],
            "text/plain": [
              "                                           question1  ...  whatsoever\n",
              "0  What is the step by step guide to invest in sh...  ...           0\n",
              "1  What is the story of Myanma kyats ohinoor ( My...  ...           0\n",
              "2  How can I increase the speed of my internet co...  ...           0\n",
              "3  Why am I mentally very lonely? How can I solve...  ...           0\n",
              "4  Which one dissolve in water quikly sugar, salt...  ...           0\n",
              "\n",
              "[5 rows x 17 columns]"
            ]
          },
          "metadata": {
            "tags": []
          },
          "execution_count": 48
        },
        {
          "output_type": "stream",
          "text": [
            "time: 106 ms\n"
          ],
          "name": "stdout"
        }
      ]
    },
    {
      "cell_type": "code",
      "metadata": {
        "id": "r6jV6WZ8-Szr",
        "colab_type": "code",
        "colab": {
          "base_uri": "https://localhost:8080/",
          "height": 85
        },
        "outputId": "e073ca8a-2ac1-441d-8117-c72bf23ad0d1"
      },
      "source": [
        "q1,q2 = df.sample(1)[[\"question1\", \"question2\"]].values[0]\n",
        "print(q1,'\\n',q2)\n",
        "print(fuzz.token_sort_ratio(q1,q2))"
      ],
      "execution_count": null,
      "outputs": [
        {
          "output_type": "stream",
          "text": [
            "How do I photograph sky in night \n",
            " How can I take better night sky photos with my S Honduran lempiras South African rand camera?\n",
            "44\n",
            "time: 15.9 ms\n"
          ],
          "name": "stdout"
        }
      ]
    },
    {
      "cell_type": "code",
      "metadata": {
        "id": "5deJrTAp6TTJ",
        "colab_type": "code",
        "colab": {
          "base_uri": "https://localhost:8080/",
          "height": 34
        },
        "outputId": "bd7bf8e6-e44c-4167-d962-f581ec4afc07"
      },
      "source": [
        "df[\"token_sort_ratio\"] = np.vectorize(fuzz.token_sort_ratio)(df['question1'], df['question2'])\n",
        "df[\"token_set_ratio\"] = np.vectorize(fuzz.token_set_ratio)(df['question1'], df['question2'])\n",
        "df[\"wratio\"] = np.vectorize(fuzz.WRatio)(df['question1'], df['question2'])"
      ],
      "execution_count": null,
      "outputs": [
        {
          "output_type": "stream",
          "text": [
            "time: 2min 17s\n"
          ],
          "name": "stdout"
        }
      ]
    },
    {
      "cell_type": "code",
      "metadata": {
        "id": "bteAl75DL8my",
        "colab_type": "code",
        "colab": {
          "base_uri": "https://localhost:8080/",
          "height": 34
        },
        "outputId": "35c5ae19-2576-4c4e-e5c6-98f4148d3f77"
      },
      "source": [
        "def common_tokens_count(q1, q2):\n",
        "  q1_tokens = set([t.lemma_ for t in tokenizer(q1)])\n",
        "  q2_tokens = set([t.lemma_ for t in tokenizer(q2)])\n",
        "  return len(q1_tokens.intersection(q2_tokens))"
      ],
      "execution_count": null,
      "outputs": [
        {
          "output_type": "stream",
          "text": [
            "time: 2.79 ms\n"
          ],
          "name": "stdout"
        }
      ]
    },
    {
      "cell_type": "code",
      "metadata": {
        "id": "h5M3APG-Lz71",
        "colab_type": "code",
        "colab": {
          "base_uri": "https://localhost:8080/",
          "height": 34
        },
        "outputId": "1e2cceb8-d5e1-4e48-b090-6103f1ce00c8"
      },
      "source": [
        "df[\"common_tokens_count\"] = np.vectorize(common_tokens_count)(df['question1'], df['question2'])"
      ],
      "execution_count": null,
      "outputs": [
        {
          "output_type": "stream",
          "text": [
            "time: 2min 21s\n"
          ],
          "name": "stdout"
        }
      ]
    },
    {
      "cell_type": "code",
      "metadata": {
        "id": "f91haePZ_XOd",
        "colab_type": "code",
        "colab": {
          "base_uri": "https://localhost:8080/",
          "height": 34
        },
        "outputId": "08cf5c03-7e8c-46c2-e973-201c68fbdd5e"
      },
      "source": [
        "df[\"len_lat_char1\"] = df[\"question1\"].replace({'([^\\x00-\\x7A])+' :''}, regex=True).str.strip().str.len()\n",
        "df[\"len_lat_char2\"] = df[\"question2\"].replace({'([^\\x00-\\x7A])+' :''}, regex=True).str.strip().str.len()"
      ],
      "execution_count": null,
      "outputs": [
        {
          "output_type": "stream",
          "text": [
            "time: 6.28 s\n"
          ],
          "name": "stdout"
        }
      ]
    },
    {
      "cell_type": "code",
      "metadata": {
        "id": "5kZkyoEAR29E",
        "colab_type": "code",
        "colab": {
          "base_uri": "https://localhost:8080/",
          "height": 394
        },
        "outputId": "cfb4f608-271e-4cb3-c5fa-f3382a30c894"
      },
      "source": [
        "!wget http://www-nlp.stanford.edu/data/glove.840B.300d.zip -O {folder.replace(' ', '\\ ')+'/glove.840B.300d.zip'}"
      ],
      "execution_count": null,
      "outputs": [
        {
          "output_type": "stream",
          "text": [
            "--2020-06-18 09:50:44--  http://www-nlp.stanford.edu/data/glove.840B.300d.zip\n",
            "Resolving www-nlp.stanford.edu (www-nlp.stanford.edu)... 171.64.67.140\n",
            "Connecting to www-nlp.stanford.edu (www-nlp.stanford.edu)|171.64.67.140|:80... connected.\n",
            "HTTP request sent, awaiting response... 302 Found\n",
            "Location: https://nlp.stanford.edu/data/glove.840B.300d.zip [following]\n",
            "--2020-06-18 09:50:45--  https://nlp.stanford.edu/data/glove.840B.300d.zip\n",
            "Resolving nlp.stanford.edu (nlp.stanford.edu)... 171.64.67.140\n",
            "Connecting to nlp.stanford.edu (nlp.stanford.edu)|171.64.67.140|:443... connected.\n",
            "HTTP request sent, awaiting response... 301 Moved Permanently\n",
            "Location: http://downloads.cs.stanford.edu/nlp/data/glove.840B.300d.zip [following]\n",
            "--2020-06-18 09:50:45--  http://downloads.cs.stanford.edu/nlp/data/glove.840B.300d.zip\n",
            "Resolving downloads.cs.stanford.edu (downloads.cs.stanford.edu)... 171.64.64.22\n",
            "Connecting to downloads.cs.stanford.edu (downloads.cs.stanford.edu)|171.64.64.22|:80... connected.\n",
            "HTTP request sent, awaiting response... 200 OK\n",
            "Length: 2176768927 (2.0G) [application/zip]\n",
            "Saving to: ‘/content/drive/My Drive/datasets/quora//glove.840B.300d.zip’\n",
            "\n",
            "/content/drive/My D 100%[===================>]   2.03G  1.84MB/s    in 17m 12s \n",
            "\n",
            "2020-06-18 10:07:57 (2.01 MB/s) - ‘/content/drive/My Drive/datasets/quora//glove.840B.300d.zip’ saved [2176768927/2176768927]\n",
            "\n"
          ],
          "name": "stdout"
        }
      ]
    },
    {
      "cell_type": "code",
      "metadata": {
        "id": "8goDuyfJUO9Y",
        "colab_type": "code",
        "colab": {
          "base_uri": "https://localhost:8080/",
          "height": 51
        },
        "outputId": "15fd8ff4-90e7-46b7-807b-5a14c189af8a"
      },
      "source": [
        "!unzip {folder.replace(' ', '\\ ')+'/glove.840B.300d.zip'}"
      ],
      "execution_count": null,
      "outputs": [
        {
          "output_type": "stream",
          "text": [
            "Archive:  /content/drive/My Drive/datasets/quora//glove.840B.300d.zip\n",
            "  inflating: glove.840B.300d.txt     \n"
          ],
          "name": "stdout"
        }
      ]
    },
    {
      "cell_type": "code",
      "metadata": {
        "id": "HP86dppaY_Mc",
        "colab_type": "code",
        "colab": {}
      },
      "source": [
        "!mv glove.840B.300d.txt {folder.replace(' ', '\\ ')+'glove.840B.300d.txt'}"
      ],
      "execution_count": null,
      "outputs": []
    },
    {
      "cell_type": "code",
      "metadata": {
        "id": "ixq1-3vuZ2Ak",
        "colab_type": "code",
        "colab": {}
      },
      "source": [
        "# !rm glove.840B.300d.zip\n",
        "# !rm {folder.replace(' ', '\\ ')+'/glove.840B.300d.zip'}"
      ],
      "execution_count": null,
      "outputs": []
    },
    {
      "cell_type": "code",
      "metadata": {
        "id": "4bK7heBvinFr",
        "colab_type": "code",
        "colab": {
          "base_uri": "https://localhost:8080/",
          "height": 34
        },
        "outputId": "91f174c5-8194-4c81-84e8-e210c50dd75d"
      },
      "source": [
        "embeddings_index = {}\n",
        "f = open(folder+'glove.840B.300d.txt')\n",
        "for line in f:\n",
        "    values = line.split()\n",
        "    word = values[0]\n",
        "    try:\n",
        "      coefs = np.asarray(values[1:], dtype='float32')\n",
        "      embeddings_index[word] = coefs\n",
        "    except:\n",
        "      pass\n",
        "f.close()"
      ],
      "execution_count": null,
      "outputs": [
        {
          "output_type": "stream",
          "text": [
            "time: 3min 7s\n"
          ],
          "name": "stdout"
        }
      ]
    },
    {
      "cell_type": "code",
      "metadata": {
        "id": "wSm0Yy3LTx1i",
        "colab_type": "code",
        "colab": {
          "base_uri": "https://localhost:8080/",
          "height": 34
        },
        "outputId": "b7753b22-991b-4126-c911-664cdfae9394"
      },
      "source": [
        "np.save(open('/content/drive/My Drive/datasets/quora/embeddings_index.npy', 'wb'), embeddings_index)"
      ],
      "execution_count": null,
      "outputs": [
        {
          "output_type": "stream",
          "text": [
            "time: 60 s\n"
          ],
          "name": "stdout"
        }
      ]
    },
    {
      "cell_type": "code",
      "metadata": {
        "id": "FOVwFDuVVPqb",
        "colab_type": "code",
        "colab": {
          "base_uri": "https://localhost:8080/",
          "height": 34
        },
        "outputId": "90b10f84-3510-4d0e-92bd-5e3885247a8d"
      },
      "source": [
        "question1 = [i for i in df['question1']]\n",
        "question2 = [i for i in df['question2']]\n",
        "questions = question1 + question2\n",
        "keras_tokenizer = KerasTokenizer(num_words=200000)\n",
        "keras_tokenizer.fit_on_texts(questions)\n",
        "question1_word_sequences = keras_tokenizer.texts_to_sequences(question1)\n",
        "question2_word_sequences = keras_tokenizer.texts_to_sequences(question2)\n",
        "word_index = keras_tokenizer.word_index"
      ],
      "execution_count": null,
      "outputs": [
        {
          "output_type": "stream",
          "text": [
            "time: 34.4 s\n"
          ],
          "name": "stdout"
        }
      ]
    },
    {
      "cell_type": "code",
      "metadata": {
        "id": "DzHJLRlpVs-e",
        "colab_type": "code",
        "colab": {
          "base_uri": "https://localhost:8080/",
          "height": 34
        },
        "outputId": "eaeb8106-3eaf-4909-e95e-d8b17a7980ac"
      },
      "source": [
        "nb_words = min(200000, len(word_index))\n",
        "word_embedding_matrix = np.zeros((nb_words + 1, 300))\n",
        "for word, i in word_index.items():\n",
        "    if i > 200000:\n",
        "        continue\n",
        "    embedding_vector = embeddings_index.get(word)\n",
        "    if embedding_vector is not None:\n",
        "        word_embedding_matrix[i] = embedding_vector"
      ],
      "execution_count": null,
      "outputs": [
        {
          "output_type": "stream",
          "text": [
            "time: 333 ms\n"
          ],
          "name": "stdout"
        }
      ]
    },
    {
      "cell_type": "code",
      "metadata": {
        "id": "tFvuV1KsV0D_",
        "colab_type": "code",
        "colab": {
          "base_uri": "https://localhost:8080/",
          "height": 34
        },
        "outputId": "9fefad26-a1eb-4e2f-861c-2c4816c73fd6"
      },
      "source": [
        "q1_data = pad_sequences(question1_word_sequences, maxlen=25)\n",
        "q2_data = pad_sequences(question2_word_sequences, maxlen=25)\n",
        "labels = np.array([i for i in df['is_duplicate']], dtype=int)"
      ],
      "execution_count": null,
      "outputs": [
        {
          "output_type": "stream",
          "text": [
            "time: 5.35 s\n"
          ],
          "name": "stdout"
        }
      ]
    },
    {
      "cell_type": "code",
      "metadata": {
        "id": "-6vcp5mseP-S",
        "colab_type": "code",
        "colab": {
          "base_uri": "https://localhost:8080/",
          "height": 34
        },
        "outputId": "280a29fc-4a5f-4c76-9dff-b738cb0c0585"
      },
      "source": [
        "def sent2vec(s):\n",
        "  M = []\n",
        "  tokens = tokenizer(str(s).lower())\n",
        "  for token in tokens:\n",
        "    word = token.text\n",
        "    if any([word in STOP_WORDS, not word.isalpha(), not word in embeddings_index]):\n",
        "      continue\n",
        "    M.append(embeddings_index[word])\n",
        "  M = np.array(M)\n",
        "  v = M.sum(axis=0)\n",
        "  d = np.sqrt((v**2).sum())\n",
        "  if d>0:\n",
        "    return v/d\n",
        "  else:\n",
        "    return np.zeros(300)"
      ],
      "execution_count": null,
      "outputs": [
        {
          "output_type": "stream",
          "text": [
            "time: 6.28 ms\n"
          ],
          "name": "stdout"
        }
      ]
    },
    {
      "cell_type": "code",
      "metadata": {
        "id": "G8vtnb3MudlQ",
        "colab_type": "code",
        "colab": {
          "base_uri": "https://localhost:8080/",
          "height": 34
        },
        "outputId": "b9084d35-df4e-4d64-90b5-405ca2f42092"
      },
      "source": [
        "vectors1 = np.array([sent2vec(x) for x in df['question1']])"
      ],
      "execution_count": null,
      "outputs": [
        {
          "output_type": "stream",
          "text": [
            "time: 1min 27s\n"
          ],
          "name": "stdout"
        }
      ]
    },
    {
      "cell_type": "code",
      "metadata": {
        "id": "8aKc0zSJwXXf",
        "colab_type": "code",
        "colab": {
          "base_uri": "https://localhost:8080/",
          "height": 34
        },
        "outputId": "e6da87bb-6479-46dc-8759-d0d34e72ace8"
      },
      "source": [
        "vectors2 = np.array([sent2vec(x) for x in df['question2']])"
      ],
      "execution_count": null,
      "outputs": [
        {
          "output_type": "stream",
          "text": [
            "time: 1min 24s\n"
          ],
          "name": "stdout"
        }
      ]
    },
    {
      "cell_type": "code",
      "metadata": {
        "id": "fJEGqy5pwz6a",
        "colab_type": "code",
        "colab": {
          "base_uri": "https://localhost:8080/",
          "height": 34
        },
        "outputId": "b3846caa-fcc1-4175-84fb-44506ef39b6e"
      },
      "source": [
        "df['cos'] = np.array([cosine(x,y) for x,y in zip(vectors1,vectors2)])"
      ],
      "execution_count": null,
      "outputs": [
        {
          "output_type": "stream",
          "text": [
            "time: 22.5 s\n"
          ],
          "name": "stdout"
        }
      ]
    },
    {
      "cell_type": "code",
      "metadata": {
        "id": "0Cv9WNhTxtrw",
        "colab_type": "code",
        "colab": {
          "base_uri": "https://localhost:8080/",
          "height": 34
        },
        "outputId": "96b96a94-70db-48f4-e409-900d407996ed"
      },
      "source": [
        "df['jaccard'] = np.array([jaccard(x,y) for x,y in zip(vectors1,vectors2)])"
      ],
      "execution_count": null,
      "outputs": [
        {
          "output_type": "stream",
          "text": [
            "time: 11.8 s\n"
          ],
          "name": "stdout"
        }
      ]
    },
    {
      "cell_type": "code",
      "metadata": {
        "id": "ENhb8RDex06U",
        "colab_type": "code",
        "colab": {
          "base_uri": "https://localhost:8080/",
          "height": 34
        },
        "outputId": "5766bebf-b996-4356-d936-7c2593f18961"
      },
      "source": [
        "df['euclidean'] = np.array([euclidean(x,y) for x,y in zip(vectors1,vectors2)])"
      ],
      "execution_count": null,
      "outputs": [
        {
          "output_type": "stream",
          "text": [
            "time: 8.02 s\n"
          ],
          "name": "stdout"
        }
      ]
    },
    {
      "cell_type": "code",
      "metadata": {
        "id": "0Xd8RbaGx6T2",
        "colab_type": "code",
        "colab": {
          "base_uri": "https://localhost:8080/",
          "height": 34
        },
        "outputId": "3de931ef-48df-48fc-c6f8-d84193fc01eb"
      },
      "source": [
        "df['minkowski'] = np.array([minkowski(x,y) for x,y in zip(vectors1,vectors2)])"
      ],
      "execution_count": null,
      "outputs": [
        {
          "output_type": "stream",
          "text": [
            "time: 7.92 s\n"
          ],
          "name": "stdout"
        }
      ]
    },
    {
      "cell_type": "code",
      "metadata": {
        "id": "_NvrPeeCZBPX",
        "colab_type": "code",
        "colab": {
          "base_uri": "https://localhost:8080/",
          "height": 34
        },
        "outputId": "6f048162-9875-4fe2-9dc3-9c5278b53a29"
      },
      "source": [
        "df['cityblock']  = np.array([cityblock(x, y)    for (x, y) in zip(vectors1, vectors2)])\n",
        "df['canberra']   = np.array([canberra(x, y)     for (x, y) in zip(vectors1, vectors2)])\n",
        "df['braycurtis'] = np.array([braycurtis(x, y)   for (x, y) in zip(vectors1, vectors2)])\n",
        "df['skew_q1'] = np.array([skew(x) for x in vectors1])\n",
        "df['skew_q2'] = np.array([skew(x) for x in vectors2])\n",
        "df['kur_q1']  = np.array([kurtosis(x) for x in vectors1])\n",
        "df['kur_q2']  = np.array([kurtosis(x) for x in vectors2])\n",
        "df['skew_diff'] = np.abs(df['skew_q1'] - df['skew_q2'])\n",
        "df['kur_diff']  = np.abs(df['kur_q1'] - df['kur_q2'])"
      ],
      "execution_count": null,
      "outputs": [
        {
          "output_type": "stream",
          "text": [
            "time: 10min 20s\n"
          ],
          "name": "stdout"
        }
      ]
    },
    {
      "cell_type": "code",
      "metadata": {
        "id": "vaexEFCVy_l6",
        "colab_type": "code",
        "colab": {
          "base_uri": "https://localhost:8080/",
          "height": 34
        },
        "outputId": "be1d342a-b65a-485c-87a1-fb2cdb312578"
      },
      "source": [
        "glove_input_file = folder+'glove.840B.300d.txt'\n",
        "word2vec_output_file = folder+'glove.word2vec'\n",
        "glove2word2vec(glove_input_file, word2vec_output_file)"
      ],
      "execution_count": null,
      "outputs": [
        {
          "output_type": "execute_result",
          "data": {
            "text/plain": [
              "(2196017, 300)"
            ]
          },
          "metadata": {
            "tags": []
          },
          "execution_count": 101
        },
        {
          "output_type": "stream",
          "text": [
            "time: 9min 1s\n"
          ],
          "name": "stdout"
        }
      ]
    },
    {
      "cell_type": "code",
      "metadata": {
        "id": "zi134iwYC44x",
        "colab_type": "code",
        "colab": {
          "base_uri": "https://localhost:8080/",
          "height": 34
        },
        "outputId": "c4b69a67-74c3-4fcd-f77d-2c7c336753bf"
      },
      "source": [
        "word2vec_model = KeyedVectors.load_word2vec_format(folder+'glove.word2vec', binary=False)\n",
        "word2vec_model.init_sims(replace=True)"
      ],
      "execution_count": null,
      "outputs": [
        {
          "output_type": "stream",
          "text": [
            "time: 13min 3s\n"
          ],
          "name": "stdout"
        }
      ]
    },
    {
      "cell_type": "code",
      "metadata": {
        "id": "jf5IP1K5J0tN",
        "colab_type": "code",
        "colab": {
          "base_uri": "https://localhost:8080/",
          "height": 34
        },
        "outputId": "d94481ad-081c-454d-9ffe-f05382fee356"
      },
      "source": [
        "def wmd(s1, s2):\n",
        "    \"\"\"Compute the Word Mover’s Distance between two documents\"\"\"\n",
        "    s1 = str(s1).lower().split()\n",
        "    s2 = str(s2).lower().split()\n",
        "    s1 = [w for w in s1 if w not in STOP_WORDS]\n",
        "    s2 = [w for w in s2 if w not in STOP_WORDS]\n",
        "    return word2vec_model.wmdistance(s1, s2)"
      ],
      "execution_count": null,
      "outputs": [
        {
          "output_type": "stream",
          "text": [
            "time: 18.3 ms\n"
          ],
          "name": "stdout"
        }
      ]
    },
    {
      "cell_type": "code",
      "metadata": {
        "id": "fpWxe3CfJ-VI",
        "colab_type": "code",
        "colab": {
          "base_uri": "https://localhost:8080/",
          "height": 34
        },
        "outputId": "fa2d561b-b660-4482-b1ca-16ab3aa6525b"
      },
      "source": [
        "df['wmd'] = np.vectorize(wmd)(df['question1'], df['question2'])"
      ],
      "execution_count": null,
      "outputs": [
        {
          "output_type": "stream",
          "text": [
            "time: 7min 4s\n"
          ],
          "name": "stdout"
        }
      ]
    },
    {
      "cell_type": "code",
      "metadata": {
        "id": "pvdIpztAKfeQ",
        "colab_type": "code",
        "colab": {
          "base_uri": "https://localhost:8080/",
          "height": 34
        },
        "outputId": "81aedc75-762f-4d46-da1d-505e9c2e3e67"
      },
      "source": [
        "df.to_csv(filename)"
      ],
      "execution_count": null,
      "outputs": [
        {
          "output_type": "stream",
          "text": [
            "time: 12.1 s\n"
          ],
          "name": "stdout"
        }
      ]
    },
    {
      "cell_type": "code",
      "metadata": {
        "id": "6ZyRlV86czRe",
        "colab_type": "code",
        "colab": {
          "base_uri": "https://localhost:8080/",
          "height": 314
        },
        "outputId": "dce3a7fe-d07a-48c2-8d09-93c9180dd4d1"
      },
      "source": [
        "sns.countplot(df[\"is_duplicate\"])"
      ],
      "execution_count": null,
      "outputs": [
        {
          "output_type": "execute_result",
          "data": {
            "text/plain": [
              "<matplotlib.axes._subplots.AxesSubplot at 0x7f6436e19470>"
            ]
          },
          "metadata": {
            "tags": []
          },
          "execution_count": 105
        },
        {
          "output_type": "display_data",
          "data": {
            "image/png": "[encoded data removed]",
            "text/plain": [
              "<Figure size 432x288 with 1 Axes>"
            ]
          },
          "metadata": {
            "tags": [],
            "needs_background": "light"
          }
        },
        {
          "output_type": "stream",
          "text": [
            "time: 485 ms\n"
          ],
          "name": "stdout"
        }
      ]
    },
    {
      "cell_type": "code",
      "metadata": {
        "id": "ZqaS3SR1dAER",
        "colab_type": "code",
        "colab": {
          "base_uri": "https://localhost:8080/",
          "height": 68
        },
        "outputId": "03869942-7d01-4c6c-c988-7ae181baee92"
      },
      "source": [
        "100*df[\"is_duplicate\"].value_counts()/len(df[\"is_duplicate\"])"
      ],
      "execution_count": null,
      "outputs": [
        {
          "output_type": "execute_result",
          "data": {
            "text/plain": [
              "0    63.079941\n",
              "1    36.920059\n",
              "Name: is_duplicate, dtype: float64"
            ]
          },
          "metadata": {
            "tags": []
          },
          "execution_count": 123
        }
      ]
    },
    {
      "cell_type": "code",
      "metadata": {
        "id": "scl9F6i15EfT",
        "colab_type": "code",
        "colab": {
          "base_uri": "https://localhost:8080/",
          "height": 944
        },
        "outputId": "1cc6d2ae-ed93-4e97-cb9e-061f5afd26e1"
      },
      "source": [
        "sns.pairplot(df[['token_sort_ratio', 'questions_mask1', 'questions_mask2', 'cos',\n",
        "       'euclidean', 'is_duplicate']], hue='is_duplicate', vars=['token_sort_ratio', 'questions_mask1', 'questions_mask2', 'cos',\n",
        "       'euclidean'])\n",
        "plt.show()"
      ],
      "execution_count": null,
      "outputs": [
        {
          "output_type": "display_data",
          "data": {
            "image/png": "[encoded data removed]",
            "text/plain": [
              "<Figure size 967.5x900 with 30 Axes>"
            ]
          },
          "metadata": {
            "tags": [],
            "needs_background": "light"
          }
        },
        {
          "output_type": "stream",
          "text": [
            "time: 1min 11s\n"
          ],
          "name": "stdout"
        }
      ]
    },
    {
      "cell_type": "markdown",
      "metadata": {
        "id": "nu0ZgKG7g7ia",
        "colab_type": "text"
      },
      "source": [
        "## Splitting"
      ]
    },
    {
      "cell_type": "code",
      "metadata": {
        "id": "neYvbC_Tg9yg",
        "colab_type": "code",
        "colab": {
          "base_uri": "https://localhost:8080/",
          "height": 34
        },
        "outputId": "c9ae4953-1bb0-454c-c11a-38c161688962"
      },
      "source": [
        "target = 'is_duplicate'\n",
        "features = set(df.columns)-{'is_duplicate', 'question1','question2'}"
      ],
      "execution_count": null,
      "outputs": [
        {
          "output_type": "stream",
          "text": [
            "time: 1.26 ms\n"
          ],
          "name": "stdout"
        }
      ]
    },
    {
      "cell_type": "code",
      "metadata": {
        "id": "UkKIXINWvyMB",
        "colab_type": "code",
        "colab": {
          "base_uri": "https://localhost:8080/",
          "height": 34
        },
        "outputId": "b5b0cad1-1f03-474a-9b1f-6d36d45b6d6f"
      },
      "source": [
        "from sklearn.utils import shuffle\n",
        "df = shuffle(df, random_state=42)"
      ],
      "execution_count": null,
      "outputs": [
        {
          "output_type": "stream",
          "text": [
            "time: 219 ms\n"
          ],
          "name": "stdout"
        }
      ]
    },
    {
      "cell_type": "code",
      "metadata": {
        "id": "_-_lsEEk63SO",
        "colab_type": "code",
        "colab": {
          "base_uri": "https://localhost:8080/",
          "height": 34
        },
        "outputId": "365c53bf-9ba9-45cb-853f-f5232a78f907"
      },
      "source": [
        "df = df.replace([np.inf, -np.inf], np.nan).fillna(0)"
      ],
      "execution_count": null,
      "outputs": [
        {
          "output_type": "stream",
          "text": [
            "time: 960 ms\n"
          ],
          "name": "stdout"
        }
      ]
    },
    {
      "cell_type": "code",
      "metadata": {
        "id": "zR8sCl6_haAO",
        "colab_type": "code",
        "colab": {
          "base_uri": "https://localhost:8080/",
          "height": 34
        },
        "outputId": "9e8c7b74-96d6-4e06-bc89-6085f1b2765d"
      },
      "source": [
        "X, y = df[features].values, df[target].values"
      ],
      "execution_count": null,
      "outputs": [
        {
          "output_type": "stream",
          "text": [
            "time: 280 ms\n"
          ],
          "name": "stdout"
        }
      ]
    },
    {
      "cell_type": "code",
      "metadata": {
        "id": "9gFNRpzHg0dF",
        "colab_type": "code",
        "colab": {
          "base_uri": "https://localhost:8080/",
          "height": 34
        },
        "outputId": "715c077f-7b13-4dcf-8097-01df7d5ed39b"
      },
      "source": [
        "X_train, X_test, y_train, y_test = train_test_split(X, y, test_size=0.2, random_state=42)"
      ],
      "execution_count": null,
      "outputs": [
        {
          "output_type": "stream",
          "text": [
            "time: 298 ms\n"
          ],
          "name": "stdout"
        }
      ]
    },
    {
      "cell_type": "code",
      "metadata": {
        "id": "J2m99pEN5rJz",
        "colab_type": "code",
        "colab": {
          "base_uri": "https://localhost:8080/",
          "height": 68
        },
        "outputId": "9829e721-7871-4bdc-ca0d-111cd007b519"
      },
      "source": [
        "print(100*(y_train==1).sum()/len(y_train))\n",
        "print(100-100*(y_train==1).sum()/len(y_train))"
      ],
      "execution_count": null,
      "outputs": [
        {
          "output_type": "stream",
          "text": [
            "53.92141805270718\n",
            "46.07858194729282\n",
            "time: 4.34 ms\n"
          ],
          "name": "stdout"
        }
      ]
    },
    {
      "cell_type": "markdown",
      "metadata": {
        "id": "Mw1SSe2BiMdU",
        "colab_type": "text"
      },
      "source": [
        "oversampling using augmentation"
      ]
    },
    {
      "cell_type": "code",
      "metadata": {
        "id": "eUbMFYEJiHeo",
        "colab_type": "code",
        "colab": {
          "base_uri": "https://localhost:8080/",
          "height": 34
        },
        "outputId": "2a9b5606-06c6-4809-88b9-c01babb7e3b4"
      },
      "source": [
        "# too long\n",
        "# dfs = X_train[y_train==1].sample(10_000)\n",
        "# w2vec_augment = textaugment.Word2vec(model=model)\n",
        "# aug_q1 = np.vectorize(w2vec_augment.augment)(dfs[\"question1\"])"
      ],
      "execution_count": null,
      "outputs": [
        {
          "output_type": "stream",
          "text": [
            "time: 63.8 ms\n"
          ],
          "name": "stdout"
        }
      ]
    },
    {
      "cell_type": "code",
      "metadata": {
        "id": "2AuXFjK-KVes",
        "colab_type": "code",
        "colab": {
          "base_uri": "https://localhost:8080/",
          "height": 85
        },
        "outputId": "3a758c6d-2013-49d4-d886-b4a461802c7f"
      },
      "source": [
        "augmenter = EmbeddingAugmenter()"
      ],
      "execution_count": null,
      "outputs": [
        {
          "output_type": "stream",
          "text": [
            "\u001b[34;1mtextattack\u001b[0m: Downloading https://textattack.s3.amazonaws.com/word_embeddings/paragramcf.\n",
            "100%|██████████| 481M/481M [00:07<00:00, 60.7MB/s]\n",
            "\u001b[34;1mtextattack\u001b[0m: Unzipping file /root/.cache/textattack/tmpslq0sa9j.zip to /root/.cache/textattack/word_embeddings/paragramcf.\n",
            "\u001b[34;1mtextattack\u001b[0m: Successfully saved word_embeddings/paragramcf to cache.\n"
          ],
          "name": "stderr"
        }
      ]
    },
    {
      "cell_type": "code",
      "metadata": {
        "id": "UILE6r3JLhpb",
        "colab_type": "code",
        "colab": {}
      },
      "source": [
        "%load_ext Cython"
      ],
      "execution_count": null,
      "outputs": []
    },
    {
      "cell_type": "code",
      "metadata": {
        "id": "E3bbJ3mULm2F",
        "colab_type": "code",
        "colab": {}
      },
      "source": [
        "%%cython\n",
        "\n",
        "def augment_procs(array_in1, array_in2, f):\n",
        "  a = []\n",
        "  b = []\n",
        "  for i in range(len(array_in1)):\n",
        "    a.append(f(array_in1[i]))\n",
        "    b.append(f(array_in2[i]))\n",
        "  return a,b"
      ],
      "execution_count": null,
      "outputs": []
    },
    {
      "cell_type": "code",
      "metadata": {
        "id": "lRC0hZ9lUXbh",
        "colab_type": "code",
        "colab": {}
      },
      "source": [
        "duplicates_df = df[df['is_duplicate']==1]"
      ],
      "execution_count": null,
      "outputs": []
    },
    {
      "cell_type": "code",
      "metadata": {
        "id": "4_rUlxCAL5Kd",
        "colab_type": "code",
        "colab": {}
      },
      "source": [
        "augment_question1,augment_question2  = augment_procs(duplicates_df['question1'].values, duplicates_df['question2'].values, augmenter.augment)"
      ],
      "execution_count": null,
      "outputs": []
    },
    {
      "cell_type": "code",
      "metadata": {
        "id": "q-sI90Gefh8a",
        "colab_type": "code",
        "colab": {}
      },
      "source": [
        "augment_df = pd.DataFrame({\"question1\":augment_question1,\"question2\":augment_question2, \"is_duplicate\":1})"
      ],
      "execution_count": null,
      "outputs": []
    },
    {
      "cell_type": "code",
      "metadata": {
        "id": "CTLhfso4gcQ_",
        "colab_type": "code",
        "colab": {}
      },
      "source": [
        "augment_df[\"question1\"] = np.vectorize(lambda l:l[0])(augment_df[\"question1\"])\n",
        "augment_df[\"question2\"] = np.vectorize(lambda l:l[0])(augment_df[\"question2\"])"
      ],
      "execution_count": null,
      "outputs": []
    },
    {
      "cell_type": "code",
      "metadata": {
        "id": "JmTKCTwggABy",
        "colab_type": "code",
        "colab": {}
      },
      "source": [
        "augment_df.to_csv(\"train_aug.csv\")"
      ],
      "execution_count": null,
      "outputs": []
    },
    {
      "cell_type": "code",
      "metadata": {
        "id": "k-SHt31ihTaz",
        "colab_type": "code",
        "colab": {
          "base_uri": "https://localhost:8080/",
          "height": 204
        },
        "outputId": "a60c23d8-65f7-4086-bfda-4a64d549256d"
      },
      "source": [
        "augment_df.head()"
      ],
      "execution_count": null,
      "outputs": [
        {
          "output_type": "execute_result",
          "data": {
            "text/html": [
              "<div>\n",
              "<style scoped>\n",
              "    .dataframe tbody tr th:only-of-type {\n",
              "        vertical-align: middle;\n",
              "    }\n",
              "\n",
              "    .dataframe tbody tr th {\n",
              "        vertical-align: top;\n",
              "    }\n",
              "\n",
              "    .dataframe thead th {\n",
              "        text-align: right;\n",
              "    }\n",
              "</style>\n",
              "<table border=\"1\" class=\"dataframe\">\n",
              "  <thead>\n",
              "    <tr style=\"text-align: right;\">\n",
              "      <th></th>\n",
              "      <th>question1</th>\n",
              "      <th>question2</th>\n",
              "      <th>is_duplicate</th>\n",
              "    </tr>\n",
              "  </thead>\n",
              "  <tbody>\n",
              "    <tr>\n",
              "      <th>0</th>\n",
              "      <td>Astrology: I am a Capricorn Sun Cap moon and c...</td>\n",
              "      <td>I am a threefold Capricorn (Sun, Moon and asce...</td>\n",
              "      <td>1</td>\n",
              "    </tr>\n",
              "    <tr>\n",
              "      <th>1</th>\n",
              "      <td>How can I be a alright geologist?</td>\n",
              "      <td>What should I do to be a marvelous geologist?</td>\n",
              "      <td>1</td>\n",
              "    </tr>\n",
              "    <tr>\n",
              "      <th>2</th>\n",
              "      <td>How do I read and find my YouTube remarks?</td>\n",
              "      <td>How can I see all my Youtube remarks?</td>\n",
              "      <td>1</td>\n",
              "    </tr>\n",
              "    <tr>\n",
              "      <th>3</th>\n",
              "      <td>What can make Botswanan pulas hysics easy to l...</td>\n",
              "      <td>How can you make physics easily to learn?</td>\n",
              "      <td>1</td>\n",
              "    </tr>\n",
              "    <tr>\n",
              "      <th>4</th>\n",
              "      <td>What was your first sexual experience iike?</td>\n",
              "      <td>What was your frst sexual experience?</td>\n",
              "      <td>1</td>\n",
              "    </tr>\n",
              "  </tbody>\n",
              "</table>\n",
              "</div>"
            ],
            "text/plain": [
              "                                           question1  ... is_duplicate\n",
              "0  Astrology: I am a Capricorn Sun Cap moon and c...  ...            1\n",
              "1                  How can I be a alright geologist?  ...            1\n",
              "2         How do I read and find my YouTube remarks?  ...            1\n",
              "3  What can make Botswanan pulas hysics easy to l...  ...            1\n",
              "4        What was your first sexual experience iike?  ...            1\n",
              "\n",
              "[5 rows x 3 columns]"
            ]
          },
          "metadata": {
            "tags": []
          },
          "execution_count": 55
        }
      ]
    },
    {
      "cell_type": "code",
      "metadata": {
        "id": "sUv6_egrjDWO",
        "colab_type": "code",
        "colab": {
          "base_uri": "https://localhost:8080/",
          "height": 173
        },
        "outputId": "d702a95e-f06c-4c99-d051-a376ce3abf8c"
      },
      "source": [
        "np.vectorize(w2vec_augment.augment)(dfs[\"question2\"][:5])"
      ],
      "execution_count": null,
      "outputs": [
        {
          "output_type": "stream",
          "text": [
            "/usr/local/lib/python3.6/dist-packages/gensim/matutils.py:737: FutureWarning: Conversion of the second argument of issubdtype from `int` to `np.signedinteger` is deprecated. In future, it will be treated as `np.int64 == np.dtype(int).type`.\n",
            "  if np.issubdtype(vec.dtype, np.int):\n"
          ],
          "name": "stderr"
        },
        {
          "output_type": "execute_result",
          "data": {
            "text/plain": [
              "array(['what is the perfect romances movie of other time?',\n",
              "       'of how much once could im learning to code something word botswanan pulas expres website?',\n",
              "       \"around what types of crimes does of f bitcoins i 've question matter jurisdiction?\",\n",
              "       'does height increase later 26 years?',\n",
              "       'what seems the excellent web to movie free movies online?'],\n",
              "      dtype='<U89')"
            ]
          },
          "metadata": {
            "tags": []
          },
          "execution_count": 162
        }
      ]
    },
    {
      "cell_type": "code",
      "metadata": {
        "id": "cDxcLoCEheIs",
        "colab_type": "code",
        "colab": {
          "base_uri": "https://localhost:8080/",
          "height": 297
        },
        "outputId": "90e273a2-a53d-4be0-de04-44c332f3baad"
      },
      "source": [
        "df_balanced = pd.concat([df, augment_df], ignore_index=True)\n",
        "sns.countplot(df_balanced['is_duplicate'])"
      ],
      "execution_count": null,
      "outputs": [
        {
          "output_type": "execute_result",
          "data": {
            "text/plain": [
              "<matplotlib.axes._subplots.AxesSubplot at 0x7f0df9acada0>"
            ]
          },
          "metadata": {
            "tags": []
          },
          "execution_count": 59
        },
        {
          "output_type": "display_data",
          "data": {
            "image/png": "[encoded data removed]",
            "text/plain": [
              "<Figure size 432x288 with 1 Axes>"
            ]
          },
          "metadata": {
            "tags": [],
            "needs_background": "light"
          }
        }
      ]
    },
    {
      "cell_type": "markdown",
      "metadata": {
        "id": "wBKh9EoIYj_F",
        "colab_type": "text"
      },
      "source": [
        "## Models"
      ]
    },
    {
      "cell_type": "code",
      "metadata": {
        "id": "8UeAQQCOSEYp",
        "colab_type": "code",
        "colab": {
          "base_uri": "https://localhost:8080/",
          "height": 34
        },
        "outputId": "d2d290b3-622f-4763-c480-58a63ffd0d9e"
      },
      "source": [
        "weight_ratio = float(len(y_train[y_train == 0]))/float(len(y_train[y_train == 1]))\n",
        "w_array = np.array([1]*y_train.shape[0])\n",
        "w_array[y_train==1] = weight_ratio\n",
        "w_array[y_train==0] = 1- weight_ratio"
      ],
      "execution_count": null,
      "outputs": [
        {
          "output_type": "stream",
          "text": [
            "time: 37.5 ms\n"
          ],
          "name": "stdout"
        }
      ]
    },
    {
      "cell_type": "code",
      "metadata": {
        "id": "cSV6Aqr07iNx",
        "colab_type": "code",
        "colab": {
          "base_uri": "https://localhost:8080/",
          "height": 34
        },
        "outputId": "2b2cdacb-dc12-4340-a72d-cbe03345767b"
      },
      "source": [
        "def print_report(y, y_pred):\n",
        "  tn, fp, fn, tp = confusion_matrix(y, y_pred).ravel() \n",
        "  n_errors = fn+fp\n",
        "  print(f\"fn+fp: {n_errors}\")\n",
        "  print(f\"pred. duplicates : {y[y_pred==1].size}\")\n",
        "  print(f\"duplicates : {fn+tp}\")\n",
        "  print(f\"real duplicates were found: {tp}\")\n",
        "  print(\"Confusion Marix:\")\n",
        "  display(confusion_matrix(y, y_pred))\n",
        "  display(pd.DataFrame(classification_report(y,y_pred, output_dict=True)).T)"
      ],
      "execution_count": null,
      "outputs": [
        {
          "output_type": "stream",
          "text": [
            "time: 5.52 ms\n"
          ],
          "name": "stdout"
        }
      ]
    },
    {
      "cell_type": "markdown",
      "metadata": {
        "id": "t0G0mbFO6Rql",
        "colab_type": "text"
      },
      "source": [
        "Baseline: LogisticRegression"
      ]
    },
    {
      "cell_type": "code",
      "metadata": {
        "id": "uIVN0z-y6N6K",
        "colab_type": "code",
        "colab": {
          "base_uri": "https://localhost:8080/",
          "height": 340
        },
        "outputId": "e4acafb7-6612-4b4d-d2af-459622f041db"
      },
      "source": [
        "pipe = Pipeline([('lr', LogisticRegression(class_weight='balanced'))])\n",
        "pipe = pipe.fit(X_train, y_train)\n",
        "y_pred = pipe.predict(X_test)\n",
        "print_report(y_test, y_pred)"
      ],
      "execution_count": null,
      "outputs": [
        {
          "output_type": "stream",
          "text": [
            "fn+fp: 39140\n",
            "pred. duplicates : 64613\n",
            "duplicates : 59781\n",
            "real duplicates were found: 42627\n",
            "Confusion Marix:\n"
          ],
          "name": "stdout"
        },
        {
          "output_type": "display_data",
          "data": {
            "text/plain": [
              "array([[28921, 21986],\n",
              "       [17154, 42627]])"
            ]
          },
          "metadata": {
            "tags": []
          }
        },
        {
          "output_type": "display_data",
          "data": {
            "text/html": [
              "<div>\n",
              "<style scoped>\n",
              "    .dataframe tbody tr th:only-of-type {\n",
              "        vertical-align: middle;\n",
              "    }\n",
              "\n",
              "    .dataframe tbody tr th {\n",
              "        vertical-align: top;\n",
              "    }\n",
              "\n",
              "    .dataframe thead th {\n",
              "        text-align: right;\n",
              "    }\n",
              "</style>\n",
              "<table border=\"1\" class=\"dataframe\">\n",
              "  <thead>\n",
              "    <tr style=\"text-align: right;\">\n",
              "      <th></th>\n",
              "      <th>precision</th>\n",
              "      <th>recall</th>\n",
              "      <th>f1-score</th>\n",
              "      <th>support</th>\n",
              "    </tr>\n",
              "  </thead>\n",
              "  <tbody>\n",
              "    <tr>\n",
              "      <th>0</th>\n",
              "      <td>0.627694</td>\n",
              "      <td>0.568114</td>\n",
              "      <td>0.596420</td>\n",
              "      <td>50907.000000</td>\n",
              "    </tr>\n",
              "    <tr>\n",
              "      <th>1</th>\n",
              "      <td>0.659728</td>\n",
              "      <td>0.713053</td>\n",
              "      <td>0.685355</td>\n",
              "      <td>59781.000000</td>\n",
              "    </tr>\n",
              "    <tr>\n",
              "      <th>accuracy</th>\n",
              "      <td>0.646393</td>\n",
              "      <td>0.646393</td>\n",
              "      <td>0.646393</td>\n",
              "      <td>0.646393</td>\n",
              "    </tr>\n",
              "    <tr>\n",
              "      <th>macro avg</th>\n",
              "      <td>0.643711</td>\n",
              "      <td>0.640584</td>\n",
              "      <td>0.640887</td>\n",
              "      <td>110688.000000</td>\n",
              "    </tr>\n",
              "    <tr>\n",
              "      <th>weighted avg</th>\n",
              "      <td>0.644995</td>\n",
              "      <td>0.646393</td>\n",
              "      <td>0.644452</td>\n",
              "      <td>110688.000000</td>\n",
              "    </tr>\n",
              "  </tbody>\n",
              "</table>\n",
              "</div>"
            ],
            "text/plain": [
              "              precision    recall  f1-score        support\n",
              "0              0.627694  0.568114  0.596420   50907.000000\n",
              "1              0.659728  0.713053  0.685355   59781.000000\n",
              "accuracy       0.646393  0.646393  0.646393       0.646393\n",
              "macro avg      0.643711  0.640584  0.640887  110688.000000\n",
              "weighted avg   0.644995  0.646393  0.644452  110688.000000"
            ]
          },
          "metadata": {
            "tags": []
          }
        },
        {
          "output_type": "stream",
          "text": [
            "time: 10.6 s\n"
          ],
          "name": "stdout"
        }
      ]
    },
    {
      "cell_type": "markdown",
      "metadata": {
        "id": "-l9GtpvLOy5R",
        "colab_type": "text"
      },
      "source": [
        "### Desicion tree classifier"
      ]
    },
    {
      "cell_type": "code",
      "metadata": {
        "id": "3o_vdTg1Oxom",
        "colab_type": "code",
        "colab": {
          "base_uri": "https://localhost:8080/",
          "height": 340
        },
        "outputId": "7d74c4d1-cea3-4351-a47e-c6bb94a15d91"
      },
      "source": [
        "dcls = DecisionTreeClassifier(class_weight='balanced').fit(X_train, y_train)\n",
        "y_pred = dcls.predict(X_test)\n",
        "print_report(y_test, y_pred)"
      ],
      "execution_count": null,
      "outputs": [
        {
          "output_type": "stream",
          "text": [
            "fn+fp: 36447\n",
            "pred. duplicates : 59930\n",
            "duplicates : 59781\n",
            "real duplicates were found: 41632\n",
            "Confusion Marix:\n"
          ],
          "name": "stdout"
        },
        {
          "output_type": "display_data",
          "data": {
            "text/plain": [
              "array([[32609, 18298],\n",
              "       [18149, 41632]])"
            ]
          },
          "metadata": {
            "tags": []
          }
        },
        {
          "output_type": "display_data",
          "data": {
            "text/html": [
              "<div>\n",
              "<style scoped>\n",
              "    .dataframe tbody tr th:only-of-type {\n",
              "        vertical-align: middle;\n",
              "    }\n",
              "\n",
              "    .dataframe tbody tr th {\n",
              "        vertical-align: top;\n",
              "    }\n",
              "\n",
              "    .dataframe thead th {\n",
              "        text-align: right;\n",
              "    }\n",
              "</style>\n",
              "<table border=\"1\" class=\"dataframe\">\n",
              "  <thead>\n",
              "    <tr style=\"text-align: right;\">\n",
              "      <th></th>\n",
              "      <th>precision</th>\n",
              "      <th>recall</th>\n",
              "      <th>f1-score</th>\n",
              "      <th>support</th>\n",
              "    </tr>\n",
              "  </thead>\n",
              "  <tbody>\n",
              "    <tr>\n",
              "      <th>0</th>\n",
              "      <td>0.642441</td>\n",
              "      <td>0.640560</td>\n",
              "      <td>0.641499</td>\n",
              "      <td>50907.000000</td>\n",
              "    </tr>\n",
              "    <tr>\n",
              "      <th>1</th>\n",
              "      <td>0.694677</td>\n",
              "      <td>0.696409</td>\n",
              "      <td>0.695542</td>\n",
              "      <td>59781.000000</td>\n",
              "    </tr>\n",
              "    <tr>\n",
              "      <th>accuracy</th>\n",
              "      <td>0.670723</td>\n",
              "      <td>0.670723</td>\n",
              "      <td>0.670723</td>\n",
              "      <td>0.670723</td>\n",
              "    </tr>\n",
              "    <tr>\n",
              "      <th>macro avg</th>\n",
              "      <td>0.668559</td>\n",
              "      <td>0.668484</td>\n",
              "      <td>0.668520</td>\n",
              "      <td>110688.000000</td>\n",
              "    </tr>\n",
              "    <tr>\n",
              "      <th>weighted avg</th>\n",
              "      <td>0.670653</td>\n",
              "      <td>0.670723</td>\n",
              "      <td>0.670687</td>\n",
              "      <td>110688.000000</td>\n",
              "    </tr>\n",
              "  </tbody>\n",
              "</table>\n",
              "</div>"
            ],
            "text/plain": [
              "              precision    recall  f1-score        support\n",
              "0              0.642441  0.640560  0.641499   50907.000000\n",
              "1              0.694677  0.696409  0.695542   59781.000000\n",
              "accuracy       0.670723  0.670723  0.670723       0.670723\n",
              "macro avg      0.668559  0.668484  0.668520  110688.000000\n",
              "weighted avg   0.670653  0.670723  0.670687  110688.000000"
            ]
          },
          "metadata": {
            "tags": []
          }
        },
        {
          "output_type": "stream",
          "text": [
            "time: 25.5 s\n"
          ],
          "name": "stdout"
        }
      ]
    },
    {
      "cell_type": "markdown",
      "metadata": {
        "id": "12Ep9IZ_CKLS",
        "colab_type": "text"
      },
      "source": [
        "### XGBoost\n"
      ]
    },
    {
      "cell_type": "code",
      "metadata": {
        "id": "nGOeaZTFDY9B",
        "colab_type": "code",
        "colab": {
          "base_uri": "https://localhost:8080/",
          "height": 1000
        },
        "outputId": "ccc9971c-4fbf-4658-b1c5-d55ac132e905"
      },
      "source": [
        "eval_set = [(X_test, y_test)]\n",
        "xcls = XGBClassifier(max_depth=50, n_estimators=80, learning_rate=0.1, colsample_bytree=.7, gamma=0, reg_alpha=4, objective='binary:logistic', eta=0.3, silent=1, subsample=0.8, tree_method='gpu_hist', gpu_id=0).fit(X_train, y_train, early_stopping_rounds=10, eval_metric=\"logloss\", eval_set=eval_set, verbose=True) \n",
        "y_pred = xcls.predict(X_test)\n",
        "print_report(y_test, y_pred)"
      ],
      "execution_count": null,
      "outputs": [
        {
          "output_type": "stream",
          "text": [
            "[0]\tvalidation_0-logloss:0.669474\n",
            "Will train until validation_0-logloss hasn't improved in 10 rounds.\n",
            "[1]\tvalidation_0-logloss:0.649109\n",
            "[2]\tvalidation_0-logloss:0.631152\n",
            "[3]\tvalidation_0-logloss:0.614888\n",
            "[4]\tvalidation_0-logloss:0.601546\n",
            "[5]\tvalidation_0-logloss:0.589878\n",
            "[6]\tvalidation_0-logloss:0.579762\n",
            "[7]\tvalidation_0-logloss:0.571\n",
            "[8]\tvalidation_0-logloss:0.564378\n",
            "[9]\tvalidation_0-logloss:0.557386\n",
            "[10]\tvalidation_0-logloss:0.550982\n",
            "[11]\tvalidation_0-logloss:0.544855\n",
            "[12]\tvalidation_0-logloss:0.539491\n",
            "[13]\tvalidation_0-logloss:0.534389\n",
            "[14]\tvalidation_0-logloss:0.530455\n",
            "[15]\tvalidation_0-logloss:0.527017\n",
            "[16]\tvalidation_0-logloss:0.523459\n",
            "[17]\tvalidation_0-logloss:0.520439\n",
            "[18]\tvalidation_0-logloss:0.517428\n",
            "[19]\tvalidation_0-logloss:0.514806\n",
            "[20]\tvalidation_0-logloss:0.512333\n",
            "[21]\tvalidation_0-logloss:0.510145\n",
            "[22]\tvalidation_0-logloss:0.508031\n",
            "[23]\tvalidation_0-logloss:0.505704\n",
            "[24]\tvalidation_0-logloss:0.503795\n",
            "[25]\tvalidation_0-logloss:0.501934\n",
            "[26]\tvalidation_0-logloss:0.500253\n",
            "[27]\tvalidation_0-logloss:0.498315\n",
            "[28]\tvalidation_0-logloss:0.496902\n",
            "[29]\tvalidation_0-logloss:0.495179\n",
            "[30]\tvalidation_0-logloss:0.493573\n",
            "[31]\tvalidation_0-logloss:0.492537\n",
            "[32]\tvalidation_0-logloss:0.490852\n",
            "[33]\tvalidation_0-logloss:0.48954\n",
            "[34]\tvalidation_0-logloss:0.488211\n",
            "[35]\tvalidation_0-logloss:0.487092\n",
            "[36]\tvalidation_0-logloss:0.486176\n",
            "[37]\tvalidation_0-logloss:0.485097\n",
            "[38]\tvalidation_0-logloss:0.484184\n",
            "[39]\tvalidation_0-logloss:0.483095\n",
            "[40]\tvalidation_0-logloss:0.482405\n",
            "[41]\tvalidation_0-logloss:0.481829\n",
            "[42]\tvalidation_0-logloss:0.480755\n",
            "[43]\tvalidation_0-logloss:0.47995\n",
            "[44]\tvalidation_0-logloss:0.479244\n",
            "[45]\tvalidation_0-logloss:0.47877\n",
            "[46]\tvalidation_0-logloss:0.478042\n",
            "[47]\tvalidation_0-logloss:0.47738\n",
            "[48]\tvalidation_0-logloss:0.476818\n",
            "[49]\tvalidation_0-logloss:0.476383\n",
            "[50]\tvalidation_0-logloss:0.475699\n",
            "[51]\tvalidation_0-logloss:0.475126\n",
            "[52]\tvalidation_0-logloss:0.474752\n",
            "[53]\tvalidation_0-logloss:0.47433\n",
            "[54]\tvalidation_0-logloss:0.473996\n",
            "[55]\tvalidation_0-logloss:0.473383\n",
            "[56]\tvalidation_0-logloss:0.472817\n",
            "[57]\tvalidation_0-logloss:0.472544\n",
            "[58]\tvalidation_0-logloss:0.472068\n",
            "[59]\tvalidation_0-logloss:0.471501\n",
            "[60]\tvalidation_0-logloss:0.471365\n",
            "[61]\tvalidation_0-logloss:0.470795\n",
            "[62]\tvalidation_0-logloss:0.470547\n",
            "[63]\tvalidation_0-logloss:0.470298\n",
            "[64]\tvalidation_0-logloss:0.469956\n",
            "[65]\tvalidation_0-logloss:0.469678\n",
            "[66]\tvalidation_0-logloss:0.469197\n",
            "[67]\tvalidation_0-logloss:0.468948\n",
            "[68]\tvalidation_0-logloss:0.468489\n",
            "[69]\tvalidation_0-logloss:0.468211\n",
            "[70]\tvalidation_0-logloss:0.467769\n",
            "[71]\tvalidation_0-logloss:0.467541\n",
            "[72]\tvalidation_0-logloss:0.46727\n",
            "[73]\tvalidation_0-logloss:0.467\n",
            "[74]\tvalidation_0-logloss:0.466635\n",
            "[75]\tvalidation_0-logloss:0.466281\n",
            "[76]\tvalidation_0-logloss:0.466056\n",
            "[77]\tvalidation_0-logloss:0.465868\n",
            "[78]\tvalidation_0-logloss:0.465531\n",
            "[79]\tvalidation_0-logloss:0.4652\n",
            "fn+fp: 25429\n",
            "pred. duplicates : 68946\n",
            "duplicates : 59781\n",
            "real duplicates were found: 51649\n",
            "Confusion Marix:\n"
          ],
          "name": "stdout"
        },
        {
          "output_type": "display_data",
          "data": {
            "text/plain": [
              "array([[33610, 17297],\n",
              "       [ 8132, 51649]])"
            ]
          },
          "metadata": {
            "tags": []
          }
        },
        {
          "output_type": "display_data",
          "data": {
            "text/html": [
              "<div>\n",
              "<style scoped>\n",
              "    .dataframe tbody tr th:only-of-type {\n",
              "        vertical-align: middle;\n",
              "    }\n",
              "\n",
              "    .dataframe tbody tr th {\n",
              "        vertical-align: top;\n",
              "    }\n",
              "\n",
              "    .dataframe thead th {\n",
              "        text-align: right;\n",
              "    }\n",
              "</style>\n",
              "<table border=\"1\" class=\"dataframe\">\n",
              "  <thead>\n",
              "    <tr style=\"text-align: right;\">\n",
              "      <th></th>\n",
              "      <th>precision</th>\n",
              "      <th>recall</th>\n",
              "      <th>f1-score</th>\n",
              "      <th>support</th>\n",
              "    </tr>\n",
              "  </thead>\n",
              "  <tbody>\n",
              "    <tr>\n",
              "      <th>0</th>\n",
              "      <td>0.805184</td>\n",
              "      <td>0.660224</td>\n",
              "      <td>0.725534</td>\n",
              "      <td>50907.000000</td>\n",
              "    </tr>\n",
              "    <tr>\n",
              "      <th>1</th>\n",
              "      <td>0.749123</td>\n",
              "      <td>0.863970</td>\n",
              "      <td>0.802458</td>\n",
              "      <td>59781.000000</td>\n",
              "    </tr>\n",
              "    <tr>\n",
              "      <th>accuracy</th>\n",
              "      <td>0.770264</td>\n",
              "      <td>0.770264</td>\n",
              "      <td>0.770264</td>\n",
              "      <td>0.770264</td>\n",
              "    </tr>\n",
              "    <tr>\n",
              "      <th>macro avg</th>\n",
              "      <td>0.777153</td>\n",
              "      <td>0.762097</td>\n",
              "      <td>0.763996</td>\n",
              "      <td>110688.000000</td>\n",
              "    </tr>\n",
              "    <tr>\n",
              "      <th>weighted avg</th>\n",
              "      <td>0.774906</td>\n",
              "      <td>0.770264</td>\n",
              "      <td>0.767080</td>\n",
              "      <td>110688.000000</td>\n",
              "    </tr>\n",
              "  </tbody>\n",
              "</table>\n",
              "</div>"
            ],
            "text/plain": [
              "              precision    recall  f1-score        support\n",
              "0              0.805184  0.660224  0.725534   50907.000000\n",
              "1              0.749123  0.863970  0.802458   59781.000000\n",
              "accuracy       0.770264  0.770264  0.770264       0.770264\n",
              "macro avg      0.777153  0.762097  0.763996  110688.000000\n",
              "weighted avg   0.774906  0.770264  0.767080  110688.000000"
            ]
          },
          "metadata": {
            "tags": []
          }
        },
        {
          "output_type": "stream",
          "text": [
            "time: 1min 39s\n"
          ],
          "name": "stdout"
        }
      ]
    },
    {
      "cell_type": "code",
      "metadata": {
        "id": "WV6AS8OT5kNM",
        "colab_type": "code",
        "colab": {}
      },
      "source": [
        "cb = CatBoostClassifier(verbose=0, scale_pos_weight=scale_pos_weight,random_state=42,task_type=\"GPU\",devices='0:1')"
      ],
      "execution_count": null,
      "outputs": []
    },
    {
      "cell_type": "markdown",
      "metadata": {
        "id": "AIOhc2ieSzuo",
        "colab_type": "text"
      },
      "source": [
        "## LSTM"
      ]
    },
    {
      "cell_type": "code",
      "metadata": {
        "id": "tvgWHO7QS2qS",
        "colab_type": "code",
        "colab": {
          "base_uri": "https://localhost:8080/",
          "height": 34
        },
        "outputId": "f40eccd7-1af5-49eb-a86b-1902d143f9cc"
      },
      "source": [
        "question1 = Input(shape=(25,))\n",
        "question2 = Input(shape=(25,))\n",
        "\n",
        "q1 = Embedding(nb_words + 1, \n",
        "                 300, \n",
        "                 weights=[word_embedding_matrix], \n",
        "                 input_length=25, \n",
        "                 trainable=False)(question1)\n",
        "\n",
        "q1 = Bidirectional(LSTM(128, return_sequences=True), merge_mode=\"sum\")(q1)\n",
        "\n",
        "q2 = Embedding(nb_words + 1, \n",
        "                 300, \n",
        "                 weights=[word_embedding_matrix], \n",
        "                 input_length=25, \n",
        "                 trainable=False)(question2)\n",
        "\n",
        "q2 = Bidirectional(LSTM(128, return_sequences=True), merge_mode=\"sum\")(q2)\n",
        "\n",
        "attention = dot([q1,q2], [1,1])\n",
        "attention = Flatten()(attention)\n",
        "attention = Dense((25*128))(attention)\n",
        "attention = Reshape((25, 128))(attention)\n",
        "\n",
        "merged = add([q1,attention, q2])\n",
        "merged = Flatten()(merged)\n",
        "merged = Dense(200, activation='relu')(merged)\n",
        "merged = BatchNormalization()(merged)\n",
        "merged = Dense(200, activation='relu')(merged)\n",
        "merged = BatchNormalization()(merged)\n",
        "merged = Dense(200, activation='relu')(merged)\n",
        "merged = BatchNormalization()(merged)\n",
        "merged = Dense(200, activation='relu')(merged)\n",
        "merged = BatchNormalization()(merged)\n",
        "\n",
        "is_duplicate = Dense(1, activation='sigmoid')(merged)\n",
        "\n",
        "model = Model(inputs=[question1,question2], outputs=is_duplicate)\n",
        "model.compile(loss='binary_crossentropy', optimizer='adam', metrics=['accuracy'])"
      ],
      "execution_count": null,
      "outputs": [
        {
          "output_type": "stream",
          "text": [
            "time: 19.1 s\n"
          ],
          "name": "stdout"
        }
      ]
    },
    {
      "cell_type": "code",
      "metadata": {
        "id": "bgIyyxmqXNor",
        "colab_type": "code",
        "colab": {
          "base_uri": "https://localhost:8080/",
          "height": 935
        },
        "outputId": "24b5978f-816b-426d-d3ba-2dc49c7e5414"
      },
      "source": [
        "model.summary()"
      ],
      "execution_count": null,
      "outputs": [
        {
          "output_type": "stream",
          "text": [
            "Model: \"model\"\n",
            "__________________________________________________________________________________________________\n",
            "Layer (type)                    Output Shape         Param #     Connected to                     \n",
            "==================================================================================================\n",
            "input_1 (InputLayer)            [(None, 25)]         0                                            \n",
            "__________________________________________________________________________________________________\n",
            "input_2 (InputLayer)            [(None, 25)]         0                                            \n",
            "__________________________________________________________________________________________________\n",
            "embedding (Embedding)           (None, 25, 300)      28638900    input_1[0][0]                    \n",
            "__________________________________________________________________________________________________\n",
            "embedding_1 (Embedding)         (None, 25, 300)      28638900    input_2[0][0]                    \n",
            "__________________________________________________________________________________________________\n",
            "bidirectional (Bidirectional)   (None, 25, 128)      439296      embedding[0][0]                  \n",
            "__________________________________________________________________________________________________\n",
            "bidirectional_1 (Bidirectional) (None, 25, 128)      439296      embedding_1[0][0]                \n",
            "__________________________________________________________________________________________________\n",
            "dot (Dot)                       (None, 128, 128)     0           bidirectional[0][0]              \n",
            "                                                                 bidirectional_1[0][0]            \n",
            "__________________________________________________________________________________________________\n",
            "flatten (Flatten)               (None, 16384)        0           dot[0][0]                        \n",
            "__________________________________________________________________________________________________\n",
            "dense (Dense)                   (None, 3200)         52432000    flatten[0][0]                    \n",
            "__________________________________________________________________________________________________\n",
            "reshape (Reshape)               (None, 25, 128)      0           dense[0][0]                      \n",
            "__________________________________________________________________________________________________\n",
            "add (Add)                       (None, 25, 128)      0           bidirectional[0][0]              \n",
            "                                                                 reshape[0][0]                    \n",
            "                                                                 bidirectional_1[0][0]            \n",
            "__________________________________________________________________________________________________\n",
            "flatten_1 (Flatten)             (None, 3200)         0           add[0][0]                        \n",
            "__________________________________________________________________________________________________\n",
            "dense_1 (Dense)                 (None, 200)          640200      flatten_1[0][0]                  \n",
            "__________________________________________________________________________________________________\n",
            "batch_normalization (BatchNorma (None, 200)          800         dense_1[0][0]                    \n",
            "__________________________________________________________________________________________________\n",
            "dense_2 (Dense)                 (None, 200)          40200       batch_normalization[0][0]        \n",
            "__________________________________________________________________________________________________\n",
            "batch_normalization_1 (BatchNor (None, 200)          800         dense_2[0][0]                    \n",
            "__________________________________________________________________________________________________\n",
            "dense_3 (Dense)                 (None, 200)          40200       batch_normalization_1[0][0]      \n",
            "__________________________________________________________________________________________________\n",
            "batch_normalization_2 (BatchNor (None, 200)          800         dense_3[0][0]                    \n",
            "__________________________________________________________________________________________________\n",
            "dense_4 (Dense)                 (None, 200)          40200       batch_normalization_2[0][0]      \n",
            "__________________________________________________________________________________________________\n",
            "batch_normalization_3 (BatchNor (None, 200)          800         dense_4[0][0]                    \n",
            "__________________________________________________________________________________________________\n",
            "dense_5 (Dense)                 (None, 1)            201         batch_normalization_3[0][0]      \n",
            "==================================================================================================\n",
            "Total params: 111,352,593\n",
            "Trainable params: 54,073,193\n",
            "Non-trainable params: 57,279,400\n",
            "__________________________________________________________________________________________________\n",
            "time: 14.7 ms\n"
          ],
          "name": "stdout"
        }
      ]
    },
    {
      "cell_type": "code",
      "metadata": {
        "id": "qrWAfN_uG2-J",
        "colab_type": "code",
        "colab": {
          "base_uri": "https://localhost:8080/",
          "height": 34
        },
        "outputId": "54d1050d-7316-4593-b5f7-599b78014e05"
      },
      "source": [
        "X_train, X_test, y_train, y_test = train_test_split(np.hstack([q1_data, q2_data]), labels, test_size=0.1, random_state=42)"
      ],
      "execution_count": null,
      "outputs": [
        {
          "output_type": "stream",
          "text": [
            "time: 522 ms\n"
          ],
          "name": "stdout"
        }
      ]
    },
    {
      "cell_type": "code",
      "metadata": {
        "id": "TO_K5iNXHZpE",
        "colab_type": "code",
        "colab": {
          "base_uri": "https://localhost:8080/",
          "height": 34
        },
        "outputId": "8844996b-cef9-4e8e-a2e4-acc652006e9b"
      },
      "source": [
        "split = -int(len(q1_data)*0.1)"
      ],
      "execution_count": null,
      "outputs": [
        {
          "output_type": "stream",
          "text": [
            "time: 988 µs\n"
          ],
          "name": "stdout"
        }
      ]
    },
    {
      "cell_type": "code",
      "metadata": {
        "id": "usxPpksmHxIK",
        "colab_type": "code",
        "colab": {
          "base_uri": "https://localhost:8080/",
          "height": 34
        },
        "outputId": "c2caed9b-670c-4505-ef3f-126c729504cd"
      },
      "source": [
        "y_train, y_test = labels[:split], labels[split:]"
      ],
      "execution_count": null,
      "outputs": [
        {
          "output_type": "stream",
          "text": [
            "time: 1.28 ms\n"
          ],
          "name": "stdout"
        }
      ]
    },
    {
      "cell_type": "code",
      "metadata": {
        "id": "idoMB77uH5y5",
        "colab_type": "code",
        "colab": {
          "base_uri": "https://localhost:8080/",
          "height": 34
        },
        "outputId": "944ba69b-db30-4dde-b448-30c97c59d0de"
      },
      "source": [
        "X_train, X_test = [q1_data[:split], q2_data[:split]], [q1_data[split:], q2_data[split:]]"
      ],
      "execution_count": null,
      "outputs": [
        {
          "output_type": "stream",
          "text": [
            "time: 1.26 ms\n"
          ],
          "name": "stdout"
        }
      ]
    },
    {
      "cell_type": "code",
      "metadata": {
        "id": "qtP9wI0XXPQK",
        "colab_type": "code",
        "colab": {
          "base_uri": "https://localhost:8080/",
          "height": 884
        },
        "outputId": "d9bab7e9-628c-4b87-ccf0-60d13108fc3d"
      },
      "source": [
        "history = model.fit(X_train,\n",
        "                    y_train,\n",
        "                    epochs=25,\n",
        "                    validation_split=0.1,\n",
        "                    verbose=1,\n",
        "                    batch_size=516)"
      ],
      "execution_count": null,
      "outputs": [
        {
          "output_type": "stream",
          "text": [
            "Epoch 1/25\n",
            "869/869 [==============================] - 52s 59ms/step - loss: 0.4294 - accuracy: 0.7900 - val_loss: 0.6256 - val_accuracy: 0.6860\n",
            "Epoch 2/25\n",
            "869/869 [==============================] - 52s 59ms/step - loss: 0.3682 - accuracy: 0.8270 - val_loss: 0.6973 - val_accuracy: 0.6584\n",
            "Epoch 3/25\n",
            "869/869 [==============================] - 52s 59ms/step - loss: 0.3296 - accuracy: 0.8490 - val_loss: 0.6314 - val_accuracy: 0.7205\n",
            "Epoch 4/25\n",
            "869/869 [==============================] - 52s 59ms/step - loss: 0.2920 - accuracy: 0.8689 - val_loss: 0.4563 - val_accuracy: 0.7907\n",
            "Epoch 5/25\n",
            "869/869 [==============================] - 52s 59ms/step - loss: 0.2614 - accuracy: 0.8848 - val_loss: 0.8160 - val_accuracy: 0.6749\n",
            "Epoch 6/25\n",
            "869/869 [==============================] - 52s 59ms/step - loss: 0.2314 - accuracy: 0.8996 - val_loss: 0.7679 - val_accuracy: 0.6460\n",
            "Epoch 7/25\n",
            "869/869 [==============================] - 52s 59ms/step - loss: 0.2044 - accuracy: 0.9127 - val_loss: 0.4666 - val_accuracy: 0.7785\n",
            "Epoch 8/25\n",
            "869/869 [==============================] - 52s 59ms/step - loss: 0.1807 - accuracy: 0.9240 - val_loss: 1.3126 - val_accuracy: 0.7660\n",
            "Epoch 9/25\n",
            "869/869 [==============================] - 52s 59ms/step - loss: 0.1596 - accuracy: 0.9333 - val_loss: 0.7354 - val_accuracy: 0.7622\n",
            "Epoch 10/25\n",
            "869/869 [==============================] - 52s 59ms/step - loss: 0.1422 - accuracy: 0.9415 - val_loss: 4.5121 - val_accuracy: 0.7635\n",
            "Epoch 11/25\n",
            "869/869 [==============================] - 52s 60ms/step - loss: 0.1259 - accuracy: 0.9482 - val_loss: 6.7540 - val_accuracy: 0.8051\n",
            "Epoch 12/25\n",
            "869/869 [==============================] - 52s 60ms/step - loss: 0.1114 - accuracy: 0.9547 - val_loss: 5.8071 - val_accuracy: 0.8121\n",
            "Epoch 13/25\n",
            "869/869 [==============================] - 52s 60ms/step - loss: 0.0996 - accuracy: 0.9600 - val_loss: 0.6563 - val_accuracy: 0.8176\n",
            "Epoch 14/25\n",
            "869/869 [==============================] - 52s 60ms/step - loss: 0.0899 - accuracy: 0.9637 - val_loss: 0.6726 - val_accuracy: 0.8071\n",
            "Epoch 15/25\n",
            "869/869 [==============================] - 52s 60ms/step - loss: 0.0798 - accuracy: 0.9683 - val_loss: 0.9234 - val_accuracy: 0.7733\n",
            "Epoch 16/25\n",
            "869/869 [==============================] - 52s 60ms/step - loss: 0.0735 - accuracy: 0.9709 - val_loss: 0.8735 - val_accuracy: 0.8026\n",
            "Epoch 17/25\n",
            "869/869 [==============================] - 52s 60ms/step - loss: 0.0662 - accuracy: 0.9738 - val_loss: 0.7898 - val_accuracy: 0.7909\n",
            "Epoch 18/25\n",
            "869/869 [==============================] - 52s 60ms/step - loss: 0.0604 - accuracy: 0.9763 - val_loss: 0.8473 - val_accuracy: 0.8210\n",
            "Epoch 19/25\n",
            "869/869 [==============================] - 52s 60ms/step - loss: 0.0559 - accuracy: 0.9780 - val_loss: 1.2870 - val_accuracy: 0.8157\n",
            "Epoch 20/25\n",
            "869/869 [==============================] - 52s 59ms/step - loss: 0.0507 - accuracy: 0.9801 - val_loss: 1.2269 - val_accuracy: 0.8121\n",
            "Epoch 21/25\n",
            "869/869 [==============================] - 52s 59ms/step - loss: 0.0489 - accuracy: 0.9812 - val_loss: 0.8353 - val_accuracy: 0.8102\n",
            "Epoch 22/25\n",
            "869/869 [==============================] - 52s 60ms/step - loss: 0.0442 - accuracy: 0.9827 - val_loss: 0.9470 - val_accuracy: 0.7873\n",
            "Epoch 23/25\n",
            "869/869 [==============================] - 52s 59ms/step - loss: 0.0404 - accuracy: 0.9844 - val_loss: 1.2920 - val_accuracy: 0.8121\n",
            "Epoch 24/25\n",
            "869/869 [==============================] - 52s 59ms/step - loss: 0.0394 - accuracy: 0.9847 - val_loss: 122.0347 - val_accuracy: 0.8010\n",
            "Epoch 25/25\n",
            "869/869 [==============================] - 52s 60ms/step - loss: 0.0360 - accuracy: 0.9860 - val_loss: 1.0959 - val_accuracy: 0.8044\n",
            "time: 21min 34s\n"
          ],
          "name": "stdout"
        }
      ]
    },
    {
      "cell_type": "code",
      "metadata": {
        "id": "w37uveVFMOpS",
        "colab_type": "code",
        "colab": {
          "base_uri": "https://localhost:8080/",
          "height": 34
        },
        "outputId": "b4dbfbe7-d4f8-4d35-dced-b3cf28c9fa15"
      },
      "source": [
        "model.save(\"bilstm.h5\")"
      ],
      "execution_count": null,
      "outputs": [
        {
          "output_type": "stream",
          "text": [
            "time: 4.16 s\n"
          ],
          "name": "stdout"
        }
      ]
    },
    {
      "cell_type": "code",
      "metadata": {
        "id": "9qmnd-FxGN-t",
        "colab_type": "code",
        "colab": {
          "base_uri": "https://localhost:8080/",
          "height": 841
        },
        "outputId": "29e8a2b0-8f63-4b73-8345-8c13f3078b03"
      },
      "source": [
        "pd.DataFrame(history.history)"
      ],
      "execution_count": null,
      "outputs": [
        {
          "output_type": "execute_result",
          "data": {
            "text/html": [
              "<div>\n",
              "<style scoped>\n",
              "    .dataframe tbody tr th:only-of-type {\n",
              "        vertical-align: middle;\n",
              "    }\n",
              "\n",
              "    .dataframe tbody tr th {\n",
              "        vertical-align: top;\n",
              "    }\n",
              "\n",
              "    .dataframe thead th {\n",
              "        text-align: right;\n",
              "    }\n",
              "</style>\n",
              "<table border=\"1\" class=\"dataframe\">\n",
              "  <thead>\n",
              "    <tr style=\"text-align: right;\">\n",
              "      <th></th>\n",
              "      <th>loss</th>\n",
              "      <th>accuracy</th>\n",
              "      <th>val_loss</th>\n",
              "      <th>val_accuracy</th>\n",
              "    </tr>\n",
              "  </thead>\n",
              "  <tbody>\n",
              "    <tr>\n",
              "      <th>0</th>\n",
              "      <td>0.429426</td>\n",
              "      <td>0.790017</td>\n",
              "      <td>0.625614</td>\n",
              "      <td>0.685967</td>\n",
              "    </tr>\n",
              "    <tr>\n",
              "      <th>1</th>\n",
              "      <td>0.368213</td>\n",
              "      <td>0.827029</td>\n",
              "      <td>0.697349</td>\n",
              "      <td>0.658422</td>\n",
              "    </tr>\n",
              "    <tr>\n",
              "      <th>2</th>\n",
              "      <td>0.329624</td>\n",
              "      <td>0.848982</td>\n",
              "      <td>0.631420</td>\n",
              "      <td>0.720478</td>\n",
              "    </tr>\n",
              "    <tr>\n",
              "      <th>3</th>\n",
              "      <td>0.292047</td>\n",
              "      <td>0.868929</td>\n",
              "      <td>0.456268</td>\n",
              "      <td>0.790705</td>\n",
              "    </tr>\n",
              "    <tr>\n",
              "      <th>4</th>\n",
              "      <td>0.261360</td>\n",
              "      <td>0.884834</td>\n",
              "      <td>0.815996</td>\n",
              "      <td>0.674864</td>\n",
              "    </tr>\n",
              "    <tr>\n",
              "      <th>5</th>\n",
              "      <td>0.231436</td>\n",
              "      <td>0.899610</td>\n",
              "      <td>0.767900</td>\n",
              "      <td>0.646035</td>\n",
              "    </tr>\n",
              "    <tr>\n",
              "      <th>6</th>\n",
              "      <td>0.204375</td>\n",
              "      <td>0.912707</td>\n",
              "      <td>0.466578</td>\n",
              "      <td>0.778458</td>\n",
              "    </tr>\n",
              "    <tr>\n",
              "      <th>7</th>\n",
              "      <td>0.180679</td>\n",
              "      <td>0.923988</td>\n",
              "      <td>1.312555</td>\n",
              "      <td>0.765991</td>\n",
              "    </tr>\n",
              "    <tr>\n",
              "      <th>8</th>\n",
              "      <td>0.159640</td>\n",
              "      <td>0.933321</td>\n",
              "      <td>0.735434</td>\n",
              "      <td>0.762216</td>\n",
              "    </tr>\n",
              "    <tr>\n",
              "      <th>9</th>\n",
              "      <td>0.142190</td>\n",
              "      <td>0.941472</td>\n",
              "      <td>4.512109</td>\n",
              "      <td>0.763541</td>\n",
              "    </tr>\n",
              "    <tr>\n",
              "      <th>10</th>\n",
              "      <td>0.125854</td>\n",
              "      <td>0.948243</td>\n",
              "      <td>6.753992</td>\n",
              "      <td>0.805119</td>\n",
              "    </tr>\n",
              "    <tr>\n",
              "      <th>11</th>\n",
              "      <td>0.111398</td>\n",
              "      <td>0.954734</td>\n",
              "      <td>5.807101</td>\n",
              "      <td>0.812086</td>\n",
              "    </tr>\n",
              "    <tr>\n",
              "      <th>12</th>\n",
              "      <td>0.099554</td>\n",
              "      <td>0.959961</td>\n",
              "      <td>0.656344</td>\n",
              "      <td>0.817627</td>\n",
              "    </tr>\n",
              "    <tr>\n",
              "      <th>13</th>\n",
              "      <td>0.089871</td>\n",
              "      <td>0.963650</td>\n",
              "      <td>0.672566</td>\n",
              "      <td>0.807107</td>\n",
              "    </tr>\n",
              "    <tr>\n",
              "      <th>14</th>\n",
              "      <td>0.079790</td>\n",
              "      <td>0.968281</td>\n",
              "      <td>0.923420</td>\n",
              "      <td>0.773339</td>\n",
              "    </tr>\n",
              "    <tr>\n",
              "      <th>15</th>\n",
              "      <td>0.073466</td>\n",
              "      <td>0.970887</td>\n",
              "      <td>0.873479</td>\n",
              "      <td>0.802590</td>\n",
              "    </tr>\n",
              "    <tr>\n",
              "      <th>16</th>\n",
              "      <td>0.066187</td>\n",
              "      <td>0.973758</td>\n",
              "      <td>0.789765</td>\n",
              "      <td>0.790865</td>\n",
              "    </tr>\n",
              "    <tr>\n",
              "      <th>17</th>\n",
              "      <td>0.060381</td>\n",
              "      <td>0.976294</td>\n",
              "      <td>0.847302</td>\n",
              "      <td>0.821040</td>\n",
              "    </tr>\n",
              "    <tr>\n",
              "      <th>18</th>\n",
              "      <td>0.055926</td>\n",
              "      <td>0.978014</td>\n",
              "      <td>1.287024</td>\n",
              "      <td>0.815700</td>\n",
              "    </tr>\n",
              "    <tr>\n",
              "      <th>19</th>\n",
              "      <td>0.050720</td>\n",
              "      <td>0.980071</td>\n",
              "      <td>1.226934</td>\n",
              "      <td>0.812126</td>\n",
              "    </tr>\n",
              "    <tr>\n",
              "      <th>20</th>\n",
              "      <td>0.048851</td>\n",
              "      <td>0.981228</td>\n",
              "      <td>0.835322</td>\n",
              "      <td>0.810179</td>\n",
              "    </tr>\n",
              "    <tr>\n",
              "      <th>21</th>\n",
              "      <td>0.044221</td>\n",
              "      <td>0.982696</td>\n",
              "      <td>0.946954</td>\n",
              "      <td>0.787312</td>\n",
              "    </tr>\n",
              "    <tr>\n",
              "      <th>22</th>\n",
              "      <td>0.040394</td>\n",
              "      <td>0.984445</td>\n",
              "      <td>1.292041</td>\n",
              "      <td>0.812146</td>\n",
              "    </tr>\n",
              "    <tr>\n",
              "      <th>23</th>\n",
              "      <td>0.039365</td>\n",
              "      <td>0.984713</td>\n",
              "      <td>122.034721</td>\n",
              "      <td>0.801024</td>\n",
              "    </tr>\n",
              "    <tr>\n",
              "      <th>24</th>\n",
              "      <td>0.035985</td>\n",
              "      <td>0.985991</td>\n",
              "      <td>1.095941</td>\n",
              "      <td>0.804357</td>\n",
              "    </tr>\n",
              "  </tbody>\n",
              "</table>\n",
              "</div>"
            ],
            "text/plain": [
              "        loss  accuracy    val_loss  val_accuracy\n",
              "0   0.429426  0.790017    0.625614      0.685967\n",
              "1   0.368213  0.827029    0.697349      0.658422\n",
              "2   0.329624  0.848982    0.631420      0.720478\n",
              "3   0.292047  0.868929    0.456268      0.790705\n",
              "4   0.261360  0.884834    0.815996      0.674864\n",
              "5   0.231436  0.899610    0.767900      0.646035\n",
              "6   0.204375  0.912707    0.466578      0.778458\n",
              "7   0.180679  0.923988    1.312555      0.765991\n",
              "8   0.159640  0.933321    0.735434      0.762216\n",
              "9   0.142190  0.941472    4.512109      0.763541\n",
              "10  0.125854  0.948243    6.753992      0.805119\n",
              "11  0.111398  0.954734    5.807101      0.812086\n",
              "12  0.099554  0.959961    0.656344      0.817627\n",
              "13  0.089871  0.963650    0.672566      0.807107\n",
              "14  0.079790  0.968281    0.923420      0.773339\n",
              "15  0.073466  0.970887    0.873479      0.802590\n",
              "16  0.066187  0.973758    0.789765      0.790865\n",
              "17  0.060381  0.976294    0.847302      0.821040\n",
              "18  0.055926  0.978014    1.287024      0.815700\n",
              "19  0.050720  0.980071    1.226934      0.812126\n",
              "20  0.048851  0.981228    0.835322      0.810179\n",
              "21  0.044221  0.982696    0.946954      0.787312\n",
              "22  0.040394  0.984445    1.292041      0.812146\n",
              "23  0.039365  0.984713  122.034721      0.801024\n",
              "24  0.035985  0.985991    1.095941      0.804357"
            ]
          },
          "metadata": {
            "tags": []
          },
          "execution_count": 143
        },
        {
          "output_type": "stream",
          "text": [
            "time: 22.2 ms\n"
          ],
          "name": "stdout"
        }
      ]
    },
    {
      "cell_type": "code",
      "metadata": {
        "id": "T7VkrnrBFytZ",
        "colab_type": "code",
        "colab": {
          "base_uri": "https://localhost:8080/",
          "height": 102
        },
        "outputId": "1b3a2c0b-f58e-48d0-b202-c8177867ef7d"
      },
      "source": [
        "score = model.evaluate(X_test, y_test,\n",
        "                     batch_size=128, verbose=1)\n",
        "print(\"\\nTest score:\", score[0])\n",
        "print('Test accuracy:', score[1])"
      ],
      "execution_count": null,
      "outputs": [
        {
          "output_type": "stream",
          "text": [
            "433/433 [==============================] - 4s 10ms/step - loss: 1.1771 - accuracy: 0.7978\n",
            "\n",
            "Test score: 1.1771100759506226\n",
            "Test accuracy: 0.7977883219718933\n",
            "time: 4.53 s\n"
          ],
          "name": "stdout"
        }
      ]
    },
    {
      "cell_type": "code",
      "metadata": {
        "id": "EhBzlJrbNQUD",
        "colab_type": "code",
        "colab": {
          "base_uri": "https://localhost:8080/",
          "height": 34
        },
        "outputId": "fb94328b-cb18-4b58-ae2a-7304da0c49f8"
      },
      "source": [
        "y_pred = (y_pred[:,0]>0.5).astype(int)"
      ],
      "execution_count": null,
      "outputs": [
        {
          "output_type": "stream",
          "text": [
            "time: 1.45 ms\n"
          ],
          "name": "stdout"
        }
      ]
    },
    {
      "cell_type": "code",
      "metadata": {
        "id": "qyJfMinMOfA0",
        "colab_type": "code",
        "colab": {
          "base_uri": "https://localhost:8080/",
          "height": 34
        },
        "outputId": "53711788-91f8-4ecd-b8d9-9fba0b921e94"
      },
      "source": [
        "y_pred.shape"
      ],
      "execution_count": null,
      "outputs": [
        {
          "output_type": "execute_result",
          "data": {
            "text/plain": [
              "(55343,)"
            ]
          },
          "metadata": {
            "tags": []
          },
          "execution_count": 168
        },
        {
          "output_type": "stream",
          "text": [
            "time: 2.98 ms\n"
          ],
          "name": "stdout"
        }
      ]
    },
    {
      "cell_type": "code",
      "metadata": {
        "id": "pd0YdAYQOOHN",
        "colab_type": "code",
        "colab": {
          "base_uri": "https://localhost:8080/",
          "height": 34
        },
        "outputId": "c78e60c1-e3fd-4523-8dc5-f85dd4e3f26a"
      },
      "source": [
        "y_test.shape"
      ],
      "execution_count": null,
      "outputs": [
        {
          "output_type": "execute_result",
          "data": {
            "text/plain": [
              "(55343,)"
            ]
          },
          "metadata": {
            "tags": []
          },
          "execution_count": 161
        },
        {
          "output_type": "stream",
          "text": [
            "time: 2.43 ms\n"
          ],
          "name": "stdout"
        }
      ]
    },
    {
      "cell_type": "code",
      "metadata": {
        "id": "DYFWq4JhLST7",
        "colab_type": "code",
        "colab": {
          "base_uri": "https://localhost:8080/",
          "height": 34
        },
        "outputId": "89fc06c9-2a2e-4411-d200-878be3db9000"
      },
      "source": [
        "y_pred = model.predict(X_test)\n",
        "# f1_score(y_test, y_pred)"
      ],
      "execution_count": null,
      "outputs": [
        {
          "output_type": "stream",
          "text": [
            "time: 10 s\n"
          ],
          "name": "stdout"
        }
      ]
    },
    {
      "cell_type": "code",
      "metadata": {
        "id": "OtqeUe_dN5tl",
        "colab_type": "code",
        "colab": {
          "base_uri": "https://localhost:8080/",
          "height": 34
        },
        "outputId": "beb6e88f-f10c-4979-b2fa-1da9ab6b37f3"
      },
      "source": [
        "y_pred = (y_pred.reshape(1,-1)>0.5).astype(int)"
      ],
      "execution_count": null,
      "outputs": [
        {
          "output_type": "stream",
          "text": [
            "time: 1.48 ms\n"
          ],
          "name": "stdout"
        }
      ]
    },
    {
      "cell_type": "code",
      "metadata": {
        "id": "B3RRx48jLEvu",
        "colab_type": "code",
        "colab": {
          "base_uri": "https://localhost:8080/",
          "height": 340
        },
        "outputId": "5005361b-0777-45a8-9d5c-e491dd94decb"
      },
      "source": [
        "print_report(y_test, y_pred)"
      ],
      "execution_count": null,
      "outputs": [
        {
          "output_type": "stream",
          "text": [
            "fn+fp: 11191\n",
            "pred. duplicates : 25476\n",
            "duplicates : 19595\n",
            "real duplicates were found: 16940\n",
            "Confusion Marix:\n"
          ],
          "name": "stdout"
        },
        {
          "output_type": "display_data",
          "data": {
            "text/plain": [
              "array([[27212,  8536],\n",
              "       [ 2655, 16940]])"
            ]
          },
          "metadata": {
            "tags": []
          }
        },
        {
          "output_type": "display_data",
          "data": {
            "text/html": [
              "<div>\n",
              "<style scoped>\n",
              "    .dataframe tbody tr th:only-of-type {\n",
              "        vertical-align: middle;\n",
              "    }\n",
              "\n",
              "    .dataframe tbody tr th {\n",
              "        vertical-align: top;\n",
              "    }\n",
              "\n",
              "    .dataframe thead th {\n",
              "        text-align: right;\n",
              "    }\n",
              "</style>\n",
              "<table border=\"1\" class=\"dataframe\">\n",
              "  <thead>\n",
              "    <tr style=\"text-align: right;\">\n",
              "      <th></th>\n",
              "      <th>precision</th>\n",
              "      <th>recall</th>\n",
              "      <th>f1-score</th>\n",
              "      <th>support</th>\n",
              "    </tr>\n",
              "  </thead>\n",
              "  <tbody>\n",
              "    <tr>\n",
              "      <th>0</th>\n",
              "      <td>0.911106</td>\n",
              "      <td>0.761217</td>\n",
              "      <td>0.829444</td>\n",
              "      <td>35748.000000</td>\n",
              "    </tr>\n",
              "    <tr>\n",
              "      <th>1</th>\n",
              "      <td>0.664940</td>\n",
              "      <td>0.864506</td>\n",
              "      <td>0.751703</td>\n",
              "      <td>19595.000000</td>\n",
              "    </tr>\n",
              "    <tr>\n",
              "      <th>accuracy</th>\n",
              "      <td>0.797788</td>\n",
              "      <td>0.797788</td>\n",
              "      <td>0.797788</td>\n",
              "      <td>0.797788</td>\n",
              "    </tr>\n",
              "    <tr>\n",
              "      <th>macro avg</th>\n",
              "      <td>0.788023</td>\n",
              "      <td>0.812862</td>\n",
              "      <td>0.790574</td>\n",
              "      <td>55343.000000</td>\n",
              "    </tr>\n",
              "    <tr>\n",
              "      <th>weighted avg</th>\n",
              "      <td>0.823947</td>\n",
              "      <td>0.797788</td>\n",
              "      <td>0.801919</td>\n",
              "      <td>55343.000000</td>\n",
              "    </tr>\n",
              "  </tbody>\n",
              "</table>\n",
              "</div>"
            ],
            "text/plain": [
              "              precision    recall  f1-score       support\n",
              "0              0.911106  0.761217  0.829444  35748.000000\n",
              "1              0.664940  0.864506  0.751703  19595.000000\n",
              "accuracy       0.797788  0.797788  0.797788      0.797788\n",
              "macro avg      0.788023  0.812862  0.790574  55343.000000\n",
              "weighted avg   0.823947  0.797788  0.801919  55343.000000"
            ]
          },
          "metadata": {
            "tags": []
          }
        },
        {
          "output_type": "stream",
          "text": [
            "time: 214 ms\n"
          ],
          "name": "stdout"
        }
      ]
    },
    {
      "cell_type": "code",
      "metadata": {
        "id": "6j64l4IIcPSh",
        "colab_type": "code",
        "colab": {
          "base_uri": "https://localhost:8080/",
          "height": 408
        },
        "outputId": "120c455e-73a8-4e7c-817d-2868fb80ca8c"
      },
      "source": [
        "act = 'relu'\n",
        "re_weight = True \n",
        "data_1 = q1_data\n",
        "data_2 = q2_data\n",
        "VALIDATION_SPLIT = 0.1\n",
        "EMBEDDING_DIM = 300\n",
        "MAX_SEQUENCE_LENGTH = 30\n",
        "num_lstm = np.random.randint(175, 275)\n",
        "num_dense = np.random.randint(100, 150)\n",
        "rate_drop_lstm = 0.15 + np.random.rand() * 0.25\n",
        "rate_drop_dense = 0.15 + np.random.rand() * 0.25\n",
        "perm = np.random.permutation(len(data_1))\n",
        "idx_train = perm[:int(len(data_1)*(1-VALIDATION_SPLIT))]\n",
        "idx_val = perm[int(len(data_1)*(1-VALIDATION_SPLIT)):]\n",
        "\n",
        "data_1_train = np.vstack((data_1[idx_train], data_2[idx_train]))\n",
        "data_2_train = np.vstack((data_2[idx_train], data_1[idx_train]))\n",
        "labels_train = np.concatenate((labels[idx_train], labels[idx_train]))\n",
        "\n",
        "data_1_val = np.vstack((data_1[idx_val], data_2[idx_val]))\n",
        "data_2_val = np.vstack((data_2[idx_val], data_1[idx_val]))\n",
        "labels_val = np.concatenate((labels[idx_val], labels[idx_val]))\n",
        "\n",
        "weight_val = np.ones(len(labels_val))\n",
        "if re_weight:\n",
        "    weight_val *= 0.472001959\n",
        "    weight_val[labels_val==0] = 1.309028344\n",
        "\n",
        "########################################\n",
        "## define the model structure\n",
        "########################################\n",
        "embedding_layer = Embedding(nb_words,\n",
        "        EMBEDDING_DIM,\n",
        "        weights=[word_embedding_matrix],\n",
        "        input_length=MAX_SEQUENCE_LENGTH,\n",
        "        trainable=False)\n",
        "lstm_layer = LSTM(num_lstm, dropout=rate_drop_lstm, recurrent_dropout=rate_drop_lstm)\n",
        "\n",
        "sequence_1_input = Input(shape=(MAX_SEQUENCE_LENGTH,), dtype='int32')\n",
        "embedded_sequences_1 = embedding_layer(sequence_1_input)\n",
        "x1 = lstm_layer(embedded_sequences_1)\n",
        "\n",
        "sequence_2_input = Input(shape=(MAX_SEQUENCE_LENGTH,), dtype='int32')\n",
        "embedded_sequences_2 = embedding_layer(sequence_2_input)\n",
        "y1 = lstm_layer(embedded_sequences_2)\n",
        "\n",
        "merged = concatenate([x1, y1])\n",
        "merged = Dropout(rate_drop_dense)(merged)\n",
        "merged = BatchNormalization()(merged)\n",
        "\n",
        "merged = Dense(num_dense, activation=act)(merged)\n",
        "merged = Dropout(rate_drop_dense)(merged)\n",
        "merged = BatchNormalization()(merged)\n",
        "\n",
        "preds = Dense(1, activation='sigmoid')(merged)\n",
        "\n",
        "########################################\n",
        "## add class weight\n",
        "########################################\n",
        "if re_weight:\n",
        "    class_weight = {0: 1.309028344, 1: 0.472001959}\n",
        "else:\n",
        "    class_weight = None\n",
        "\n",
        "########################################\n",
        "## train the model\n",
        "########################################\n",
        "model = Model(inputs=[sequence_1_input, sequence_2_input], \\\n",
        "        outputs=preds)\n",
        "model.compile(loss='binary_crossentropy',\n",
        "        optimizer='nadam',\n",
        "        metrics=['acc'])\n",
        "#model.summary()\n",
        "print(STAMP)\n",
        "\n",
        "early_stopping =EarlyStopping(monitor='val_loss', patience=3)\n",
        "bst_model_path = STAMP + '.h5'\n",
        "model_checkpoint = ModelCheckpoint(bst_model_path, save_best_only=True, save_weights_only=True)\n",
        "\n",
        "hist = model.fit([data_1_train, data_2_train], labels_train, \\\n",
        "        validation_data=([data_1_val, data_2_val], labels_val, weight_val), \\\n",
        "        epochs=200, batch_size=2048, shuffle=True, \\\n",
        "        class_weight=class_weight, callbacks=[early_stopping, model_checkpoint])\n",
        "\n",
        "model.load_weights(bst_model_path)\n",
        "bst_val_score = min(hist.history['val_loss'])"
      ],
      "execution_count": null,
      "outputs": [
        {
          "output_type": "stream",
          "text": [
            "WARNING:tensorflow:Layer lstm_4 will not use cuDNN kernel since it doesn't meet the cuDNN kernel criteria. It will use generic GPU kernel as fallback when running on GPU\n"
          ],
          "name": "stdout"
        },
        {
          "output_type": "error",
          "ename": "ValueError",
          "evalue": "ignored",
          "traceback": [
            "\u001b[0;31m---------------------------------------------------------------------------\u001b[0m",
            "\u001b[0;31mValueError\u001b[0m                                Traceback (most recent call last)",
            "\u001b[0;32m<ipython-input-138-739d647b1a94>\u001b[0m in \u001b[0;36m<module>\u001b[0;34m()\u001b[0m\n\u001b[1;32m     38\u001b[0m \u001b[0;34m\u001b[0m\u001b[0m\n\u001b[1;32m     39\u001b[0m \u001b[0msequence_1_input\u001b[0m \u001b[0;34m=\u001b[0m \u001b[0mInput\u001b[0m\u001b[0;34m(\u001b[0m\u001b[0mshape\u001b[0m\u001b[0;34m=\u001b[0m\u001b[0;34m(\u001b[0m\u001b[0mMAX_SEQUENCE_LENGTH\u001b[0m\u001b[0;34m,\u001b[0m\u001b[0;34m)\u001b[0m\u001b[0;34m,\u001b[0m \u001b[0mdtype\u001b[0m\u001b[0;34m=\u001b[0m\u001b[0;34m'int32'\u001b[0m\u001b[0;34m)\u001b[0m\u001b[0;34m\u001b[0m\u001b[0;34m\u001b[0m\u001b[0m\n\u001b[0;32m---> 40\u001b[0;31m \u001b[0membedded_sequences_1\u001b[0m \u001b[0;34m=\u001b[0m \u001b[0membedding_layer\u001b[0m\u001b[0;34m(\u001b[0m\u001b[0msequence_1_input\u001b[0m\u001b[0;34m)\u001b[0m\u001b[0;34m\u001b[0m\u001b[0;34m\u001b[0m\u001b[0m\n\u001b[0m\u001b[1;32m     41\u001b[0m \u001b[0mx1\u001b[0m \u001b[0;34m=\u001b[0m \u001b[0mlstm_layer\u001b[0m\u001b[0;34m(\u001b[0m\u001b[0membedded_sequences_1\u001b[0m\u001b[0;34m)\u001b[0m\u001b[0;34m\u001b[0m\u001b[0;34m\u001b[0m\u001b[0m\n\u001b[1;32m     42\u001b[0m \u001b[0;34m\u001b[0m\u001b[0m\n",
            "\u001b[0;32m/usr/local/lib/python3.6/dist-packages/tensorflow/python/keras/engine/base_layer.py\u001b[0m in \u001b[0;36m__call__\u001b[0;34m(self, *args, **kwargs)\u001b[0m\n\u001b[1;32m    895\u001b[0m           \u001b[0;31m# Build layer if applicable (if the `build` method has been\u001b[0m\u001b[0;34m\u001b[0m\u001b[0;34m\u001b[0m\u001b[0;34m\u001b[0m\u001b[0m\n\u001b[1;32m    896\u001b[0m           \u001b[0;31m# overridden).\u001b[0m\u001b[0;34m\u001b[0m\u001b[0;34m\u001b[0m\u001b[0;34m\u001b[0m\u001b[0m\n\u001b[0;32m--> 897\u001b[0;31m           \u001b[0mself\u001b[0m\u001b[0;34m.\u001b[0m\u001b[0m_maybe_build\u001b[0m\u001b[0;34m(\u001b[0m\u001b[0minputs\u001b[0m\u001b[0;34m)\u001b[0m\u001b[0;34m\u001b[0m\u001b[0;34m\u001b[0m\u001b[0m\n\u001b[0m\u001b[1;32m    898\u001b[0m           \u001b[0mcast_inputs\u001b[0m \u001b[0;34m=\u001b[0m \u001b[0mself\u001b[0m\u001b[0;34m.\u001b[0m\u001b[0m_maybe_cast_inputs\u001b[0m\u001b[0;34m(\u001b[0m\u001b[0minputs\u001b[0m\u001b[0;34m)\u001b[0m\u001b[0;34m\u001b[0m\u001b[0;34m\u001b[0m\u001b[0m\n\u001b[1;32m    899\u001b[0m \u001b[0;34m\u001b[0m\u001b[0m\n",
            "\u001b[0;32m/usr/local/lib/python3.6/dist-packages/tensorflow/python/keras/engine/base_layer.py\u001b[0m in \u001b[0;36m_maybe_build\u001b[0;34m(self, inputs)\u001b[0m\n\u001b[1;32m   2426\u001b[0m           \u001b[0;31m# Using `init_scope` since we want variable assignment in\u001b[0m\u001b[0;34m\u001b[0m\u001b[0;34m\u001b[0m\u001b[0;34m\u001b[0m\u001b[0m\n\u001b[1;32m   2427\u001b[0m           \u001b[0;31m# `set_weights` to be treated like variable initialization.\u001b[0m\u001b[0;34m\u001b[0m\u001b[0;34m\u001b[0m\u001b[0;34m\u001b[0m\u001b[0m\n\u001b[0;32m-> 2428\u001b[0;31m           \u001b[0mself\u001b[0m\u001b[0;34m.\u001b[0m\u001b[0mset_weights\u001b[0m\u001b[0;34m(\u001b[0m\u001b[0mself\u001b[0m\u001b[0;34m.\u001b[0m\u001b[0m_initial_weights\u001b[0m\u001b[0;34m)\u001b[0m\u001b[0;34m\u001b[0m\u001b[0;34m\u001b[0m\u001b[0m\n\u001b[0m\u001b[1;32m   2429\u001b[0m       \u001b[0;32melse\u001b[0m\u001b[0;34m:\u001b[0m\u001b[0;34m\u001b[0m\u001b[0;34m\u001b[0m\u001b[0m\n\u001b[1;32m   2430\u001b[0m         \u001b[0mself\u001b[0m\u001b[0;34m.\u001b[0m\u001b[0mset_weights\u001b[0m\u001b[0;34m(\u001b[0m\u001b[0mself\u001b[0m\u001b[0;34m.\u001b[0m\u001b[0m_initial_weights\u001b[0m\u001b[0;34m)\u001b[0m\u001b[0;34m\u001b[0m\u001b[0;34m\u001b[0m\u001b[0m\n",
            "\u001b[0;32m/usr/local/lib/python3.6/dist-packages/tensorflow/python/keras/engine/base_layer.py\u001b[0m in \u001b[0;36mset_weights\u001b[0;34m(self, weights)\u001b[0m\n\u001b[1;32m   1538\u001b[0m           raise ValueError(\n\u001b[1;32m   1539\u001b[0m               \u001b[0;34m'Layer weight shape %s not compatible with provided weight '\u001b[0m\u001b[0;34m\u001b[0m\u001b[0;34m\u001b[0m\u001b[0m\n\u001b[0;32m-> 1540\u001b[0;31m               'shape %s' % (ref_shape, weight.shape))\n\u001b[0m\u001b[1;32m   1541\u001b[0m         \u001b[0mweight_value_tuples\u001b[0m\u001b[0;34m.\u001b[0m\u001b[0mappend\u001b[0m\u001b[0;34m(\u001b[0m\u001b[0;34m(\u001b[0m\u001b[0mparam\u001b[0m\u001b[0;34m,\u001b[0m \u001b[0mweight\u001b[0m\u001b[0;34m)\u001b[0m\u001b[0;34m)\u001b[0m\u001b[0;34m\u001b[0m\u001b[0;34m\u001b[0m\u001b[0m\n\u001b[1;32m   1542\u001b[0m         \u001b[0mweight_index\u001b[0m \u001b[0;34m+=\u001b[0m \u001b[0;36m1\u001b[0m\u001b[0;34m\u001b[0m\u001b[0;34m\u001b[0m\u001b[0m\n",
            "\u001b[0;31mValueError\u001b[0m: Layer weight shape (92193, 300) not compatible with provided weight shape (92194, 300)"
          ]
        },
        {
          "output_type": "stream",
          "text": [
            "time: 405 ms\n"
          ],
          "name": "stdout"
        }
      ]
    },
    {
      "cell_type": "code",
      "metadata": {
        "id": "kRNn6Q5DcrCu",
        "colab_type": "code",
        "colab": {}
      },
      "source": [
        "url = 'http://mattmahoney.net/dc/'\n",
        "text8 = 'text8.zip'\n",
        "text8, _ = urllib.request.urlretrieve(url + filename, folder + text8)"
      ],
      "execution_count": null,
      "outputs": []
    },
    {
      "cell_type": "code",
      "metadata": {
        "id": "F1cVQsYRpVfi",
        "colab_type": "code",
        "colab": {}
      },
      "source": [
        "text8 = folder + \"text8.zip\"\n",
        "with zipfile.ZipFile(text8) as f:\n",
        "    words = tf.compat.as_str(f.read(f.namelist()[0])).split()"
      ],
      "execution_count": null,
      "outputs": []
    },
    {
      "cell_type": "code",
      "metadata": {
        "id": "7C5XzzvUcGaT",
        "colab_type": "code",
        "colab": {}
      },
      "source": [
        "vocabulary_size = 50000\n",
        "count = [['UNK', -1]]\n",
        "count.extend(collections.Counter(words).most_common(vocabulary_size - 1))\n",
        "dictionary = dict()\n",
        "\n",
        "for word, _ in count:\n",
        "    dictionary[word] = len(dictionary)\n",
        "data = list()\n",
        "unk_count = 0\n",
        "for word in words:\n",
        "    if word in dictionary:\n",
        "        index = dictionary[word]\n",
        "    else:\n",
        "        index = 0  # dictionary['UNK']\n",
        "        unk_count = unk_count + 1\n",
        "    data.append(index)\n",
        "\n",
        "count[0][1] = unk_count\n",
        "reverse_dictionary = dict(zip(dictionary.values(), dictionary.keys())) \n",
        "del words"
      ],
      "execution_count": null,
      "outputs": []
    },
    {
      "cell_type": "code",
      "metadata": {
        "id": "D7QTUDsncKGy",
        "colab_type": "code",
        "colab": {}
      },
      "source": [
        "data_index = 0\n",
        "\n",
        "def generate_batch(batch_size, num_skips, skip_window):\n",
        "    global data_index\n",
        "    batch = np.ndarray(shape=(batch_size), dtype=np.int32)\n",
        "    labels = np.ndarray(shape=(batch_size, 1), dtype=np.int32)\n",
        "    span = 2 * skip_window + 1  # [ skip_window target skip_window ]\n",
        "    buf = collections.deque(maxlen=span)\n",
        "    for _ in range(span):\n",
        "        buf.append(data[data_index])\n",
        "        data_index = (data_index + 1) % len(data)\n",
        "    for i in range(batch_size // num_skips):\n",
        "        target = skip_window  # target label at the center of the buffer\n",
        "        targets_to_avoid = [ skip_window ]\n",
        "        for j in range(num_skips):\n",
        "            while target in targets_to_avoid:\n",
        "                target = random.randint(0, span - 1)\n",
        "            targets_to_avoid.append(target)\n",
        "            batch[i * num_skips + j] = buf[skip_window]\n",
        "            labels[i * num_skips + j, 0] = buf[target]\n",
        "        buf.append(data[data_index])\n",
        "        data_index = (data_index + 1) % len(data)\n",
        "    return batch, labels"
      ],
      "execution_count": null,
      "outputs": []
    },
    {
      "cell_type": "code",
      "metadata": {
        "id": "UfDoPfStcPFy",
        "colab_type": "code",
        "colab": {
          "base_uri": "https://localhost:8080/",
          "height": 190
        },
        "outputId": "03717001-ad49-4e18-e580-f07fa3306265"
      },
      "source": [
        "import tensorflow.compat.v1 as tf\n",
        "\n",
        "tf.disable_v2_behavior()\n",
        "\n",
        "batch_size = 128\n",
        "embedding_size = 128  # Dimension of the embedding vector.\n",
        "skip_window = 1       # How many words to consider left and right.\n",
        "num_skips = 2         # How many times to reuse an input to generate a label.\n",
        "num_sampled = 64      # Number of negative examples to sample.\n",
        "\n",
        "graph = tf.Graph()\n",
        "\n",
        "with graph.as_default(), tf.device('/cpu:0'):\n",
        "    train_dataset = tf.placeholder(tf.int32, shape=[batch_size])\n",
        "    train_labels  = tf.placeholder(tf.int32, shape=[batch_size, 1])\n",
        "  \n",
        "    embeddings = tf.Variable(tf.random_uniform([vocabulary_size, embedding_size], -1.0, 1.0))\n",
        "    softmax_weights = tf.Variable(\n",
        "        tf.truncated_normal([vocabulary_size, embedding_size], stddev=1.0/np.sqrt(embedding_size)))\n",
        "    softmax_biases = tf.Variable(tf.zeros([vocabulary_size]))\n",
        "  \n",
        "    embed = tf.nn.embedding_lookup(embeddings, train_dataset)\n",
        "    loss = tf.reduce_mean(\n",
        "        tf.nn.sampled_softmax_loss(weights=softmax_weights, biases=softmax_biases, inputs=embed,\n",
        "                                   labels=train_labels, num_sampled=num_sampled, num_classes=vocabulary_size))\n",
        "\n",
        "    optimizer = tf.train.AdagradOptimizer(1.0).minimize(loss)\n",
        "\n",
        "    norm = tf.sqrt(tf.reduce_sum(tf.square(embeddings), 1, keep_dims=True))\n",
        "    normalized_embeddings = embeddings / norm"
      ],
      "execution_count": null,
      "outputs": [
        {
          "output_type": "stream",
          "text": [
            "WARNING:tensorflow:From /usr/local/lib/python3.6/dist-packages/tensorflow/python/compat/v2_compat.py:96: disable_resource_variables (from tensorflow.python.ops.variable_scope) is deprecated and will be removed in a future version.\n",
            "Instructions for updating:\n",
            "non-resource variables are not supported in the long term\n",
            "WARNING:tensorflow:From /usr/local/lib/python3.6/dist-packages/tensorflow/python/training/adagrad.py:77: calling Constant.__init__ (from tensorflow.python.ops.init_ops) with dtype is deprecated and will be removed in a future version.\n",
            "Instructions for updating:\n",
            "Call initializer instance with the dtype argument instead of passing it to the constructor\n",
            "WARNING:tensorflow:From <ipython-input-14-856aa94703d1>:29: calling reduce_sum_v1 (from tensorflow.python.ops.math_ops) with keep_dims is deprecated and will be removed in a future version.\n",
            "Instructions for updating:\n",
            "keep_dims is deprecated, use keepdims instead\n"
          ],
          "name": "stdout"
        }
      ]
    },
    {
      "cell_type": "code",
      "metadata": {
        "id": "gpc7kFmLcVju",
        "colab_type": "code",
        "colab": {
          "base_uri": "https://localhost:8080/",
          "height": 102
        },
        "outputId": "eb3fd484-6eea-43ab-e710-671fc8b05e38"
      },
      "source": [
        "num_steps = 500001\n",
        "\n",
        "with tf.Session(graph=graph) as session:\n",
        "    tf.global_variables_initializer().run()\n",
        "    average_loss = 0\n",
        "    for step in range(num_steps):\n",
        "        batch_data, batch_labels = generate_batch(batch_size, num_skips, skip_window)\n",
        "        feed_dict = {train_dataset : batch_data, train_labels : batch_labels}\n",
        "        _, l = session.run([optimizer, loss], feed_dict=feed_dict)\n",
        "        average_loss += l\n",
        "        if step % 100000 == 0 and step > 0:\n",
        "            print('Average loss at step %d: %f' % (step, average_loss / 100000))\n",
        "            average_loss = 0\n",
        "    word2vec = normalized_embeddings.eval()"
      ],
      "execution_count": null,
      "outputs": [
        {
          "output_type": "stream",
          "text": [
            "Average loss at step 100000: 3.454407\n",
            "Average loss at step 200000: 3.241977\n",
            "Average loss at step 300000: 3.176981\n",
            "Average loss at step 400000: 3.131429\n",
            "Average loss at step 500000: 3.077763\n"
          ],
          "name": "stdout"
        }
      ]
    },
    {
      "cell_type": "code",
      "metadata": {
        "id": "PiQKFTocyJla",
        "colab_type": "code",
        "colab": {}
      },
      "source": [
        "to_pickle(word2vec, folder+\"word2vec.pkl\")"
      ],
      "execution_count": null,
      "outputs": []
    },
    {
      "cell_type": "code",
      "metadata": {
        "id": "Y-w8oHK34Ic8",
        "colab_type": "code",
        "colab": {}
      },
      "source": [
        "word2vec = from_pickle(folder+\"word2vec.pkl\")"
      ],
      "execution_count": null,
      "outputs": []
    },
    {
      "cell_type": "code",
      "metadata": {
        "id": "VrLyYct6fmOc",
        "colab_type": "code",
        "colab": {
          "base_uri": "https://localhost:8080/",
          "height": 34
        },
        "outputId": "1704fe53-ac36-4fea-fc56-e1135f5de88a"
      },
      "source": [
        "distances = -word2vec[dictionary['know']].reshape((1, -1)).dot(word2vec.T)\n",
        "inds = np.argsort(distances.ravel())[1:6]\n",
        "print(' '.join([reverse_dictionary[i] for i in inds]))"
      ],
      "execution_count": null,
      "outputs": [
        {
          "output_type": "stream",
          "text": [
            "understand learn want ask think\n"
          ],
          "name": "stdout"
        }
      ]
    },
    {
      "cell_type": "code",
      "metadata": {
        "id": "SK3PByHDs8uX",
        "colab_type": "code",
        "colab": {}
      },
      "source": [
        "df.question1 = df.question1.str.lower()\n",
        "df.question2 = df.question2.str.lower()"
      ],
      "execution_count": null,
      "outputs": []
    },
    {
      "cell_type": "code",
      "metadata": {
        "id": "r2i-diQ0tmjH",
        "colab_type": "code",
        "colab": {}
      },
      "source": [
        "EPS = 1e-100\n",
        "\n",
        "def question2vec(s):\n",
        "    words = (t.text for t in tokenizer(s) if not t.text in STOP_WORDS and not t.is_punct and t.text.isalpha())\n",
        "    seq = np.array([word2vec[dictionary[w]] for w in words if w in dictionary])\n",
        "    v = seq.sum(axis=0)\n",
        "    return v / ((v ** 2).sum() + EPS) ** 0.5 if seq.shape[0] != 0 else np.ones(embedding_size)*1.0/embedding_size**0.5"
      ],
      "execution_count": null,
      "outputs": []
    },
    {
      "cell_type": "code",
      "metadata": {
        "id": "U9OoZzRmvOsL",
        "colab_type": "code",
        "colab": {}
      },
      "source": [
        "question1_vec = np.array([question2vec(q) for q in df.question1.values])\n",
        "question2_vec = np.array([question2vec(q) for q in df.question2.values])"
      ],
      "execution_count": null,
      "outputs": []
    },
    {
      "cell_type": "code",
      "metadata": {
        "id": "2W-19gLsyctM",
        "colab_type": "code",
        "colab": {}
      },
      "source": [
        "to_pickle(question1_vec, folder+\"question1_vec.pkl\")\n",
        "to_pickle(question2_vec, folder+\"question2_vec.pkl\")"
      ],
      "execution_count": null,
      "outputs": []
    },
    {
      "cell_type": "code",
      "metadata": {
        "id": "oPhSw21T4WNm",
        "colab_type": "code",
        "colab": {}
      },
      "source": [
        "question1_vec = from_pickle(folder+\"question1_vec.pkl\")\n",
        "question2_vec = from_pickle(folder+\"question2_vec.pkl\")"
      ],
      "execution_count": null,
      "outputs": []
    },
    {
      "cell_type": "code",
      "metadata": {
        "id": "Ihdgfz_U4k6M",
        "colab_type": "code",
        "colab": {}
      },
      "source": [
        "df.to_csv(folder+\"train_dup_after.csv\")"
      ],
      "execution_count": null,
      "outputs": []
    },
    {
      "cell_type": "code",
      "metadata": {
        "id": "DDqGKAPj_yY-",
        "colab_type": "code",
        "colab": {
          "base_uri": "https://localhost:8080/",
          "height": 34
        },
        "outputId": "148c3fbe-e231-48fd-c193-bd719904963e"
      },
      "source": [
        "clf = catboost.CatBoostClassifier(depth=6, iterations=1000, learning_rate=0.1, thread_count=16, logging_level='Silent')\n",
        "clf.fit(train, y_train)"
      ],
      "execution_count": null,
      "outputs": [
        {
          "output_type": "execute_result",
          "data": {
            "text/plain": [
              "<catboost.core.CatBoostClassifier at 0x7f0d33d0c898>"
            ]
          },
          "metadata": {
            "tags": []
          },
          "execution_count": 90
        }
      ]
    },
    {
      "cell_type": "code",
      "metadata": {
        "id": "mRARdQpsAy2B",
        "colab_type": "code",
        "colab": {}
      },
      "source": [
        "y_pred = clf.predict(test)"
      ],
      "execution_count": null,
      "outputs": []
    },
    {
      "cell_type": "code",
      "metadata": {
        "id": "MEuf3XfZBFBL",
        "colab_type": "code",
        "colab": {
          "base_uri": "https://localhost:8080/",
          "height": 51
        },
        "outputId": "9cfc9535-2906-4163-b8c5-d9f3a0a8e713"
      },
      "source": [
        "confusion_matrix(y_test, y_pred)"
      ],
      "execution_count": null,
      "outputs": [
        {
          "output_type": "execute_result",
          "data": {
            "text/plain": [
              "array([[40934, 10011],\n",
              "       [10380, 19533]])"
            ]
          },
          "metadata": {
            "tags": []
          },
          "execution_count": 92
        }
      ]
    },
    {
      "cell_type": "code",
      "metadata": {
        "id": "D1pFnT5SAq9B",
        "colab_type": "code",
        "colab": {
          "base_uri": "https://localhost:8080/",
          "height": 34
        },
        "outputId": "82cc4aa5-9689-4f04-d08d-b271c3ba8ef5"
      },
      "source": [
        "y_pred = clf.predict_proba(test)[:, 1]\n",
        "print('AUC:', roc_auc_score(y_test, y_pred))"
      ],
      "execution_count": null,
      "outputs": [
        {
          "output_type": "stream",
          "text": [
            "AUC: 0.8334082569946515\n"
          ],
          "name": "stdout"
        }
      ]
    }
  ]
}