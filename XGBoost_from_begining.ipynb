{
  "nbformat": 4,
  "nbformat_minor": 0,
  "metadata": {
    "colab": {
      "name": "XGBoost_from_begining.ipynb",
      "provenance": [],
      "collapsed_sections": [],
      "mount_file_id": "1O2-My8fIDEEL3mJkmuIUVOTY6Er7ZFqQ",
      "authorship_tag": "ABX9TyNZAaiAOg64bGO7yddKP8FW",
      "include_colab_link": true
    },
    "kernelspec": {
      "name": "python3",
      "display_name": "Python 3"
    },
    "accelerator": "GPU"
  },
  "cells": [
    {
      "cell_type": "markdown",
      "metadata": {
        "id": "view-in-github",
        "colab_type": "text"
      },
      "source": [
        "<a href=\"https://colab.research.google.com/github/imvladikon/quora-question-pair/blob/xgboost_66/XGBoost_from_begining.ipynb\" target=\"_parent\"><img src=\"https://colab.research.google.com/assets/colab-badge.svg\" alt=\"Open In Colab\"/></a>"
      ]
    },
    {
      "cell_type": "code",
      "metadata": {
        "id": "a_8ySmCsyWw8",
        "colab_type": "code",
        "colab": {
          "base_uri": "https://localhost:8080/",
          "height": 35
        },
        "outputId": "31e70393-df5e-4170-f77a-5f17ff9fd432"
      },
      "source": [
        "from google.colab import drive\n",
        "drive.mount('/content/drive')"
      ],
      "execution_count": 2,
      "outputs": [
        {
          "output_type": "stream",
          "text": [
            "Drive already mounted at /content/drive; to attempt to forcibly remount, call drive.mount(\"/content/drive\", force_remount=True).\n"
          ],
          "name": "stdout"
        }
      ]
    },
    {
      "cell_type": "code",
      "metadata": {
        "id": "2wJ4bcSYvCqk",
        "colab_type": "code",
        "colab": {}
      },
      "source": [
        "%matplotlib inline\n",
        "import pandas as pd\n",
        "import pickle\n",
        "import numpy as np\n",
        "import seaborn as sns\n",
        "import matplotlib.pyplot as plt\n",
        "from sklearn.model_selection import train_test_split\n",
        "from sklearn.metrics import confusion_matrix, accuracy_score,\\\n",
        "        precision_score, recall_score, f1_score, roc_auc_score,auc, \\\n",
        "average_precision_score,precision_recall_curve, \\\n",
        "classification_report, roc_curve,confusion_matrix\n",
        " \n",
        "from scipy.spatial.distance import cosine\n",
        "from xgboost import XGBClassifier\n",
        "from sklearn.model_selection import GridSearchCV\n",
        "import xgboost as xgb\n",
        "import warnings\n",
        "warnings.filterwarnings('ignore')\n",
        "from sklearn.model_selection import KFold\n",
        "from sklearn.model_selection import StratifiedKFold\n",
        "from sklearn.model_selection import cross_val_score\n",
        "import re\n",
        "from string import punctuation\n",
        "from nltk.stem import SnowballStemmer\n",
        "from nltk.corpus import stopwords"
      ],
      "execution_count": 20,
      "outputs": []
    },
    {
      "cell_type": "code",
      "metadata": {
        "id": "p3Qe_YU1vTei",
        "colab_type": "code",
        "colab": {}
      },
      "source": [
        "def find_best_threshold(thresholds, fpr, tpr):\n",
        "    \"\"\"\n",
        "    find the best threshold from the roc curve. by finding the threshold for \n",
        "    the point which is closest to (fpr=0,tpr=1)\n",
        "    \"\"\"\n",
        "    fpr_tpr = pd.DataFrame({'thresholds': thresholds, 'fpr': fpr, 'tpr': tpr})\n",
        "    fpr_tpr['dist'] = (fpr_tpr['fpr'])**2 + (fpr_tpr['tpr']-1)**2\n",
        "    return fpr_tpr.loc[fpr_tpr.dist.idxmin(), 'thresholds']\n",
        "\n",
        "\n",
        "def get_model_results(model, X_train, X_test, y_train, y_test, title):\n",
        "    \"\"\" gets model,train and test sets with labels\n",
        "    returns the AUC-ROC plot for train and test sets \n",
        "    and classification_report\n",
        "    \n",
        "    **Note:** only for binary classification\n",
        "    \"\"\"\n",
        "    #find_best_threshold and predict_proba X_test\n",
        "    probabilities = model.predict_proba(X_test)[:,1]\n",
        "    fpr, tpr, thresholds = roc_curve(y_test, probabilities)\n",
        "    threshold = find_best_threshold(thresholds, fpr, tpr)\n",
        "    predictions = probabilities > threshold\n",
        "    \n",
        "    fig = plt.figure(figsize = (18,5))\n",
        "    # calculate precision-recall curve\n",
        "    precision, recall, thresholds = \\\n",
        "    precision_recall_curve(y_test,probabilities, pos_label=1)\n",
        "    precision, recall = np.round(precision, 2), np.round(recall, 2)\n",
        "    # average precision score\n",
        "    avg_precision = average_precision_score(y_test,probabilities,pos_label=1)\n",
        "    # precision auc\n",
        "    pr_auc = auc(recall, precision)\n",
        "    \n",
        "    #PR Curve X_Test\n",
        "    ax1 = plt.subplot(121)\n",
        "    ax1.plot(recall, precision, lw=1, color='blue', \n",
        "             label=f'AP={round(avg_precision,3)}; AUC={round(pr_auc,3)}') \n",
        "    plt.fill_between(recall, precision,-1, \n",
        "                     facecolor='lightblue', alpha=0.5)\n",
        "    plt.xlabel('Recall (TPR)')\n",
        "    plt.ylim(0,1)\n",
        "\n",
        "    plt.ylabel('Precision')\n",
        "    plt.legend(loc=\"best\")\n",
        "    plt.title(f'PR Curve for {title}');\n",
        "\n",
        "     \n",
        "    # calculate AUC-ROC curve for X_test\n",
        "    fpr, tpr, thresholds = roc_curve(y_test,probabilities,pos_label=1)\n",
        "    roc_auc = auc(fpr, tpr)\n",
        "    ns_probs = [0 for _ in range(len(y_test))]\n",
        "    ns_auc = roc_auc_score(y_test, ns_probs)\n",
        "    ns_fpr, ns_tpr, _ = roc_curve(y_test, ns_probs)\n",
        "\n",
        "    ax2 = plt.subplot(122)\n",
        "    ax2.plot(fpr, tpr, lw=1, color='red',\n",
        "             label=f\"AUC-ROC X_Test= {round(roc_auc,4)}\") \n",
        "    \n",
        "    # calculate AUC-ROC curve for X_Train\n",
        "    probabilities_train = model.predict_proba(X_train)[:,1]\n",
        "    fpr, tpr, thresholds = roc_curve(y_train, probabilities_train)\n",
        "    \n",
        "    ax2.plot(fpr, tpr, label='X_Train')\n",
        "    ax2.plot(ns_fpr, ns_tpr, color='grey',\n",
        "             linestyle='--', label='Baseline')\n",
        "    plt.xlabel(\"False Positive Rate\")\n",
        "    plt.ylabel(\"True Positive Rate (Recall)\")\n",
        "    plt.legend(loc=\"best\")\n",
        "    plt.title(f'AUC-ROC Curve for {title}');\n",
        "    \n",
        "    print(classification_report(y_test, predictions))"
      ],
      "execution_count": 5,
      "outputs": []
    },
    {
      "cell_type": "markdown",
      "metadata": {
        "id": "98HpRqCeMe3W",
        "colab_type": "text"
      },
      "source": [
        "Load the data and check the shape"
      ]
    },
    {
      "cell_type": "code",
      "metadata": {
        "id": "WnjevfjAybB-",
        "colab_type": "code",
        "colab": {
          "base_uri": "https://localhost:8080/",
          "height": 35
        },
        "outputId": "f1d7685e-8559-4bf5-c349-f3c716305e92"
      },
      "source": [
        "df = pd.read_csv('/content/drive/My Drive/Colab Notebooks/train_dup.csv')\n",
        "df.shape\n"
      ],
      "execution_count": null,
      "outputs": [
        {
          "output_type": "execute_result",
          "data": {
            "text/plain": [
              "(404290, 6)"
            ]
          },
          "metadata": {
            "tags": []
          },
          "execution_count": 4
        }
      ]
    },
    {
      "cell_type": "markdown",
      "metadata": {
        "id": "oy4moMoCVHIf",
        "colab_type": "text"
      },
      "source": [
        "Let's see what we have:"
      ]
    },
    {
      "cell_type": "code",
      "metadata": {
        "id": "tfn5U-xrHsiT",
        "colab_type": "code",
        "colab": {
          "base_uri": "https://localhost:8080/",
          "height": 405
        },
        "outputId": "d704375b-3755-42ad-e0b7-329a105f9885"
      },
      "source": [
        "df"
      ],
      "execution_count": null,
      "outputs": [
        {
          "output_type": "execute_result",
          "data": {
            "text/html": [
              "<div>\n",
              "<style scoped>\n",
              "    .dataframe tbody tr th:only-of-type {\n",
              "        vertical-align: middle;\n",
              "    }\n",
              "\n",
              "    .dataframe tbody tr th {\n",
              "        vertical-align: top;\n",
              "    }\n",
              "\n",
              "    .dataframe thead th {\n",
              "        text-align: right;\n",
              "    }\n",
              "</style>\n",
              "<table border=\"1\" class=\"dataframe\">\n",
              "  <thead>\n",
              "    <tr style=\"text-align: right;\">\n",
              "      <th></th>\n",
              "      <th>id</th>\n",
              "      <th>qid1</th>\n",
              "      <th>qid2</th>\n",
              "      <th>question1</th>\n",
              "      <th>question2</th>\n",
              "      <th>is_duplicate</th>\n",
              "    </tr>\n",
              "  </thead>\n",
              "  <tbody>\n",
              "    <tr>\n",
              "      <th>0</th>\n",
              "      <td>0</td>\n",
              "      <td>1</td>\n",
              "      <td>2</td>\n",
              "      <td>What is the step by step guide to invest in sh...</td>\n",
              "      <td>What is the step by step guide to invest in sh...</td>\n",
              "      <td>0</td>\n",
              "    </tr>\n",
              "    <tr>\n",
              "      <th>1</th>\n",
              "      <td>1</td>\n",
              "      <td>3</td>\n",
              "      <td>4</td>\n",
              "      <td>What is the story of Kohinoor (Koh-i-Noor) Dia...</td>\n",
              "      <td>What would happen if the Indian government sto...</td>\n",
              "      <td>0</td>\n",
              "    </tr>\n",
              "    <tr>\n",
              "      <th>2</th>\n",
              "      <td>2</td>\n",
              "      <td>5</td>\n",
              "      <td>6</td>\n",
              "      <td>How can I increase the speed of my internet co...</td>\n",
              "      <td>How can Internet speed be increased by hacking...</td>\n",
              "      <td>0</td>\n",
              "    </tr>\n",
              "    <tr>\n",
              "      <th>3</th>\n",
              "      <td>3</td>\n",
              "      <td>7</td>\n",
              "      <td>8</td>\n",
              "      <td>Why am I mentally very lonely? How can I solve...</td>\n",
              "      <td>Find the remainder when [math]23^{24}[/math] i...</td>\n",
              "      <td>0</td>\n",
              "    </tr>\n",
              "    <tr>\n",
              "      <th>4</th>\n",
              "      <td>4</td>\n",
              "      <td>9</td>\n",
              "      <td>10</td>\n",
              "      <td>Which one dissolve in water quikly sugar, salt...</td>\n",
              "      <td>Which fish would survive in salt water?</td>\n",
              "      <td>0</td>\n",
              "    </tr>\n",
              "    <tr>\n",
              "      <th>...</th>\n",
              "      <td>...</td>\n",
              "      <td>...</td>\n",
              "      <td>...</td>\n",
              "      <td>...</td>\n",
              "      <td>...</td>\n",
              "      <td>...</td>\n",
              "    </tr>\n",
              "    <tr>\n",
              "      <th>404285</th>\n",
              "      <td>404285</td>\n",
              "      <td>433578</td>\n",
              "      <td>379845</td>\n",
              "      <td>How many keywords are there in the Racket prog...</td>\n",
              "      <td>How many keywords are there in PERL Programmin...</td>\n",
              "      <td>0</td>\n",
              "    </tr>\n",
              "    <tr>\n",
              "      <th>404286</th>\n",
              "      <td>404286</td>\n",
              "      <td>18840</td>\n",
              "      <td>155606</td>\n",
              "      <td>Do you believe there is life after death?</td>\n",
              "      <td>Is it true that there is life after death?</td>\n",
              "      <td>1</td>\n",
              "    </tr>\n",
              "    <tr>\n",
              "      <th>404287</th>\n",
              "      <td>404287</td>\n",
              "      <td>537928</td>\n",
              "      <td>537929</td>\n",
              "      <td>What is one coin?</td>\n",
              "      <td>What's this coin?</td>\n",
              "      <td>0</td>\n",
              "    </tr>\n",
              "    <tr>\n",
              "      <th>404288</th>\n",
              "      <td>404288</td>\n",
              "      <td>537930</td>\n",
              "      <td>537931</td>\n",
              "      <td>What is the approx annual cost of living while...</td>\n",
              "      <td>I am having little hairfall problem but I want...</td>\n",
              "      <td>0</td>\n",
              "    </tr>\n",
              "    <tr>\n",
              "      <th>404289</th>\n",
              "      <td>404289</td>\n",
              "      <td>537932</td>\n",
              "      <td>537933</td>\n",
              "      <td>What is like to have sex with cousin?</td>\n",
              "      <td>What is it like to have sex with your cousin?</td>\n",
              "      <td>0</td>\n",
              "    </tr>\n",
              "  </tbody>\n",
              "</table>\n",
              "<p>404290 rows × 6 columns</p>\n",
              "</div>"
            ],
            "text/plain": [
              "            id  ...  is_duplicate\n",
              "0            0  ...             0\n",
              "1            1  ...             0\n",
              "2            2  ...             0\n",
              "3            3  ...             0\n",
              "4            4  ...             0\n",
              "...        ...  ...           ...\n",
              "404285  404285  ...             0\n",
              "404286  404286  ...             1\n",
              "404287  404287  ...             0\n",
              "404288  404288  ...             0\n",
              "404289  404289  ...             0\n",
              "\n",
              "[404290 rows x 6 columns]"
            ]
          },
          "metadata": {
            "tags": []
          },
          "execution_count": 5
        }
      ]
    },
    {
      "cell_type": "markdown",
      "metadata": {
        "id": "VovNmW4KMjd-",
        "colab_type": "text"
      },
      "source": [
        "Drop unused columns, duplicated rows and rows with Nan"
      ]
    },
    {
      "cell_type": "code",
      "metadata": {
        "id": "i8rwFEHWHy5I",
        "colab_type": "code",
        "colab": {
          "base_uri": "https://localhost:8080/",
          "height": 35
        },
        "outputId": "a38b71a5-4491-46cc-c116-6e18b521c4f2"
      },
      "source": [
        "df = df.dropna().drop_duplicates().drop(['qid1', 'qid2', 'id'], axis=1)\n",
        "df.shape"
      ],
      "execution_count": null,
      "outputs": [
        {
          "output_type": "execute_result",
          "data": {
            "text/plain": [
              "(404287, 3)"
            ]
          },
          "metadata": {
            "tags": []
          },
          "execution_count": 6
        }
      ]
    },
    {
      "cell_type": "markdown",
      "metadata": {
        "id": "SdolWOvoNXYm",
        "colab_type": "text"
      },
      "source": [
        "We lost only 3 rows as nan and duplicated - that's good"
      ]
    },
    {
      "cell_type": "code",
      "metadata": {
        "id": "qSiGnZa4JnJi",
        "colab_type": "code",
        "colab": {
          "base_uri": "https://localhost:8080/",
          "height": 405
        },
        "outputId": "7a42dd6b-41de-44f8-b50c-e7881680c2c1"
      },
      "source": [
        "df"
      ],
      "execution_count": null,
      "outputs": [
        {
          "output_type": "execute_result",
          "data": {
            "text/html": [
              "<div>\n",
              "<style scoped>\n",
              "    .dataframe tbody tr th:only-of-type {\n",
              "        vertical-align: middle;\n",
              "    }\n",
              "\n",
              "    .dataframe tbody tr th {\n",
              "        vertical-align: top;\n",
              "    }\n",
              "\n",
              "    .dataframe thead th {\n",
              "        text-align: right;\n",
              "    }\n",
              "</style>\n",
              "<table border=\"1\" class=\"dataframe\">\n",
              "  <thead>\n",
              "    <tr style=\"text-align: right;\">\n",
              "      <th></th>\n",
              "      <th>question1</th>\n",
              "      <th>question2</th>\n",
              "      <th>is_duplicate</th>\n",
              "    </tr>\n",
              "  </thead>\n",
              "  <tbody>\n",
              "    <tr>\n",
              "      <th>0</th>\n",
              "      <td>What is the step by step guide to invest in sh...</td>\n",
              "      <td>What is the step by step guide to invest in sh...</td>\n",
              "      <td>0</td>\n",
              "    </tr>\n",
              "    <tr>\n",
              "      <th>1</th>\n",
              "      <td>What is the story of Kohinoor (Koh-i-Noor) Dia...</td>\n",
              "      <td>What would happen if the Indian government sto...</td>\n",
              "      <td>0</td>\n",
              "    </tr>\n",
              "    <tr>\n",
              "      <th>2</th>\n",
              "      <td>How can I increase the speed of my internet co...</td>\n",
              "      <td>How can Internet speed be increased by hacking...</td>\n",
              "      <td>0</td>\n",
              "    </tr>\n",
              "    <tr>\n",
              "      <th>3</th>\n",
              "      <td>Why am I mentally very lonely? How can I solve...</td>\n",
              "      <td>Find the remainder when [math]23^{24}[/math] i...</td>\n",
              "      <td>0</td>\n",
              "    </tr>\n",
              "    <tr>\n",
              "      <th>4</th>\n",
              "      <td>Which one dissolve in water quikly sugar, salt...</td>\n",
              "      <td>Which fish would survive in salt water?</td>\n",
              "      <td>0</td>\n",
              "    </tr>\n",
              "    <tr>\n",
              "      <th>...</th>\n",
              "      <td>...</td>\n",
              "      <td>...</td>\n",
              "      <td>...</td>\n",
              "    </tr>\n",
              "    <tr>\n",
              "      <th>404285</th>\n",
              "      <td>How many keywords are there in the Racket prog...</td>\n",
              "      <td>How many keywords are there in PERL Programmin...</td>\n",
              "      <td>0</td>\n",
              "    </tr>\n",
              "    <tr>\n",
              "      <th>404286</th>\n",
              "      <td>Do you believe there is life after death?</td>\n",
              "      <td>Is it true that there is life after death?</td>\n",
              "      <td>1</td>\n",
              "    </tr>\n",
              "    <tr>\n",
              "      <th>404287</th>\n",
              "      <td>What is one coin?</td>\n",
              "      <td>What's this coin?</td>\n",
              "      <td>0</td>\n",
              "    </tr>\n",
              "    <tr>\n",
              "      <th>404288</th>\n",
              "      <td>What is the approx annual cost of living while...</td>\n",
              "      <td>I am having little hairfall problem but I want...</td>\n",
              "      <td>0</td>\n",
              "    </tr>\n",
              "    <tr>\n",
              "      <th>404289</th>\n",
              "      <td>What is like to have sex with cousin?</td>\n",
              "      <td>What is it like to have sex with your cousin?</td>\n",
              "      <td>0</td>\n",
              "    </tr>\n",
              "  </tbody>\n",
              "</table>\n",
              "<p>404287 rows × 3 columns</p>\n",
              "</div>"
            ],
            "text/plain": [
              "                                                question1  ... is_duplicate\n",
              "0       What is the step by step guide to invest in sh...  ...            0\n",
              "1       What is the story of Kohinoor (Koh-i-Noor) Dia...  ...            0\n",
              "2       How can I increase the speed of my internet co...  ...            0\n",
              "3       Why am I mentally very lonely? How can I solve...  ...            0\n",
              "4       Which one dissolve in water quikly sugar, salt...  ...            0\n",
              "...                                                   ...  ...          ...\n",
              "404285  How many keywords are there in the Racket prog...  ...            0\n",
              "404286          Do you believe there is life after death?  ...            1\n",
              "404287                                  What is one coin?  ...            0\n",
              "404288  What is the approx annual cost of living while...  ...            0\n",
              "404289              What is like to have sex with cousin?  ...            0\n",
              "\n",
              "[404287 rows x 3 columns]"
            ]
          },
          "metadata": {
            "tags": []
          },
          "execution_count": 7
        }
      ]
    },
    {
      "cell_type": "markdown",
      "metadata": {
        "id": "m9ElxPsrMX6q",
        "colab_type": "text"
      },
      "source": [
        "Check statistics for target feature"
      ]
    },
    {
      "cell_type": "code",
      "metadata": {
        "id": "eWkYTD5wH9rP",
        "colab_type": "code",
        "colab": {
          "base_uri": "https://localhost:8080/",
          "height": 286
        },
        "outputId": "03de479e-0295-4db2-aa61-36a7586fa972"
      },
      "source": [
        "df.describe()"
      ],
      "execution_count": null,
      "outputs": [
        {
          "output_type": "execute_result",
          "data": {
            "text/html": [
              "<div>\n",
              "<style scoped>\n",
              "    .dataframe tbody tr th:only-of-type {\n",
              "        vertical-align: middle;\n",
              "    }\n",
              "\n",
              "    .dataframe tbody tr th {\n",
              "        vertical-align: top;\n",
              "    }\n",
              "\n",
              "    .dataframe thead th {\n",
              "        text-align: right;\n",
              "    }\n",
              "</style>\n",
              "<table border=\"1\" class=\"dataframe\">\n",
              "  <thead>\n",
              "    <tr style=\"text-align: right;\">\n",
              "      <th></th>\n",
              "      <th>is_duplicate</th>\n",
              "    </tr>\n",
              "  </thead>\n",
              "  <tbody>\n",
              "    <tr>\n",
              "      <th>count</th>\n",
              "      <td>404287.000000</td>\n",
              "    </tr>\n",
              "    <tr>\n",
              "      <th>mean</th>\n",
              "      <td>0.369201</td>\n",
              "    </tr>\n",
              "    <tr>\n",
              "      <th>std</th>\n",
              "      <td>0.482589</td>\n",
              "    </tr>\n",
              "    <tr>\n",
              "      <th>min</th>\n",
              "      <td>0.000000</td>\n",
              "    </tr>\n",
              "    <tr>\n",
              "      <th>25%</th>\n",
              "      <td>0.000000</td>\n",
              "    </tr>\n",
              "    <tr>\n",
              "      <th>50%</th>\n",
              "      <td>0.000000</td>\n",
              "    </tr>\n",
              "    <tr>\n",
              "      <th>75%</th>\n",
              "      <td>1.000000</td>\n",
              "    </tr>\n",
              "    <tr>\n",
              "      <th>max</th>\n",
              "      <td>1.000000</td>\n",
              "    </tr>\n",
              "  </tbody>\n",
              "</table>\n",
              "</div>"
            ],
            "text/plain": [
              "        is_duplicate\n",
              "count  404287.000000\n",
              "mean        0.369201\n",
              "std         0.482589\n",
              "min         0.000000\n",
              "25%         0.000000\n",
              "50%         0.000000\n",
              "75%         1.000000\n",
              "max         1.000000"
            ]
          },
          "metadata": {
            "tags": []
          },
          "execution_count": 8
        }
      ]
    },
    {
      "cell_type": "markdown",
      "metadata": {
        "id": "3xBbdsXGMxGJ",
        "colab_type": "text"
      },
      "source": [
        "Plot the distribution of the target feature"
      ]
    },
    {
      "cell_type": "code",
      "metadata": {
        "id": "PBMGbvxyJdNL",
        "colab_type": "code",
        "colab": {
          "base_uri": "https://localhost:8080/",
          "height": 344
        },
        "outputId": "69054baa-e4bd-48df-d9bc-b9a6d9e472a3"
      },
      "source": [
        "plt.figure(figsize=(5,3))\n",
        "bar = sns.countplot(x='is_duplicate', data=df)\n",
        "plt.text(0.5, 298000,\"Distribution of  'is_duplicate'\",\n",
        "     horizontalalignment='center',\n",
        "     verticalalignment='top',\n",
        "        fontsize=15)\n",
        "plt.subplots_adjust(top=1.3)\n",
        "for p in bar.patches:\n",
        "        bar.annotate('{}%'.format(round(p.get_height()/len(df)*100,2), '.2f'), \\\n",
        "                       (p.get_x() + p.get_width() / 2.,p.get_height()),ha = 'center', \\\n",
        "                       va = 'center',xytext = (0, 10),textcoords = 'offset points',size = 14);"
      ],
      "execution_count": null,
      "outputs": [
        {
          "output_type": "display_data",
          "data": {
            "image/png": "[encoded data removed]",
            "text/plain": [
              "<Figure size 360x216 with 1 Axes>"
            ]
          },
          "metadata": {
            "tags": [],
            "needs_background": "light"
          }
        }
      ]
    },
    {
      "cell_type": "markdown",
      "metadata": {
        "id": "9lBgO44wNFlw",
        "colab_type": "text"
      },
      "source": [
        "Data is unballanced we can leave it like it is and later on try to undersemple it and compare results<br>\n",
        "Here the link about XGBoost classifier and imballansed data:\n",
        "https://machinelearningmastery.com/xgboost-for-imbalanced-classification/<br>\n",
        "Before cleaning the text, we preview a few question pairs to determine how to clean them."
      ]
    },
    {
      "cell_type": "code",
      "metadata": {
        "id": "2RsKEHQsNIPl",
        "colab_type": "code",
        "colab": {
          "base_uri": "https://localhost:8080/",
          "height": 561
        },
        "outputId": "27f2a802-651a-45a5-f8d2-ff77fae84316"
      },
      "source": [
        "a = 0 \n",
        "for i in range(a,a+10):\n",
        "    print(df.question1[i])\n",
        "    print(df.question2[i])\n",
        "    print()"
      ],
      "execution_count": null,
      "outputs": [
        {
          "output_type": "stream",
          "text": [
            "What is the step by step guide to invest in share market in india?\n",
            "What is the step by step guide to invest in share market?\n",
            "\n",
            "What is the story of Kohinoor (Koh-i-Noor) Diamond?\n",
            "What would happen if the Indian government stole the Kohinoor (Koh-i-Noor) diamond back?\n",
            "\n",
            "How can I increase the speed of my internet connection while using a VPN?\n",
            "How can Internet speed be increased by hacking through DNS?\n",
            "\n",
            "Why am I mentally very lonely? How can I solve it?\n",
            "Find the remainder when [math]23^{24}[/math] is divided by 24,23?\n",
            "\n",
            "Which one dissolve in water quikly sugar, salt, methane and carbon di oxide?\n",
            "Which fish would survive in salt water?\n",
            "\n",
            "Astrology: I am a Capricorn Sun Cap moon and cap rising...what does that say about me?\n",
            "I'm a triple Capricorn (Sun, Moon and ascendant in Capricorn) What does this say about me?\n",
            "\n",
            "Should I buy tiago?\n",
            "What keeps childern active and far from phone and video games?\n",
            "\n",
            "How can I be a good geologist?\n",
            "What should I do to be a great geologist?\n",
            "\n",
            "When do you use シ instead of し?\n",
            "When do you use \"&\" instead of \"and\"?\n",
            "\n",
            "Motorola (company): Can I hack my Charter Motorolla DCX3400?\n",
            "How do I hack Motorola DCX3400 for free internet?\n",
            "\n"
          ],
          "name": "stdout"
        }
      ]
    },
    {
      "cell_type": "markdown",
      "metadata": {
        "id": "4avO13TIOL6e",
        "colab_type": "text"
      },
      "source": [
        " After some inspections, a few tries and ideas from https://www.kaggle.com/currie32/the-importance-of-cleaning-text and https://towardsdatascience.com/finding-similar-quora-questions-with-bow-tfidf-and-random-forest-c54ad88d1370 , I decided to clean the text as follows:\n",
        "\n",
        "* Not to remove stop words, because words like “what”, “which” and “how” may have strong signals.\n",
        "* Not to stem words.\n",
        "* Remove punctuation.\n",
        "* Correct typos.\n",
        "* Change abbreviations to its original terms.\n",
        "* Remove comma between numbers.\n",
        "* Change special chars to words. And so on.\n"
      ]
    },
    {
      "cell_type": "code",
      "metadata": {
        "id": "N5SKBy_mLMA8",
        "colab_type": "code",
        "colab": {}
      },
      "source": [
        "\n",
        "SPECIAL_TOKENS = {\n",
        "    'quoted': 'quoted_item',\n",
        "    'non-ascii': 'non_ascii_word',\n",
        "    'undefined': 'something'\n",
        "}\n",
        "\n",
        "def pad_str(s):\n",
        "  return ' '+s+' '\n",
        "    \n",
        "    \n",
        "def clean(text, stem_words=True):\n",
        "\n",
        "  if pd.isnull(text):\n",
        "    return ''\n",
        "\n",
        "  # Empty question\n",
        "  if type(text) != str or text=='':\n",
        "    return ''\n",
        "\n",
        "  # Clean the text\n",
        "  text = re.sub(\"\\'s\", \" \", text) # we have cases like \"Sam is\" or \"Sam's\" (i.e. his) these two cases aren't separable, I choose to compromise are kill \"'s\" directly\n",
        "  text = re.sub(\" whats \", \" what is \", text, flags=re.IGNORECASE)\n",
        "  text = re.sub(\"\\'ve\", \" have \", text)\n",
        "  text = re.sub(\"can't\", \"can not\", text)\n",
        "  text = re.sub(\"n't\", \" not \", text)\n",
        "  text = re.sub(\"i'm\", \"i am\", text, flags=re.IGNORECASE)\n",
        "  text = re.sub(\"\\'re\", \" are \", text)\n",
        "  text = re.sub(\"\\'d\", \" would \", text)\n",
        "  text = re.sub(\"\\'ll\", \" will \", text)\n",
        "  text = re.sub(\"e\\.g\\.\", \" eg \", text, flags=re.IGNORECASE)\n",
        "  text = re.sub(\"b\\.g\\.\", \" bg \", text, flags=re.IGNORECASE)\n",
        "  text = re.sub(\"(\\d+)(kK)\", \" \\g<1>000 \", text)\n",
        "  text = re.sub(\"e-mail\", \" email \", text, flags=re.IGNORECASE)\n",
        "  text = re.sub(\"(the[\\s]+|The[\\s]+)?U\\.S\\.A\\.\", \" America \", text, flags=re.IGNORECASE)\n",
        "  text = re.sub(\"(the[\\s]+|The[\\s]+)?United State(s)?\", \" America \", text, flags=re.IGNORECASE)\n",
        "  text = re.sub(\"\\(s\\)\", \" \", text, flags=re.IGNORECASE)\n",
        "  text = re.sub(\"[c-fC-F]\\:\\/\", \" disk \", text)\n",
        "\n",
        "  # remove comma between numbers, i.e. 15,000 -> 15000\n",
        "  text = re.sub('(?<=[0-9])\\,(?=[0-9])', \"\", text)\n",
        "\n",
        "  # add padding to punctuations and special chars, we still need them later\n",
        "  text = re.sub('\\$', \" dollar \", text)\n",
        "  text = re.sub('\\%', \" percent \", text)\n",
        "  text = re.sub('\\&', \" and \", text)\n",
        "\n",
        "# replace non-ascii word with special word\n",
        "  text = re.sub('[^\\x00-\\x7F]+', pad_str(SPECIAL_TOKENS['non-ascii']), text)     \n",
        "    \n",
        "  # indian dollar\n",
        "  text = re.sub(\"(?<=[0-9])rs \", \" rs \", text, flags=re.IGNORECASE)\n",
        "  text = re.sub(\" rs(?=[0-9])\", \" rs \", text, flags=re.IGNORECASE)\n",
        "\n",
        "  # indian dollar\n",
        "  text = re.sub(\"(?<=[0-9])rs \", \" rs \", text, flags=re.IGNORECASE)\n",
        "  text = re.sub(\" rs(?=[0-9])\", \" rs \", text, flags=re.IGNORECASE)\n",
        "    \n",
        "\n",
        "# clean text rules get from : https://www.kaggle.com/currie32/the-importance-of-cleaning-text\n",
        "  text = re.sub(r\" (the[\\s]+|The[\\s]+)?US(A)? \", \" America \", text)\n",
        "  text = re.sub(r\" UK \", \" England \", text, flags=re.IGNORECASE)\n",
        "  text = re.sub(r\" india \", \" India \", text)\n",
        "  text = re.sub(r\" switzerland \", \" Switzerland \", text)\n",
        "  text = re.sub(r\" china \", \" China \", text)\n",
        "  text = re.sub(r\" chinese \", \" Chinese \", text) \n",
        "  text = re.sub(r\" imrovement \", \" improvement \", text, flags=re.IGNORECASE)\n",
        "  text = re.sub(r\" intially \", \" initially \", text, flags=re.IGNORECASE)\n",
        "  text = re.sub(r\" quora \", \" Quora \", text, flags=re.IGNORECASE)\n",
        "  text = re.sub(r\" dms \", \" direct messages \", text, flags=re.IGNORECASE)  \n",
        "  text = re.sub(r\" demonitization \", \" demonetization \", text, flags=re.IGNORECASE) \n",
        "  text = re.sub(r\" actived \", \" active \", text, flags=re.IGNORECASE)\n",
        "  text = re.sub(r\" kms \", \" kilometers \", text, flags=re.IGNORECASE)\n",
        "  text = re.sub(r\" cs \", \" computer science \", text, flags=re.IGNORECASE) \n",
        "  text = re.sub(r\" upvote\", \" up vote\", text, flags=re.IGNORECASE)\n",
        "  text = re.sub(r\" iPhone \", \" phone \", text, flags=re.IGNORECASE)\n",
        "  text = re.sub(r\" \\0rs \", \" rs \", text, flags=re.IGNORECASE)\n",
        "  text = re.sub(r\" calender \", \" calendar \", text, flags=re.IGNORECASE)\n",
        "  text = re.sub(r\" ios \", \" operating system \", text, flags=re.IGNORECASE)\n",
        "  text = re.sub(r\" gps \", \" GPS \", text, flags=re.IGNORECASE)\n",
        "  text = re.sub(r\" gst \", \" GST \", text, flags=re.IGNORECASE)\n",
        "  text = re.sub(r\" programing \", \" programming \", text, flags=re.IGNORECASE)\n",
        "  text = re.sub(r\" bestfriend \", \" best friend \", text, flags=re.IGNORECASE)\n",
        "  text = re.sub(r\" dna \", \" DNA \", text, flags=re.IGNORECASE)\n",
        "  text = re.sub(r\" III \", \" 3 \", text)\n",
        "  text = re.sub(r\" banglore \", \" Banglore \", text, flags=re.IGNORECASE)\n",
        "  text = re.sub(r\" J K \", \" JK \", text, flags=re.IGNORECASE)\n",
        "  text = re.sub(r\" J\\.K\\. \", \" JK \", text, flags=re.IGNORECASE)\n",
        "\n",
        "\n",
        "  # replace the float numbers with a random number, it will be parsed as number afterward, and also been replaced with word \"number\"\n",
        "    \n",
        "  text = re.sub('[0-9]+\\.[0-9]+', \" 87 \", text)\n",
        "  \n",
        "    \n",
        "  # Remove punctuation from text\n",
        "  text = ''.join([c for c in text if c not in punctuation]).lower()\n",
        "  # Return a list of words\n",
        "  return text\n",
        "\n",
        "df['question1'] = df['question1'].apply(clean)\n",
        "df['question2'] = df['question2'].apply(clean)"
      ],
      "execution_count": null,
      "outputs": []
    },
    {
      "cell_type": "markdown",
      "metadata": {
        "id": "4RsnR8OZTKl9",
        "colab_type": "text"
      },
      "source": [
        "After cleaning text, we preview those question pairs again."
      ]
    },
    {
      "cell_type": "code",
      "metadata": {
        "id": "ymJ0JsJLSgwu",
        "colab_type": "code",
        "colab": {
          "base_uri": "https://localhost:8080/",
          "height": 561
        },
        "outputId": "bf128716-9d2d-4b3e-bbcc-89dbcf557c73"
      },
      "source": [
        "a = 0 \n",
        "for i in range(a,a+10):\n",
        "    print(df.question1[i])\n",
        "    print(df.question2[i])\n",
        "    print()"
      ],
      "execution_count": null,
      "outputs": [
        {
          "output_type": "stream",
          "text": [
            "what is the step by step guide to invest in share market in india\n",
            "what is the step by step guide to invest in share market\n",
            "\n",
            "what is the story of kohinoor kohinoor diamond\n",
            "what would happen if the indian government stole the kohinoor kohinoor diamond back\n",
            "\n",
            "how can i increase the speed of my internet connection while using a vpn\n",
            "how can internet speed be increased by hacking through dns\n",
            "\n",
            "why am i mentally very lonely how can i solve it\n",
            "find the remainder when math2324math is divided by 2423\n",
            "\n",
            "which one dissolve in water quikly sugar salt methane and carbon di oxide\n",
            "which fish would survive in salt water\n",
            "\n",
            "astrology i am a capricorn sun cap moon and cap risingwhat does that say about me\n",
            "i am a triple capricorn sun moon and ascendant in capricorn what does this say about me\n",
            "\n",
            "should i buy tiago\n",
            "what keeps childern active and far from phone and video games\n",
            "\n",
            "how can i be a good geologist\n",
            "what should i do to be a great geologist\n",
            "\n",
            "when do you use  nonasciiword  instead of  nonasciiword \n",
            "when do you use  and  instead of and\n",
            "\n",
            "motorola company can i hack my charter motorolla dcx3400\n",
            "how do i hack motorola dcx3400 for free internet\n",
            "\n"
          ],
          "name": "stdout"
        }
      ]
    },
    {
      "cell_type": "markdown",
      "metadata": {
        "id": "R66GuWnnThmb",
        "colab_type": "text"
      },
      "source": [
        "Much better"
      ]
    },
    {
      "cell_type": "markdown",
      "metadata": {
        "id": "-iyYNvjqThjO",
        "colab_type": "text"
      },
      "source": [
        "# Xgboost Model + CountVectorizer"
      ]
    },
    {
      "cell_type": "code",
      "metadata": {
        "id": "mtChrnLEYClC",
        "colab_type": "code",
        "colab": {}
      },
      "source": [
        "from sklearn.feature_extraction.text import CountVectorizer\n",
        "import scipy\n",
        "from sklearn.metrics import f1_score, classification_report, accuracy_score\n"
      ],
      "execution_count": null,
      "outputs": []
    },
    {
      "cell_type": "markdown",
      "metadata": {
        "id": "paG79q-iitl9",
        "colab_type": "text"
      },
      "source": [
        "### CountVectorizer"
      ]
    },
    {
      "cell_type": "code",
      "metadata": {
        "id": "YqoMbrAxS46r",
        "colab_type": "code",
        "colab": {}
      },
      "source": [
        "count_vect = CountVectorizer(analyzer='word', token_pattern=r'\\w{1,}')\n",
        "count_vect.fit(pd.concat((df['question1'],df['question2'])).unique())\n",
        "\n",
        "trainq1_trans = count_vect.transform(df['question1'].values)\n",
        "trainq2_trans = count_vect.transform(df['question2'].values)\n",
        "labels = df['is_duplicate'].values\n",
        "X = scipy.sparse.hstack((trainq1_trans,trainq2_trans))\n",
        "y = labels\n",
        "X_train,X_test,y_train,y_test = train_test_split(X,y, test_size = 0.1)\n"
      ],
      "execution_count": null,
      "outputs": []
    },
    {
      "cell_type": "markdown",
      "metadata": {
        "id": "sMOcfcvtjCEH",
        "colab_type": "text"
      },
      "source": [
        "### XGBClassifier"
      ]
    },
    {
      "cell_type": "code",
      "metadata": {
        "id": "ACaLFj11X8RY",
        "colab_type": "code",
        "colab": {
          "base_uri": "https://localhost:8080/",
          "height": 1000
        },
        "outputId": "0e8e7747-d2fd-4e93-f13e-ed861768e361"
      },
      "source": [
        "\n",
        "\n",
        "xgb_model = xgb.XGBClassifier(max_depth=50, n_estimators=80, \n",
        "                              learning_rate=0.1, colsample_bytree=.7, \n",
        "                              gamma=0, reg_alpha=4, objective='binary:logistic', \n",
        "                              eta=0.3, silent=1, subsample=0.8) \n",
        "xgb_model.fit(X_train, y_train, \n",
        "              early_stopping_rounds=3, \n",
        "              eval_metric=[\"error\", \"logloss\"], \n",
        "              eval_set=[(X_train, y_train), (X_test, y_test)], \n",
        "              verbose=True)\n",
        "                              \n",
        "y_pred = xgb_model.predict(X_test)\n"
      ],
      "execution_count": null,
      "outputs": [
        {
          "output_type": "stream",
          "text": [
            "[0]\tvalidation_0-error:0.251474\tvalidation_0-logloss:0.662132\tvalidation_1-error:0.277994\tvalidation_1-logloss:0.665848\n",
            "Multiple eval metrics have been passed: 'validation_1-logloss' will be used for early stopping.\n",
            "\n",
            "Will train until validation_1-logloss hasn't improved in 10 rounds.\n",
            "[1]\tvalidation_0-error:0.236524\tvalidation_0-logloss:0.638101\tvalidation_1-error:0.266294\tvalidation_1-logloss:0.644654\n",
            "[2]\tvalidation_0-error:0.230362\tvalidation_0-logloss:0.61694\tvalidation_1-error:0.260407\tvalidation_1-logloss:0.626396\n",
            "[3]\tvalidation_0-error:0.227207\tvalidation_0-logloss:0.598575\tvalidation_1-error:0.2564\tvalidation_1-logloss:0.610435\n",
            "[4]\tvalidation_0-error:0.223109\tvalidation_0-logloss:0.581568\tvalidation_1-error:0.252245\tvalidation_1-logloss:0.595847\n",
            "[5]\tvalidation_0-error:0.222109\tvalidation_0-logloss:0.567272\tvalidation_1-error:0.251453\tvalidation_1-logloss:0.584072\n",
            "[6]\tvalidation_0-error:0.218214\tvalidation_0-logloss:0.552719\tvalidation_1-error:0.248831\tvalidation_1-logloss:0.571977\n",
            "[7]\tvalidation_0-error:0.214182\tvalidation_0-logloss:0.540131\tvalidation_1-error:0.245814\tvalidation_1-logloss:0.561609\n",
            "[8]\tvalidation_0-error:0.214776\tvalidation_0-logloss:0.532124\tvalidation_1-error:0.246927\tvalidation_1-logloss:0.554745\n",
            "[9]\tvalidation_0-error:0.212193\tvalidation_0-logloss:0.522071\tvalidation_1-error:0.245591\tvalidation_1-logloss:0.546905\n",
            "[10]\tvalidation_0-error:0.207949\tvalidation_0-logloss:0.511741\tvalidation_1-error:0.243563\tvalidation_1-logloss:0.538751\n",
            "[11]\tvalidation_0-error:0.205704\tvalidation_0-logloss:0.502913\tvalidation_1-error:0.242054\tvalidation_1-logloss:0.532163\n",
            "[12]\tvalidation_0-error:0.20375\tvalidation_0-logloss:0.495327\tvalidation_1-error:0.240916\tvalidation_1-logloss:0.526527\n",
            "[13]\tvalidation_0-error:0.201903\tvalidation_0-logloss:0.487842\tvalidation_1-error:0.239853\tvalidation_1-logloss:0.52118\n",
            "[14]\tvalidation_0-error:0.200771\tvalidation_0-logloss:0.481886\tvalidation_1-error:0.239333\tvalidation_1-logloss:0.516694\n",
            "[15]\tvalidation_0-error:0.198987\tvalidation_0-logloss:0.475711\tvalidation_1-error:0.237874\tvalidation_1-logloss:0.512248\n",
            "[16]\tvalidation_0-error:0.19625\tvalidation_0-logloss:0.468447\tvalidation_1-error:0.236414\tvalidation_1-logloss:0.507284\n",
            "[17]\tvalidation_0-error:0.194755\tvalidation_0-logloss:0.463381\tvalidation_1-error:0.235153\tvalidation_1-logloss:0.50342\n",
            "[18]\tvalidation_0-error:0.193402\tvalidation_0-logloss:0.458697\tvalidation_1-error:0.234386\tvalidation_1-logloss:0.499982\n",
            "[19]\tvalidation_0-error:0.192281\tvalidation_0-logloss:0.454787\tvalidation_1-error:0.233149\tvalidation_1-logloss:0.496957\n",
            "[20]\tvalidation_0-error:0.190981\tvalidation_0-logloss:0.450893\tvalidation_1-error:0.232185\tvalidation_1-logloss:0.494084\n",
            "[21]\tvalidation_0-error:0.189596\tvalidation_0-logloss:0.447022\tvalidation_1-error:0.231022\tvalidation_1-logloss:0.491291\n",
            "[22]\tvalidation_0-error:0.188535\tvalidation_0-logloss:0.443901\tvalidation_1-error:0.230503\tvalidation_1-logloss:0.489126\n",
            "[23]\tvalidation_0-error:0.1871\tvalidation_0-logloss:0.439988\tvalidation_1-error:0.230033\tvalidation_1-logloss:0.486469\n",
            "[24]\tvalidation_0-error:0.186056\tvalidation_0-logloss:0.436946\tvalidation_1-error:0.228994\tvalidation_1-logloss:0.484124\n",
            "[25]\tvalidation_0-error:0.184756\tvalidation_0-logloss:0.433971\tvalidation_1-error:0.228227\tvalidation_1-logloss:0.481977\n",
            "[26]\tvalidation_0-error:0.183679\tvalidation_0-logloss:0.431293\tvalidation_1-error:0.22746\tvalidation_1-logloss:0.480105\n",
            "[27]\tvalidation_0-error:0.18247\tvalidation_0-logloss:0.428854\tvalidation_1-error:0.226916\tvalidation_1-logloss:0.478495\n",
            "[28]\tvalidation_0-error:0.180614\tvalidation_0-logloss:0.425582\tvalidation_1-error:0.226199\tvalidation_1-logloss:0.476417\n",
            "[29]\tvalidation_0-error:0.179845\tvalidation_0-logloss:0.423734\tvalidation_1-error:0.225408\tvalidation_1-logloss:0.475095\n",
            "[30]\tvalidation_0-error:0.179037\tvalidation_0-logloss:0.421444\tvalidation_1-error:0.224542\tvalidation_1-logloss:0.473648\n",
            "[31]\tvalidation_0-error:0.177913\tvalidation_0-logloss:0.41915\tvalidation_1-error:0.224393\tvalidation_1-logloss:0.472221\n",
            "[32]\tvalidation_0-error:0.177138\tvalidation_0-logloss:0.417232\tvalidation_1-error:0.224245\tvalidation_1-logloss:0.47089\n",
            "[33]\tvalidation_0-error:0.176621\tvalidation_0-logloss:0.415991\tvalidation_1-error:0.224097\tvalidation_1-logloss:0.470056\n",
            "[34]\tvalidation_0-error:0.17578\tvalidation_0-logloss:0.414382\tvalidation_1-error:0.223305\tvalidation_1-logloss:0.468864\n",
            "[35]\tvalidation_0-error:0.174667\tvalidation_0-logloss:0.411934\tvalidation_1-error:0.22281\tvalidation_1-logloss:0.467277\n",
            "[36]\tvalidation_0-error:0.173472\tvalidation_0-logloss:0.409623\tvalidation_1-error:0.221574\tvalidation_1-logloss:0.46571\n",
            "[37]\tvalidation_0-error:0.172908\tvalidation_0-logloss:0.408359\tvalidation_1-error:0.221227\tvalidation_1-logloss:0.464805\n",
            "[38]\tvalidation_0-error:0.172004\tvalidation_0-logloss:0.406452\tvalidation_1-error:0.220461\tvalidation_1-logloss:0.463498\n",
            "[39]\tvalidation_0-error:0.17116\tvalidation_0-logloss:0.404255\tvalidation_1-error:0.220238\tvalidation_1-logloss:0.462073\n",
            "[40]\tvalidation_0-error:0.170146\tvalidation_0-logloss:0.402432\tvalidation_1-error:0.219397\tvalidation_1-logloss:0.460826\n",
            "[41]\tvalidation_0-error:0.169668\tvalidation_0-logloss:0.401388\tvalidation_1-error:0.219125\tvalidation_1-logloss:0.460077\n",
            "[42]\tvalidation_0-error:0.168843\tvalidation_0-logloss:0.399595\tvalidation_1-error:0.218482\tvalidation_1-logloss:0.458928\n",
            "[43]\tvalidation_0-error:0.168382\tvalidation_0-logloss:0.398532\tvalidation_1-error:0.217863\tvalidation_1-logloss:0.458162\n",
            "[44]\tvalidation_0-error:0.167761\tvalidation_0-logloss:0.39747\tvalidation_1-error:0.217295\tvalidation_1-logloss:0.457319\n",
            "[45]\tvalidation_0-error:0.16715\tvalidation_0-logloss:0.396448\tvalidation_1-error:0.2168\tvalidation_1-logloss:0.456545\n",
            "[46]\tvalidation_0-error:0.166716\tvalidation_0-logloss:0.39546\tvalidation_1-error:0.216503\tvalidation_1-logloss:0.45589\n",
            "[47]\tvalidation_0-error:0.166087\tvalidation_0-logloss:0.394407\tvalidation_1-error:0.215959\tvalidation_1-logloss:0.455123\n",
            "[48]\tvalidation_0-error:0.165287\tvalidation_0-logloss:0.393187\tvalidation_1-error:0.21539\tvalidation_1-logloss:0.454291\n",
            "[49]\tvalidation_0-error:0.164886\tvalidation_0-logloss:0.392475\tvalidation_1-error:0.215093\tvalidation_1-logloss:0.453719\n",
            "[50]\tvalidation_0-error:0.16455\tvalidation_0-logloss:0.391712\tvalidation_1-error:0.214846\tvalidation_1-logloss:0.453103\n",
            "[51]\tvalidation_0-error:0.163003\tvalidation_0-logloss:0.389079\tvalidation_1-error:0.214475\tvalidation_1-logloss:0.451406\n",
            "[52]\tvalidation_0-error:0.1625\tvalidation_0-logloss:0.388096\tvalidation_1-error:0.213955\tvalidation_1-logloss:0.450816\n",
            "[53]\tvalidation_0-error:0.162143\tvalidation_0-logloss:0.38726\tvalidation_1-error:0.213881\tvalidation_1-logloss:0.450214\n",
            "[54]\tvalidation_0-error:0.161843\tvalidation_0-logloss:0.386656\tvalidation_1-error:0.213584\tvalidation_1-logloss:0.449784\n",
            "[55]\tvalidation_0-error:0.161588\tvalidation_0-logloss:0.386095\tvalidation_1-error:0.213362\tvalidation_1-logloss:0.449401\n",
            "[56]\tvalidation_0-error:0.16109\tvalidation_0-logloss:0.385215\tvalidation_1-error:0.212694\tvalidation_1-logloss:0.44877\n",
            "[57]\tvalidation_0-error:0.160667\tvalidation_0-logloss:0.384488\tvalidation_1-error:0.212447\tvalidation_1-logloss:0.448243\n",
            "[58]\tvalidation_0-error:0.159768\tvalidation_0-logloss:0.382712\tvalidation_1-error:0.211803\tvalidation_1-logloss:0.447021\n",
            "[59]\tvalidation_0-error:0.159433\tvalidation_0-logloss:0.382039\tvalidation_1-error:0.211482\tvalidation_1-logloss:0.446528\n",
            "[60]\tvalidation_0-error:0.159068\tvalidation_0-logloss:0.381386\tvalidation_1-error:0.211037\tvalidation_1-logloss:0.446023\n",
            "[61]\tvalidation_0-error:0.158559\tvalidation_0-logloss:0.380687\tvalidation_1-error:0.21069\tvalidation_1-logloss:0.44553\n",
            "[62]\tvalidation_0-error:0.158216\tvalidation_0-logloss:0.379956\tvalidation_1-error:0.210492\tvalidation_1-logloss:0.445083\n",
            "[63]\tvalidation_0-error:0.157688\tvalidation_0-logloss:0.379078\tvalidation_1-error:0.210196\tvalidation_1-logloss:0.444449\n",
            "[64]\tvalidation_0-error:0.157278\tvalidation_0-logloss:0.377962\tvalidation_1-error:0.209998\tvalidation_1-logloss:0.443762\n",
            "[65]\tvalidation_0-error:0.15691\tvalidation_0-logloss:0.377327\tvalidation_1-error:0.209676\tvalidation_1-logloss:0.443279\n",
            "[66]\tvalidation_0-error:0.155836\tvalidation_0-logloss:0.375837\tvalidation_1-error:0.209107\tvalidation_1-logloss:0.442361\n",
            "[67]\tvalidation_0-error:0.155574\tvalidation_0-logloss:0.375418\tvalidation_1-error:0.208934\tvalidation_1-logloss:0.442124\n",
            "[68]\tvalidation_0-error:0.155313\tvalidation_0-logloss:0.374817\tvalidation_1-error:0.208439\tvalidation_1-logloss:0.441669\n",
            "[69]\tvalidation_0-error:0.154929\tvalidation_0-logloss:0.374309\tvalidation_1-error:0.208167\tvalidation_1-logloss:0.44135\n",
            "[70]\tvalidation_0-error:0.154338\tvalidation_0-logloss:0.373498\tvalidation_1-error:0.208019\tvalidation_1-logloss:0.440821\n",
            "[71]\tvalidation_0-error:0.154013\tvalidation_0-logloss:0.372891\tvalidation_1-error:0.208019\tvalidation_1-logloss:0.440379\n",
            "[72]\tvalidation_0-error:0.153607\tvalidation_0-logloss:0.372304\tvalidation_1-error:0.208118\tvalidation_1-logloss:0.43991\n",
            "[73]\tvalidation_0-error:0.153302\tvalidation_0-logloss:0.371771\tvalidation_1-error:0.207821\tvalidation_1-logloss:0.439551\n",
            "[74]\tvalidation_0-error:0.152785\tvalidation_0-logloss:0.370825\tvalidation_1-error:0.207697\tvalidation_1-logloss:0.438907\n",
            "[75]\tvalidation_0-error:0.152021\tvalidation_0-logloss:0.369419\tvalidation_1-error:0.207005\tvalidation_1-logloss:0.437948\n",
            "[76]\tvalidation_0-error:0.151787\tvalidation_0-logloss:0.369048\tvalidation_1-error:0.206733\tvalidation_1-logloss:0.437691\n",
            "[77]\tvalidation_0-error:0.151576\tvalidation_0-logloss:0.368636\tvalidation_1-error:0.20651\tvalidation_1-logloss:0.437426\n",
            "[78]\tvalidation_0-error:0.151323\tvalidation_0-logloss:0.368277\tvalidation_1-error:0.206461\tvalidation_1-logloss:0.437129\n",
            "[79]\tvalidation_0-error:0.15021\tvalidation_0-logloss:0.366687\tvalidation_1-error:0.206263\tvalidation_1-logloss:0.436253\n"
          ],
          "name": "stdout"
        }
      ]
    },
    {
      "cell_type": "code",
      "metadata": {
        "id": "ldBx4cCni-Z1",
        "colab_type": "code",
        "colab": {
          "base_uri": "https://localhost:8080/",
          "height": 216
        },
        "outputId": "c0befe18-f1ef-4305-f128-ea99e3571e0e"
      },
      "source": [
        "\n",
        "print('training score:', f1_score(y_train, xgb_model.predict(X_train), average='macro'))\n",
        "print('test score:', f1_score(y_test,y_pred, average='macro'))\n",
        "print(classification_report(y_test, y_pred))"
      ],
      "execution_count": null,
      "outputs": [
        {
          "output_type": "stream",
          "text": [
            "training score: 0.8312751583315067\n",
            "test score: 0.7668291065818726\n",
            "              precision    recall  f1-score   support\n",
            "\n",
            "           0       0.79      0.91      0.85     25287\n",
            "           1       0.79      0.61      0.69     15142\n",
            "\n",
            "    accuracy                           0.79     40429\n",
            "   macro avg       0.79      0.76      0.77     40429\n",
            "weighted avg       0.79      0.79      0.79     40429\n",
            "\n"
          ],
          "name": "stdout"
        }
      ]
    },
    {
      "cell_type": "markdown",
      "metadata": {
        "id": "37TnInOuVmKI",
        "colab_type": "text"
      },
      "source": [
        "Model scores with perfect threshold"
      ]
    },
    {
      "cell_type": "code",
      "metadata": {
        "id": "V9nvKFefhwug",
        "colab_type": "code",
        "colab": {
          "base_uri": "https://localhost:8080/",
          "height": 513
        },
        "outputId": "01ba3998-b37c-448d-fe58-fe72c6796048"
      },
      "source": [
        "get_model_results(xgb_model, X_train, X_test, y_train, y_test, \"XGBoost on question1 and question2\")"
      ],
      "execution_count": null,
      "outputs": [
        {
          "output_type": "stream",
          "text": [
            "              precision    recall  f1-score   support\n",
            "\n",
            "           0       0.86      0.80      0.83     25287\n",
            "           1       0.70      0.77      0.74     15142\n",
            "\n",
            "    accuracy                           0.79     40429\n",
            "   macro avg       0.78      0.79      0.78     40429\n",
            "weighted avg       0.80      0.79      0.79     40429\n",
            "\n"
          ],
          "name": "stdout"
        },
        {
          "output_type": "display_data",
          "data": {
            "image/png": "[encoded data removed]",
            "text/plain": [
              "<Figure size 1296x360 with 2 Axes>"
            ]
          },
          "metadata": {
            "tags": [],
            "needs_background": "light"
          }
        }
      ]
    },
    {
      "cell_type": "markdown",
      "metadata": {
        "id": "ABl05IXD8bTV",
        "colab_type": "text"
      },
      "source": [
        "Duplicating previouse step to play with \n",
        "### scale_pos_weight"
      ]
    },
    {
      "cell_type": "markdown",
      "metadata": {
        "id": "VuUxX-ze9oeO",
        "colab_type": "text"
      },
      "source": [
        "Here we try to deal with imballanced target feature"
      ]
    },
    {
      "cell_type": "code",
      "metadata": {
        "id": "R_d0y_WU8cIM",
        "colab_type": "code",
        "colab": {
          "base_uri": "https://localhost:8080/",
          "height": 35
        },
        "outputId": "44a7320c-5e44-4b3a-cec0-81a51b33e19d"
      },
      "source": [
        "#scale_pos_w =  total_negative_examples / total_positive_examples\n",
        "scale_pos_w = df.is_duplicate[df.is_duplicate ==0].count()/df.is_duplicate[df.is_duplicate ==1].count()\n",
        "scale_pos_w"
      ],
      "execution_count": null,
      "outputs": [
        {
          "output_type": "execute_result",
          "data": {
            "text/plain": [
              "1.7085546987532074"
            ]
          },
          "metadata": {
            "tags": []
          },
          "execution_count": 19
        }
      ]
    },
    {
      "cell_type": "code",
      "metadata": {
        "id": "gsE9laErpMg8",
        "colab_type": "code",
        "colab": {
          "base_uri": "https://localhost:8080/",
          "height": 1000
        },
        "outputId": "dae4a9a9-698d-4f3a-8443-dfb8518251d2"
      },
      "source": [
        "\n",
        "xgb_model = XGBClassifier(max_depth=50, n_estimators=80, \n",
        "                              learning_rate=0.1, colsample_bytree=.7, \n",
        "                              gamma=0, reg_alpha=4, objective='binary:logistic', \n",
        "                              eta=0.3, silent=1,scale_pos_weight =scale_pos_w, subsample=0.8)\n",
        "\n",
        "\n",
        "xgb_model.fit(X_train, y_train, \n",
        "              early_stopping_rounds=3, \n",
        "              eval_metric=[\"error\", \"logloss\"], \n",
        "              eval_set=[(X_train, y_train), (X_test, y_test)], \n",
        "              verbose=True)\n",
        "\n",
        "y_pred = xgb_model.predict(X_test)\n",
        "\n",
        "print('training score:', f1_score(y_train, xgb_model.predict(X_train), average='macro'))\n",
        "print('test score:', f1_score(y_test,y_pred, average='macro'))\n",
        "print(classification_report(y_test, y_pred))\n"
      ],
      "execution_count": null,
      "outputs": [
        {
          "output_type": "stream",
          "text": [
            "[0]\tvalidation_0-error:0.259315\tvalidation_0-logloss:0.665519\tvalidation_1-error:0.29934\tvalidation_1-logloss:0.66988\n",
            "Multiple eval metrics have been passed: 'validation_1-logloss' will be used for early stopping.\n",
            "\n",
            "Will train until validation_1-logloss hasn't improved in 10 rounds.\n",
            "[1]\tvalidation_0-error:0.227586\tvalidation_0-logloss:0.641015\tvalidation_1-error:0.273418\tvalidation_1-logloss:0.649613\n",
            "[2]\tvalidation_0-error:0.22165\tvalidation_0-logloss:0.619652\tvalidation_1-error:0.270474\tvalidation_1-logloss:0.632558\n",
            "[3]\tvalidation_0-error:0.209414\tvalidation_0-logloss:0.601241\tvalidation_1-error:0.260036\tvalidation_1-logloss:0.61744\n",
            "[4]\tvalidation_0-error:0.202983\tvalidation_0-logloss:0.584329\tvalidation_1-error:0.252838\tvalidation_1-logloss:0.603696\n",
            "[5]\tvalidation_0-error:0.198844\tvalidation_0-logloss:0.569125\tvalidation_1-error:0.249746\tvalidation_1-logloss:0.592139\n",
            "[6]\tvalidation_0-error:0.191723\tvalidation_0-logloss:0.553487\tvalidation_1-error:0.244626\tvalidation_1-logloss:0.579679\n",
            "[7]\tvalidation_0-error:0.188268\tvalidation_0-logloss:0.540779\tvalidation_1-error:0.242301\tvalidation_1-logloss:0.569456\n",
            "[8]\tvalidation_0-error:0.186092\tvalidation_0-logloss:0.531111\tvalidation_1-error:0.240026\tvalidation_1-logloss:0.561523\n",
            "[9]\tvalidation_0-error:0.184322\tvalidation_0-logloss:0.520711\tvalidation_1-error:0.238715\tvalidation_1-logloss:0.553678\n",
            "[10]\tvalidation_0-error:0.180889\tvalidation_0-logloss:0.510207\tvalidation_1-error:0.235623\tvalidation_1-logloss:0.545801\n",
            "[11]\tvalidation_0-error:0.178883\tvalidation_0-logloss:0.502042\tvalidation_1-error:0.234188\tvalidation_1-logloss:0.539911\n",
            "[12]\tvalidation_0-error:0.176824\tvalidation_0-logloss:0.493208\tvalidation_1-error:0.233768\tvalidation_1-logloss:0.533759\n",
            "[13]\tvalidation_0-error:0.175302\tvalidation_0-logloss:0.486333\tvalidation_1-error:0.232952\tvalidation_1-logloss:0.528825\n",
            "[14]\tvalidation_0-error:0.174035\tvalidation_0-logloss:0.480345\tvalidation_1-error:0.231294\tvalidation_1-logloss:0.524502\n",
            "[15]\tvalidation_0-error:0.172922\tvalidation_0-logloss:0.474607\tvalidation_1-error:0.230305\tvalidation_1-logloss:0.520236\n",
            "[16]\tvalidation_0-error:0.171265\tvalidation_0-logloss:0.468177\tvalidation_1-error:0.229612\tvalidation_1-logloss:0.515872\n",
            "[17]\tvalidation_0-error:0.170091\tvalidation_0-logloss:0.463308\tvalidation_1-error:0.229365\tvalidation_1-logloss:0.512242\n",
            "[18]\tvalidation_0-error:0.168533\tvalidation_0-logloss:0.458308\tvalidation_1-error:0.227411\tvalidation_1-logloss:0.508627\n",
            "[19]\tvalidation_0-error:0.167969\tvalidation_0-logloss:0.455197\tvalidation_1-error:0.226422\tvalidation_1-logloss:0.506358\n",
            "[20]\tvalidation_0-error:0.167466\tvalidation_0-logloss:0.450729\tvalidation_1-error:0.226545\tvalidation_1-logloss:0.503088\n",
            "[21]\tvalidation_0-error:0.166362\tvalidation_0-logloss:0.445871\tvalidation_1-error:0.226422\tvalidation_1-logloss:0.499725\n",
            "[22]\tvalidation_0-error:0.165452\tvalidation_0-logloss:0.442618\tvalidation_1-error:0.226248\tvalidation_1-logloss:0.497446\n",
            "[23]\tvalidation_0-error:0.165034\tvalidation_0-logloss:0.440338\tvalidation_1-error:0.225754\tvalidation_1-logloss:0.495749\n",
            "[24]\tvalidation_0-error:0.164509\tvalidation_0-logloss:0.437902\tvalidation_1-error:0.225086\tvalidation_1-logloss:0.493881\n",
            "[25]\tvalidation_0-error:0.163806\tvalidation_0-logloss:0.435643\tvalidation_1-error:0.223998\tvalidation_1-logloss:0.492229\n",
            "[26]\tvalidation_0-error:0.163124\tvalidation_0-logloss:0.432899\tvalidation_1-error:0.223058\tvalidation_1-logloss:0.490508\n",
            "[27]\tvalidation_0-error:0.162431\tvalidation_0-logloss:0.43042\tvalidation_1-error:0.222217\tvalidation_1-logloss:0.488807\n",
            "[28]\tvalidation_0-error:0.161552\tvalidation_0-logloss:0.427824\tvalidation_1-error:0.221846\tvalidation_1-logloss:0.487038\n",
            "[29]\tvalidation_0-error:0.160755\tvalidation_0-logloss:0.424944\tvalidation_1-error:0.221376\tvalidation_1-logloss:0.485135\n",
            "[30]\tvalidation_0-error:0.159832\tvalidation_0-logloss:0.422812\tvalidation_1-error:0.221128\tvalidation_1-logloss:0.483802\n",
            "[31]\tvalidation_0-error:0.158683\tvalidation_0-logloss:0.420261\tvalidation_1-error:0.22098\tvalidation_1-logloss:0.482167\n",
            "[32]\tvalidation_0-error:0.158136\tvalidation_0-logloss:0.418575\tvalidation_1-error:0.220658\tvalidation_1-logloss:0.480918\n",
            "[33]\tvalidation_0-error:0.157572\tvalidation_0-logloss:0.416933\tvalidation_1-error:0.221178\tvalidation_1-logloss:0.479937\n",
            "[34]\tvalidation_0-error:0.156616\tvalidation_0-logloss:0.414822\tvalidation_1-error:0.220188\tvalidation_1-logloss:0.478529\n",
            "[35]\tvalidation_0-error:0.15591\tvalidation_0-logloss:0.413169\tvalidation_1-error:0.219397\tvalidation_1-logloss:0.477291\n",
            "[36]\tvalidation_0-error:0.155412\tvalidation_0-logloss:0.411643\tvalidation_1-error:0.218754\tvalidation_1-logloss:0.476183\n",
            "[37]\tvalidation_0-error:0.15494\tvalidation_0-logloss:0.410244\tvalidation_1-error:0.218432\tvalidation_1-logloss:0.475154\n",
            "[38]\tvalidation_0-error:0.154214\tvalidation_0-logloss:0.408669\tvalidation_1-error:0.217814\tvalidation_1-logloss:0.474205\n",
            "[39]\tvalidation_0-error:0.153626\tvalidation_0-logloss:0.407279\tvalidation_1-error:0.217418\tvalidation_1-logloss:0.473259\n",
            "[40]\tvalidation_0-error:0.152507\tvalidation_0-logloss:0.404286\tvalidation_1-error:0.216157\tvalidation_1-logloss:0.471171\n",
            "[41]\tvalidation_0-error:0.152112\tvalidation_0-logloss:0.4035\tvalidation_1-error:0.216033\tvalidation_1-logloss:0.47063\n",
            "[42]\tvalidation_0-error:0.151949\tvalidation_0-logloss:0.402513\tvalidation_1-error:0.215662\tvalidation_1-logloss:0.469854\n",
            "[43]\tvalidation_0-error:0.151606\tvalidation_0-logloss:0.401676\tvalidation_1-error:0.215835\tvalidation_1-logloss:0.469272\n",
            "[44]\tvalidation_0-error:0.151304\tvalidation_0-logloss:0.400824\tvalidation_1-error:0.215711\tvalidation_1-logloss:0.468573\n",
            "[45]\tvalidation_0-error:0.151004\tvalidation_0-logloss:0.400115\tvalidation_1-error:0.215464\tvalidation_1-logloss:0.468098\n",
            "[46]\tvalidation_0-error:0.150619\tvalidation_0-logloss:0.399331\tvalidation_1-error:0.215217\tvalidation_1-logloss:0.467513\n",
            "[47]\tvalidation_0-error:0.149784\tvalidation_0-logloss:0.397732\tvalidation_1-error:0.214574\tvalidation_1-logloss:0.466461\n",
            "[48]\tvalidation_0-error:0.14922\tvalidation_0-logloss:0.396381\tvalidation_1-error:0.214104\tvalidation_1-logloss:0.465507\n",
            "[49]\tvalidation_0-error:0.148959\tvalidation_0-logloss:0.395713\tvalidation_1-error:0.213782\tvalidation_1-logloss:0.465007\n",
            "[50]\tvalidation_0-error:0.147725\tvalidation_0-logloss:0.393162\tvalidation_1-error:0.212991\tvalidation_1-logloss:0.463402\n",
            "[51]\tvalidation_0-error:0.146521\tvalidation_0-logloss:0.39049\tvalidation_1-error:0.212842\tvalidation_1-logloss:0.461794\n",
            "[52]\tvalidation_0-error:0.14601\tvalidation_0-logloss:0.389491\tvalidation_1-error:0.212447\tvalidation_1-logloss:0.46109\n",
            "[53]\tvalidation_0-error:0.145733\tvalidation_0-logloss:0.388624\tvalidation_1-error:0.212496\tvalidation_1-logloss:0.460437\n",
            "[54]\tvalidation_0-error:0.145384\tvalidation_0-logloss:0.388147\tvalidation_1-error:0.212199\tvalidation_1-logloss:0.46012\n",
            "[55]\tvalidation_0-error:0.145106\tvalidation_0-logloss:0.387457\tvalidation_1-error:0.211977\tvalidation_1-logloss:0.459654\n",
            "[56]\tvalidation_0-error:0.144554\tvalidation_0-logloss:0.386284\tvalidation_1-error:0.211581\tvalidation_1-logloss:0.458887\n",
            "[57]\tvalidation_0-error:0.144298\tvalidation_0-logloss:0.385605\tvalidation_1-error:0.211556\tvalidation_1-logloss:0.458402\n",
            "[58]\tvalidation_0-error:0.142569\tvalidation_0-logloss:0.382386\tvalidation_1-error:0.21074\tvalidation_1-logloss:0.456551\n",
            "[59]\tvalidation_0-error:0.142399\tvalidation_0-logloss:0.381771\tvalidation_1-error:0.210443\tvalidation_1-logloss:0.456121\n",
            "[60]\tvalidation_0-error:0.142077\tvalidation_0-logloss:0.3811\tvalidation_1-error:0.209899\tvalidation_1-logloss:0.45562\n",
            "[61]\tvalidation_0-error:0.141682\tvalidation_0-logloss:0.380306\tvalidation_1-error:0.209602\tvalidation_1-logloss:0.455096\n",
            "[62]\tvalidation_0-error:0.141401\tvalidation_0-logloss:0.37964\tvalidation_1-error:0.209206\tvalidation_1-logloss:0.454637\n",
            "[63]\tvalidation_0-error:0.141091\tvalidation_0-logloss:0.379041\tvalidation_1-error:0.209058\tvalidation_1-logloss:0.454173\n",
            "[64]\tvalidation_0-error:0.141143\tvalidation_0-logloss:0.378419\tvalidation_1-error:0.20933\tvalidation_1-logloss:0.453731\n",
            "[65]\tvalidation_0-error:0.140846\tvalidation_0-logloss:0.377902\tvalidation_1-error:0.209231\tvalidation_1-logloss:0.453373\n",
            "[66]\tvalidation_0-error:0.140264\tvalidation_0-logloss:0.376828\tvalidation_1-error:0.208934\tvalidation_1-logloss:0.452621\n",
            "[67]\tvalidation_0-error:0.140079\tvalidation_0-logloss:0.376422\tvalidation_1-error:0.208736\tvalidation_1-logloss:0.452388\n",
            "[68]\tvalidation_0-error:0.13975\tvalidation_0-logloss:0.375371\tvalidation_1-error:0.208316\tvalidation_1-logloss:0.451684\n",
            "[69]\tvalidation_0-error:0.13945\tvalidation_0-logloss:0.37483\tvalidation_1-error:0.208192\tvalidation_1-logloss:0.451358\n",
            "[70]\tvalidation_0-error:0.13917\tvalidation_0-logloss:0.374224\tvalidation_1-error:0.20797\tvalidation_1-logloss:0.450877\n",
            "[71]\tvalidation_0-error:0.138832\tvalidation_0-logloss:0.373347\tvalidation_1-error:0.208068\tvalidation_1-logloss:0.450306\n",
            "[72]\tvalidation_0-error:0.138587\tvalidation_0-logloss:0.372952\tvalidation_1-error:0.207895\tvalidation_1-logloss:0.450017\n",
            "[73]\tvalidation_0-error:0.138238\tvalidation_0-logloss:0.372049\tvalidation_1-error:0.207697\tvalidation_1-logloss:0.449387\n",
            "[74]\tvalidation_0-error:0.138076\tvalidation_0-logloss:0.371659\tvalidation_1-error:0.207574\tvalidation_1-logloss:0.449181\n",
            "[75]\tvalidation_0-error:0.137757\tvalidation_0-logloss:0.37093\tvalidation_1-error:0.207054\tvalidation_1-logloss:0.44874\n",
            "[76]\tvalidation_0-error:0.137523\tvalidation_0-logloss:0.370488\tvalidation_1-error:0.20703\tvalidation_1-logloss:0.44843\n",
            "[77]\tvalidation_0-error:0.137089\tvalidation_0-logloss:0.369782\tvalidation_1-error:0.206807\tvalidation_1-logloss:0.448065\n",
            "[78]\tvalidation_0-error:0.136768\tvalidation_0-logloss:0.36922\tvalidation_1-error:0.206758\tvalidation_1-logloss:0.447565\n",
            "[79]\tvalidation_0-error:0.136281\tvalidation_0-logloss:0.368301\tvalidation_1-error:0.206189\tvalidation_1-logloss:0.447083\n",
            "training score: 0.8570486520571026\n",
            "test score: 0.7830581445070468\n",
            "              precision    recall  f1-score   support\n",
            "\n",
            "           0       0.85      0.81      0.83     25287\n",
            "           1       0.71      0.76      0.73     15142\n",
            "\n",
            "    accuracy                           0.79     40429\n",
            "   macro avg       0.78      0.79      0.78     40429\n",
            "weighted avg       0.80      0.79      0.80     40429\n",
            "\n"
          ],
          "name": "stdout"
        }
      ]
    },
    {
      "cell_type": "markdown",
      "metadata": {
        "id": "d2fHcvbcV6d3",
        "colab_type": "text"
      },
      "source": [
        "Model's scores with perfect threshold"
      ]
    },
    {
      "cell_type": "code",
      "metadata": {
        "id": "paBJhrv-9utB",
        "colab_type": "code",
        "colab": {
          "base_uri": "https://localhost:8080/",
          "height": 513
        },
        "outputId": "489f5457-eb6c-4db0-a551-a9bf96c4f52e"
      },
      "source": [
        "get_model_results(xgb_model, X_train, X_test, y_train, y_test, \"XGBoost with scale_pos_weight on question1 and question2\")"
      ],
      "execution_count": null,
      "outputs": [
        {
          "output_type": "stream",
          "text": [
            "              precision    recall  f1-score   support\n",
            "\n",
            "           0       0.86      0.79      0.82     25287\n",
            "           1       0.69      0.79      0.74     15142\n",
            "\n",
            "    accuracy                           0.79     40429\n",
            "   macro avg       0.78      0.79      0.78     40429\n",
            "weighted avg       0.80      0.79      0.79     40429\n",
            "\n"
          ],
          "name": "stdout"
        },
        {
          "output_type": "display_data",
          "data": {
            "image/png": "[encoded data removed]",
            "text/plain": [
              "<Figure size 1296x360 with 2 Axes>"
            ]
          },
          "metadata": {
            "tags": [],
            "needs_background": "light"
          }
        }
      ]
    },
    {
      "cell_type": "markdown",
      "metadata": {
        "id": "IoH75ZLjdF4Z",
        "colab_type": "text"
      },
      "source": [
        "We see an overfit here, let's make cross-validation\n"
      ]
    },
    {
      "cell_type": "markdown",
      "metadata": {
        "id": "4Vq-GEP4NB24",
        "colab_type": "text"
      },
      "source": [
        "## Evaluate XGBoost Model With k-Fold Cross Validation\n",
        "\n",
        "p.s. it was not a good idea - too much folds and too much data"
      ]
    },
    {
      "cell_type": "code",
      "metadata": {
        "id": "JRDliYcrNBpy",
        "colab_type": "code",
        "colab": {}
      },
      "source": [
        "# dtrain = xgb.DMatrix(X_train, label=y_train)\n",
        "# dtest = xgb.DMatrix(X_test, label=y_test)\n",
        "\n",
        "\n",
        "# params = {\n",
        "#     # Parameters that we are going to tune.\n",
        "#     'max_depth':50,\n",
        "#     'n_estimators':80,\n",
        "#     'eta':.3,\n",
        "#     'subsample': 0.8,\n",
        "#     'colsample_bytree': .7,\n",
        "#     'learning_rate':0.1,\n",
        "#     'scale_pos_weight':scale_pos_w,\n",
        "#     # Other parameters\n",
        "#     'objective':'binary:logistic',\n",
        "#     'silent':1,\n",
        "#     'gamma':0,\n",
        "#     'reg_alpha':4,\n",
        "\n",
        "\n",
        "# }\n",
        "\n",
        "\n",
        "# cv_results = xgb.cv(\n",
        "#     params,\n",
        "#     dtrain,\n",
        "#     num_boost_round=999,\n",
        "#     nfold=10,\n",
        "#     metrics={\"error\", \"logloss\"},\n",
        "#     early_stopping_rounds=10,\n",
        "#     as_pandas=True,\n",
        "#     verbose_eval =1\n",
        "# )\n",
        "# cv_results\n",
        "\n",
        "# [0]\ttrain-error:0.242035+0.00173525\ttrain-logloss:0.663344+0.000122287\ttest-error:0.291479+0.0024162\ttest-logloss:0.668995+0.000269579\n",
        "# [1]\ttrain-error:0.223927+0.00337186\ttrain-logloss:0.640085+0.00094844\ttest-error:0.274942+0.00381408\ttest-logloss:0.64925+0.000798581\n",
        "# [2]\ttrain-error:0.212526+0.00277382\ttrain-logloss:0.618912+0.00102374\ttest-error:0.264175+0.00238594\ttest-logloss:0.63179+0.00103798\n",
        "# [3]\ttrain-error:0.205665+0.00237187\ttrain-logloss:0.600084+0.00140989\ttest-error:0.257991+0.00251498\ttest-logloss:0.616585+0.00123789\n",
        "# [4]\ttrain-error:0.200316+0.00138819\ttrain-logloss:0.583538+0.00148107\ttest-error:0.252777+0.00200703\ttest-logloss:0.603319+0.00119625\n",
        "# [5]\ttrain-error:0.196058+0.0017411\ttrain-logloss:0.568253+0.00176744\ttest-error:0.249559+0.00222038\ttest-logloss:0.591292+0.00122434\n",
        "# [6]\ttrain-error:0.192742+0.00127608\ttrain-logloss:0.555286+0.0018094\ttest-error:0.247218+0.00213389\ttest-logloss:0.58109+0.0010272\n",
        "# [7]\ttrain-error:0.189947+0.00151535\ttrain-logloss:0.543204+0.00235766\ttest-error:0.245104+0.00228398\ttest-logloss:0.57187+0.00151045\n",
        "# [8]\ttrain-error:0.187183+0.00133858\ttrain-logloss:0.531462+0.00221579\ttest-error:0.243265+0.00216278\ttest-logloss:0.563055+0.00132818\n",
        "# [9]\ttrain-error:0.18483+0.00104198\ttrain-logloss:0.521039+0.00199762\ttest-error:0.241602+0.00235904\ttest-logloss:0.555319+0.00136321\n",
        "# [10]\ttrain-error:0.182689+0.0012425\ttrain-logloss:0.511963+0.00185978\ttest-error:0.240014+0.00277047\ttest-logloss:0.548561+0.00140723\n",
        "# [11]\ttrain-error:0.180429+0.00114556\ttrain-logloss:0.503187+0.00148093\ttest-error:0.238475+0.00276622\ttest-logloss:0.542266+0.00118038\n",
        "# [12]\ttrain-error:0.178475+0.00119731\ttrain-logloss:0.495187+0.00144303\ttest-error:0.23765+0.00246908\ttest-logloss:0.536447+0.00160243\n",
        "# [13]\ttrain-error:0.176627+0.00114728\ttrain-logloss:0.487751+0.00173063\ttest-error:0.236551+0.00265375\ttest-logloss:0.531104+0.00178723\n",
        "# [14]\ttrain-error:0.174724+0.00106369\ttrain-logloss:0.48096+0.0017732\ttest-error:0.23535+0.00259173\ttest-logloss:0.526346+0.00199371\n",
        "# [15]\ttrain-error:0.173262+0.00111073\ttrain-logloss:0.474884+0.00139419\ttest-error:0.234363+0.00262237\ttest-logloss:0.522029+0.00205927\n",
        "# [16]\ttrain-error:0.171844+0.0011769\ttrain-logloss:0.469426+0.00160376\ttest-error:0.233539+0.00271313\ttest-logloss:0.518207+0.00196586\n",
        "# [17]\ttrain-error:0.170858+0.00116655\ttrain-logloss:0.464423+0.00152531\ttest-error:0.232871+0.00266014\ttest-logloss:0.514646+0.00194049\n",
        "# [18]\ttrain-error:0.169326+0.00136021\ttrain-logloss:0.459179+0.0012397\ttest-error:0.231967+0.00266548\ttest-logloss:0.511031+0.00179155\n",
        "# [19]\ttrain-error:0.16823+0.00118799\ttrain-logloss:0.454846+0.00159471\ttest-error:0.2312+0.00262499\ttest-logloss:0.507984+0.00195044\n",
        "# [20]\ttrain-error:0.167085+0.00134095\ttrain-logloss:0.45059+0.00161434\ttest-error:0.230486+0.00284439\ttest-logloss:0.50511+0.0019929\n",
        "# [21]\ttrain-error:0.165876+0.00128554\ttrain-logloss:0.44654+0.00161371\ttest-error:0.229801+0.0025039\ttest-logloss:0.502352+0.00195058\n",
        "# [22]\ttrain-error:0.164712+0.00124882\ttrain-logloss:0.442818+0.00194949\ttest-error:0.229054+0.00243237\ttest-logloss:0.499804+0.00196817\n",
        "# [23]\ttrain-error:0.163402+0.00114986\ttrain-logloss:0.438677+0.00165236\ttest-error:0.228477+0.00232949\ttest-logloss:0.497041+0.00170898\n",
        "# [24]\ttrain-error:0.162687+0.00122672\ttrain-logloss:0.435941+0.00194561\ttest-error:0.227968+0.00244935\ttest-logloss:0.495143+0.00180691\n",
        "# [25]\ttrain-error:0.16194+0.00122055\ttrain-logloss:0.433321+0.0017881\ttest-error:0.227361+0.00240782\ttest-logloss:0.493264+0.00189886\n",
        "# [26]\ttrain-error:0.161101+0.00115048\ttrain-logloss:0.430482+0.00194393\ttest-error:0.226836+0.00237234\ttest-logloss:0.491303+0.00180442\n",
        "# [27]\ttrain-error:0.160325+0.00102523\ttrain-logloss:0.427915+0.00196473\ttest-error:0.226396+0.00252039\ttest-logloss:0.489546+0.00195058\n",
        "# [28]\ttrain-error:0.159439+0.000965376\ttrain-logloss:0.425163+0.0014078\ttest-error:0.225709+0.00252629\ttest-logloss:0.487629+0.00183898\n",
        "# [29]\ttrain-error:0.15876+0.00103969\ttrain-logloss:0.422882+0.00150419\ttest-error:0.225357+0.00245736\ttest-logloss:0.486083+0.00179909\n",
        "# [30]\ttrain-error:0.157896+0.00113965\ttrain-logloss:0.420386+0.00140312\ttest-error:0.224673+0.00271722\ttest-logloss:0.484436+0.00191079\n",
        "# [31]\ttrain-error:0.157242+0.00111908\ttrain-logloss:0.418315+0.00124794\ttest-error:0.2242+0.00270139\ttest-logloss:0.483032+0.00181746\n",
        "# [32]\ttrain-error:0.156616+0.00100174\ttrain-logloss:0.416378+0.00140182\ttest-error:0.223736+0.00270712\ttest-logloss:0.481696+0.00175578\n",
        "# [33]\ttrain-error:0.156099+0.000918194\ttrain-logloss:0.414664+0.00153408\ttest-error:0.223389+0.00255438\ttest-logloss:0.480531+0.00187331\n",
        "# [34]\ttrain-error:0.155469+0.000807196\ttrain-logloss:0.413033+0.00152885\ttest-error:0.222865+0.00247768\ttest-logloss:0.479438+0.00180219\n",
        "# [35]\ttrain-error:0.154824+0.000661413\ttrain-logloss:0.411195+0.0013423\ttest-error:0.222414+0.00250218\ttest-logloss:0.478159+0.00199476\n",
        "# [36]\ttrain-error:0.154271+0.000653126\ttrain-logloss:0.409714+0.00142111\ttest-error:0.222117+0.00237777\ttest-logloss:0.477205+0.00206133\n",
        "# [37]\ttrain-error:0.153557+0.000808939\ttrain-logloss:0.407881+0.00183056\ttest-error:0.221383+0.0026093\ttest-logloss:0.475978+0.0023569\n",
        "# [38]\ttrain-error:0.152841+0.000802988\ttrain-logloss:0.405844+0.00153001\ttest-error:0.220908+0.00257058\ttest-logloss:0.47467+0.00244827\n",
        "# [39]\ttrain-error:0.152293+0.000853987\ttrain-logloss:0.40438+0.0016599\ttest-error:0.220591+0.00227328\ttest-logloss:0.473678+0.00228731\n",
        "# [40]\ttrain-error:0.151679+0.000812559\ttrain-logloss:0.402918+0.00153279\ttest-error:0.220155+0.0022777\ttest-logloss:0.472681+0.00227138\n",
        "# [41]\ttrain-error:0.15117+0.000722568\ttrain-logloss:0.401522+0.00145759\ttest-error:0.219687+0.00228323\ttest-logloss:0.47171+0.00212745\n",
        "# [42]\ttrain-error:0.150651+0.000682324\ttrain-logloss:0.400288+0.00152615\ttest-error:0.219401+0.00239833\ttest-logloss:0.470846+0.00219103\n",
        "# [43]\ttrain-error:0.150135+0.000650163\ttrain-logloss:0.398962+0.00153389\ttest-error:0.219121+0.00232543\ttest-logloss:0.469995+0.00214176\n",
        "# [44]\ttrain-error:0.149571+0.000413252\ttrain-logloss:0.397496+0.00144743\ttest-error:0.218885+0.00238911\ttest-logloss:0.469065+0.00209787\n",
        "# [45]\ttrain-error:0.148999+0.000545589\ttrain-logloss:0.396173+0.00181296\ttest-error:0.218555+0.00236005\ttest-logloss:0.468204+0.00218353\n",
        "# [46]\ttrain-error:0.148598+0.000586982\ttrain-logloss:0.395201+0.00187202\ttest-error:0.218302+0.00246388\ttest-logloss:0.467545+0.00218221\n",
        "# [47]\ttrain-error:0.148137+0.000616806\ttrain-logloss:0.394148+0.00171028\ttest-error:0.218005+0.00244892\ttest-logloss:0.46685+0.00222369\n",
        "# [48]\ttrain-error:0.14761+0.000731248\ttrain-logloss:0.392894+0.00171613\ttest-error:0.217571+0.00231922\ttest-logloss:0.466046+0.00215817\n",
        "# [49]\ttrain-error:0.147261+0.000705332\ttrain-logloss:0.392036+0.00162131\ttest-error:0.217288+0.0023898\ttest-logloss:0.46544+0.00219147\n",
        "# [50]\ttrain-error:0.146751+0.00071452\ttrain-logloss:0.39083+0.00165363\ttest-error:0.216944+0.00237117\ttest-logloss:0.464646+0.00214049\n",
        "# [51]\ttrain-error:0.146403+0.000705293\ttrain-logloss:0.38996+0.00158442\ttest-error:0.216683+0.00233179\ttest-logloss:0.464061+0.00214016\n",
        "# [52]\ttrain-error:0.145993+0.000707304\ttrain-logloss:0.38886+0.00147499\ttest-error:0.216376+0.0023414\ttest-logloss:0.463312+0.00230142\n",
        "# [53]\ttrain-error:0.145642+0.000725857\ttrain-logloss:0.388063+0.00156285\ttest-error:0.216148+0.00236311\ttest-logloss:0.462759+0.00228945\n",
        "# [54]\ttrain-error:0.145097+0.000816719\ttrain-logloss:0.386916+0.00170872\ttest-error:0.215829+0.00236397\ttest-logloss:0.462052+0.00227829\n",
        "# [55]\ttrain-error:0.144427+0.000682634\ttrain-logloss:0.385532+0.00139184\ttest-error:0.215414+0.00234863\ttest-logloss:0.461204+0.00205507\n",
        "# [56]\ttrain-error:0.144047+0.000649812\ttrain-logloss:0.384558+0.00140022\ttest-error:0.215139+0.00248409\ttest-logloss:0.460545+0.00201718\n",
        "# [57]\ttrain-error:0.143626+0.000672649\ttrain-logloss:0.383636+0.00144073\ttest-error:0.214894+0.00248106\ttest-logloss:0.459928+0.00210091\n",
        "# [58]\ttrain-error:0.143231+0.000752332\ttrain-logloss:0.382812+0.00145091\ttest-error:0.214636+0.00242033\ttest-logloss:0.459342+0.00208187\n",
        "# [59]\ttrain-error:0.142804+0.000866622\ttrain-logloss:0.381872+0.00156041\ttest-error:0.214325+0.00241533\ttest-logloss:0.458725+0.00209119\n",
        "# [60]\ttrain-error:0.14247+0.000846621\ttrain-logloss:0.381075+0.00153932\ttest-error:0.214048+0.00247024\ttest-logloss:0.458186+0.00214664\n",
        "# [61]\ttrain-error:0.142088+0.000751808\ttrain-logloss:0.380249+0.00152791\ttest-error:0.213844+0.0024634\ttest-logloss:0.457663+0.00205056\n",
        "# [62]\ttrain-error:0.1417+0.000767987\ttrain-logloss:0.379358+0.00145159\ttest-error:0.213586+0.00249933\ttest-logloss:0.45705+0.00216076\n",
        "# [63]\ttrain-error:0.141361+0.000755759\ttrain-logloss:0.378608+0.00134027\ttest-error:0.213314+0.00261802\ttest-logloss:0.456561+0.00227236\n",
        "# [64]\ttrain-error:0.140976+0.000716526\ttrain-logloss:0.377761+0.00131093\ttest-error:0.212957+0.00265798\ttest-logloss:0.455993+0.00219499\n",
        "# [65]\ttrain-error:0.140644+0.00077158\ttrain-logloss:0.37703+0.00144745\ttest-error:0.212759+0.00271977\ttest-logloss:0.455518+0.0022707\n",
        "# [66]\ttrain-error:0.140349+0.000696622\ttrain-logloss:0.376355+0.00146514\ttest-error:0.212534+0.00276357\ttest-logloss:0.455061+0.00226561\n",
        "# [67]\ttrain-error:0.140012+0.00068346\ttrain-logloss:0.375476+0.00149814\ttest-error:0.212228+0.00273592\ttest-logloss:0.454492+0.00220802\n",
        "# [68]\ttrain-error:0.139521+0.000612805\ttrain-logloss:0.374398+0.00148682\ttest-error:0.211956+0.00251774\ttest-logloss:0.453842+0.00214228\n",
        "# [69]\ttrain-error:0.139122+0.000628674\ttrain-logloss:0.373602+0.00139231\ttest-error:0.211717+0.00246388\ttest-logloss:0.45332+0.00227151\n",
        "# [70]\ttrain-error:0.138688+0.00069331\ttrain-logloss:0.372619+0.00179512\ttest-error:0.21158+0.00242249\ttest-logloss:0.452736+0.00228609\n",
        "# [71]\ttrain-error:0.138343+0.00067664\ttrain-logloss:0.371812+0.0017987\ttest-error:0.211486+0.0024594\ttest-logloss:0.452236+0.00228719\n",
        "# [72]\ttrain-error:0.13801+0.000659997\ttrain-logloss:0.37113+0.00160554\ttest-error:0.211289+0.00230531\ttest-logloss:0.451833+0.0022769\n",
        "# [73]\ttrain-error:0.137785+0.000671639\ttrain-logloss:0.370612+0.00162402\ttest-error:0.211145+0.00228299\ttest-logloss:0.451477+0.00220496\n",
        "# [74]\ttrain-error:0.137477+0.000671242\ttrain-logloss:0.369912+0.00167174\ttest-error:0.210882+0.00211642\ttest-logloss:0.451041+0.00224564\n",
        "# [75]\ttrain-error:0.137237+0.000650165\ttrain-logloss:0.369373+0.00157737\ttest-error:0.210764+0.00213806\ttest-logloss:0.450676+0.00227501\n",
        "# [76]\ttrain-error:0.136912+0.000672699\ttrain-logloss:0.368762+0.00168057\ttest-error:0.210607+0.00212645\ttest-logloss:0.450293+0.00224976\n",
        "# [77]\ttrain-error:0.136528+0.000676975\ttrain-logloss:0.368028+0.00147127\ttest-error:0.210436+0.00208781\ttest-logloss:0.449835+0.00226654\n",
        "# [78]\ttrain-error:0.136028+0.000747887\ttrain-logloss:0.367139+0.00148844\ttest-error:0.210096+0.00218573\ttest-logloss:0.449309+0.00237231\n",
        "# [79]\ttrain-error:0.135672+0.000786262\ttrain-logloss:0.366467+0.00154715\ttest-error:0.209906+0.00218177\ttest-logloss:0.448905+0.00229863\n",
        "# [80]\ttrain-error:0.135427+0.000822693\ttrain-logloss:0.365885+0.00166646\ttest-error:0.209738+0.00220908\ttest-logloss:0.448529+0.00226879\n",
        "# [81]\ttrain-error:0.135045+0.000827382\ttrain-logloss:0.365082+0.00162979\ttest-error:0.209444+0.00217062\ttest-logloss:0.448044+0.00220173\n",
        "# [82]\ttrain-error:0.134645+0.000914766\ttrain-logloss:0.36427+0.0018495\ttest-error:0.209128+0.00215333\ttest-logloss:0.447538+0.00222681\n",
        "# [83]\ttrain-error:0.134336+0.000964148\ttrain-logloss:0.363649+0.0019588\ttest-error:0.208883+0.00215833\ttest-logloss:0.447166+0.00222146\n",
        "# [84]\ttrain-error:0.134022+0.00095243\ttrain-logloss:0.363035+0.00194097\ttest-error:0.208664+0.00201773\ttest-logloss:0.446776+0.00215725\n",
        "# [85]\ttrain-error:0.13371+0.000932293\ttrain-logloss:0.362412+0.0019437\ttest-error:0.20851+0.00193456\ttest-logloss:0.446363+0.00212179\n",
        "# [86]\ttrain-error:0.133396+0.000931278\ttrain-logloss:0.361845+0.00190314\ttest-error:0.208279+0.00190954\ttest-logloss:0.446021+0.00215678\n",
        "# [87]\ttrain-error:0.133162+0.000930793\ttrain-logloss:0.361311+0.00195654\ttest-error:0.208175+0.00192825\ttest-logloss:0.445677+0.00214036\n",
        "# [88]\ttrain-error:0.132813+0.00102419\ttrain-logloss:0.360652+0.00216517\ttest-error:0.207977+0.0019267\ttest-logloss:0.445287+0.00215152\n",
        "# [89]\ttrain-error:0.132544+0.00103074\ttrain-logloss:0.360048+0.00224155\ttest-error:0.207869+0.00185152\ttest-logloss:0.444928+0.00208855\n",
        "# [90]\ttrain-error:0.132214+0.00100073\ttrain-logloss:0.359373+0.00216504\ttest-error:0.207581+0.00188664\ttest-logloss:0.444517+0.00208939\n",
        "# [91]\ttrain-error:0.131944+0.000981335\ttrain-logloss:0.358717+0.00221698\ttest-error:0.207347+0.0019761\ttest-logloss:0.444106+0.00211196\n",
        "# [92]\ttrain-error:0.13155+0.00102295\ttrain-logloss:0.357921+0.0023177\ttest-error:0.207138+0.00191279\ttest-logloss:0.443631+0.00199233\n",
        "# [93]\ttrain-error:0.13129+0.00100861\ttrain-logloss:0.357336+0.00231612\ttest-error:0.206974+0.00185032\ttest-logloss:0.443261+0.00199589\n",
        "# [94]\ttrain-error:0.130998+0.000890242\ttrain-logloss:0.356647+0.00216598\ttest-error:0.20671+0.00187292\ttest-logloss:0.442821+0.00205329\n",
        "# [95]\ttrain-error:0.130718+0.000953049\ttrain-logloss:0.356046+0.00231434\ttest-error:0.206581+0.00181491\ttest-logloss:0.44246+0.00207187\n",
        "# [96]\ttrain-error:0.130521+0.000944015\ttrain-logloss:0.355623+0.00234435\ttest-error:0.206479+0.00188791\ttest-logloss:0.4422+0.00209028\n",
        "# [97]\ttrain-error:0.130185+0.0010189\ttrain-logloss:0.354926+0.00234943\ttest-error:0.206155+0.00185664\ttest-logloss:0.441781+0.00220431\n",
        "# [98]\ttrain-error:0.129869+0.00105884\ttrain-logloss:0.354266+0.00227397\ttest-error:0.206004+0.00184794\ttest-logloss:0.441362+0.00224611\n",
        "# [99]\ttrain-error:0.129621+0.00104233\ttrain-logloss:0.353782+0.00229473\ttest-error:0.205841+0.00182966\ttest-logloss:0.441081+0.0022104\n",
        "# [100]\ttrain-error:0.129284+0.00092232\ttrain-logloss:0.353172+0.00200113\ttest-error:0.205687+0.00178541\ttest-logloss:0.44073+0.00229664\n",
        "# [101]\ttrain-error:0.128961+0.000950176\ttrain-logloss:0.352564+0.00208281\ttest-error:0.205473+0.00179221\ttest-logloss:0.440365+0.0022697\n",
        "# [102]\ttrain-error:0.128613+0.00103574\ttrain-logloss:0.351896+0.0022513\ttest-error:0.205264+0.00185374\ttest-logloss:0.439973+0.00232207\n",
        "# [103]\ttrain-error:0.128347+0.00101563\ttrain-logloss:0.351387+0.00215836\ttest-error:0.205182+0.001871\ttest-logloss:0.439688+0.00229847\n",
        "# [104]\ttrain-error:0.128051+0.00103691\ttrain-logloss:0.350707+0.00204063\ttest-error:0.20516+0.00179161\ttest-logloss:0.439288+0.00240517\n",
        "# [105]\ttrain-error:0.127716+0.000945217\ttrain-logloss:0.35006+0.00199658\ttest-error:0.204959+0.0018417\ttest-logloss:0.438926+0.00239502\n",
        "# [106]\ttrain-error:0.12749+0.000961655\ttrain-logloss:0.349568+0.00207469\ttest-error:0.204833+0.00180901\ttest-logloss:0.438638+0.00237754\n",
        "# [107]\ttrain-error:0.127232+0.00102032\ttrain-logloss:0.349041+0.00217399\ttest-error:0.204731+0.00185493\ttest-logloss:0.43832+0.00240298\n",
        "# [108]\ttrain-error:0.126861+0.00108647\ttrain-logloss:0.348267+0.00222204\ttest-error:0.204492+0.00191669\ttest-logloss:0.437904+0.00247618\n",
        "# [109]\ttrain-error:0.126533+0.00105582\ttrain-logloss:0.347656+0.00213755\ttest-error:0.204374+0.00184396\ttest-logloss:0.437561+0.00240582\n",
        "# [110]\ttrain-error:0.126211+0.00113196\ttrain-logloss:0.347049+0.00230983\ttest-error:0.20425+0.00194474\ttest-logloss:0.437234+0.00242919\n",
        "# [111]\ttrain-error:0.126024+0.00112316\ttrain-logloss:0.346633+0.00225905\ttest-error:0.204068+0.00197256\ttest-logloss:0.43696+0.00241771\n",
        "# [112]\ttrain-error:0.125673+0.00129147\ttrain-logloss:0.345893+0.00256205\ttest-error:0.203871+0.00205829\ttest-logloss:0.436553+0.00258345\n",
        "# [113]\ttrain-error:0.125427+0.00126703\ttrain-logloss:0.345417+0.00255695\ttest-error:0.203807+0.00204998\ttest-logloss:0.436279+0.00257227\n",
        "# [114]\ttrain-error:0.125047+0.0011812\ttrain-logloss:0.344747+0.00241967\ttest-error:0.203505+0.00191292\ttest-logloss:0.435917+0.00249014\n",
        "# [115]\ttrain-error:0.124815+0.00120308\ttrain-logloss:0.34431+0.00241512\ttest-error:0.203401+0.00198518\ttest-logloss:0.43565+0.00248525\n",
        "# [116]\ttrain-error:0.124554+0.00125968\ttrain-logloss:0.343773+0.00251884\ttest-error:0.203189+0.00199278\ttest-logloss:0.435345+0.00248983\n",
        "# [117]\ttrain-error:0.124266+0.00129366\ttrain-logloss:0.343261+0.00252897\ttest-error:0.203079+0.00199824\ttest-logloss:0.435056+0.00250319\n",
        "# [118]\ttrain-error:0.123903+0.00115471\ttrain-logloss:0.342569+0.00236244\ttest-error:0.202969+0.00194619\ttest-logloss:0.43468+0.00247528\n",
        "# [119]\ttrain-error:0.123438+0.00134496\ttrain-logloss:0.341742+0.00257297\ttest-error:0.202623+0.0018903\ttest-logloss:0.434229+0.0024362\n",
        "# [120]\ttrain-error:0.123152+0.00130431\ttrain-logloss:0.341164+0.00248306\ttest-error:0.202367+0.0018335\ttest-logloss:0.433905+0.00230912\n",
        "# [121]\ttrain-error:0.122972+0.00131968\ttrain-logloss:0.340727+0.00254148\ttest-error:0.20231+0.00190055\ttest-logloss:0.43365+0.00228548\n",
        "# [122]\ttrain-error:0.122429+0.00123627\ttrain-logloss:0.339769+0.00266034\ttest-error:0.202148+0.00192812\ttest-logloss:0.433187+0.00221862\n",
        "# [123]\ttrain-error:0.122126+0.00125557\ttrain-logloss:0.339138+0.00272241\ttest-error:0.202065+0.0019627\ttest-logloss:0.432826+0.00215908\n",
        "# [124]\ttrain-error:0.121929+0.00123986\ttrain-logloss:0.338613+0.00263567\ttest-error:0.201914+0.00191548\ttest-logloss:0.432517+0.00198325\n",
        "# [125]\ttrain-error:0.121511+0.00106754\ttrain-logloss:0.337831+0.00235118\ttest-error:0.201735+0.00194213\ttest-logloss:0.432119+0.00199277\n",
        "# [126]\ttrain-error:0.121211+0.00112438\ttrain-logloss:0.33732+0.00232351\ttest-error:0.201716+0.00202115\ttest-logloss:0.431855+0.00196527\n",
        "# [127]\ttrain-error:0.120956+0.00117532\ttrain-logloss:0.336798+0.00239128\ttest-error:0.20154+0.00200949\ttest-logloss:0.431574+0.00192086\n",
        "# [128]\ttrain-error:0.120729+0.00107805\ttrain-logloss:0.336331+0.00217924\ttest-error:0.201392+0.00196481\ttest-logloss:0.431296+0.0019987\n",
        "# [129]\ttrain-error:0.120429+0.00112218\ttrain-logloss:0.335785+0.00209389\ttest-error:0.201285+0.00192727\ttest-logloss:0.431006+0.00204792\n",
        "# [130]\ttrain-error:0.120167+0.001152\ttrain-logloss:0.335265+0.00220239\ttest-error:0.201197+0.00195434\ttest-logloss:0.430738+0.00211079\n",
        "# [131]\ttrain-error:0.119985+0.00116279\ttrain-logloss:0.334928+0.00216323\ttest-error:0.201098+0.00197057\ttest-logloss:0.430545+0.00216435\n",
        "# [132]\ttrain-error:0.11961+0.0013425\ttrain-logloss:0.334264+0.00248129\ttest-error:0.200908+0.00190333\ttest-logloss:0.430226+0.00219364\n",
        "# [133]\ttrain-error:0.119466+0.00134246\ttrain-logloss:0.333918+0.00241085\ttest-error:0.200806+0.00193941\ttest-logloss:0.43003+0.00219182\n",
        "# [134]\ttrain-error:0.119081+0.00140678\ttrain-logloss:0.333239+0.00257535\ttest-error:0.200551+0.0019882\ttest-logloss:0.429673+0.00220659\n",
        "# [135]\ttrain-error:0.118896+0.0014169\ttrain-logloss:0.332899+0.0026024\ttest-error:0.200496+0.00193804\ttest-logloss:0.429491+0.00222649\n",
        "# [136]\ttrain-error:0.118529+0.00131369\ttrain-logloss:0.332242+0.00254032\ttest-error:0.200328+0.00206613\ttest-logloss:0.429145+0.00220508\n",
        "# [137]\ttrain-error:0.118237+0.0012859\ttrain-logloss:0.331746+0.00250824\ttest-error:0.200304+0.00195548\ttest-logloss:0.428892+0.00214663\n",
        "# [138]\ttrain-error:0.118118+0.00125537\ttrain-logloss:0.331448+0.00248112\ttest-error:0.200238+0.00202118\ttest-logloss:0.428711+0.00215179\n",
        "# [139]\ttrain-error:0.117784+0.00130372\ttrain-logloss:0.330717+0.00261642\ttest-error:0.200174+0.00203372\ttest-logloss:0.428313+0.00213369\n",
        "# [140]\ttrain-error:0.117497+0.00121386\ttrain-logloss:0.33009+0.00244903\ttest-error:0.200075+0.00200011\ttest-logloss:0.427959+0.00211043\n",
        "# [141]\ttrain-error:0.1173+0.00120281\ttrain-logloss:0.329688+0.00241957\ttest-error:0.199957+0.00210949\ttest-logloss:0.427725+0.0021648\n",
        "# [142]\ttrain-error:0.117025+0.0012882\ttrain-logloss:0.329129+0.00250969\ttest-error:0.199704+0.00212344\ttest-logloss:0.427429+0.0021901\n",
        "# [143]\ttrain-error:0.116771+0.00119597\ttrain-logloss:0.328566+0.00219508\ttest-error:0.19966+0.00216453\ttest-logloss:0.427113+0.00227396\n",
        "# [144]\ttrain-error:0.116459+0.00115444\ttrain-logloss:0.327957+0.00218852\ttest-error:0.199366+0.0021903\ttest-logloss:0.426815+0.00226123\n",
        "# [145]\ttrain-error:0.116166+0.00108628\ttrain-logloss:0.327395+0.00209404\ttest-error:0.199267+0.00221805\ttest-logloss:0.426519+0.00225205\n",
        "# [146]\ttrain-error:0.115877+0.00103182\ttrain-logloss:0.326873+0.00200003\ttest-error:0.199141+0.00221829\ttest-logloss:0.426274+0.00229505\n",
        "# [147]\ttrain-error:0.115652+0.00106932\ttrain-logloss:0.326419+0.00206224\ttest-error:0.199001+0.00229759\ttest-logloss:0.426024+0.00232925\n",
        "# [148]\ttrain-error:0.115433+0.00101313\ttrain-logloss:0.326011+0.00205212\ttest-error:0.198872+0.00228218\ttest-logloss:0.425796+0.00235\n",
        "# [149]\ttrain-error:0.115192+0.00105227\ttrain-logloss:0.325491+0.00216193\ttest-error:0.198745+0.00243449\ttest-logloss:0.425528+0.00236279\n",
        "# [150]\ttrain-error:0.115044+0.00106858\ttrain-logloss:0.325177+0.00217675\ttest-error:0.198687+0.00243915\ttest-logloss:0.425355+0.00240664\n",
        "# [151]\ttrain-error:0.114751+0.000994889\ttrain-logloss:0.324623+0.00207398\ttest-error:0.198591+0.00245267\ttest-logloss:0.425077+0.00241436\n",
        "# [152]\ttrain-error:0.114514+0.000882207\ttrain-logloss:0.324101+0.00186395\ttest-error:0.198495+0.00232461\ttest-logloss:0.424804+0.00234659\n",
        "# [153]\ttrain-error:0.114291+0.000929495\ttrain-logloss:0.323663+0.00200236\ttest-error:0.198377+0.00231063\ttest-logloss:0.424594+0.0023734\n",
        "# [154]\ttrain-error:0.114092+0.000924339\ttrain-logloss:0.323314+0.00199242\ttest-error:0.198217+0.00228614\ttest-logloss:0.424387+0.00234402\n",
        "# [155]\ttrain-error:0.113884+0.000982298\ttrain-logloss:0.322847+0.00204478\ttest-error:0.19819+0.00237202\ttest-logloss:0.424161+0.00235441\n",
        "# [156]\ttrain-error:0.113501+0.000940956\ttrain-logloss:0.322154+0.00198128\ttest-error:0.198099+0.00236561\ttest-logloss:0.423824+0.0022195\n",
        "# [157]\ttrain-error:0.113258+0.00106458\ttrain-logloss:0.321708+0.00206902\ttest-error:0.197893+0.00234799\ttest-logloss:0.423594+0.00221318\n",
        "# [158]\ttrain-error:0.112939+0.00113326\ttrain-logloss:0.321125+0.00222796\ttest-error:0.197783+0.00241421\ttest-logloss:0.423324+0.00212696\n",
        "# [159]\ttrain-error:0.112785+0.00116247\ttrain-logloss:0.32078+0.00213347\ttest-error:0.197739+0.00236777\ttest-logloss:0.423119+0.00214239\n",
        "# [160]\ttrain-error:0.112511+0.00117803\ttrain-logloss:0.320204+0.0021965\ttest-error:0.197596+0.00239568\ttest-logloss:0.422819+0.0021881\n",
        "# [161]\ttrain-error:0.112288+0.00118321\ttrain-logloss:0.319788+0.00213582\ttest-error:0.197432+0.00231233\ttest-logloss:0.422606+0.00216408\n",
        "# [162]\ttrain-error:0.112129+0.0011934\ttrain-logloss:0.319395+0.00221117\ttest-error:0.197275+0.00222938\ttest-logloss:0.422407+0.00211777\n",
        "# [163]\ttrain-error:0.111796+0.00125931\ttrain-logloss:0.31884+0.00233735\ttest-error:0.197085+0.00206041\ttest-logloss:0.422109+0.00207288\n",
        "# [164]\ttrain-error:0.111427+0.00123737\ttrain-logloss:0.318174+0.00215718\ttest-error:0.19692+0.00213246\ttest-logloss:0.4218+0.00220821\n",
        "# [165]\ttrain-error:0.111169+0.00127862\ttrain-logloss:0.317713+0.00223167\ttest-error:0.196849+0.00211066\ttest-logloss:0.421576+0.00223404\n",
        "# [166]\ttrain-error:0.110937+0.00122042\ttrain-logloss:0.317278+0.00219028\ttest-error:0.196739+0.00221104\ttest-logloss:0.421355+0.00224418\n",
        "# [167]\ttrain-error:0.110698+0.00130693\ttrain-logloss:0.316756+0.00231277\ttest-error:0.196632+0.00210299\ttest-logloss:0.421103+0.0021723\n",
        "# [168]\ttrain-error:0.110527+0.00132708\ttrain-logloss:0.316404+0.00231799\ttest-error:0.196525+0.00207168\ttest-logloss:0.420916+0.00219687\n",
        "# [169]\ttrain-error:0.110292+0.00132576\ttrain-logloss:0.315925+0.00238653\ttest-error:0.196533+0.00213601\ttest-logloss:0.420685+0.00221399\n",
        "# [170]\ttrain-error:0.110084+0.00131186\ttrain-logloss:0.315518+0.00241499\ttest-error:0.196475+0.00218875\ttest-logloss:0.420493+0.00221534\n",
        "# [171]\ttrain-error:0.109858+0.00131525\ttrain-logloss:0.315076+0.00250769\ttest-error:0.196445+0.00218636\ttest-logloss:0.420265+0.00220455\n",
        "# [172]\ttrain-error:0.109651+0.00134379\ttrain-logloss:0.314697+0.00252389\ttest-error:0.19636+0.00218543\ttest-logloss:0.420067+0.00212805\n",
        "# [173]\ttrain-error:0.109445+0.00137406\ttrain-logloss:0.314309+0.00261474\ttest-error:0.196189+0.00217312\ttest-logloss:0.419867+0.00211566\n",
        "# [174]\ttrain-error:0.1091+0.00127107\ttrain-logloss:0.313642+0.00245215\ttest-error:0.196033+0.00224307\ttest-logloss:0.41952+0.00214316\n",
        "# [175]\ttrain-error:0.108857+0.00111958\ttrain-logloss:0.31313+0.00205427\ttest-error:0.19595+0.00210189\ttest-logloss:0.419259+0.0022962\n",
        "# [176]\ttrain-error:0.10862+0.00112152\ttrain-logloss:0.312663+0.00213071\ttest-error:0.195854+0.00215482\ttest-logloss:0.419034+0.00230242\n",
        "# [177]\ttrain-error:0.108474+0.00114959\ttrain-logloss:0.312372+0.00217123\ttest-error:0.19573+0.00218591\ttest-logloss:0.418873+0.00230244\n",
        "# [178]\ttrain-error:0.108246+0.00119674\ttrain-logloss:0.311915+0.00219848\ttest-error:0.195582+0.0022286\ttest-logloss:0.418642+0.00230715\n",
        "# [179]\ttrain-error:0.108085+0.00116085\ttrain-logloss:0.311581+0.00212358\ttest-error:0.195563+0.00216692\ttest-logloss:0.418473+0.00225977\n",
        "# [180]\ttrain-error:0.107828+0.0010998\ttrain-logloss:0.311077+0.00202812\ttest-error:0.195378+0.00221276\ttest-logloss:0.418198+0.00229094\n",
        "# [181]\ttrain-error:0.107572+0.00113771\ttrain-logloss:0.31057+0.00207022\ttest-error:0.1952+0.0022706\ttest-logloss:0.417953+0.00236635\n",
        "# [182]\ttrain-error:0.107388+0.00109007\ttrain-logloss:0.310183+0.00198191\ttest-error:0.195071+0.00226974\ttest-logloss:0.417756+0.00241747\n",
        "# [183]\ttrain-error:0.107068+0.00100241\ttrain-logloss:0.309608+0.00194527\ttest-error:0.194936+0.0021573\ttest-logloss:0.417481+0.0023704\n",
        "# [184]\ttrain-error:0.106793+0.000956062\ttrain-logloss:0.309076+0.00185374\ttest-error:0.194988+0.00207659\ttest-logloss:0.41723+0.00233317\n",
        "# [185]\ttrain-error:0.106551+0.000959414\ttrain-logloss:0.308643+0.00176135\ttest-error:0.194919+0.00212295\ttest-logloss:0.417024+0.00229032\n",
        "# [186]\ttrain-error:0.106261+0.000959869\ttrain-logloss:0.308067+0.00191624\ttest-error:0.194796+0.00212077\ttest-logloss:0.416769+0.00226844\n",
        "# [187]\ttrain-error:0.105907+0.00115371\ttrain-logloss:0.307453+0.00220972\ttest-error:0.194722+0.00222215\ttest-logloss:0.416538+0.00230933\n",
        "# [188]\ttrain-error:0.105629+0.00102483\ttrain-logloss:0.30689+0.00187179\ttest-error:0.194516+0.00227571\ttest-logloss:0.416287+0.00245806\n",
        "# [189]\ttrain-error:0.105279+0.000938305\ttrain-logloss:0.306269+0.00188524\ttest-error:0.19448+0.00233304\ttest-logloss:0.415999+0.00241611\n",
        "# [190]\ttrain-error:0.105106+0.000922137\ttrain-logloss:0.305943+0.00184384\ttest-error:0.194353+0.00233487\ttest-logloss:0.415844+0.00243928\n",
        "# [191]\ttrain-error:0.104941+0.000929469\ttrain-logloss:0.305577+0.00185128\ttest-error:0.194218+0.00232629\ttest-logloss:0.415667+0.0024462\n",
        "# [192]\ttrain-error:0.104746+0.000975237\ttrain-logloss:0.30519+0.00187508\ttest-error:0.19409+0.00230904\ttest-logloss:0.415478+0.00241728\n",
        "# [193]\ttrain-error:0.104545+0.000997209\ttrain-logloss:0.304801+0.00188784\ttest-error:0.193916+0.00218983\ttest-logloss:0.415283+0.00237016\n",
        "# [194]\ttrain-error:0.10436+0.00101265\ttrain-logloss:0.30446+0.00186865\ttest-error:0.19376+0.00219993\ttest-logloss:0.415114+0.00238867\n",
        "# [195]\ttrain-error:0.104114+0.00107108\ttrain-logloss:0.303946+0.00201736\ttest-error:0.193705+0.00217135\ttest-logloss:0.414877+0.00240903\n",
        "# [196]\ttrain-error:0.103804+0.000910448\ttrain-logloss:0.30345+0.00180668\ttest-error:0.193496+0.00221359\ttest-logloss:0.414647+0.00240895\n",
        "# [197]\ttrain-error:0.103619+0.000940935\ttrain-logloss:0.303017+0.00187193\ttest-error:0.193493+0.002254\ttest-logloss:0.414447+0.00237198\n",
        "# [198]\ttrain-error:0.103327+0.00102098\ttrain-logloss:0.302469+0.00193663\ttest-error:0.193501+0.00216495\ttest-logloss:0.414172+0.00238983\n",
        "# [199]\ttrain-error:0.103177+0.00101681\ttrain-logloss:0.302065+0.00188816\ttest-error:0.193419+0.00216532\ttest-logloss:0.41399+0.00238375\n",
        "# [200]\ttrain-error:0.102945+0.000991307\ttrain-logloss:0.301612+0.00187285\ttest-error:0.193257+0.00223399\ttest-logloss:0.413768+0.00238513\n",
        "# [201]\ttrain-error:0.102695+0.0010758\ttrain-logloss:0.301135+0.00198796\ttest-error:0.193103+0.00224144\ttest-logloss:0.413529+0.00240297\n",
        "# [202]\ttrain-error:0.102477+0.00100317\ttrain-logloss:0.300675+0.00195527\ttest-error:0.19299+0.00227394\ttest-logloss:0.413319+0.00237269\n",
        "# [203]\ttrain-error:0.102244+0.000968419\ttrain-logloss:0.30022+0.00190906\ttest-error:0.192902+0.00226658\ttest-logloss:0.413128+0.00241679\n",
        "# [204]\ttrain-error:0.101994+0.0009751\ttrain-logloss:0.299746+0.0019061\ttest-error:0.192933+0.00219103\ttest-logloss:0.412908+0.00242254\n",
        "# [205]\ttrain-error:0.101859+0.000906666\ttrain-logloss:0.299457+0.00179465\ttest-error:0.192913+0.00216363\ttest-logloss:0.412775+0.00246006\n",
        "# [206]\ttrain-error:0.101617+0.00091106\ttrain-logloss:0.298982+0.00180038\ttest-error:0.192831+0.00221858\ttest-logloss:0.412549+0.00250729\n",
        "# [207]\ttrain-error:0.101354+0.000819728\ttrain-logloss:0.298499+0.00161879\ttest-error:0.192724+0.00229454\ttest-logloss:0.412327+0.00252377\n",
        "# [208]\ttrain-error:0.101205+0.000876511\ttrain-logloss:0.298171+0.00171418\ttest-error:0.192625+0.00236061\ttest-logloss:0.412173+0.0025459\n",
        "# [209]\ttrain-error:0.100959+0.000924066\ttrain-logloss:0.2977+0.00179256\ttest-error:0.192608+0.00238872\ttest-logloss:0.411957+0.00252844\n",
        "# [210]\ttrain-error:0.10076+0.000908096\ttrain-logloss:0.297309+0.00182096\ttest-error:0.19244+0.00225071\ttest-logloss:0.41178+0.00249796\n",
        "# [211]\ttrain-error:0.100584+0.000907487\ttrain-logloss:0.296956+0.00170747\ttest-error:0.192471+0.00221153\ttest-logloss:0.411605+0.00257315\n",
        "# [212]\ttrain-error:0.100342+0.000956587\ttrain-logloss:0.296468+0.00182757\ttest-error:0.192352+0.00224814\ttest-logloss:0.411389+0.0025897\n",
        "# [213]\ttrain-error:0.100081+0.000964096\ttrain-logloss:0.295982+0.00189292\ttest-error:0.192226+0.00227452\ttest-logloss:0.411191+0.00256113\n",
        "# [214]\ttrain-error:0.0998529+0.000876951\ttrain-logloss:0.295548+0.00168485\ttest-error:0.192039+0.00234775\ttest-logloss:0.41101+0.00254557\n",
        "# [215]\ttrain-error:0.0997135+0.000877206\ttrain-logloss:0.295257+0.00166721\ttest-error:0.191957+0.00241611\ttest-logloss:0.410885+0.00254709\n",
        "# [216]\ttrain-error:0.0995024+0.000950194\ttrain-logloss:0.294843+0.00177579\ttest-error:0.191863+0.00240647\ttest-logloss:0.410697+0.00252548\n",
        "# [217]\ttrain-error:0.0992283+0.000839395\ttrain-logloss:0.294324+0.00150415\ttest-error:0.19185+0.00235947\ttest-logloss:0.410481+0.00266169\n",
        "# [218]\ttrain-error:0.0989532+0.000844019\ttrain-logloss:0.293813+0.00154564\ttest-error:0.19166+0.00234013\ttest-logloss:0.410253+0.00262314\n",
        "# [219]\ttrain-error:0.0987535+0.000806058\ttrain-logloss:0.293375+0.00143907\ttest-error:0.191586+0.00236154\ttest-logloss:0.410042+0.00264631\n",
        "# [220]\ttrain-error:0.0985479+0.000843469\ttrain-logloss:0.292922+0.001404\ttest-error:0.191448+0.00238007\ttest-logloss:0.409843+0.00269475\n",
        "# [221]\ttrain-error:0.0983903+0.000814375\ttrain-logloss:0.292581+0.00135575\ttest-error:0.191396+0.00240371\ttest-logloss:0.409691+0.00273547\n",
        "# [222]\ttrain-error:0.0981891+0.000839926\ttrain-logloss:0.292181+0.0014872\ttest-error:0.191239+0.00246122\ttest-logloss:0.409528+0.00275563\n",
        "# [223]\ttrain-error:0.0980349+0.000857165\ttrain-logloss:0.291823+0.00148857\ttest-error:0.191116+0.00243149\ttest-logloss:0.409373+0.00273878\n",
        "# [224]\ttrain-error:0.0975991+0.0010052\ttrain-logloss:0.29109+0.00156767\ttest-error:0.190945+0.0022393\ttest-logloss:0.409076+0.00275755\n",
        "# [225]\ttrain-error:0.0974166+0.000976114\ttrain-logloss:0.290744+0.00157944\ttest-error:0.190877+0.00224344\ttest-logloss:0.408912+0.00275964\n",
        "# [226]\ttrain-error:0.0973137+0.000969841\ttrain-logloss:0.290523+0.00155625\ttest-error:0.190869+0.00221816\ttest-logloss:0.408822+0.00276728\n",
        "# [227]\ttrain-error:0.0971923+0.000980256\ttrain-logloss:0.290246+0.00157291\ttest-error:0.190866+0.00227259\ttest-logloss:0.408691+0.00275704\n",
        "# [228]\ttrain-error:0.0970253+0.000995639\ttrain-logloss:0.289914+0.00154123\ttest-error:0.190802+0.00227977\ttest-logloss:0.408535+0.00280708\n",
        "# [229]\ttrain-error:0.0968259+0.000965742\ttrain-logloss:0.289508+0.00147069\ttest-error:0.190717+0.00227789\ttest-logloss:0.40834+0.00285043\n",
        "# [230]\ttrain-error:0.096626+0.000888338\ttrain-logloss:0.289137+0.00145005\ttest-error:0.190692+0.00226594\ttest-logloss:0.408173+0.00280852\n",
        "# [231]\ttrain-error:0.0964163+0.00093077\ttrain-logloss:0.288741+0.00156777\ttest-error:0.190618+0.00232778\ttest-logloss:0.407991+0.00282453\n",
        "# [232]\ttrain-error:0.0961896+0.000966505\ttrain-logloss:0.288319+0.00149059\ttest-error:0.190561+0.00232328\ttest-logloss:0.407808+0.00289563\n",
        "# [233]\ttrain-error:0.0960245+0.00100919\ttrain-logloss:0.288002+0.00151727\ttest-error:0.190495+0.00231895\ttest-logloss:0.407654+0.0028989\n",
        "# [234]\ttrain-error:0.0958758+0.00100255\ttrain-logloss:0.287654+0.00145241\ttest-error:0.190442+0.0023684\ttest-logloss:0.407493+0.00289637\n",
        "# [235]\ttrain-error:0.0955574+0.000996001\ttrain-logloss:0.28712+0.00151208\ttest-error:0.190319+0.00229858\ttest-logloss:0.407273+0.00285505\n",
        "# [236]\ttrain-error:0.095254+0.000995369\ttrain-logloss:0.286591+0.00144285\ttest-error:0.190104+0.00236672\ttest-logloss:0.407044+0.00282136\n",
        "# [237]\ttrain-error:0.09499+0.00108508\ttrain-logloss:0.286127+0.00160354\ttest-error:0.189934+0.00239835\ttest-logloss:0.406848+0.002848\n",
        "# [238]\ttrain-error:0.0948288+0.00109643\ttrain-logloss:0.285797+0.00161965\ttest-error:0.189912+0.00240131\ttest-logloss:0.406679+0.00283306\n",
        "# [239]\ttrain-error:0.0946574+0.00106204\ttrain-logloss:0.285428+0.00149793\ttest-error:0.189739+0.00246518\ttest-logloss:0.406494+0.00291168\n",
        "# [240]\ttrain-error:0.094449+0.00104124\ttrain-logloss:0.284977+0.00149872\ttest-error:0.189634+0.00238445\ttest-logloss:0.406296+0.00292958\n",
        "# [241]\ttrain-error:0.0942732+0.00105918\ttrain-logloss:0.284629+0.00154285\ttest-error:0.189566+0.00238428\ttest-logloss:0.406127+0.00295687\n",
        "# [242]\ttrain-error:0.0941189+0.00105551\ttrain-logloss:0.284315+0.00154579\ttest-error:0.189502+0.00233577\ttest-logloss:0.405973+0.00297031\n",
        "# [243]\ttrain-error:0.093909+0.00101696\ttrain-logloss:0.283904+0.00151182\ttest-error:0.189472+0.00236569\ttest-logloss:0.405801+0.0029399\n",
        "# [244]\ttrain-error:0.0936277+0.000930439\ttrain-logloss:0.283402+0.00142596\ttest-error:0.189415+0.00239401\ttest-logloss:0.40559+0.00290992\n",
        "# [245]\ttrain-error:0.0934567+0.000921462\ttrain-logloss:0.283031+0.00140341\ttest-error:0.189346+0.00234822\ttest-logloss:0.40544+0.00290067\n",
        "# [246]\ttrain-error:0.093235+0.000882356\ttrain-logloss:0.282633+0.00132242\ttest-error:0.189214+0.00237082\ttest-logloss:0.405283+0.00294703\n",
        "# [247]\ttrain-error:0.0930396+0.000807715\ttrain-logloss:0.282257+0.00133259\ttest-error:0.189159+0.00235583\ttest-logloss:0.405137+0.00291362\n",
        "# [248]\ttrain-error:0.0928136+0.000706212\ttrain-logloss:0.281838+0.00119486\ttest-error:0.189054+0.00241611\ttest-logloss:0.404983+0.00292906\n",
        "# [249]\ttrain-error:0.0926445+0.000768103\ttrain-logloss:0.281473+0.00120399\ttest-error:0.189022+0.0023867\ttest-logloss:0.40483+0.00291495\n",
        "# [250]\ttrain-error:0.0924086+0.000721257\ttrain-logloss:0.281075+0.00119055\ttest-error:0.188953+0.00232543\ttest-logloss:0.404671+0.00293138\n",
        "# [251]\ttrain-error:0.0921749+0.00070902\ttrain-logloss:0.280654+0.00112206\ttest-error:0.18889+0.00228608\ttest-logloss:0.404482+0.00292453\n",
        "# [252]\ttrain-error:0.0918992+0.000725461\ttrain-logloss:0.280135+0.00115838\ttest-error:0.188865+0.00224054\ttest-logloss:0.404293+0.00295257\n",
        "# [253]\ttrain-error:0.0917003+0.000756654\ttrain-logloss:0.279737+0.00125642\ttest-error:0.18876+0.00220065\ttest-logloss:0.404145+0.00295719\n",
        "# [254]\ttrain-error:0.0914719+0.000791662\ttrain-logloss:0.279307+0.00135234\ttest-error:0.188664+0.00219965\ttest-logloss:0.403972+0.00298804\n",
        "# [255]\ttrain-error:0.0913392+0.000788812\ttrain-logloss:0.279026+0.00134454\ttest-error:0.188601+0.00217519\ttest-logloss:0.403823+0.00295147\n",
        "# [256]\ttrain-error:0.0911498+0.000888925\ttrain-logloss:0.278644+0.00151068\ttest-error:0.188494+0.00223698\ttest-logloss:0.403654+0.00305573\n",
        "# [257]\ttrain-error:0.0909741+0.000927712\ttrain-logloss:0.278254+0.00155365\ttest-error:0.18845+0.00231608\ttest-logloss:0.403514+0.00308476\n",
        "# [258]\ttrain-error:0.0907693+0.000884409\ttrain-logloss:0.277868+0.00144358\ttest-error:0.188323+0.00227856\ttest-logloss:0.403351+0.00305331\n",
        "# [259]\ttrain-error:0.090604+0.00094271\ttrain-logloss:0.277569+0.0015047\ttest-error:0.188354+0.00232746\ttest-logloss:0.403229+0.00309142\n",
        "# [260]\ttrain-error:0.0904543+0.000986392\ttrain-logloss:0.277256+0.00158467\ttest-error:0.188233+0.00235147\ttest-logloss:0.403094+0.00312135\n",
        "# [261]\ttrain-error:0.090252+0.000935625\ttrain-logloss:0.276883+0.00154769\ttest-error:0.188156+0.00231848\ttest-logloss:0.402952+0.00311649\n",
        "# [262]\ttrain-error:0.0899849+0.00101231\ttrain-logloss:0.276341+0.00165243\ttest-error:0.188079+0.00250303\ttest-logloss:0.402757+0.00313803\n",
        "# [263]\ttrain-error:0.0897744+0.000970545\ttrain-logloss:0.275903+0.00153314\ttest-error:0.187884+0.00247083\ttest-logloss:0.402548+0.00308775\n",
        "# [264]\ttrain-error:0.0895444+0.000987963\ttrain-logloss:0.275446+0.00150835\ttest-error:0.187796+0.00242366\ttest-logloss:0.40236+0.00310228\n",
        "# [265]\ttrain-error:0.0893621+0.000986376\ttrain-logloss:0.275096+0.00149906\ttest-error:0.187763+0.00238122\ttest-logloss:0.40224+0.00310603\n",
        "# [266]\ttrain-error:0.0891974+0.000994578\ttrain-logloss:0.274702+0.00150648\ttest-error:0.187548+0.00235307\ttest-logloss:0.40209+0.00310838\n",
        "# [267]\ttrain-error:0.0890007+0.00102629\ttrain-logloss:0.274313+0.00155556\ttest-error:0.187452+0.00234327\ttest-logloss:0.40192+0.00309651\n",
        "# [268]\ttrain-error:0.0888776+0.00100595\ttrain-logloss:0.274028+0.00156405\ttest-error:0.187513+0.00236374\ttest-logloss:0.401815+0.00308262\n",
        "# [269]\ttrain-error:0.0886535+0.00104283\ttrain-logloss:0.273627+0.00158216\ttest-error:0.18748+0.00239231\ttest-logloss:0.401649+0.00312357\n",
        "# [270]\ttrain-error:0.088406+0.000963136\ttrain-logloss:0.273192+0.001475\ttest-error:0.187425+0.00228093\ttest-logloss:0.401475+0.00308592\n",
        "# [271]\ttrain-error:0.0882296+0.000969783\ttrain-logloss:0.272842+0.00149053\ttest-error:0.187329+0.00243458\ttest-logloss:0.401327+0.00308235\n",
        "# [272]\ttrain-error:0.0880846+0.000968602\ttrain-logloss:0.272531+0.00149583\ttest-error:0.18729+0.00253751\ttest-logloss:0.401193+0.00308665\n",
        "# [273]\ttrain-error:0.0879786+0.000979108\ttrain-logloss:0.272284+0.00150112\ttest-error:0.187268+0.00254868\ttest-logloss:0.401094+0.00311905\n",
        "# [274]\ttrain-error:0.0877787+0.00091856\ttrain-logloss:0.271881+0.00134246\ttest-error:0.187227+0.00260551\ttest-logloss:0.400934+0.00310305\n",
        "# [275]\ttrain-error:0.0876018+0.000954119\ttrain-logloss:0.271514+0.00145436\ttest-error:0.187125+0.00248076\ttest-logloss:0.400796+0.00316235\n",
        "# [276]\ttrain-error:0.0873116+0.000969629\ttrain-logloss:0.27099+0.00148352\ttest-error:0.187045+0.00248958\ttest-logloss:0.400608+0.00314863\n",
        "# [277]\ttrain-error:0.0870759+0.000975144\ttrain-logloss:0.270544+0.00151477\ttest-error:0.187004+0.0024904\ttest-logloss:0.400436+0.00310705\n",
        "# [278]\ttrain-error:0.0868797+0.00102943\ttrain-logloss:0.270166+0.00165762\ttest-error:0.186936+0.00250944\ttest-logloss:0.400293+0.0031423\n",
        "# [279]\ttrain-error:0.086652+0.000999908\ttrain-logloss:0.269716+0.00158647\ttest-error:0.186853+0.00252436\ttest-logloss:0.400132+0.00314276\n",
        "# [280]\ttrain-error:0.0864461+0.00102643\ttrain-logloss:0.269355+0.00160446\ttest-error:0.186798+0.00256234\ttest-logloss:0.399994+0.00316804\n",
        "# [281]\ttrain-error:0.0862709+0.00102247\ttrain-logloss:0.269005+0.00160278\ttest-error:0.186771+0.00250734\ttest-logloss:0.399871+0.00317138\n",
        "# [282]\ttrain-error:0.0860492+0.00100388\ttrain-logloss:0.268544+0.00159491\ttest-error:0.186713+0.00239157\ttest-logloss:0.3997+0.00317079\n",
        "# [283]\ttrain-error:0.0858199+0.00108006\ttrain-logloss:0.268108+0.00170106\ttest-error:0.186664+0.00237563\ttest-logloss:0.399535+0.00318815\n",
        "# [284]\ttrain-error:0.085702+0.00106576\ttrain-logloss:0.267872+0.00171412\ttest-error:0.186567+0.00237937\ttest-logloss:0.399436+0.003198\n",
        "# [285]\ttrain-error:0.0854932+0.00113062\ttrain-logloss:0.267499+0.0018516\ttest-error:0.186501+0.00236416\ttest-logloss:0.399294+0.00325581\n",
        "# [286]\ttrain-error:0.0853824+0.00111992\ttrain-logloss:0.267213+0.00184648\ttest-error:0.186449+0.00243937\ttest-logloss:0.399171+0.00327874\n",
        "# [287]\ttrain-error:0.0851914+0.00104635\ttrain-logloss:0.26683+0.00175336\ttest-error:0.186369+0.00236014\ttest-logloss:0.399001+0.00323188\n",
        "# [288]\ttrain-error:0.0850363+0.00106269\ttrain-logloss:0.266481+0.00183369\ttest-error:0.186279+0.00235056\ttest-logloss:0.398869+0.00322103\n",
        "# [289]\ttrain-error:0.0849499+0.00107359\ttrain-logloss:0.266282+0.00181702\ttest-error:0.186243+0.00240017\ttest-logloss:0.398778+0.00323723\n",
        "# [290]\ttrain-error:0.0847569+0.00114747\ttrain-logloss:0.265908+0.00190642\ttest-error:0.186205+0.00239953\ttest-logloss:0.398645+0.00320383\n",
        "# [291]\ttrain-error:0.0844917+0.00106253\ttrain-logloss:0.265414+0.00189217\ttest-error:0.186127+0.00248203\ttest-logloss:0.398473+0.00317932\n",
        "# [292]\ttrain-error:0.0843323+0.00107532\ttrain-logloss:0.265074+0.00188213\ttest-error:0.186103+0.00242741\ttest-logloss:0.398354+0.00318175\n",
        "# [293]\ttrain-error:0.0841864+0.00104203\ttrain-logloss:0.264745+0.00183904\ttest-error:0.185984+0.00243231\ttest-logloss:0.398226+0.00319207\n",
        "# [294]\ttrain-error:0.0840098+0.000953642\ttrain-logloss:0.264425+0.00174399\ttest-error:0.185869+0.00251159\ttest-logloss:0.398103+0.00318099\n",
        "# [295]\ttrain-error:0.0838233+0.0008548\ttrain-logloss:0.264068+0.00161873\ttest-error:0.185776+0.00246474\ttest-logloss:0.397961+0.00314656\n",
        "# [296]\ttrain-error:0.0837039+0.000894767\ttrain-logloss:0.263811+0.00165662\ttest-error:0.185677+0.00244636\ttest-logloss:0.397858+0.00314849\n",
        "# [297]\ttrain-error:0.0835515+0.000854415\ttrain-logloss:0.263442+0.00160588\ttest-error:0.185677+0.00262604\ttest-logloss:0.397704+0.00314306\n",
        "# [298]\ttrain-error:0.0834074+0.000839675\ttrain-logloss:0.263136+0.00158977\ttest-error:0.185668+0.00259704\ttest-logloss:0.397585+0.00312054\n",
        "# [299]\ttrain-error:0.0831982+0.00089386\ttrain-logloss:0.262797+0.00163095\ttest-error:0.185619+0.00252263\ttest-logloss:0.397451+0.00313993\n",
        "# [300]\ttrain-error:0.0829809+0.000907351\ttrain-logloss:0.262386+0.0016444\ttest-error:0.185644+0.00251786\ttest-logloss:0.397305+0.00314967\n",
        "# [301]\ttrain-error:0.0828467+0.000862398\ttrain-logloss:0.262073+0.00162175\ttest-error:0.185655+0.00259598\ttest-logloss:0.3972+0.00314401\n",
        "# [302]\ttrain-error:0.0827193+0.000858698\ttrain-logloss:0.261781+0.00158222\ttest-error:0.185526+0.00254521\ttest-logloss:0.397081+0.00311292\n",
        "# [303]\ttrain-error:0.0826173+0.000861139\ttrain-logloss:0.26157+0.00157585\ttest-error:0.18557+0.00251097\ttest-logloss:0.396993+0.00313636\n",
        "# [304]\ttrain-error:0.082472+0.000804912\ttrain-logloss:0.261281+0.00147335\ttest-error:0.185496+0.00255657\ttest-logloss:0.396873+0.00317348\n",
        "# [305]\ttrain-error:0.0822471+0.000872313\ttrain-logloss:0.260852+0.00162927\ttest-error:0.18549+0.0024102\ttest-logloss:0.396737+0.00319301\n",
        "# [306]\ttrain-error:0.0820666+0.000881077\ttrain-logloss:0.260466+0.00158779\ttest-error:0.185405+0.00242409\ttest-logloss:0.396601+0.00317917\n",
        "# [307]\ttrain-error:0.0819029+0.000945464\ttrain-logloss:0.260118+0.00167957\ttest-error:0.185333+0.0024877\ttest-logloss:0.396472+0.00316987\n",
        "# [308]\ttrain-error:0.0817771+0.000911095\ttrain-logloss:0.259805+0.00160536\ttest-error:0.185262+0.00247386\ttest-logloss:0.396361+0.00314338\n",
        "# [309]\ttrain-error:0.0815327+0.000914882\ttrain-logloss:0.259348+0.00154355\ttest-error:0.18513+0.00251311\ttest-logloss:0.3962+0.00311158\n",
        "# [310]\ttrain-error:0.0812273+0.000903238\ttrain-logloss:0.258764+0.00145492\ttest-error:0.185061+0.00246743\ttest-logloss:0.396002+0.00307856\n",
        "# [311]\ttrain-error:0.0810477+0.000859782\ttrain-logloss:0.258412+0.00140926\ttest-error:0.185061+0.00247193\ttest-logloss:0.395881+0.0030742\n",
        "# [312]\ttrain-error:0.0808899+0.000853149\ttrain-logloss:0.25813+0.00138573\ttest-error:0.184976+0.00239693\ttest-logloss:0.395768+0.0030622\n",
        "# [313]\ttrain-error:0.0807125+0.000882617\ttrain-logloss:0.257769+0.00143644\ttest-error:0.184916+0.00237007\ttest-logloss:0.395629+0.00306801\n",
        "# [314]\ttrain-error:0.0805134+0.000831748\ttrain-logloss:0.257398+0.00136879\ttest-error:0.184737+0.00244507\ttest-logloss:0.3955+0.00306701\n",
        "# [315]\ttrain-error:0.0803247+0.000839907\ttrain-logloss:0.257+0.00135892\ttest-error:0.184674+0.00246612\ttest-logloss:0.39537+0.00309128\n",
        "# [316]\ttrain-error:0.0802037+0.00090009\ttrain-logloss:0.256744+0.00148733\ttest-error:0.184575+0.00243031\ttest-logloss:0.395281+0.00311829\n",
        "# [317]\ttrain-error:0.0799938+0.000880226\ttrain-logloss:0.25635+0.0014171\ttest-error:0.184484+0.00243218\ttest-logloss:0.39514+0.00309132\n",
        "# [318]\ttrain-error:0.0797864+0.000868258\ttrain-logloss:0.255963+0.00137151\ttest-error:0.184448+0.00253197\ttest-logloss:0.395008+0.00311262\n",
        "# [319]\ttrain-error:0.0795903+0.00090514\ttrain-logloss:0.255579+0.00142367\ttest-error:0.184374+0.00255287\ttest-logloss:0.394877+0.00313713\n",
        "# [320]\ttrain-error:0.0793998+0.000846235\ttrain-logloss:0.255204+0.00133294\ttest-error:0.184388+0.00248703\ttest-logloss:0.394743+0.00315585\n",
        "# [321]\ttrain-error:0.0792377+0.000828691\ttrain-logloss:0.254905+0.00132376\ttest-error:0.184339+0.0025771\ttest-logloss:0.394648+0.00314221\n",
        "# [322]\ttrain-error:0.0790977+0.000840994\ttrain-logloss:0.254585+0.00129015\ttest-error:0.184228+0.00251334\ttest-logloss:0.394529+0.00313823\n",
        "# [323]\ttrain-error:0.0788568+0.000808039\ttrain-logloss:0.25411+0.00126062\ttest-error:0.184146+0.0024936\ttest-logloss:0.394358+0.00312131\n",
        "# [324]\ttrain-error:0.0787149+0.000841221\ttrain-logloss:0.253825+0.00133657\ttest-error:0.184066+0.00248815\ttest-logloss:0.394247+0.00312964\n",
        "# [325]\ttrain-error:0.078565+0.00089447\ttrain-logloss:0.253546+0.00141396\ttest-error:0.184009+0.00247539\ttest-logloss:0.394141+0.0031553\n",
        "# [326]\ttrain-error:0.0783397+0.000849613\ttrain-logloss:0.253126+0.00138399\ttest-error:0.183984+0.00255654\ttest-logloss:0.394001+0.00316197\n",
        "# [327]\ttrain-error:0.0781313+0.000856516\ttrain-logloss:0.252651+0.00139932\ttest-error:0.183965+0.0025325\ttest-logloss:0.393837+0.00311641\n",
        "# [328]\ttrain-error:0.0779391+0.000871126\ttrain-logloss:0.252272+0.00136479\ttest-error:0.183858+0.0025325\ttest-logloss:0.393719+0.00314014\n",
        "# [329]\ttrain-error:0.0777628+0.000882108\ttrain-logloss:0.251941+0.00137215\ttest-error:0.183857+0.00248819\ttest-logloss:0.393602+0.0031472\n",
        "# [330]\ttrain-error:0.0775635+0.000840797\ttrain-logloss:0.251549+0.0013163\ttest-error:0.183629+0.00240263\ttest-logloss:0.39345+0.00316452\n",
        "# [331]\ttrain-error:0.0774401+0.000861444\ttrain-logloss:0.251202+0.00139335\ttest-error:0.183588+0.00234493\ttest-logloss:0.39333+0.00318098\n",
        "# [332]\ttrain-error:0.0772607+0.000868241\ttrain-logloss:0.250854+0.00137821\ttest-error:0.183527+0.00233085\ttest-logloss:0.393204+0.00316989\n",
        "# [333]\ttrain-error:0.0770698+0.00085237\ttrain-logloss:0.250482+0.00136454\ttest-error:0.183517+0.0022612\ttest-logloss:0.393097+0.00316592\n",
        "# [334]\ttrain-error:0.0768993+0.000862519\ttrain-logloss:0.250155+0.00140579\ttest-error:0.183415+0.0021746\ttest-logloss:0.392971+0.00317447\n",
        "# [335]\ttrain-error:0.0766512+0.000898114\ttrain-logloss:0.249706+0.00149097\ttest-error:0.183286+0.00215878\ttest-logloss:0.392826+0.00321311\n",
        "# [336]\ttrain-error:0.0764571+0.000881482\ttrain-logloss:0.249339+0.00147868\ttest-error:0.183173+0.00215302\ttest-logloss:0.3927+0.00322941\n",
        "# [337]\ttrain-error:0.0762767+0.00090945\ttrain-logloss:0.248987+0.00150778\ttest-error:0.183129+0.00217234\ttest-logloss:0.392577+0.00322638\n",
        "# [338]\ttrain-error:0.0761036+0.000927312\ttrain-logloss:0.248625+0.00153149\ttest-error:0.183033+0.00213262\ttest-logloss:0.392434+0.00324853\n",
        "# [339]\ttrain-error:0.0759135+0.000991779\ttrain-logloss:0.248261+0.00159583\ttest-error:0.182983+0.00220573\ttest-logloss:0.39231+0.00324471\n",
        "# [340]\ttrain-error:0.0757357+0.00103489\ttrain-logloss:0.247889+0.00167119\ttest-error:0.18286+0.00216532\ttest-logloss:0.392197+0.00324238\n",
        "# [341]\ttrain-error:0.0755796+0.000981012\ttrain-logloss:0.247592+0.00158129\ttest-error:0.182868+0.00219412\ttest-logloss:0.392088+0.00320555\n",
        "# [342]\ttrain-error:0.0754416+0.0010182\ttrain-logloss:0.24728+0.00167636\ttest-error:0.182997+0.00217525\ttest-logloss:0.391998+0.00319439\n",
        "# [343]\ttrain-error:0.0752995+0.000980302\ttrain-logloss:0.247+0.00160071\ttest-error:0.182948+0.00220755\ttest-logloss:0.391896+0.00320168\n",
        "# [344]\ttrain-error:0.0751388+0.00102525\ttrain-logloss:0.246725+0.00162942\ttest-error:0.18297+0.0022103\ttest-logloss:0.391819+0.00319869\n",
        "# [345]\ttrain-error:0.0749972+0.00106617\ttrain-logloss:0.246437+0.00165135\ttest-error:0.182898+0.0020843\ttest-logloss:0.391736+0.0031987\n",
        "# [346]\ttrain-error:0.0748097+0.000994665\ttrain-logloss:0.246082+0.00157459\ttest-error:0.182926+0.00212472\ttest-logloss:0.391624+0.00320073\n",
        "# [347]\ttrain-error:0.0746355+0.0009887\ttrain-logloss:0.24571+0.00160527\ttest-error:0.182835+0.00212955\ttest-logloss:0.391495+0.00317397\n",
        "# [348]\ttrain-error:0.0744005+0.00103594\ttrain-logloss:0.245271+0.00165467\ttest-error:0.182791+0.00212112\ttest-logloss:0.391361+0.00315447\n",
        "# [349]\ttrain-error:0.0742607+0.00104742\ttrain-logloss:0.244963+0.00168816\ttest-error:0.182769+0.00212525\ttest-logloss:0.391255+0.00315376\n",
        "# [350]\ttrain-error:0.074054+0.00107121\ttrain-logloss:0.24456+0.00174213\ttest-error:0.182821+0.00223338\ttest-logloss:0.391117+0.00314529\n",
        "# [351]\ttrain-error:0.0738674+0.00109361\ttrain-logloss:0.244183+0.00175\ttest-error:0.18272+0.00216412\ttest-logloss:0.391014+0.00315833\n",
        "# [352]\ttrain-error:0.0736417+0.00107048\ttrain-logloss:0.243779+0.00174767\ttest-error:0.182758+0.00217099\ttest-logloss:0.390881+0.00313624\n",
        "# [353]\ttrain-error:0.0734618+0.0010574\ttrain-logloss:0.243415+0.00176268\ttest-error:0.182615+0.00214382\ttest-logloss:0.390756+0.00314342\n",
        "# [354]\ttrain-error:0.0733073+0.00102527\ttrain-logloss:0.243085+0.00174101\ttest-error:0.182555+0.00216182\ttest-logloss:0.39063+0.00312823\n",
        "# [355]\ttrain-error:0.0732087+0.000991626\ttrain-logloss:0.242801+0.0016881\ttest-error:0.182464+0.00213981\ttest-logloss:0.390527+0.00311945\n",
        "# [356]\ttrain-error:0.0730257+0.000936357\ttrain-logloss:0.242444+0.00162574\ttest-error:0.182387+0.00218545\ttest-logloss:0.39043+0.00310859\n",
        "# [357]\ttrain-error:0.0729296+0.000916752\ttrain-logloss:0.242194+0.00159481\ttest-error:0.182354+0.00226184\ttest-logloss:0.39036+0.00313314\n",
        "# [358]\ttrain-error:0.0727163+0.000822343\ttrain-logloss:0.241814+0.00153369\ttest-error:0.182417+0.00229336\ttest-logloss:0.39025+0.00313939\n",
        "# [359]\ttrain-error:0.0725472+0.000837998\ttrain-logloss:0.241483+0.00157224\ttest-error:0.182269+0.00232793\ttest-logloss:0.390146+0.0031541\n",
        "# [360]\ttrain-error:0.0723925+0.000824461\ttrain-logloss:0.241166+0.00155098\ttest-error:0.18214+0.00219888\ttest-logloss:0.390051+0.00315994\n",
        "# [361]\ttrain-error:0.0722184+0.000827428\ttrain-logloss:0.240799+0.00159935\ttest-error:0.182214+0.0020958\ttest-logloss:0.389948+0.0031737\n",
        "# [362]\ttrain-error:0.0719924+0.000777637\ttrain-logloss:0.240367+0.00156021\ttest-error:0.18217+0.00212271\ttest-logloss:0.38984+0.0031895\n",
        "# [363]\ttrain-error:0.0718019+0.000695122\ttrain-logloss:0.239962+0.00141176\ttest-error:0.182041+0.00212291\ttest-logloss:0.389732+0.00324092\n",
        "# [364]\ttrain-error:0.0715815+0.000728876\ttrain-logloss:0.239532+0.00154061\ttest-error:0.181945+0.00211784\ttest-logloss:0.389624+0.00322485\n",
        "# [365]\ttrain-error:0.0713809+0.000766383\ttrain-logloss:0.239135+0.00156396\ttest-error:0.182008+0.00219865\ttest-logloss:0.389515+0.00324331\n",
        "# [366]\ttrain-error:0.0712549+0.000759159\ttrain-logloss:0.23881+0.00153632\ttest-error:0.182035+0.00230142\ttest-logloss:0.389432+0.00325069\n",
        "# [367]\ttrain-error:0.0710654+0.000768806\ttrain-logloss:0.238415+0.00163368\ttest-error:0.181895+0.00230166\ttest-logloss:0.389299+0.00330212\n",
        "# [368]\ttrain-error:0.070843+0.000750308\ttrain-logloss:0.237969+0.00156603\ttest-error:0.181804+0.00226207\ttest-logloss:0.389161+0.00327057\n",
        "# [369]\ttrain-error:0.0706431+0.000784036\ttrain-logloss:0.237547+0.00163998\ttest-error:0.181694+0.00229139\ttest-logloss:0.389032+0.00328999\n",
        "# [370]\ttrain-error:0.0705247+0.000705745\ttrain-logloss:0.237288+0.00153089\ttest-error:0.181587+0.00228048\ttest-logloss:0.388943+0.00326134\n",
        "# [371]\ttrain-error:0.0704038+0.000687648\ttrain-logloss:0.237039+0.00151953\ttest-error:0.181549+0.00235903\ttest-logloss:0.388868+0.00327118\n",
        "# [372]\ttrain-error:0.0702215+0.000714829\ttrain-logloss:0.236638+0.00152502\ttest-error:0.181617+0.00234556\ttest-logloss:0.388746+0.00326706\n",
        "# [373]\ttrain-error:0.0700114+0.000752582\ttrain-logloss:0.236218+0.0016107\ttest-error:0.181598+0.00236276\ttest-logloss:0.388613+0.00333003\n",
        "# [374]\ttrain-error:0.0699099+0.000738048\ttrain-logloss:0.235956+0.00157279\ttest-error:0.181571+0.00231423\ttest-logloss:0.388528+0.00330552\n",
        "# [375]\ttrain-error:0.0697757+0.000767247\ttrain-logloss:0.235653+0.00157215\ttest-error:0.181486+0.00233747\ttest-logloss:0.388424+0.00330721\n",
        "# [376]\ttrain-error:0.0695176+0.000745303\ttrain-logloss:0.23514+0.00152814\ttest-error:0.181576+0.00235001\ttest-logloss:0.388301+0.00327402\n",
        "# [377]\ttrain-error:0.0693406+0.000697999\ttrain-logloss:0.234783+0.00146865\ttest-error:0.181392+0.00230119\ttest-logloss:0.388207+0.00326475\n",
        "# [378]\ttrain-error:0.0691801+0.000711038\ttrain-logloss:0.234459+0.00143932\ttest-error:0.18142+0.00243078\ttest-logloss:0.388115+0.00326811\n",
        "# [379]\ttrain-error:0.0689784+0.000695192\ttrain-logloss:0.234086+0.00140151\ttest-error:0.18142+0.00240324\ttest-logloss:0.388009+0.00324353\n",
        "# [380]\ttrain-error:0.0687894+0.000709861\ttrain-logloss:0.233753+0.00140039\ttest-error:0.181431+0.00237256\ttest-logloss:0.387928+0.00322843\n",
        "# [381]\ttrain-error:0.0686032+0.000681953\ttrain-logloss:0.233372+0.00130224\ttest-error:0.181357+0.00242183\ttest-logloss:0.387809+0.00327269\n",
        "# [382]\ttrain-error:0.0684416+0.00070677\ttrain-logloss:0.233078+0.0013286\ttest-error:0.181247+0.00254531\ttest-logloss:0.387705+0.00332278\n",
        "# [383]\ttrain-error:0.068259+0.000658674\ttrain-logloss:0.232691+0.00129632\ttest-error:0.181153+0.00247378\ttest-logloss:0.387587+0.00330262\n",
        "# [384]\ttrain-error:0.0680701+0.000669338\ttrain-logloss:0.232357+0.00134336\ttest-error:0.181062+0.00239852\ttest-logloss:0.3875+0.003284\n",
        "# [385]\ttrain-error:0.0678699+0.000707251\ttrain-logloss:0.231995+0.00138771\ttest-error:0.180903+0.00242311\ttest-logloss:0.387407+0.00328324"
      ],
      "execution_count": null,
      "outputs": []
    },
    {
      "cell_type": "markdown",
      "metadata": {
        "id": "lo5IY6VAWp2z",
        "colab_type": "text"
      },
      "source": [
        "### KFold"
      ]
    },
    {
      "cell_type": "code",
      "metadata": {
        "id": "-2aKpqLfNgyz",
        "colab_type": "code",
        "colab": {
          "base_uri": "https://localhost:8080/",
          "height": 35
        },
        "outputId": "636e951c-2839-4209-f64e-93b616e75f6b"
      },
      "source": [
        "kfold = KFold(n_splits=3)\n",
        "results = cross_val_score(xgb_model, X_train, y_train, cv=kfold)\n",
        "print(\"Accuracy: %.2f%% (%.2f%%)\" % (results.mean()*100, results.std()*100))"
      ],
      "execution_count": null,
      "outputs": [
        {
          "output_type": "stream",
          "text": [
            "Accuracy: 78.40% (0.11%)\n"
          ],
          "name": "stdout"
        }
      ]
    },
    {
      "cell_type": "markdown",
      "metadata": {
        "id": "cSq1nqYbWuVM",
        "colab_type": "text"
      },
      "source": [
        "### StratifiedKFold"
      ]
    },
    {
      "cell_type": "code",
      "metadata": {
        "id": "P0nYk0kdO_Y3",
        "colab_type": "code",
        "colab": {
          "base_uri": "https://localhost:8080/",
          "height": 35
        },
        "outputId": "aa886321-782d-4621-8769-bc7451b64c11"
      },
      "source": [
        "kfold = StratifiedKFold(n_splits=3)\n",
        "results = cross_val_score(xgb_model, X_train, y_train, cv=kfold)\n",
        "print(\"Accuracy: %.2f%% (%.2f%%)\" % (results.mean()*100, results.std()*100))"
      ],
      "execution_count": null,
      "outputs": [
        {
          "output_type": "stream",
          "text": [
            "Accuracy: 78.37% (0.10%)\n"
          ],
          "name": "stdout"
        }
      ]
    },
    {
      "cell_type": "markdown",
      "metadata": {
        "id": "QvYfzCkyWzN7",
        "colab_type": "text"
      },
      "source": [
        "we got accuracy in the last fitting with waighted target variable 79%\n",
        "\n",
        "KFold and Stratified KFold confirmed this accuracy with 78,40% and 78,37% respectivly"
      ]
    },
    {
      "cell_type": "markdown",
      "metadata": {
        "id": "Zk-UKuSDza45",
        "colab_type": "text"
      },
      "source": [
        "# Last data"
      ]
    },
    {
      "cell_type": "markdown",
      "metadata": {
        "id": "0AqTxmc92Pdy",
        "colab_type": "text"
      },
      "source": [
        "Download the last data"
      ]
    },
    {
      "cell_type": "code",
      "metadata": {
        "id": "EaijllWzzu3q",
        "colab_type": "code",
        "colab": {
          "base_uri": "https://localhost:8080/",
          "height": 35
        },
        "outputId": "7395c092-fb72-4920-e7f2-49d7978a5bd5"
      },
      "source": [
        "df_last = pickle.load(open('/content/drive/My Drive/Colab Notebooks/ner.pkl', 'rb'))\n",
        "df_last.shape"
      ],
      "execution_count": 7,
      "outputs": [
        {
          "output_type": "execute_result",
          "data": {
            "text/plain": [
              "(404247, 17)"
            ]
          },
          "metadata": {
            "tags": []
          },
          "execution_count": 7
        }
      ]
    },
    {
      "cell_type": "code",
      "metadata": {
        "id": "AXaIAG2X0T4X",
        "colab_type": "code",
        "colab": {
          "base_uri": "https://localhost:8080/",
          "height": 934
        },
        "outputId": "905d6a25-7c81-4375-c18a-f1de89f43ebb"
      },
      "source": [
        "df_last"
      ],
      "execution_count": 8,
      "outputs": [
        {
          "output_type": "execute_result",
          "data": {
            "text/html": [
              "<div>\n",
              "<style scoped>\n",
              "    .dataframe tbody tr th:only-of-type {\n",
              "        vertical-align: middle;\n",
              "    }\n",
              "\n",
              "    .dataframe tbody tr th {\n",
              "        vertical-align: top;\n",
              "    }\n",
              "\n",
              "    .dataframe thead th {\n",
              "        text-align: right;\n",
              "    }\n",
              "</style>\n",
              "<table border=\"1\" class=\"dataframe\">\n",
              "  <thead>\n",
              "    <tr style=\"text-align: right;\">\n",
              "      <th></th>\n",
              "      <th>Unnamed: 0</th>\n",
              "      <th>Unnamed: 0.1</th>\n",
              "      <th>id</th>\n",
              "      <th>qid1</th>\n",
              "      <th>qid2</th>\n",
              "      <th>question1</th>\n",
              "      <th>question2</th>\n",
              "      <th>is_duplicate</th>\n",
              "      <th>preprocessed_q1</th>\n",
              "      <th>preprocessed_q2</th>\n",
              "      <th>lev_dist</th>\n",
              "      <th>vectorize_q1</th>\n",
              "      <th>vectorize_q2</th>\n",
              "      <th>cos_dist</th>\n",
              "      <th>NER_q1</th>\n",
              "      <th>NER_q2</th>\n",
              "      <th>ner_score</th>\n",
              "    </tr>\n",
              "  </thead>\n",
              "  <tbody>\n",
              "    <tr>\n",
              "      <th>0</th>\n",
              "      <td>0</td>\n",
              "      <td>0</td>\n",
              "      <td>0</td>\n",
              "      <td>1</td>\n",
              "      <td>2</td>\n",
              "      <td>What is the step by step guide to invest in sh...</td>\n",
              "      <td>What is the step by step guide to invest in sh...</td>\n",
              "      <td>0</td>\n",
              "      <td>what step step guide invest share market india</td>\n",
              "      <td>what step step guide invest share market</td>\n",
              "      <td>0.133333</td>\n",
              "      <td>[0.004021522, -0.064663194, 0.054782487, 0.001...</td>\n",
              "      <td>[0.0032026137, -0.057278365, 0.047676113, -0.0...</td>\n",
              "      <td>0.008950</td>\n",
              "      <td>india</td>\n",
              "      <td></td>\n",
              "      <td>-1.0</td>\n",
              "    </tr>\n",
              "    <tr>\n",
              "      <th>1</th>\n",
              "      <td>1</td>\n",
              "      <td>1</td>\n",
              "      <td>1</td>\n",
              "      <td>3</td>\n",
              "      <td>4</td>\n",
              "      <td>What is the story of Kohinoor (Koh-i-Noor) Dia...</td>\n",
              "      <td>What would happen if the Indian government sto...</td>\n",
              "      <td>0</td>\n",
              "      <td>what story kohinoor koh-i-noor diamond</td>\n",
              "      <td>what would happen indian government stole kohi...</td>\n",
              "      <td>0.800000</td>\n",
              "      <td>[-0.0025039953, 0.0231002, 0.054980848, 0.0274...</td>\n",
              "      <td>[-0.007604361, 0.0023462633, 0.057481177, 0.02...</td>\n",
              "      <td>0.144193</td>\n",
              "      <td>Kohinoor (Koh-i-Noor) Diamond</td>\n",
              "      <td>Indian|Kohinoor</td>\n",
              "      <td>-1.0</td>\n",
              "    </tr>\n",
              "    <tr>\n",
              "      <th>2</th>\n",
              "      <td>2</td>\n",
              "      <td>2</td>\n",
              "      <td>2</td>\n",
              "      <td>5</td>\n",
              "      <td>6</td>\n",
              "      <td>How can I increase the speed of my internet co...</td>\n",
              "      <td>How can Internet speed be increased by hacking...</td>\n",
              "      <td>0</td>\n",
              "      <td>how increase speed internet connection using vpn</td>\n",
              "      <td>how internet speed increased hacking dns</td>\n",
              "      <td>0.769231</td>\n",
              "      <td>[0.01574258, -0.0036987886, 0.054218505, 0.005...</td>\n",
              "      <td>[-0.0063505485, -0.0066181184, 0.07119932, 0.0...</td>\n",
              "      <td>0.309832</td>\n",
              "      <td>VPN</td>\n",
              "      <td>DNS</td>\n",
              "      <td>-1.0</td>\n",
              "    </tr>\n",
              "    <tr>\n",
              "      <th>3</th>\n",
              "      <td>3</td>\n",
              "      <td>3</td>\n",
              "      <td>3</td>\n",
              "      <td>7</td>\n",
              "      <td>8</td>\n",
              "      <td>Why am I mentally very lonely? How can I solve...</td>\n",
              "      <td>Find the remainder when [math]23^{24}[/math] i...</td>\n",
              "      <td>0</td>\n",
              "      <td>why mentally lonely how solve</td>\n",
              "      <td>find remainder when math 23^ 24 /math divided ...</td>\n",
              "      <td>1.333333</td>\n",
              "      <td>[0.030234994, 0.011868301, 0.009653048, 0.0044...</td>\n",
              "      <td>[-0.0066201733, -0.0043005846, 0.022001026, 0....</td>\n",
              "      <td>0.499690</td>\n",
              "      <td></td>\n",
              "      <td>24,23</td>\n",
              "      <td>-1.0</td>\n",
              "    </tr>\n",
              "    <tr>\n",
              "      <th>4</th>\n",
              "      <td>4</td>\n",
              "      <td>4</td>\n",
              "      <td>4</td>\n",
              "      <td>9</td>\n",
              "      <td>10</td>\n",
              "      <td>Which one dissolve in water quikly sugar, salt...</td>\n",
              "      <td>Which fish would survive in salt water?</td>\n",
              "      <td>0</td>\n",
              "      <td>one dissolve water quikly sugar salt methane c...</td>\n",
              "      <td>fish would survive salt water</td>\n",
              "      <td>1.200000</td>\n",
              "      <td>[0.0059792893, -0.017025381, 0.061780103, -0.0...</td>\n",
              "      <td>[0.007501155, -0.03248704, 0.08386232, 0.02480...</td>\n",
              "      <td>0.151050</td>\n",
              "      <td>one|quikly</td>\n",
              "      <td></td>\n",
              "      <td>-1.0</td>\n",
              "    </tr>\n",
              "    <tr>\n",
              "      <th>...</th>\n",
              "      <td>...</td>\n",
              "      <td>...</td>\n",
              "      <td>...</td>\n",
              "      <td>...</td>\n",
              "      <td>...</td>\n",
              "      <td>...</td>\n",
              "      <td>...</td>\n",
              "      <td>...</td>\n",
              "      <td>...</td>\n",
              "      <td>...</td>\n",
              "      <td>...</td>\n",
              "      <td>...</td>\n",
              "      <td>...</td>\n",
              "      <td>...</td>\n",
              "      <td>...</td>\n",
              "      <td>...</td>\n",
              "      <td>...</td>\n",
              "    </tr>\n",
              "    <tr>\n",
              "      <th>404242</th>\n",
              "      <td>404282</td>\n",
              "      <td>404285</td>\n",
              "      <td>404285</td>\n",
              "      <td>433578</td>\n",
              "      <td>379845</td>\n",
              "      <td>How many keywords are there in the Racket prog...</td>\n",
              "      <td>How many keywords are there in PERL Programmin...</td>\n",
              "      <td>0</td>\n",
              "      <td>how many keywords racket programming language ...</td>\n",
              "      <td>how many keywords perl programming language la...</td>\n",
              "      <td>0.125000</td>\n",
              "      <td>[0.005707244, -0.016103504, 0.059255596, 0.004...</td>\n",
              "      <td>[0.006928021, -0.03308591, 0.04414136, 0.00168...</td>\n",
              "      <td>0.051515</td>\n",
              "      <td></td>\n",
              "      <td></td>\n",
              "      <td>1.0</td>\n",
              "    </tr>\n",
              "    <tr>\n",
              "      <th>404243</th>\n",
              "      <td>404283</td>\n",
              "      <td>404286</td>\n",
              "      <td>404286</td>\n",
              "      <td>18840</td>\n",
              "      <td>155606</td>\n",
              "      <td>Do you believe there is life after death?</td>\n",
              "      <td>Is it true that there is life after death?</td>\n",
              "      <td>1</td>\n",
              "      <td>believe life death</td>\n",
              "      <td>true life death</td>\n",
              "      <td>0.333333</td>\n",
              "      <td>[-0.00424702, -0.020072294, 0.07919912, 0.0155...</td>\n",
              "      <td>[-0.0028973226, 0.07330051, 0.100369334, 0.011...</td>\n",
              "      <td>0.102454</td>\n",
              "      <td></td>\n",
              "      <td></td>\n",
              "      <td>1.0</td>\n",
              "    </tr>\n",
              "    <tr>\n",
              "      <th>404244</th>\n",
              "      <td>404284</td>\n",
              "      <td>404287</td>\n",
              "      <td>404287</td>\n",
              "      <td>537928</td>\n",
              "      <td>537929</td>\n",
              "      <td>What is one coin?</td>\n",
              "      <td>What's this coin?</td>\n",
              "      <td>0</td>\n",
              "      <td>what one coin</td>\n",
              "      <td>what 's coin</td>\n",
              "      <td>0.333333</td>\n",
              "      <td>[0.0050085825, 0.06825717, 0.061152175, 0.0027...</td>\n",
              "      <td>[-0.00015498202, 0.053874318, 0.039664924, 0.0...</td>\n",
              "      <td>0.231147</td>\n",
              "      <td>one</td>\n",
              "      <td></td>\n",
              "      <td>-1.0</td>\n",
              "    </tr>\n",
              "    <tr>\n",
              "      <th>404245</th>\n",
              "      <td>404285</td>\n",
              "      <td>404288</td>\n",
              "      <td>404288</td>\n",
              "      <td>537930</td>\n",
              "      <td>537931</td>\n",
              "      <td>What is the approx annual cost of living while...</td>\n",
              "      <td>I am having little hairfall problem but I want...</td>\n",
              "      <td>0</td>\n",
              "      <td>what approx annual cost living studying uic ch...</td>\n",
              "      <td>little hairfall problem want use hair styling ...</td>\n",
              "      <td>1.130435</td>\n",
              "      <td>[-0.008693064, -0.01071749, 0.05678965, 0.0167...</td>\n",
              "      <td>[0.02093824, -0.007448066, 0.043122116, 0.0050...</td>\n",
              "      <td>0.359995</td>\n",
              "      <td>annual|UIC Chicago|Indian</td>\n",
              "      <td></td>\n",
              "      <td>-1.0</td>\n",
              "    </tr>\n",
              "    <tr>\n",
              "      <th>404246</th>\n",
              "      <td>404286</td>\n",
              "      <td>404289</td>\n",
              "      <td>404289</td>\n",
              "      <td>537932</td>\n",
              "      <td>537933</td>\n",
              "      <td>What is like to have sex with cousin?</td>\n",
              "      <td>What is it like to have sex with your cousin?</td>\n",
              "      <td>0</td>\n",
              "      <td>what like sex cousin</td>\n",
              "      <td>what like sex cousin</td>\n",
              "      <td>0.000000</td>\n",
              "      <td>[0.009549381, -0.017642736, 0.08418454, 0.0152...</td>\n",
              "      <td>[0.008624697, -0.0057643144, 0.09952938, 0.011...</td>\n",
              "      <td>0.021822</td>\n",
              "      <td></td>\n",
              "      <td></td>\n",
              "      <td>1.0</td>\n",
              "    </tr>\n",
              "  </tbody>\n",
              "</table>\n",
              "<p>404247 rows × 17 columns</p>\n",
              "</div>"
            ],
            "text/plain": [
              "        Unnamed: 0  Unnamed: 0.1  ...           NER_q2  ner_score\n",
              "0                0             0  ...                        -1.0\n",
              "1                1             1  ...  Indian|Kohinoor       -1.0\n",
              "2                2             2  ...              DNS       -1.0\n",
              "3                3             3  ...            24,23       -1.0\n",
              "4                4             4  ...                        -1.0\n",
              "...            ...           ...  ...              ...        ...\n",
              "404242      404282        404285  ...                         1.0\n",
              "404243      404283        404286  ...                         1.0\n",
              "404244      404284        404287  ...                        -1.0\n",
              "404245      404285        404288  ...                        -1.0\n",
              "404246      404286        404289  ...                         1.0\n",
              "\n",
              "[404247 rows x 17 columns]"
            ]
          },
          "metadata": {
            "tags": []
          },
          "execution_count": 8
        }
      ]
    },
    {
      "cell_type": "markdown",
      "metadata": {
        "id": "NZhGYC961Tcv",
        "colab_type": "text"
      },
      "source": [
        "Spliting for train and test sets"
      ]
    },
    {
      "cell_type": "code",
      "metadata": {
        "id": "HEme4C4s1T5Y",
        "colab_type": "code",
        "colab": {}
      },
      "source": [
        "df_train, df_test = train_test_split(df_last, test_size=0.10)"
      ],
      "execution_count": 9,
      "outputs": []
    },
    {
      "cell_type": "markdown",
      "metadata": {
        "id": "RuLSqgve1GPK",
        "colab_type": "text"
      },
      "source": [
        "## Concatenate fast_text vectors for q1 and q2 to prepare X_train_sm and X_test_sm for fasttext vectors. df_last"
      ]
    },
    {
      "cell_type": "code",
      "metadata": {
        "id": "udtKe5yq0ayn",
        "colab_type": "code",
        "colab": {}
      },
      "source": [
        "X_train_sm = np.concatenate((np.stack(df_train['vectorize_q1'].to_numpy(), axis=0),\\\n",
        "                          np.stack(df_train['vectorize_q2'].to_numpy(), axis=0)), axis=1)\n",
        "\n",
        "X_test_sm = np.concatenate((np.stack(df_test['vectorize_q1'].to_numpy(), axis=0),\\\n",
        "                          np.stack(df_test['vectorize_q2'].to_numpy(), axis=0)), axis=1)"
      ],
      "execution_count": 13,
      "outputs": []
    },
    {
      "cell_type": "markdown",
      "metadata": {
        "id": "e2AdyWhe13GE",
        "colab_type": "text"
      },
      "source": [
        "Definding target feature sets y_train_sm and y_test_sm for all the experiments. "
      ]
    },
    {
      "cell_type": "code",
      "metadata": {
        "id": "t7KUj0hK1iMU",
        "colab_type": "code",
        "colab": {}
      },
      "source": [
        "y_test_sm = df_test['is_duplicate']\n",
        "y_train_sm = df_train['is_duplicate']"
      ],
      "execution_count": 14,
      "outputs": []
    },
    {
      "cell_type": "markdown",
      "metadata": {
        "id": "nNL1QcfT5rYi",
        "colab_type": "text"
      },
      "source": [
        "Definding the waights coefficient for ballansing data"
      ]
    },
    {
      "cell_type": "code",
      "metadata": {
        "id": "KrRWGiXm4bef",
        "colab_type": "code",
        "colab": {
          "base_uri": "https://localhost:8080/",
          "height": 35
        },
        "outputId": "0ecbab4f-de46-40a6-fcb0-196683a101cd"
      },
      "source": [
        "#scale_pos_w =  total_negative_examples / total_positive_examples\n",
        "scale_pos_w = y_train_sm[y_train_sm ==0].count()/y_train_sm[y_train_sm ==1].count()\n",
        "scale_pos_w"
      ],
      "execution_count": 17,
      "outputs": [
        {
          "output_type": "execute_result",
          "data": {
            "text/plain": [
              "1.7082381140249667"
            ]
          },
          "metadata": {
            "tags": []
          },
          "execution_count": 17
        }
      ]
    },
    {
      "cell_type": "markdown",
      "metadata": {
        "id": "h_uVFpw3Y79Q",
        "colab_type": "text"
      },
      "source": [
        "Training the XGBClassifier with fasttext vectors"
      ]
    },
    {
      "cell_type": "code",
      "metadata": {
        "id": "gLXT5jYU1tdj",
        "colab_type": "code",
        "colab": {
          "base_uri": "https://localhost:8080/",
          "height": 1000
        },
        "outputId": "85010a55-cb12-492f-89ec-94bd798b0ccf"
      },
      "source": [
        "xgb_model = XGBClassifier(max_depth=50, n_estimators=80, \n",
        "                              learning_rate=0.1, colsample_bytree=.7, \n",
        "                              gamma=0, reg_alpha=4, objective='binary:logistic', \n",
        "                              eta=0.3, silent=1,scale_pos_weight =scale_pos_w, subsample=0.8)\n",
        "\n",
        "\n",
        "xgb_model.fit(X_train_sm, y_train_sm, \n",
        "              early_stopping_rounds=3, \n",
        "              eval_metric=[\"error\", \"logloss\"], \n",
        "              eval_set=[(X_train_sm, y_train_sm), (X_test_sm, y_test_sm)], \n",
        "              verbose=True)\n",
        "\n",
        "y_pred_sm = xgb_model.predict(X_test_sm)\n",
        "\n",
        "print('training score:', f1_score(y_train_sm, xgb_model.predict(X_train_sm), average='macro'))\n",
        "print('test score:', f1_score(y_test_sm,y_pred_sm, average='macro'))\n",
        "print(classification_report(y_test_sm, y_pred_sm))"
      ],
      "execution_count": 19,
      "outputs": [
        {
          "output_type": "stream",
          "text": [
            "[0]\tvalidation_0-error:0.137248\tvalidation_0-logloss:0.647065\tvalidation_1-error:0.318738\tvalidation_1-logloss:0.670418\n",
            "Multiple eval metrics have been passed: 'validation_1-logloss' will be used for early stopping.\n",
            "\n",
            "Will train until validation_1-logloss hasn't improved in 3 rounds.\n",
            "[1]\tvalidation_0-error:0.095588\tvalidation_0-logloss:0.606325\tvalidation_1-error:0.299938\tvalidation_1-logloss:0.650363\n",
            "[2]\tvalidation_0-error:0.072596\tvalidation_0-logloss:0.569908\tvalidation_1-error:0.286036\tvalidation_1-logloss:0.632793\n",
            "[3]\tvalidation_0-error:0.05672\tvalidation_0-logloss:0.53669\tvalidation_1-error:0.274459\tvalidation_1-logloss:0.616919\n",
            "[4]\tvalidation_0-error:0.045616\tvalidation_0-logloss:0.506719\tvalidation_1-error:0.264762\tvalidation_1-logloss:0.602929\n",
            "[5]\tvalidation_0-error:0.038368\tvalidation_0-logloss:0.47969\tvalidation_1-error:0.260334\tvalidation_1-logloss:0.59082\n",
            "[6]\tvalidation_0-error:0.033156\tvalidation_0-logloss:0.454775\tvalidation_1-error:0.254719\tvalidation_1-logloss:0.579415\n",
            "[7]\tvalidation_0-error:0.0285\tvalidation_0-logloss:0.431874\tvalidation_1-error:0.249425\tvalidation_1-logloss:0.569212\n",
            "[8]\tvalidation_0-error:0.024968\tvalidation_0-logloss:0.410895\tvalidation_1-error:0.245516\tvalidation_1-logloss:0.560006\n",
            "[9]\tvalidation_0-error:0.022143\tvalidation_0-logloss:0.391609\tvalidation_1-error:0.241237\tvalidation_1-logloss:0.551485\n",
            "[10]\tvalidation_0-error:0.019622\tvalidation_0-logloss:0.373642\tvalidation_1-error:0.238071\tvalidation_1-logloss:0.543641\n",
            "[11]\tvalidation_0-error:0.01747\tvalidation_0-logloss:0.356864\tvalidation_1-error:0.233197\tvalidation_1-logloss:0.536089\n",
            "[12]\tvalidation_0-error:0.015769\tvalidation_0-logloss:0.341547\tvalidation_1-error:0.232233\tvalidation_1-logloss:0.529698\n",
            "[13]\tvalidation_0-error:0.014279\tvalidation_0-logloss:0.327184\tvalidation_1-error:0.22966\tvalidation_1-logloss:0.523448\n",
            "[14]\tvalidation_0-error:0.012839\tvalidation_0-logloss:0.313825\tvalidation_1-error:0.228596\tvalidation_1-logloss:0.517869\n",
            "[15]\tvalidation_0-error:0.011621\tvalidation_0-logloss:0.301364\tvalidation_1-error:0.227879\tvalidation_1-logloss:0.512744\n",
            "[16]\tvalidation_0-error:0.010489\tvalidation_0-logloss:0.289579\tvalidation_1-error:0.225826\tvalidation_1-logloss:0.507827\n",
            "[17]\tvalidation_0-error:0.009601\tvalidation_0-logloss:0.278647\tvalidation_1-error:0.224886\tvalidation_1-logloss:0.503067\n",
            "[18]\tvalidation_0-error:0.008754\tvalidation_0-logloss:0.268319\tvalidation_1-error:0.223575\tvalidation_1-logloss:0.498311\n",
            "[19]\tvalidation_0-error:0.008037\tvalidation_0-logloss:0.258658\tvalidation_1-error:0.22209\tvalidation_1-logloss:0.494061\n",
            "[20]\tvalidation_0-error:0.007314\tvalidation_0-logloss:0.249582\tvalidation_1-error:0.221249\tvalidation_1-logloss:0.49057\n",
            "[21]\tvalidation_0-error:0.006759\tvalidation_0-logloss:0.240939\tvalidation_1-error:0.21974\tvalidation_1-logloss:0.486661\n",
            "[22]\tvalidation_0-error:0.006151\tvalidation_0-logloss:0.232919\tvalidation_1-error:0.218726\tvalidation_1-logloss:0.483232\n",
            "[23]\tvalidation_0-error:0.005679\tvalidation_0-logloss:0.225383\tvalidation_1-error:0.21739\tvalidation_1-logloss:0.480074\n",
            "[24]\tvalidation_0-error:0.005211\tvalidation_0-logloss:0.218162\tvalidation_1-error:0.216772\tvalidation_1-logloss:0.477125\n",
            "[25]\tvalidation_0-error:0.004849\tvalidation_0-logloss:0.211383\tvalidation_1-error:0.215238\tvalidation_1-logloss:0.474332\n",
            "[26]\tvalidation_0-error:0.004357\tvalidation_0-logloss:0.204863\tvalidation_1-error:0.213803\tvalidation_1-logloss:0.471737\n",
            "[27]\tvalidation_0-error:0.00409\tvalidation_0-logloss:0.198786\tvalidation_1-error:0.212566\tvalidation_1-logloss:0.469123\n",
            "[28]\tvalidation_0-error:0.003768\tvalidation_0-logloss:0.193007\tvalidation_1-error:0.21269\tvalidation_1-logloss:0.466724\n",
            "[29]\tvalidation_0-error:0.003386\tvalidation_0-logloss:0.187413\tvalidation_1-error:0.21133\tvalidation_1-logloss:0.464148\n",
            "[30]\tvalidation_0-error:0.003144\tvalidation_0-logloss:0.18219\tvalidation_1-error:0.211107\tvalidation_1-logloss:0.462077\n",
            "[31]\tvalidation_0-error:0.00287\tvalidation_0-logloss:0.177149\tvalidation_1-error:0.209845\tvalidation_1-logloss:0.459749\n",
            "[32]\tvalidation_0-error:0.002696\tvalidation_0-logloss:0.172293\tvalidation_1-error:0.209499\tvalidation_1-logloss:0.457697\n",
            "[33]\tvalidation_0-error:0.002474\tvalidation_0-logloss:0.167779\tvalidation_1-error:0.208089\tvalidation_1-logloss:0.455491\n",
            "[34]\tvalidation_0-error:0.002254\tvalidation_0-logloss:0.163399\tvalidation_1-error:0.207916\tvalidation_1-logloss:0.453709\n",
            "[35]\tvalidation_0-error:0.002045\tvalidation_0-logloss:0.159219\tvalidation_1-error:0.207372\tvalidation_1-logloss:0.451848\n",
            "[36]\tvalidation_0-error:0.001891\tvalidation_0-logloss:0.155212\tvalidation_1-error:0.206456\tvalidation_1-logloss:0.450068\n",
            "[37]\tvalidation_0-error:0.001721\tvalidation_0-logloss:0.151344\tvalidation_1-error:0.206283\tvalidation_1-logloss:0.448212\n",
            "[38]\tvalidation_0-error:0.00158\tvalidation_0-logloss:0.147711\tvalidation_1-error:0.205566\tvalidation_1-logloss:0.446771\n",
            "[39]\tvalidation_0-error:0.001473\tvalidation_0-logloss:0.144216\tvalidation_1-error:0.205046\tvalidation_1-logloss:0.445016\n",
            "[40]\tvalidation_0-error:0.00133\tvalidation_0-logloss:0.140877\tvalidation_1-error:0.204255\tvalidation_1-logloss:0.443504\n",
            "[41]\tvalidation_0-error:0.001245\tvalidation_0-logloss:0.137676\tvalidation_1-error:0.203142\tvalidation_1-logloss:0.442082\n",
            "[42]\tvalidation_0-error:0.001108\tvalidation_0-logloss:0.134623\tvalidation_1-error:0.203587\tvalidation_1-logloss:0.440779\n",
            "[43]\tvalidation_0-error:0.001025\tvalidation_0-logloss:0.13166\tvalidation_1-error:0.202944\tvalidation_1-logloss:0.439397\n",
            "[44]\tvalidation_0-error:0.000962\tvalidation_0-logloss:0.128856\tvalidation_1-error:0.202672\tvalidation_1-logloss:0.438036\n",
            "[45]\tvalidation_0-error:0.000877\tvalidation_0-logloss:0.12608\tvalidation_1-error:0.202597\tvalidation_1-logloss:0.436603\n",
            "[46]\tvalidation_0-error:0.000825\tvalidation_0-logloss:0.123459\tvalidation_1-error:0.201756\tvalidation_1-logloss:0.435436\n",
            "[47]\tvalidation_0-error:0.000756\tvalidation_0-logloss:0.120926\tvalidation_1-error:0.201608\tvalidation_1-logloss:0.434322\n",
            "[48]\tvalidation_0-error:0.000701\tvalidation_0-logloss:0.118479\tvalidation_1-error:0.201212\tvalidation_1-logloss:0.433165\n",
            "[49]\tvalidation_0-error:0.000638\tvalidation_0-logloss:0.116161\tvalidation_1-error:0.2\tvalidation_1-logloss:0.432225\n",
            "[50]\tvalidation_0-error:0.000591\tvalidation_0-logloss:0.11389\tvalidation_1-error:0.199777\tvalidation_1-logloss:0.431143\n",
            "[51]\tvalidation_0-error:0.000547\tvalidation_0-logloss:0.111698\tvalidation_1-error:0.199233\tvalidation_1-logloss:0.430083\n",
            "[52]\tvalidation_0-error:0.0005\tvalidation_0-logloss:0.109612\tvalidation_1-error:0.198862\tvalidation_1-logloss:0.429028\n",
            "[53]\tvalidation_0-error:0.00047\tvalidation_0-logloss:0.107578\tvalidation_1-error:0.198615\tvalidation_1-logloss:0.428333\n",
            "[54]\tvalidation_0-error:0.000451\tvalidation_0-logloss:0.105588\tvalidation_1-error:0.197897\tvalidation_1-logloss:0.427272\n",
            "[55]\tvalidation_0-error:0.000448\tvalidation_0-logloss:0.103725\tvalidation_1-error:0.197502\tvalidation_1-logloss:0.4264\n",
            "[56]\tvalidation_0-error:0.000412\tvalidation_0-logloss:0.101865\tvalidation_1-error:0.197675\tvalidation_1-logloss:0.425602\n",
            "[57]\tvalidation_0-error:0.000399\tvalidation_0-logloss:0.100093\tvalidation_1-error:0.196784\tvalidation_1-logloss:0.424744\n",
            "[58]\tvalidation_0-error:0.000368\tvalidation_0-logloss:0.09835\tvalidation_1-error:0.196265\tvalidation_1-logloss:0.423936\n",
            "[59]\tvalidation_0-error:0.000346\tvalidation_0-logloss:0.096711\tvalidation_1-error:0.196017\tvalidation_1-logloss:0.423064\n",
            "[60]\tvalidation_0-error:0.000344\tvalidation_0-logloss:0.095076\tvalidation_1-error:0.19577\tvalidation_1-logloss:0.422212\n",
            "[61]\tvalidation_0-error:0.000308\tvalidation_0-logloss:0.093523\tvalidation_1-error:0.195523\tvalidation_1-logloss:0.421655\n",
            "[62]\tvalidation_0-error:0.000291\tvalidation_0-logloss:0.092\tvalidation_1-error:0.194954\tvalidation_1-logloss:0.421005\n",
            "[63]\tvalidation_0-error:0.00028\tvalidation_0-logloss:0.090506\tvalidation_1-error:0.194508\tvalidation_1-logloss:0.42014\n",
            "[64]\tvalidation_0-error:0.000261\tvalidation_0-logloss:0.089072\tvalidation_1-error:0.194731\tvalidation_1-logloss:0.419592\n",
            "[65]\tvalidation_0-error:0.000236\tvalidation_0-logloss:0.087701\tvalidation_1-error:0.193939\tvalidation_1-logloss:0.418908\n",
            "[66]\tvalidation_0-error:0.000223\tvalidation_0-logloss:0.086371\tvalidation_1-error:0.19389\tvalidation_1-logloss:0.418298\n",
            "[67]\tvalidation_0-error:0.000212\tvalidation_0-logloss:0.085046\tvalidation_1-error:0.194038\tvalidation_1-logloss:0.417722\n",
            "[68]\tvalidation_0-error:0.000195\tvalidation_0-logloss:0.083756\tvalidation_1-error:0.194261\tvalidation_1-logloss:0.417249\n",
            "[69]\tvalidation_0-error:0.000176\tvalidation_0-logloss:0.082497\tvalidation_1-error:0.193915\tvalidation_1-logloss:0.416588\n",
            "[70]\tvalidation_0-error:0.000148\tvalidation_0-logloss:0.081279\tvalidation_1-error:0.19337\tvalidation_1-logloss:0.416026\n",
            "[71]\tvalidation_0-error:0.000148\tvalidation_0-logloss:0.080082\tvalidation_1-error:0.192851\tvalidation_1-logloss:0.415264\n",
            "[72]\tvalidation_0-error:0.000146\tvalidation_0-logloss:0.078957\tvalidation_1-error:0.192678\tvalidation_1-logloss:0.414729\n",
            "[73]\tvalidation_0-error:0.000132\tvalidation_0-logloss:0.077868\tvalidation_1-error:0.192777\tvalidation_1-logloss:0.414317\n",
            "[74]\tvalidation_0-error:0.000124\tvalidation_0-logloss:0.076795\tvalidation_1-error:0.1929\tvalidation_1-logloss:0.413715\n",
            "[75]\tvalidation_0-error:0.000113\tvalidation_0-logloss:0.075759\tvalidation_1-error:0.191985\tvalidation_1-logloss:0.413035\n",
            "[76]\tvalidation_0-error:0.000104\tvalidation_0-logloss:0.074748\tvalidation_1-error:0.192356\tvalidation_1-logloss:0.412738\n",
            "[77]\tvalidation_0-error:0.000102\tvalidation_0-logloss:0.073775\tvalidation_1-error:0.192134\tvalidation_1-logloss:0.412224\n",
            "[78]\tvalidation_0-error:8.8e-05\tvalidation_0-logloss:0.072816\tvalidation_1-error:0.192282\tvalidation_1-logloss:0.41174\n",
            "[79]\tvalidation_0-error:8e-05\tvalidation_0-logloss:0.071863\tvalidation_1-error:0.192529\tvalidation_1-logloss:0.41133\n",
            "training score: 0.9999144431272107\n",
            "test score: 0.7866443924359773\n",
            "              precision    recall  f1-score   support\n",
            "\n",
            "           0       0.82      0.89      0.85     25501\n",
            "           1       0.78      0.67      0.72     14924\n",
            "\n",
            "    accuracy                           0.81     40425\n",
            "   macro avg       0.80      0.78      0.79     40425\n",
            "weighted avg       0.81      0.81      0.80     40425\n",
            "\n"
          ],
          "name": "stdout"
        }
      ]
    },
    {
      "cell_type": "markdown",
      "metadata": {
        "id": "UCrB6oRxZvJ2",
        "colab_type": "text"
      },
      "source": [
        "Scores of xgboost classifier with weighted target variable and fast_text vectors"
      ]
    },
    {
      "cell_type": "code",
      "metadata": {
        "id": "WO2edXvzZTUE",
        "colab_type": "code",
        "colab": {
          "base_uri": "https://localhost:8080/",
          "height": 513
        },
        "outputId": "56db12db-daad-44bb-fd19-90dc9bece8f2"
      },
      "source": [
        "get_model_results(xgb_model, \n",
        "                  X_train_sm, \n",
        "                  X_test_sm, \n",
        "                  y_train_sm, \n",
        "                  y_test_sm, \n",
        "                  \"XGBoost with scale_pos_weight on fast text vectors\")"
      ],
      "execution_count": 21,
      "outputs": [
        {
          "output_type": "stream",
          "text": [
            "              precision    recall  f1-score   support\n",
            "\n",
            "           0       0.86      0.80      0.83     25501\n",
            "           1       0.70      0.78      0.74     14924\n",
            "\n",
            "    accuracy                           0.80     40425\n",
            "   macro avg       0.78      0.79      0.79     40425\n",
            "weighted avg       0.80      0.80      0.80     40425\n",
            "\n"
          ],
          "name": "stdout"
        },
        {
          "output_type": "display_data",
          "data": {
            "image/png": "[encoded data removed]",
            "text/plain": [
              "<Figure size 1296x360 with 2 Axes>"
            ]
          },
          "metadata": {
            "tags": [],
            "needs_background": "light"
          }
        }
      ]
    },
    {
      "cell_type": "markdown",
      "metadata": {
        "id": "rzBwrVTL8AKN",
        "colab_type": "text"
      },
      "source": [
        "Add predict probas to df_train and df_test"
      ]
    },
    {
      "cell_type": "code",
      "metadata": {
        "id": "XszfXci637Xo",
        "colab_type": "code",
        "colab": {
          "base_uri": "https://localhost:8080/",
          "height": 1000
        },
        "outputId": "773b0d1b-0eb0-4b95-94d9-df11ecad8a1d"
      },
      "source": [
        "xgb_probas_train = xgb_model.predict_proba(X_train_sm)\n",
        "xgb_probas_test = xgb_model.predict_proba(X_test_sm)\n",
        "\n",
        "xgb_probas_train_0 = [x[0] for x in xgb_probas_train]\n",
        "xgb_probas_test_0 = [x[0] for x in xgb_probas_test]\n",
        "\n",
        "df_train['xgb_probas_0'] = xgb_probas_train_0\n",
        "df_test['xgb_probas_0'] = xgb_probas_test_0\n",
        "df_train"
      ],
      "execution_count": 22,
      "outputs": [
        {
          "output_type": "execute_result",
          "data": {
            "text/html": [
              "<div>\n",
              "<style scoped>\n",
              "    .dataframe tbody tr th:only-of-type {\n",
              "        vertical-align: middle;\n",
              "    }\n",
              "\n",
              "    .dataframe tbody tr th {\n",
              "        vertical-align: top;\n",
              "    }\n",
              "\n",
              "    .dataframe thead th {\n",
              "        text-align: right;\n",
              "    }\n",
              "</style>\n",
              "<table border=\"1\" class=\"dataframe\">\n",
              "  <thead>\n",
              "    <tr style=\"text-align: right;\">\n",
              "      <th></th>\n",
              "      <th>Unnamed: 0</th>\n",
              "      <th>Unnamed: 0.1</th>\n",
              "      <th>id</th>\n",
              "      <th>qid1</th>\n",
              "      <th>qid2</th>\n",
              "      <th>question1</th>\n",
              "      <th>question2</th>\n",
              "      <th>is_duplicate</th>\n",
              "      <th>preprocessed_q1</th>\n",
              "      <th>preprocessed_q2</th>\n",
              "      <th>lev_dist</th>\n",
              "      <th>vectorize_q1</th>\n",
              "      <th>vectorize_q2</th>\n",
              "      <th>cos_dist</th>\n",
              "      <th>NER_q1</th>\n",
              "      <th>NER_q2</th>\n",
              "      <th>ner_score</th>\n",
              "      <th>xgb_probas_0</th>\n",
              "    </tr>\n",
              "  </thead>\n",
              "  <tbody>\n",
              "    <tr>\n",
              "      <th>328940</th>\n",
              "      <td>328976</td>\n",
              "      <td>328978</td>\n",
              "      <td>328978</td>\n",
              "      <td>455596</td>\n",
              "      <td>42</td>\n",
              "      <td>How are the paint colors determined for rockets?</td>\n",
              "      <td>Why are rockets and boosters painted white?</td>\n",
              "      <td>0</td>\n",
              "      <td>how paint colors determined rockets</td>\n",
              "      <td>why rockets boosters painted white</td>\n",
              "      <td>1.000000</td>\n",
              "      <td>[0.0038284918, 0.005488307, 0.080265135, 0.004...</td>\n",
              "      <td>[-0.015344532, -0.005179783, 0.05806112, 0.005...</td>\n",
              "      <td>0.146495</td>\n",
              "      <td></td>\n",
              "      <td></td>\n",
              "      <td>1.0</td>\n",
              "      <td>0.943099</td>\n",
              "    </tr>\n",
              "    <tr>\n",
              "      <th>56839</th>\n",
              "      <td>56844</td>\n",
              "      <td>56844</td>\n",
              "      <td>56844</td>\n",
              "      <td>99997</td>\n",
              "      <td>99998</td>\n",
              "      <td>What is the difference between mixed reality a...</td>\n",
              "      <td>What is the difference between virtual reality...</td>\n",
              "      <td>1</td>\n",
              "      <td>what difference mixed reality augmented reality</td>\n",
              "      <td>what difference virtual reality augmented real...</td>\n",
              "      <td>0.428571</td>\n",
              "      <td>[0.0012934674, 0.026035944, 0.057721216, 0.006...</td>\n",
              "      <td>[0.002372168, 0.026234863, 0.054641474, 0.0031...</td>\n",
              "      <td>0.006019</td>\n",
              "      <td></td>\n",
              "      <td></td>\n",
              "      <td>1.0</td>\n",
              "      <td>0.058493</td>\n",
              "    </tr>\n",
              "    <tr>\n",
              "      <th>218504</th>\n",
              "      <td>218532</td>\n",
              "      <td>218534</td>\n",
              "      <td>218534</td>\n",
              "      <td>325159</td>\n",
              "      <td>98882</td>\n",
              "      <td>What do you think about Justin Bieber?</td>\n",
              "      <td>Why do people hate Justin Bieber?</td>\n",
              "      <td>0</td>\n",
              "      <td>what think justin bieber</td>\n",
              "      <td>why people hate justin bieber</td>\n",
              "      <td>0.666667</td>\n",
              "      <td>[-0.011422301, -0.042896304, 0.08092886, -0.00...</td>\n",
              "      <td>[-0.018951826, -0.06855711, 0.07119731, -0.006...</td>\n",
              "      <td>0.092537</td>\n",
              "      <td>Justin Bieber</td>\n",
              "      <td>Justin Bieber</td>\n",
              "      <td>1.0</td>\n",
              "      <td>0.957078</td>\n",
              "    </tr>\n",
              "    <tr>\n",
              "      <th>186912</th>\n",
              "      <td>186931</td>\n",
              "      <td>186932</td>\n",
              "      <td>186932</td>\n",
              "      <td>285015</td>\n",
              "      <td>285016</td>\n",
              "      <td>How do you remove the Advanced Mac Cleaner app?</td>\n",
              "      <td>What is the best free 3D modelling app for Mac?</td>\n",
              "      <td>0</td>\n",
              "      <td>how remove advanced mac cleaner app</td>\n",
              "      <td>what best free 3d modelling app mac</td>\n",
              "      <td>0.923077</td>\n",
              "      <td>[0.0012302289, -0.035560507, 0.071201615, -0.0...</td>\n",
              "      <td>[-0.0031155734, 0.029179085, 0.061944075, -0.0...</td>\n",
              "      <td>0.228355</td>\n",
              "      <td>Advanced Mac Cleaner</td>\n",
              "      <td>Mac</td>\n",
              "      <td>-1.0</td>\n",
              "      <td>0.968591</td>\n",
              "    </tr>\n",
              "    <tr>\n",
              "      <th>280979</th>\n",
              "      <td>281012</td>\n",
              "      <td>281014</td>\n",
              "      <td>281014</td>\n",
              "      <td>400723</td>\n",
              "      <td>400724</td>\n",
              "      <td>I hired Penisula accounting to help with accou...</td>\n",
              "      <td>I've had an EPF with my current company for ab...</td>\n",
              "      <td>0</td>\n",
              "      <td>hired penisula accounting help accounting need...</td>\n",
              "      <td>'ve epf current company 1.5 years 'm moving ab...</td>\n",
              "      <td>1.300000</td>\n",
              "      <td>[-0.0019388713, -0.005371588, 0.058348846, 0.0...</td>\n",
              "      <td>[0.0012819517, -0.006549388, 0.06939865, 0.001...</td>\n",
              "      <td>0.081297</td>\n",
              "      <td>Penisula</td>\n",
              "      <td>EPF|about 1.5 years|EPF|EPF|PPF|NRI</td>\n",
              "      <td>-1.0</td>\n",
              "      <td>0.986554</td>\n",
              "    </tr>\n",
              "    <tr>\n",
              "      <th>...</th>\n",
              "      <td>...</td>\n",
              "      <td>...</td>\n",
              "      <td>...</td>\n",
              "      <td>...</td>\n",
              "      <td>...</td>\n",
              "      <td>...</td>\n",
              "      <td>...</td>\n",
              "      <td>...</td>\n",
              "      <td>...</td>\n",
              "      <td>...</td>\n",
              "      <td>...</td>\n",
              "      <td>...</td>\n",
              "      <td>...</td>\n",
              "      <td>...</td>\n",
              "      <td>...</td>\n",
              "      <td>...</td>\n",
              "      <td>...</td>\n",
              "      <td>...</td>\n",
              "    </tr>\n",
              "    <tr>\n",
              "      <th>283398</th>\n",
              "      <td>283431</td>\n",
              "      <td>283433</td>\n",
              "      <td>283433</td>\n",
              "      <td>48119</td>\n",
              "      <td>128723</td>\n",
              "      <td>Why do Christians sometimes put coins over the...</td>\n",
              "      <td>My history professor said Islam will take over...</td>\n",
              "      <td>0</td>\n",
              "      <td>why christians sometimes put coins eyes dead p...</td>\n",
              "      <td>history professor said islam take christianity...</td>\n",
              "      <td>1.066667</td>\n",
              "      <td>[-0.0026580116, -0.05701655, 0.08654476, 0.009...</td>\n",
              "      <td>[-0.0062189624, -0.013293198, 0.04885128, -0.0...</td>\n",
              "      <td>0.199056</td>\n",
              "      <td>Christians</td>\n",
              "      <td>Islam|Christianity</td>\n",
              "      <td>-1.0</td>\n",
              "      <td>0.955879</td>\n",
              "    </tr>\n",
              "    <tr>\n",
              "      <th>89746</th>\n",
              "      <td>89752</td>\n",
              "      <td>89752</td>\n",
              "      <td>89752</td>\n",
              "      <td>150733</td>\n",
              "      <td>150734</td>\n",
              "      <td>What's the difference between puckered lips an...</td>\n",
              "      <td>Why do people purse their lips in thought?</td>\n",
              "      <td>0</td>\n",
              "      <td>what 's difference puckered lips pursed lips</td>\n",
              "      <td>why people purse lips thought</td>\n",
              "      <td>1.000000</td>\n",
              "      <td>[0.0050511328, -0.00697237, 0.058628753, -0.00...</td>\n",
              "      <td>[-0.0012444182, -0.07415825, 0.08550842, -0.01...</td>\n",
              "      <td>0.200472</td>\n",
              "      <td></td>\n",
              "      <td></td>\n",
              "      <td>1.0</td>\n",
              "      <td>0.934555</td>\n",
              "    </tr>\n",
              "    <tr>\n",
              "      <th>26462</th>\n",
              "      <td>26466</td>\n",
              "      <td>26466</td>\n",
              "      <td>26466</td>\n",
              "      <td>17057</td>\n",
              "      <td>36847</td>\n",
              "      <td>How can discontinuing 500 and 1000 rupee will ...</td>\n",
              "      <td>How will the India demonetization of 500 and 1...</td>\n",
              "      <td>1</td>\n",
              "      <td>how discontinuing 500 1000 rupee help control ...</td>\n",
              "      <td>how india demonetization 500 1000 rupees notes...</td>\n",
              "      <td>0.526316</td>\n",
              "      <td>[-0.0021929608, -0.025166525, 0.07937319, 0.00...</td>\n",
              "      <td>[-0.0019042577, -0.010948677, 0.078877956, 0.0...</td>\n",
              "      <td>0.090147</td>\n",
              "      <td>500 and 1000</td>\n",
              "      <td>India|500 and 1000 rupees</td>\n",
              "      <td>-1.0</td>\n",
              "      <td>0.002331</td>\n",
              "    </tr>\n",
              "    <tr>\n",
              "      <th>394779</th>\n",
              "      <td>394818</td>\n",
              "      <td>394821</td>\n",
              "      <td>394821</td>\n",
              "      <td>311714</td>\n",
              "      <td>527738</td>\n",
              "      <td>Can somebody explain the Mathematics behind, w...</td>\n",
              "      <td>Where is the best place to find a Celsius to F...</td>\n",
              "      <td>0</td>\n",
              "      <td>somebody explain mathematics behind why -40 de...</td>\n",
              "      <td>where best place find celsius fahrenheit conve...</td>\n",
              "      <td>1.000000</td>\n",
              "      <td>[0.00020256966, -0.018036066, 0.06067563, 0.00...</td>\n",
              "      <td>[0.0031643303, -0.012299277, 0.05778341, 0.015...</td>\n",
              "      <td>0.199610</td>\n",
              "      <td>Celsius</td>\n",
              "      <td>a Celsius to Fahrenheit</td>\n",
              "      <td>-1.0</td>\n",
              "      <td>0.972445</td>\n",
              "    </tr>\n",
              "    <tr>\n",
              "      <th>223634</th>\n",
              "      <td>223662</td>\n",
              "      <td>223664</td>\n",
              "      <td>223664</td>\n",
              "      <td>331540</td>\n",
              "      <td>331541</td>\n",
              "      <td>How is TDS calculated in India?</td>\n",
              "      <td>How do I calculate TDS/TCS?</td>\n",
              "      <td>0</td>\n",
              "      <td>how tds calculated india</td>\n",
              "      <td>how calculate tds tcs</td>\n",
              "      <td>0.750000</td>\n",
              "      <td>[-0.0081988145, 0.016057337, 0.059060078, 0.00...</td>\n",
              "      <td>[0.01633621, 0.0035818503, 0.043360267, -0.014...</td>\n",
              "      <td>0.471202</td>\n",
              "      <td>TDS|India</td>\n",
              "      <td>TDS</td>\n",
              "      <td>0.0</td>\n",
              "      <td>0.946393</td>\n",
              "    </tr>\n",
              "  </tbody>\n",
              "</table>\n",
              "<p>363822 rows × 18 columns</p>\n",
              "</div>"
            ],
            "text/plain": [
              "        Unnamed: 0  Unnamed: 0.1  ...  ner_score  xgb_probas_0\n",
              "328940      328976        328978  ...        1.0      0.943099\n",
              "56839        56844         56844  ...        1.0      0.058493\n",
              "218504      218532        218534  ...        1.0      0.957078\n",
              "186912      186931        186932  ...       -1.0      0.968591\n",
              "280979      281012        281014  ...       -1.0      0.986554\n",
              "...            ...           ...  ...        ...           ...\n",
              "283398      283431        283433  ...       -1.0      0.955879\n",
              "89746        89752         89752  ...        1.0      0.934555\n",
              "26462        26466         26466  ...       -1.0      0.002331\n",
              "394779      394818        394821  ...       -1.0      0.972445\n",
              "223634      223662        223664  ...        0.0      0.946393\n",
              "\n",
              "[363822 rows x 18 columns]"
            ]
          },
          "metadata": {
            "tags": []
          },
          "execution_count": 22
        }
      ]
    },
    {
      "cell_type": "markdown",
      "metadata": {
        "id": "O6JXIri09OBr",
        "colab_type": "text"
      },
      "source": [
        "- Final classification XGBClassifier  on df_train['lev_dist','cos_dist', 'xgb_probas_0']"
      ]
    },
    {
      "cell_type": "markdown",
      "metadata": {
        "id": "Prlpa38aZLTR",
        "colab_type": "text"
      },
      "source": [
        ""
      ]
    },
    {
      "cell_type": "code",
      "metadata": {
        "id": "1OAtFNHc9OaG",
        "colab_type": "code",
        "colab": {
          "base_uri": "https://localhost:8080/",
          "height": 724
        },
        "outputId": "3ad73173-85af-43ce-8f42-13c22b7004e9"
      },
      "source": [
        "xgb_model3 = XGBClassifier(max_depth=50, n_estimators=80, \n",
        "                              learning_rate=0.1, colsample_bytree=.7, \n",
        "                              gamma=0, reg_alpha=4, objective='binary:logistic', \n",
        "                              eta=0.3, silent=1,scale_pos_weight =scale_pos_w, subsample=0.8)\n",
        "\n",
        "\n",
        "xgb_model3.fit(df_train[['lev_dist','cos_dist', 'xgb_probas_0']], y_train_sm, \n",
        "              early_stopping_rounds=3, \n",
        "              eval_metric=[\"error\", \"logloss\"], \n",
        "              eval_set=[(df_train[['lev_dist','cos_dist', 'xgb_probas_0']], y_train_sm), (df_test[['lev_dist','cos_dist', 'xgb_probas_0']], y_test_sm)], \n",
        "              verbose=True)\n",
        "\n",
        "y_pred_sm3 = xgb_model3.predict(df_test[['lev_dist','cos_dist', 'xgb_probas_0']])\n",
        "\n",
        "print('training score:', f1_score(y_train_sm, xgb_model3.predict(df_train[['lev_dist','cos_dist', 'xgb_probas_0']]), average='macro'))\n",
        "print('test score:', f1_score(y_test_sm,y_pred_sm3, average='macro'))\n",
        "print(classification_report(y_test_sm, y_pred_sm3))"
      ],
      "execution_count": 25,
      "outputs": [
        {
          "output_type": "stream",
          "text": [
            "[0]\tvalidation_0-error:0.297376\tvalidation_0-logloss:0.669051\tvalidation_1-error:0.31337\tvalidation_1-logloss:0.669782\n",
            "Multiple eval metrics have been passed: 'validation_1-logloss' will be used for early stopping.\n",
            "\n",
            "Will train until validation_1-logloss hasn't improved in 3 rounds.\n",
            "[1]\tvalidation_0-error:0.30231\tvalidation_0-logloss:0.649607\tvalidation_1-error:0.315226\tvalidation_1-logloss:0.650997\n",
            "[2]\tvalidation_0-error:0.303459\tvalidation_0-logloss:0.633554\tvalidation_1-error:0.315102\tvalidation_1-logloss:0.635657\n",
            "[3]\tvalidation_0-error:0.30331\tvalidation_0-logloss:0.620105\tvalidation_1-error:0.315399\tvalidation_1-logloss:0.622903\n",
            "[4]\tvalidation_0-error:0.158608\tvalidation_0-logloss:0.536833\tvalidation_1-error:0.235646\tvalidation_1-logloss:0.577842\n",
            "[5]\tvalidation_0-error:0.184057\tvalidation_0-logloss:0.527606\tvalidation_1-error:0.248114\tvalidation_1-logloss:0.568642\n",
            "[6]\tvalidation_0-error:0.024053\tvalidation_0-logloss:0.460877\tvalidation_1-error:0.194558\tvalidation_1-logloss:0.533537\n",
            "[7]\tvalidation_0-error:0.006204\tvalidation_0-logloss:0.404182\tvalidation_1-error:0.193024\tvalidation_1-logloss:0.508516\n",
            "[8]\tvalidation_0-error:0.01147\tvalidation_0-logloss:0.398716\tvalidation_1-error:0.191342\tvalidation_1-logloss:0.502589\n",
            "[9]\tvalidation_0-error:0.015991\tvalidation_0-logloss:0.394102\tvalidation_1-error:0.191763\tvalidation_1-logloss:0.497574\n",
            "[10]\tvalidation_0-error:0.006858\tvalidation_0-logloss:0.347532\tvalidation_1-error:0.191391\tvalidation_1-logloss:0.478111\n",
            "[11]\tvalidation_0-error:0.008903\tvalidation_0-logloss:0.344304\tvalidation_1-error:0.191317\tvalidation_1-logloss:0.474419\n",
            "[12]\tvalidation_0-error:0.002853\tvalidation_0-logloss:0.304624\tvalidation_1-error:0.19337\tvalidation_1-logloss:0.46063\n",
            "[13]\tvalidation_0-error:0.000649\tvalidation_0-logloss:0.270273\tvalidation_1-error:0.193197\tvalidation_1-logloss:0.45108\n",
            "[14]\tvalidation_0-error:0.0013\tvalidation_0-logloss:0.268414\tvalidation_1-error:0.193544\tvalidation_1-logloss:0.448691\n",
            "[15]\tvalidation_0-error:0.002353\tvalidation_0-logloss:0.266757\tvalidation_1-error:0.193989\tvalidation_1-logloss:0.446555\n",
            "[16]\tvalidation_0-error:0.000888\tvalidation_0-logloss:0.237176\tvalidation_1-error:0.193816\tvalidation_1-logloss:0.4409\n",
            "[17]\tvalidation_0-error:0.000275\tvalidation_0-logloss:0.211308\tvalidation_1-error:0.193395\tvalidation_1-logloss:0.43776\n",
            "[18]\tvalidation_0-error:3.6e-05\tvalidation_0-logloss:0.188595\tvalidation_1-error:0.193717\tvalidation_1-logloss:0.437473\n",
            "[19]\tvalidation_0-error:3.3e-05\tvalidation_0-logloss:0.168483\tvalidation_1-error:0.194335\tvalidation_1-logloss:0.439948\n",
            "[20]\tvalidation_0-error:3.3e-05\tvalidation_0-logloss:0.150814\tvalidation_1-error:0.19483\tvalidation_1-logloss:0.443526\n",
            "[21]\tvalidation_0-error:3e-05\tvalidation_0-logloss:0.135114\tvalidation_1-error:0.195028\tvalidation_1-logloss:0.449311\n",
            "Stopping. Best iteration:\n",
            "[18]\tvalidation_0-error:3.6e-05\tvalidation_0-logloss:0.188595\tvalidation_1-error:0.193717\tvalidation_1-logloss:0.437473\n",
            "\n",
            "training score: 0.9999616458540375\n",
            "test score: 0.7762991398822997\n",
            "              precision    recall  f1-score   support\n",
            "\n",
            "           0       0.80      0.93      0.86     25501\n",
            "           1       0.83      0.60      0.69     14924\n",
            "\n",
            "    accuracy                           0.81     40425\n",
            "   macro avg       0.81      0.76      0.78     40425\n",
            "weighted avg       0.81      0.81      0.80     40425\n",
            "\n"
          ],
          "name": "stdout"
        }
      ]
    },
    {
      "cell_type": "code",
      "metadata": {
        "id": "GiC-5WM7UO_D",
        "colab_type": "code",
        "colab": {
          "base_uri": "https://localhost:8080/",
          "height": 513
        },
        "outputId": "abb96c71-b5fa-4690-c576-390271ded09f"
      },
      "source": [
        "get_model_results(xgb_model3, \n",
        "                  df_train[['lev_dist','cos_dist', 'xgb_probas_0']], \n",
        "                  df_test[['lev_dist','cos_dist', 'xgb_probas_0']], \n",
        "                  y_train_sm, \n",
        "                  y_test_sm, \n",
        "                  \"XGBoost with scale_pos_weight on question1 and question2\")"
      ],
      "execution_count": 26,
      "outputs": [
        {
          "output_type": "stream",
          "text": [
            "              precision    recall  f1-score   support\n",
            "\n",
            "           0       0.86      0.79      0.83     25501\n",
            "           1       0.69      0.78      0.73     14924\n",
            "\n",
            "    accuracy                           0.79     40425\n",
            "   macro avg       0.77      0.79      0.78     40425\n",
            "weighted avg       0.80      0.79      0.79     40425\n",
            "\n"
          ],
          "name": "stdout"
        },
        {
          "output_type": "display_data",
          "data": {
            "image/png": "[encoded data removed]",
            "text/plain": [
              "<Figure size 1296x360 with 2 Axes>"
            ]
          },
          "metadata": {
            "tags": [],
            "needs_background": "light"
          }
        }
      ]
    },
    {
      "cell_type": "code",
      "metadata": {
        "id": "4OZHw5HKtMNy",
        "colab_type": "code",
        "colab": {}
      },
      "source": [
        ""
      ],
      "execution_count": null,
      "outputs": []
    }
  ]
}